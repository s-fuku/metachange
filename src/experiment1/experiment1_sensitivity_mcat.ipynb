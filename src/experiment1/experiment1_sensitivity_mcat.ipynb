{
 "cells": [
  {
   "cell_type": "code",
   "execution_count": 1,
   "metadata": {},
   "outputs": [],
   "source": [
    "%matplotlib inline\n",
    "import numpy as np\n",
    "from numpy.lib.stride_tricks import as_strided\n",
    "import pandas as pd\n",
    "import matplotlib.pyplot as plt\n",
    "import seaborn as sns\n",
    "\n",
    "from scipy.special import gammaln\n",
    "\n",
    "from itertools import permutations\n",
    "\n",
    "import os"
   ]
  },
  {
   "cell_type": "code",
   "execution_count": 2,
   "metadata": {},
   "outputs": [],
   "source": [
    "from py4j.java_gateway import JavaGateway\n",
    "import subprocess\n",
    "import time\n",
    "\n",
    "import sys"
   ]
  },
  {
   "cell_type": "code",
   "execution_count": 3,
   "metadata": {},
   "outputs": [],
   "source": [
    "from volatility_detector import VolatilityDetector"
   ]
  },
  {
   "cell_type": "code",
   "execution_count": 4,
   "metadata": {},
   "outputs": [],
   "source": [
    "import scaw2 as SCAW2"
   ]
  },
  {
   "cell_type": "code",
   "execution_count": 5,
   "metadata": {},
   "outputs": [],
   "source": [
    "from smdl import SMDL\n",
    "from model import Bernoulli"
   ]
  },
  {
   "cell_type": "code",
   "execution_count": 6,
   "metadata": {},
   "outputs": [],
   "source": [
    "import tqdm"
   ]
  },
  {
   "cell_type": "code",
   "execution_count": 7,
   "metadata": {},
   "outputs": [
    {
     "data": {
      "text/plain": [
       "'3.1.1'"
      ]
     },
     "execution_count": 7,
     "metadata": {},
     "output_type": "execute_result"
    }
   ],
   "source": [
    "import matplotlib\n",
    "matplotlib.__version__"
   ]
  },
  {
   "cell_type": "code",
   "execution_count": 8,
   "metadata": {},
   "outputs": [],
   "source": [
    "outdir = '../output/experiment1'\n",
    "if not os.path.exists(outdir):\n",
    "    os.makedirs(outdir)"
   ]
  },
  {
   "cell_type": "code",
   "execution_count": 9,
   "metadata": {},
   "outputs": [],
   "source": [
    "np.random.seed(123)"
   ]
  },
  {
   "cell_type": "code",
   "execution_count": 10,
   "metadata": {},
   "outputs": [],
   "source": [
    "#cmd\n",
    "beta = 0.05\n",
    "#detector = \n",
    "delta = 0.05\n",
    "blockSize = 32\n",
    "epsilon_prime = 0.0075\n",
    "#alpha = 0.6\n",
    "alpha = 0.6\n",
    "decaymode = 1\n",
    "compression_term = 75"
   ]
  },
  {
   "cell_type": "code",
   "execution_count": 11,
   "metadata": {},
   "outputs": [
    {
     "data": {
      "text/plain": [
       "'\\nclass_path = \\'./ICDMFiles_SEED_py4j/\\'\\nsys.path.insert(0, class_path)\\n\\njava_file = \\'SEEDChangeDetector\\'\\nclass_path = \\'-cp \\' + class_path\\ncmd = \"java {0} {1} {2} {3} {4} {5} {6}\".format(\\n            class_path, java_file, \\n            delta, blockSize, epsilon_prime,\\n            alpha, compression_term)\\n'"
      ]
     },
     "execution_count": 11,
     "metadata": {},
     "output_type": "execute_result"
    }
   ],
   "source": [
    "\"\"\"\n",
    "class_path = './ICDMFiles_SEED_py4j/'\n",
    "sys.path.insert(0, class_path)\n",
    "\n",
    "java_file = 'SEEDChangeDetector'\n",
    "class_path = '-cp ' + class_path\n",
    "cmd = \"java {0} {1} {2} {3} {4} {5} {6}\".format(\n",
    "            class_path, java_file, \n",
    "            delta, blockSize, epsilon_prime,\n",
    "            alpha, compression_term)\n",
    "\"\"\""
   ]
  },
  {
   "cell_type": "code",
   "execution_count": 12,
   "metadata": {},
   "outputs": [
    {
     "data": {
      "text/plain": [
       "'\\ncmd\\n'"
      ]
     },
     "execution_count": 12,
     "metadata": {},
     "output_type": "execute_result"
    }
   ],
   "source": [
    "\"\"\"\n",
    "cmd\n",
    "\"\"\""
   ]
  },
  {
   "cell_type": "code",
   "execution_count": 13,
   "metadata": {},
   "outputs": [
    {
     "data": {
      "text/plain": [
       "'\\np = subprocess.Popen(cmd, shell=True)\\ntime.sleep(3)\\ngateway = JavaGateway(start_callback_server=True)\\n'"
      ]
     },
     "execution_count": 13,
     "metadata": {},
     "output_type": "execute_result"
    }
   ],
   "source": [
    "\"\"\"\n",
    "p = subprocess.Popen(cmd, shell=True)\n",
    "time.sleep(3)\n",
    "gateway = JavaGateway(start_callback_server=True)\n",
    "\"\"\""
   ]
  },
  {
   "cell_type": "code",
   "execution_count": 14,
   "metadata": {},
   "outputs": [
    {
     "data": {
      "text/plain": [
       "'\\ndetector_app = gateway.entry_point\\n'"
      ]
     },
     "execution_count": 14,
     "metadata": {},
     "output_type": "execute_result"
    }
   ],
   "source": [
    "\"\"\"\n",
    "detector_app = gateway.entry_point\n",
    "\"\"\""
   ]
  },
  {
   "cell_type": "code",
   "execution_count": null,
   "metadata": {},
   "outputs": [],
   "source": []
  },
  {
   "cell_type": "markdown",
   "metadata": {},
   "source": [
    "## evaluate benefit and false alarm rate"
   ]
  },
  {
   "cell_type": "code",
   "execution_count": 15,
   "metadata": {},
   "outputs": [],
   "source": [
    "def experiment1_benefit_false_alarm_rate(\n",
    "         length1, length2,\n",
    "         r=0.5,\n",
    "         delta=0.05, blocksize=32, epsilon_prime=0.0075,\n",
    "         alpha=0.6, decaymode=1, compression_term=75,\n",
    "         B=32, R=32, \n",
    "         mu1=0.2, mu2=0.8,\n",
    "         n_repeat=50, n_trial=100,\n",
    "         #beta_list=[0.05, 0.1, 0.15, 0.2, 0.25, 0.3], \n",
    "         limit=5, \n",
    "         output_seed_perf=False\n",
    "):\n",
    "    class_path = './ICDMFiles_SEED_py4j/'\n",
    "    sys.path.insert(0, class_path)\n",
    "\n",
    "    java_file = 'SEEDChangeDetector'\n",
    "    class_path = '-cp ' + class_path\n",
    "    cmd = \"java {0} {1} {2} {3} {4} {5} {6}\".format(\n",
    "                class_path, java_file, \n",
    "                delta, blockSize, epsilon_prime,\n",
    "                alpha, compression_term)\n",
    "    print(cmd)\n",
    "    \n",
    "    p = subprocess.Popen(cmd, shell=True)\n",
    "    time.sleep(3)\n",
    "    gateway = JavaGateway(start_callback_server=True)\n",
    "    detector_app = gateway.entry_point\n",
    "    \n",
    "    # volatility detector\n",
    "    benefits_vd, fars_vd = [], []   # benefit, false alarm rate\n",
    "    \n",
    "    # metachange detector\n",
    "    benefits_md, fars_md = [], []  # benefit, false alarm rate\n",
    "    \n",
    "    # seed change detector\n",
    "    delays_seed = []\n",
    "    \n",
    "    for i in tqdm.tqdm(range(n_trial)):\n",
    "        seed = i\n",
    "        # change detection with SEED\n",
    "        change_points = detector_app.expr_volshift(\n",
    "            mu1, mu2, length1, length2, n_repeat, seed)\n",
    "        change_points_npa = np.array(list(change_points))\n",
    "        change_points_npa_diff = np.diff(change_points_npa)\n",
    "        cps = change_points_npa[1:]\n",
    "\n",
    "        # metachange detector\n",
    "        lambdas_hat = np.array(\n",
    "                [(1 - (1-r)**(i+1)) / \\\n",
    "                 (r * np.sum( (1-r)**np.arange(i, -1, -1) * change_points_npa_diff[:i+1] )) \\\n",
    "                 for i in range(len(change_points_npa_diff))]\n",
    "        )\n",
    "        codelen = -np.log(lambdas_hat[:-1]) + lambdas_hat[:-1] * change_points_npa_diff[1:]\n",
    "        #codelen = -np.log(lambdas_hat) + lambdas_hat * change_points_npa_diff\n",
    "        change_rate_codelen = np.diff(codelen)/codelen[:-1]\n",
    "        change_rate_codelen_bwd = np.diff(codelen)/codelen[1:]\n",
    "        \n",
    "        benefits_vd_i, fars_vd_i = [], []\n",
    "        benefits_md_i, fars_md_i = [], []\n",
    "\n",
    "        # volatility detector\n",
    "        #for thr in np.arange(0.0, 0.991, 0.001):\n",
    "        #    try:\n",
    "        #vdetector = VolatilityDetector(beta=thr, seed=i)\n",
    "        vdetector = VolatilityDetector(seed=i)\n",
    "        #res_vd = [vdetector.detect(change_points_npa_diff[i]) for i in range(len(change_points_npa_diff))]\n",
    "        relvol = np.array([vdetector.detect(change_points_npa_diff[i]) for i in range(len(change_points_npa_diff))])\n",
    "        bnd_list = np.sort(np.abs(relvol[~np.isnan(relvol)] - 1.0))\n",
    "        for bnd in bnd_list:\n",
    "            #is_metachange = np.array([r[0] for r in res_vd])\n",
    "            #relvol = np.array([r[1] for r in res_vd])\n",
    "            #is_metachange = np.logical_or(relvol >= 1.0 + bnd, relvol <= 1.0 - bnd)\n",
    "            is_metachange = np.logical_or(relvol > 1.0 + bnd, relvol < 1.0 - bnd)\n",
    "            \n",
    "            idxes_over_thr = np.where(\n",
    "                np.logical_and(\n",
    "                    #np.logical_or(relvol >= 1.0 + bnd, relvol <= 1.0 - bnd),\n",
    "                    np.logical_or(relvol > 1.0 + bnd, relvol < 1.0 - bnd),\n",
    "                    ~np.isnan(relvol)\n",
    "                )\n",
    "            )[0]\n",
    "            cps_over_thr = cps[idxes_over_thr]\n",
    "            within_tol_interval = np.logical_and(\n",
    "                                    cps_over_thr - 2*n_repeat*length1 - blocksize >= 0,\n",
    "                                    cps_over_thr - 2*n_repeat*length1 <= limit*length2)\n",
    "            \n",
    "            #within_tol_interval = np.logical_or((cps_over_thr - 2*n_repeat*length1) >= 0, \n",
    "            #                                                             (cps_over_thr - 2*n_repeat*length1) <= limit * length2)\n",
    "            # benefit\n",
    "            benefit = 0.0\n",
    "            if np.any(within_tol_interval):\n",
    "                dist_from_cp = np.abs(cps_over_thr[within_tol_interval] - 2*n_repeat*length1)\n",
    "                #idx = np.argmin(dist_from_cp)\n",
    "                #if dist_from_cp[idx] <= limit*length2:\n",
    "                    #benefit = 1 - np.abs(cps_over_thr[idx] - 2*n_repeat*length1)/(limit*length2)\n",
    "                    #benefit = 1 - dist_from_cp[idx]/(limit*length2)\n",
    "                    \n",
    "                #benefit = np.sum(1 - (dist_from_cp/(limit*length2)))\n",
    "                benefit = 1 - (dist_from_cp[0]/(limit*length2))\n",
    "                #else:\n",
    "                #    benefit = 0.0\n",
    "            #else:\n",
    "            #    benefit = 0.0\n",
    "            benefits_vd_i.append(benefit)\n",
    "                \n",
    "            n_alarm = np.sum(np.logical_and(\n",
    "                #np.logical_or(relvol >= 1.0 + bnd, relvol <= 1.0 - bnd),\n",
    "                np.logical_or(relvol > 1.0 + bnd, relvol < 1.0 - bnd),\n",
    "                ~np.isnan(relvol)\n",
    "            ))\n",
    "            # false alarm\n",
    "            n_fp = np.sum(\n",
    "                np.logical_and(\n",
    "                    np.logical_and(\n",
    "                         #np.logical_or(relvol >= 1.0 + bnd, relvol <= 1.0 - bnd),\n",
    "                         np.logical_or(relvol > 1.0 + bnd, relvol < 1.0 - bnd),\n",
    "                        ~np.isnan(relvol)\n",
    "                    ),\n",
    "                    np.logical_or(\n",
    "                        #cps <= 2*n_repeat*length1 - limit*length2, \n",
    "                        cps <= 2*n_repeat*length1, \n",
    "                        cps >= 2*n_repeat*length1 + limit*length2\n",
    "                    )\n",
    "                )\n",
    "            )\n",
    "            #fars_vd_i.append(far)\n",
    "            #fars_vd_i.append(n_fp/n_alarm)\n",
    "            fars_vd_i.append(n_fp)\n",
    "\n",
    "            #except:\n",
    "            #    break\n",
    "        \n",
    "        benefits_vd.append(np.array(benefits_vd_i))   # benefit\n",
    "        fars_vd.append(np.array(fars_vd_i))  # false alarm rate\n",
    "        \n",
    "        #maxvalue = np.max(np.abs(change_rate_codelen[change_points_npa[3:] >= 2*length1*n_repeat + blockSize]))\n",
    "        thr_list = np.sort(np.abs(change_rate_codelen[B+R-3:]))\n",
    "        #for thr in np.arange(0.0, maxvalue + 0.0001, 0.0001):\n",
    "        for thr in thr_list:\n",
    "            # metachange detector\n",
    "            # benefit\n",
    "            #idx_over_thr_after_cp = np.where(np.logical_and(change_points_npa[3:] >= 2*length1*n_repeat + blockSize,\n",
    "            #                            np.abs(change_rate_codelen) >= thr))[0]\n",
    "            \n",
    "            #idx_over_thr_after_cp = np.where(np.logical_and(\n",
    "            #                            change_points_npa[B+R:] >= 2*length1*n_repeat + blockSize,\n",
    "            #                            np.abs(change_rate_codelen[B+R-3:]) >= thr))[0]\n",
    "            idxes_over_thr_after_cp_within = np.where(\n",
    "                                            np.logical_and(\n",
    "                                                np.logical_and(\n",
    "                                                    change_points_npa[B+R:] >= 2*length1*n_repeat + blockSize,\n",
    "                                                    change_points_npa[B+R:] <= 2*length1*n_repeat + limit*length2\n",
    "                                                ),\n",
    "                                                np.logical_or(\n",
    "                                                    #np.abs(change_rate_codelen[B+R-3:]) >= thr\n",
    "                                                    np.abs(change_rate_codelen[B+R-3:]) > thr, \n",
    "                                                    np.abs(change_rate_codelen_bwd[B+R-3:]) > thr\n",
    "                                                )\n",
    "                                            ))[0]\n",
    "            #if len(idx_over_thr_after_cp) == 0:\n",
    "            #    break\n",
    "            #if len(idx_over_thr_after_cp) == 0:\n",
    "            #    benefit = 0.0\n",
    "            if len(idxes_over_thr_after_cp_within) == 0:\n",
    "                benefit = 0.0\n",
    "            else :\n",
    "                #idx_first = idx_over_thr_after_cp[0] + B+R\n",
    "                #idx_first = idxes_over_thr_after_cp_within[0] + B+R\n",
    "                #benefit = np.max([0, 1- (change_points_npa[idx_first] - 2*length1*n_repeat)/(limit * length2)])\n",
    "                #benefit = np.sum(1 - (change_points_npa[B+R+idxes_over_thr_after_cp_within] - 2*length1*n_repeat) / (limit * length2))\n",
    "                benefit = np.sum(1 - (change_points_npa[B+R+idxes_over_thr_after_cp_within][0] - 2*length1*n_repeat) / (limit * length2))\n",
    "    \n",
    "            #idx_first = np.where(np.logical_and(change_points_npa[3:] >= 2*length1*n_repeat + blockSize,\n",
    "            #                            np.abs(change_rate_codelen) >= thr))[0][0] + 3\n",
    "            \n",
    "            # false positive rate\n",
    "            #n_alarm = np.sum(np.abs(change_rate_codelen[B+R-3:]) >= thr)\n",
    "            n_alarm = np.sum(np.abs(change_rate_codelen[B+R-3:]) > thr)\n",
    "            #if n_alarm == 0:\n",
    "            #    break\n",
    "            n_fp = np.sum(\n",
    "                    np.logical_and(\n",
    "                        np.logical_or(\n",
    "                            #change_points_npa[3:] >= 2*length1*n_repeat + blockSize + limit*length2, \n",
    "                            #change_points_npa[3:] < 2*length1*n_repeat + blockSize\n",
    "                            change_points_npa[B+R:] >= 2*length1*n_repeat + limit*length2, \n",
    "                            change_points_npa[B+R:] < 2*length1*n_repeat\n",
    "                        ), \n",
    "                        np.logical_and(\n",
    "                            #np.abs(change_rate_codelen) >= thr\n",
    "                            #np.abs(change_rate_codelen[B+R-3:]) >= thr,\n",
    "                            np.abs(change_rate_codelen[B+R-3:]) > thr,\n",
    "                            ~np.isnan(change_rate_codelen[B+R-3:])\n",
    "                        )\n",
    "                    )\n",
    "                 )\n",
    "\n",
    "            benefits_md_i.append(benefit)\n",
    "            #fars_md_i.append(n_fp/n_alarm)\n",
    "            fars_md_i.append(n_fp)\n",
    "\n",
    "        benefits_md.append(np.array(benefits_md_i))\n",
    "        fars_md.append(np.array(fars_md_i))\n",
    "        \n",
    "        idxes = np.where(change_points_npa - 2*n_repeat*length1 >= 0)[0]\n",
    "        \n",
    "        delays_seed.append((change_points_npa[np.min(idxes)] - 2*n_repeat*length1) / length1)\n",
    "        \n",
    "    gateway.close()\n",
    "\n",
    "    #return np.array(benefits_vd), np.array(fars_vd), np.array(benefits_md), np.array(fars_md)\n",
    "    if output_seed_perf:\n",
    "        return benefits_vd, fars_vd, benefits_md, fars_md, delays_seed\n",
    "    else:\n",
    "        return benefits_vd, fars_vd, benefits_md, fars_md"
   ]
  },
  {
   "cell_type": "code",
   "execution_count": 16,
   "metadata": {},
   "outputs": [],
   "source": [
    "def calc_auc(fars, benefits):\n",
    "    # sort by ascending order\n",
    "    #idx_ordered = np.argsort(fars)\n",
    "    idx_ordered = np.lexsort((fars, benefits))\n",
    "    fars_ordered = fars[idx_ordered]\n",
    "    benefits_ordered = benefits[idx_ordered]\n",
    "    #if abs(fars_ordered[0]) > 1e-6:\n",
    "    #if fars_ordered[0] != 0.0:\n",
    "    if np.abs(fars_ordered[0]) > 1e-6:\n",
    "        #fars_ordered = np.hstack((0, 0, fars_ordered))\n",
    "        fars_ordered = np.hstack((0, 0, fars_ordered))\n",
    "        #benefits_ordered = np.hstack((0, benefits_ordered[0], benefits_ordered))\n",
    "        #fars_ordered = np.hstack((0, fars_ordered[0], fars_ordered))\n",
    "        #benefits_ordered = np.hstack((0, 0, benefits_ordered))\n",
    "        benefits_ordered = np.hstack((0, benefits_ordered[0], benefits_ordered))\n",
    "        #fars_ordered = np.hstack((0, fars_ordered))\n",
    "        #benefits_ordered = np.hstack((0, benefits_ordered))\n",
    "    elif benefits_ordered[0] != 0.0:\n",
    "        fars_ordered = np.hstack((0, fars_ordered))\n",
    "        benefits_ordered = np.hstack((0, benefits_ordered))\n",
    "\n",
    "    # calculate AUC\n",
    "    #auc = np.abs(np.sum(np.diff(fars_ordered/np.max(fars_ordered)) * \n",
    "    #                       np.abs(benefits_ordered[:-1])/np.max(np.abs(benefits_ordered[:-1])))\n",
    "    # )\n",
    "    if np.all(benefits_ordered == 0):\n",
    "        auc = 0.0\n",
    "    else:\n",
    "        #auc = np.trapz(benefits_ordered/np.max(benefits_ordered),\n",
    "        #           fars_ordered/np.max(fars_ordered))\n",
    "        auc = np.trapz(benefits_ordered,\n",
    "                       fars_ordered/np.max(fars_ordered))\n",
    "    return auc"
   ]
  },
  {
   "cell_type": "markdown",
   "metadata": {},
   "source": [
    "# Dependency on r"
   ]
  },
  {
   "cell_type": "code",
   "execution_count": 17,
   "metadata": {},
   "outputs": [
    {
     "name": "stdout",
     "output_type": "stream",
     "text": [
      "java -cp ./ICDMFiles_SEED_py4j/ SEEDChangeDetector 0.05 32 0.0075 0.6 75\n"
     ]
    },
    {
     "name": "stderr",
     "output_type": "stream",
     "text": [
      "  0%|          | 0/20 [00:00<?, ?it/s]/Users/sfukushima/.pyenv/versions/anaconda3-5.0.1/lib/python3.6/site-packages/ipykernel_launcher.py:73: RuntimeWarning: invalid value encountered in greater\n",
      "/Users/sfukushima/.pyenv/versions/anaconda3-5.0.1/lib/python3.6/site-packages/ipykernel_launcher.py:73: RuntimeWarning: invalid value encountered in less\n",
      "/Users/sfukushima/.pyenv/versions/anaconda3-5.0.1/lib/python3.6/site-packages/ipykernel_launcher.py:78: RuntimeWarning: invalid value encountered in greater\n",
      "/Users/sfukushima/.pyenv/versions/anaconda3-5.0.1/lib/python3.6/site-packages/ipykernel_launcher.py:78: RuntimeWarning: invalid value encountered in less\n",
      "/Users/sfukushima/.pyenv/versions/anaconda3-5.0.1/lib/python3.6/site-packages/ipykernel_launcher.py:108: RuntimeWarning: invalid value encountered in greater\n",
      "/Users/sfukushima/.pyenv/versions/anaconda3-5.0.1/lib/python3.6/site-packages/ipykernel_launcher.py:108: RuntimeWarning: invalid value encountered in less\n",
      "/Users/sfukushima/.pyenv/versions/anaconda3-5.0.1/lib/python3.6/site-packages/ipykernel_launcher.py:116: RuntimeWarning: invalid value encountered in greater\n",
      "/Users/sfukushima/.pyenv/versions/anaconda3-5.0.1/lib/python3.6/site-packages/ipykernel_launcher.py:116: RuntimeWarning: invalid value encountered in less\n",
      "100%|██████████| 20/20 [00:01<00:00, 13.87it/s]\n"
     ]
    },
    {
     "name": "stdout",
     "output_type": "stream",
     "text": [
      "java -cp ./ICDMFiles_SEED_py4j/ SEEDChangeDetector 0.05 32 0.0075 0.6 75\n"
     ]
    },
    {
     "name": "stderr",
     "output_type": "stream",
     "text": [
      "100%|██████████| 20/20 [00:01<00:00, 11.72it/s]\n"
     ]
    },
    {
     "name": "stdout",
     "output_type": "stream",
     "text": [
      "java -cp ./ICDMFiles_SEED_py4j/ SEEDChangeDetector 0.05 32 0.0075 0.6 75\n"
     ]
    },
    {
     "name": "stderr",
     "output_type": "stream",
     "text": [
      "100%|██████████| 20/20 [00:01<00:00, 14.90it/s]\n"
     ]
    },
    {
     "name": "stdout",
     "output_type": "stream",
     "text": [
      "java -cp ./ICDMFiles_SEED_py4j/ SEEDChangeDetector 0.05 32 0.0075 0.6 75\n"
     ]
    },
    {
     "name": "stderr",
     "output_type": "stream",
     "text": [
      "100%|██████████| 20/20 [00:01<00:00, 13.95it/s]\n"
     ]
    },
    {
     "name": "stdout",
     "output_type": "stream",
     "text": [
      "java -cp ./ICDMFiles_SEED_py4j/ SEEDChangeDetector 0.05 32 0.0075 0.6 75\n"
     ]
    },
    {
     "name": "stderr",
     "output_type": "stream",
     "text": [
      "100%|██████████| 20/20 [00:01<00:00, 15.48it/s]\n"
     ]
    },
    {
     "name": "stdout",
     "output_type": "stream",
     "text": [
      "java -cp ./ICDMFiles_SEED_py4j/ SEEDChangeDetector 0.05 32 0.0075 0.6 75\n"
     ]
    },
    {
     "name": "stderr",
     "output_type": "stream",
     "text": [
      "100%|██████████| 20/20 [00:01<00:00, 15.73it/s]\n"
     ]
    },
    {
     "name": "stdout",
     "output_type": "stream",
     "text": [
      "java -cp ./ICDMFiles_SEED_py4j/ SEEDChangeDetector 0.05 32 0.0075 0.6 75\n"
     ]
    },
    {
     "name": "stderr",
     "output_type": "stream",
     "text": [
      "100%|██████████| 20/20 [00:01<00:00, 15.50it/s]\n"
     ]
    },
    {
     "name": "stdout",
     "output_type": "stream",
     "text": [
      "java -cp ./ICDMFiles_SEED_py4j/ SEEDChangeDetector 0.05 32 0.0075 0.6 75\n"
     ]
    },
    {
     "name": "stderr",
     "output_type": "stream",
     "text": [
      "100%|██████████| 20/20 [00:02<00:00,  7.04it/s]\n"
     ]
    },
    {
     "name": "stdout",
     "output_type": "stream",
     "text": [
      "java -cp ./ICDMFiles_SEED_py4j/ SEEDChangeDetector 0.05 32 0.0075 0.6 75\n"
     ]
    },
    {
     "name": "stderr",
     "output_type": "stream",
     "text": [
      "100%|██████████| 20/20 [00:02<00:00,  6.90it/s]\n"
     ]
    },
    {
     "name": "stdout",
     "output_type": "stream",
     "text": [
      "java -cp ./ICDMFiles_SEED_py4j/ SEEDChangeDetector 0.05 32 0.0075 0.6 75\n"
     ]
    },
    {
     "name": "stderr",
     "output_type": "stream",
     "text": [
      "100%|██████████| 20/20 [00:02<00:00,  7.26it/s]\n"
     ]
    },
    {
     "name": "stdout",
     "output_type": "stream",
     "text": [
      "java -cp ./ICDMFiles_SEED_py4j/ SEEDChangeDetector 0.05 32 0.0075 0.6 75\n"
     ]
    },
    {
     "name": "stderr",
     "output_type": "stream",
     "text": [
      "100%|██████████| 20/20 [00:02<00:00,  7.12it/s]\n"
     ]
    },
    {
     "name": "stdout",
     "output_type": "stream",
     "text": [
      "java -cp ./ICDMFiles_SEED_py4j/ SEEDChangeDetector 0.05 32 0.0075 0.6 75\n"
     ]
    },
    {
     "name": "stderr",
     "output_type": "stream",
     "text": [
      "100%|██████████| 20/20 [00:02<00:00,  7.69it/s]\n"
     ]
    },
    {
     "name": "stdout",
     "output_type": "stream",
     "text": [
      "java -cp ./ICDMFiles_SEED_py4j/ SEEDChangeDetector 0.05 32 0.0075 0.6 75\n"
     ]
    },
    {
     "name": "stderr",
     "output_type": "stream",
     "text": [
      "100%|██████████| 20/20 [00:02<00:00,  6.43it/s]\n"
     ]
    },
    {
     "name": "stdout",
     "output_type": "stream",
     "text": [
      "java -cp ./ICDMFiles_SEED_py4j/ SEEDChangeDetector 0.05 32 0.0075 0.6 75\n"
     ]
    },
    {
     "name": "stderr",
     "output_type": "stream",
     "text": [
      "100%|██████████| 20/20 [00:02<00:00,  8.33it/s]\n"
     ]
    },
    {
     "name": "stdout",
     "output_type": "stream",
     "text": [
      "java -cp ./ICDMFiles_SEED_py4j/ SEEDChangeDetector 0.05 32 0.0075 0.6 75\n"
     ]
    },
    {
     "name": "stderr",
     "output_type": "stream",
     "text": [
      "100%|██████████| 20/20 [00:04<00:00,  4.91it/s]\n"
     ]
    },
    {
     "name": "stdout",
     "output_type": "stream",
     "text": [
      "java -cp ./ICDMFiles_SEED_py4j/ SEEDChangeDetector 0.05 32 0.0075 0.6 75\n"
     ]
    },
    {
     "name": "stderr",
     "output_type": "stream",
     "text": [
      "100%|██████████| 20/20 [00:04<00:00,  4.43it/s]\n"
     ]
    },
    {
     "name": "stdout",
     "output_type": "stream",
     "text": [
      "java -cp ./ICDMFiles_SEED_py4j/ SEEDChangeDetector 0.05 32 0.0075 0.6 75\n"
     ]
    },
    {
     "name": "stderr",
     "output_type": "stream",
     "text": [
      "100%|██████████| 20/20 [00:04<00:00,  4.22it/s]\n"
     ]
    },
    {
     "name": "stdout",
     "output_type": "stream",
     "text": [
      "java -cp ./ICDMFiles_SEED_py4j/ SEEDChangeDetector 0.05 32 0.0075 0.6 75\n"
     ]
    },
    {
     "name": "stderr",
     "output_type": "stream",
     "text": [
      "100%|██████████| 20/20 [00:04<00:00,  4.67it/s]\n"
     ]
    },
    {
     "name": "stdout",
     "output_type": "stream",
     "text": [
      "java -cp ./ICDMFiles_SEED_py4j/ SEEDChangeDetector 0.05 32 0.0075 0.6 75\n"
     ]
    },
    {
     "name": "stderr",
     "output_type": "stream",
     "text": [
      "100%|██████████| 20/20 [00:04<00:00,  4.63it/s]\n"
     ]
    },
    {
     "name": "stdout",
     "output_type": "stream",
     "text": [
      "java -cp ./ICDMFiles_SEED_py4j/ SEEDChangeDetector 0.05 32 0.0075 0.6 75\n"
     ]
    },
    {
     "name": "stderr",
     "output_type": "stream",
     "text": [
      "100%|██████████| 20/20 [00:04<00:00,  4.75it/s]\n"
     ]
    },
    {
     "name": "stdout",
     "output_type": "stream",
     "text": [
      "java -cp ./ICDMFiles_SEED_py4j/ SEEDChangeDetector 0.05 32 0.0075 0.6 75\n"
     ]
    },
    {
     "name": "stderr",
     "output_type": "stream",
     "text": [
      "100%|██████████| 20/20 [00:04<00:00,  4.73it/s]\n"
     ]
    },
    {
     "name": "stdout",
     "output_type": "stream",
     "text": [
      "java -cp ./ICDMFiles_SEED_py4j/ SEEDChangeDetector 0.05 32 0.0075 0.6 75\n"
     ]
    },
    {
     "name": "stderr",
     "output_type": "stream",
     "text": [
      "100%|██████████| 20/20 [00:18<00:00,  1.09it/s]\n"
     ]
    },
    {
     "name": "stdout",
     "output_type": "stream",
     "text": [
      "java -cp ./ICDMFiles_SEED_py4j/ SEEDChangeDetector 0.05 32 0.0075 0.6 75\n"
     ]
    },
    {
     "name": "stderr",
     "output_type": "stream",
     "text": [
      "100%|██████████| 20/20 [00:18<00:00,  1.09it/s]\n"
     ]
    },
    {
     "name": "stdout",
     "output_type": "stream",
     "text": [
      "java -cp ./ICDMFiles_SEED_py4j/ SEEDChangeDetector 0.05 32 0.0075 0.6 75\n"
     ]
    },
    {
     "name": "stderr",
     "output_type": "stream",
     "text": [
      "100%|██████████| 20/20 [00:17<00:00,  1.07it/s]\n"
     ]
    },
    {
     "name": "stdout",
     "output_type": "stream",
     "text": [
      "java -cp ./ICDMFiles_SEED_py4j/ SEEDChangeDetector 0.05 32 0.0075 0.6 75\n"
     ]
    },
    {
     "name": "stderr",
     "output_type": "stream",
     "text": [
      "100%|██████████| 20/20 [00:18<00:00,  1.07it/s]\n"
     ]
    },
    {
     "name": "stdout",
     "output_type": "stream",
     "text": [
      "java -cp ./ICDMFiles_SEED_py4j/ SEEDChangeDetector 0.05 32 0.0075 0.6 75\n"
     ]
    },
    {
     "name": "stderr",
     "output_type": "stream",
     "text": [
      "100%|██████████| 20/20 [00:17<00:00,  1.10it/s]\n"
     ]
    },
    {
     "name": "stdout",
     "output_type": "stream",
     "text": [
      "java -cp ./ICDMFiles_SEED_py4j/ SEEDChangeDetector 0.05 32 0.0075 0.6 75\n"
     ]
    },
    {
     "name": "stderr",
     "output_type": "stream",
     "text": [
      "100%|██████████| 20/20 [00:17<00:00,  1.13it/s]\n"
     ]
    },
    {
     "name": "stdout",
     "output_type": "stream",
     "text": [
      "java -cp ./ICDMFiles_SEED_py4j/ SEEDChangeDetector 0.05 32 0.0075 0.6 75\n"
     ]
    },
    {
     "name": "stderr",
     "output_type": "stream",
     "text": [
      "100%|██████████| 20/20 [00:18<00:00,  1.07it/s]\n"
     ]
    },
    {
     "name": "stdout",
     "output_type": "stream",
     "text": [
      "java -cp ./ICDMFiles_SEED_py4j/ SEEDChangeDetector 0.05 32 0.0075 0.6 75\n"
     ]
    },
    {
     "name": "stderr",
     "output_type": "stream",
     "text": [
      "100%|██████████| 20/20 [00:36<00:00,  1.85s/it]\n"
     ]
    },
    {
     "name": "stdout",
     "output_type": "stream",
     "text": [
      "java -cp ./ICDMFiles_SEED_py4j/ SEEDChangeDetector 0.05 32 0.0075 0.6 75\n"
     ]
    },
    {
     "name": "stderr",
     "output_type": "stream",
     "text": [
      "100%|██████████| 20/20 [00:35<00:00,  1.76s/it]\n"
     ]
    },
    {
     "name": "stdout",
     "output_type": "stream",
     "text": [
      "java -cp ./ICDMFiles_SEED_py4j/ SEEDChangeDetector 0.05 32 0.0075 0.6 75\n"
     ]
    },
    {
     "name": "stderr",
     "output_type": "stream",
     "text": [
      "100%|██████████| 20/20 [00:37<00:00,  1.90s/it]\n"
     ]
    },
    {
     "name": "stdout",
     "output_type": "stream",
     "text": [
      "java -cp ./ICDMFiles_SEED_py4j/ SEEDChangeDetector 0.05 32 0.0075 0.6 75\n"
     ]
    },
    {
     "name": "stderr",
     "output_type": "stream",
     "text": [
      "100%|██████████| 20/20 [00:35<00:00,  1.78s/it]\n"
     ]
    },
    {
     "name": "stdout",
     "output_type": "stream",
     "text": [
      "java -cp ./ICDMFiles_SEED_py4j/ SEEDChangeDetector 0.05 32 0.0075 0.6 75\n"
     ]
    },
    {
     "name": "stderr",
     "output_type": "stream",
     "text": [
      "100%|██████████| 20/20 [00:37<00:00,  1.84s/it]\n"
     ]
    },
    {
     "name": "stdout",
     "output_type": "stream",
     "text": [
      "java -cp ./ICDMFiles_SEED_py4j/ SEEDChangeDetector 0.05 32 0.0075 0.6 75\n"
     ]
    },
    {
     "name": "stderr",
     "output_type": "stream",
     "text": [
      "100%|██████████| 20/20 [00:38<00:00,  1.99s/it]\n"
     ]
    },
    {
     "name": "stdout",
     "output_type": "stream",
     "text": [
      "java -cp ./ICDMFiles_SEED_py4j/ SEEDChangeDetector 0.05 32 0.0075 0.6 75\n"
     ]
    },
    {
     "name": "stderr",
     "output_type": "stream",
     "text": [
      "100%|██████████| 20/20 [00:39<00:00,  2.07s/it]\n"
     ]
    },
    {
     "name": "stdout",
     "output_type": "stream",
     "text": [
      "java -cp ./ICDMFiles_SEED_py4j/ SEEDChangeDetector 0.05 32 0.0075 0.6 75\n"
     ]
    },
    {
     "name": "stderr",
     "output_type": "stream",
     "text": [
      "100%|██████████| 20/20 [00:01<00:00, 17.24it/s]\n"
     ]
    },
    {
     "name": "stdout",
     "output_type": "stream",
     "text": [
      "java -cp ./ICDMFiles_SEED_py4j/ SEEDChangeDetector 0.05 32 0.0075 0.6 75\n"
     ]
    },
    {
     "name": "stderr",
     "output_type": "stream",
     "text": [
      "100%|██████████| 20/20 [00:01<00:00, 17.82it/s]\n"
     ]
    },
    {
     "name": "stdout",
     "output_type": "stream",
     "text": [
      "java -cp ./ICDMFiles_SEED_py4j/ SEEDChangeDetector 0.05 32 0.0075 0.6 75\n"
     ]
    },
    {
     "name": "stderr",
     "output_type": "stream",
     "text": [
      "100%|██████████| 20/20 [00:01<00:00, 18.19it/s]\n"
     ]
    },
    {
     "name": "stdout",
     "output_type": "stream",
     "text": [
      "java -cp ./ICDMFiles_SEED_py4j/ SEEDChangeDetector 0.05 32 0.0075 0.6 75\n"
     ]
    },
    {
     "name": "stderr",
     "output_type": "stream",
     "text": [
      "100%|██████████| 20/20 [00:01<00:00, 18.05it/s]\n"
     ]
    },
    {
     "name": "stdout",
     "output_type": "stream",
     "text": [
      "java -cp ./ICDMFiles_SEED_py4j/ SEEDChangeDetector 0.05 32 0.0075 0.6 75\n"
     ]
    },
    {
     "name": "stderr",
     "output_type": "stream",
     "text": [
      "100%|██████████| 20/20 [00:01<00:00, 17.89it/s]\n"
     ]
    },
    {
     "name": "stdout",
     "output_type": "stream",
     "text": [
      "java -cp ./ICDMFiles_SEED_py4j/ SEEDChangeDetector 0.05 32 0.0075 0.6 75\n"
     ]
    },
    {
     "name": "stderr",
     "output_type": "stream",
     "text": [
      "100%|██████████| 20/20 [00:01<00:00, 18.21it/s]\n"
     ]
    },
    {
     "name": "stdout",
     "output_type": "stream",
     "text": [
      "java -cp ./ICDMFiles_SEED_py4j/ SEEDChangeDetector 0.05 32 0.0075 0.6 75\n"
     ]
    },
    {
     "name": "stderr",
     "output_type": "stream",
     "text": [
      "100%|██████████| 20/20 [00:01<00:00, 17.77it/s]\n"
     ]
    },
    {
     "name": "stdout",
     "output_type": "stream",
     "text": [
      "java -cp ./ICDMFiles_SEED_py4j/ SEEDChangeDetector 0.05 32 0.0075 0.6 75\n"
     ]
    },
    {
     "name": "stderr",
     "output_type": "stream",
     "text": [
      "100%|██████████| 20/20 [00:02<00:00,  7.14it/s]\n"
     ]
    },
    {
     "name": "stdout",
     "output_type": "stream",
     "text": [
      "java -cp ./ICDMFiles_SEED_py4j/ SEEDChangeDetector 0.05 32 0.0075 0.6 75\n"
     ]
    },
    {
     "name": "stderr",
     "output_type": "stream",
     "text": [
      "100%|██████████| 20/20 [00:02<00:00,  7.68it/s]\n"
     ]
    },
    {
     "name": "stdout",
     "output_type": "stream",
     "text": [
      "java -cp ./ICDMFiles_SEED_py4j/ SEEDChangeDetector 0.05 32 0.0075 0.6 75\n"
     ]
    },
    {
     "name": "stderr",
     "output_type": "stream",
     "text": [
      "100%|██████████| 20/20 [00:02<00:00,  7.92it/s]\n"
     ]
    },
    {
     "name": "stdout",
     "output_type": "stream",
     "text": [
      "java -cp ./ICDMFiles_SEED_py4j/ SEEDChangeDetector 0.05 32 0.0075 0.6 75\n"
     ]
    },
    {
     "name": "stderr",
     "output_type": "stream",
     "text": [
      "100%|██████████| 20/20 [00:02<00:00,  7.51it/s]\n"
     ]
    },
    {
     "name": "stdout",
     "output_type": "stream",
     "text": [
      "java -cp ./ICDMFiles_SEED_py4j/ SEEDChangeDetector 0.05 32 0.0075 0.6 75\n"
     ]
    },
    {
     "name": "stderr",
     "output_type": "stream",
     "text": [
      "100%|██████████| 20/20 [00:02<00:00,  6.78it/s]\n"
     ]
    },
    {
     "name": "stdout",
     "output_type": "stream",
     "text": [
      "java -cp ./ICDMFiles_SEED_py4j/ SEEDChangeDetector 0.05 32 0.0075 0.6 75\n"
     ]
    },
    {
     "name": "stderr",
     "output_type": "stream",
     "text": [
      "100%|██████████| 20/20 [00:02<00:00,  8.04it/s]\n"
     ]
    },
    {
     "name": "stdout",
     "output_type": "stream",
     "text": [
      "java -cp ./ICDMFiles_SEED_py4j/ SEEDChangeDetector 0.05 32 0.0075 0.6 75\n"
     ]
    },
    {
     "name": "stderr",
     "output_type": "stream",
     "text": [
      "100%|██████████| 20/20 [00:02<00:00,  8.30it/s]\n"
     ]
    },
    {
     "name": "stdout",
     "output_type": "stream",
     "text": [
      "java -cp ./ICDMFiles_SEED_py4j/ SEEDChangeDetector 0.05 32 0.0075 0.6 75\n"
     ]
    },
    {
     "name": "stderr",
     "output_type": "stream",
     "text": [
      "100%|██████████| 20/20 [00:04<00:00,  4.10it/s]\n"
     ]
    },
    {
     "name": "stdout",
     "output_type": "stream",
     "text": [
      "java -cp ./ICDMFiles_SEED_py4j/ SEEDChangeDetector 0.05 32 0.0075 0.6 75\n"
     ]
    },
    {
     "name": "stderr",
     "output_type": "stream",
     "text": [
      "100%|██████████| 20/20 [00:04<00:00,  4.64it/s]\n"
     ]
    },
    {
     "name": "stdout",
     "output_type": "stream",
     "text": [
      "java -cp ./ICDMFiles_SEED_py4j/ SEEDChangeDetector 0.05 32 0.0075 0.6 75\n"
     ]
    },
    {
     "name": "stderr",
     "output_type": "stream",
     "text": [
      "100%|██████████| 20/20 [00:04<00:00,  4.35it/s]\n"
     ]
    },
    {
     "name": "stdout",
     "output_type": "stream",
     "text": [
      "java -cp ./ICDMFiles_SEED_py4j/ SEEDChangeDetector 0.05 32 0.0075 0.6 75\n"
     ]
    },
    {
     "name": "stderr",
     "output_type": "stream",
     "text": [
      "100%|██████████| 20/20 [00:04<00:00,  4.30it/s]\n"
     ]
    },
    {
     "name": "stdout",
     "output_type": "stream",
     "text": [
      "java -cp ./ICDMFiles_SEED_py4j/ SEEDChangeDetector 0.05 32 0.0075 0.6 75\n"
     ]
    },
    {
     "name": "stderr",
     "output_type": "stream",
     "text": [
      "100%|██████████| 20/20 [00:04<00:00,  4.67it/s]\n"
     ]
    },
    {
     "name": "stdout",
     "output_type": "stream",
     "text": [
      "java -cp ./ICDMFiles_SEED_py4j/ SEEDChangeDetector 0.05 32 0.0075 0.6 75\n"
     ]
    },
    {
     "name": "stderr",
     "output_type": "stream",
     "text": [
      "100%|██████████| 20/20 [00:04<00:00,  4.09it/s]\n"
     ]
    },
    {
     "name": "stdout",
     "output_type": "stream",
     "text": [
      "java -cp ./ICDMFiles_SEED_py4j/ SEEDChangeDetector 0.05 32 0.0075 0.6 75\n"
     ]
    },
    {
     "name": "stderr",
     "output_type": "stream",
     "text": [
      "100%|██████████| 20/20 [00:04<00:00,  4.53it/s]\n"
     ]
    },
    {
     "name": "stdout",
     "output_type": "stream",
     "text": [
      "java -cp ./ICDMFiles_SEED_py4j/ SEEDChangeDetector 0.05 32 0.0075 0.6 75\n"
     ]
    },
    {
     "name": "stderr",
     "output_type": "stream",
     "text": [
      "100%|██████████| 20/20 [00:18<00:00,  1.12it/s]\n"
     ]
    },
    {
     "name": "stdout",
     "output_type": "stream",
     "text": [
      "java -cp ./ICDMFiles_SEED_py4j/ SEEDChangeDetector 0.05 32 0.0075 0.6 75\n"
     ]
    },
    {
     "name": "stderr",
     "output_type": "stream",
     "text": [
      "100%|██████████| 20/20 [00:17<00:00,  1.11it/s]\n"
     ]
    },
    {
     "name": "stdout",
     "output_type": "stream",
     "text": [
      "java -cp ./ICDMFiles_SEED_py4j/ SEEDChangeDetector 0.05 32 0.0075 0.6 75\n"
     ]
    },
    {
     "name": "stderr",
     "output_type": "stream",
     "text": [
      "100%|██████████| 20/20 [00:18<00:00,  1.09it/s]\n"
     ]
    },
    {
     "name": "stdout",
     "output_type": "stream",
     "text": [
      "java -cp ./ICDMFiles_SEED_py4j/ SEEDChangeDetector 0.05 32 0.0075 0.6 75\n"
     ]
    },
    {
     "name": "stderr",
     "output_type": "stream",
     "text": [
      "100%|██████████| 20/20 [00:18<00:00,  1.06it/s]\n"
     ]
    },
    {
     "name": "stdout",
     "output_type": "stream",
     "text": [
      "java -cp ./ICDMFiles_SEED_py4j/ SEEDChangeDetector 0.05 32 0.0075 0.6 75\n"
     ]
    },
    {
     "name": "stderr",
     "output_type": "stream",
     "text": [
      "100%|██████████| 20/20 [00:17<00:00,  1.12it/s]\n"
     ]
    },
    {
     "name": "stdout",
     "output_type": "stream",
     "text": [
      "java -cp ./ICDMFiles_SEED_py4j/ SEEDChangeDetector 0.05 32 0.0075 0.6 75\n"
     ]
    },
    {
     "name": "stderr",
     "output_type": "stream",
     "text": [
      "100%|██████████| 20/20 [00:18<00:00,  1.08it/s]\n"
     ]
    },
    {
     "name": "stdout",
     "output_type": "stream",
     "text": [
      "java -cp ./ICDMFiles_SEED_py4j/ SEEDChangeDetector 0.05 32 0.0075 0.6 75\n"
     ]
    },
    {
     "name": "stderr",
     "output_type": "stream",
     "text": [
      "100%|██████████| 20/20 [00:18<00:00,  1.06it/s]\n"
     ]
    },
    {
     "name": "stdout",
     "output_type": "stream",
     "text": [
      "java -cp ./ICDMFiles_SEED_py4j/ SEEDChangeDetector 0.05 32 0.0075 0.6 75\n"
     ]
    },
    {
     "name": "stderr",
     "output_type": "stream",
     "text": [
      "100%|██████████| 20/20 [00:37<00:00,  1.93s/it]\n"
     ]
    },
    {
     "name": "stdout",
     "output_type": "stream",
     "text": [
      "java -cp ./ICDMFiles_SEED_py4j/ SEEDChangeDetector 0.05 32 0.0075 0.6 75\n"
     ]
    },
    {
     "name": "stderr",
     "output_type": "stream",
     "text": [
      "100%|██████████| 20/20 [00:37<00:00,  1.83s/it]\n"
     ]
    },
    {
     "name": "stdout",
     "output_type": "stream",
     "text": [
      "java -cp ./ICDMFiles_SEED_py4j/ SEEDChangeDetector 0.05 32 0.0075 0.6 75\n"
     ]
    },
    {
     "name": "stderr",
     "output_type": "stream",
     "text": [
      "100%|██████████| 20/20 [00:36<00:00,  1.81s/it]\n"
     ]
    },
    {
     "name": "stdout",
     "output_type": "stream",
     "text": [
      "java -cp ./ICDMFiles_SEED_py4j/ SEEDChangeDetector 0.05 32 0.0075 0.6 75\n"
     ]
    },
    {
     "name": "stderr",
     "output_type": "stream",
     "text": [
      "100%|██████████| 20/20 [00:36<00:00,  1.96s/it]\n"
     ]
    },
    {
     "name": "stdout",
     "output_type": "stream",
     "text": [
      "java -cp ./ICDMFiles_SEED_py4j/ SEEDChangeDetector 0.05 32 0.0075 0.6 75\n"
     ]
    },
    {
     "name": "stderr",
     "output_type": "stream",
     "text": [
      "100%|██████████| 20/20 [00:38<00:00,  1.85s/it]\n"
     ]
    },
    {
     "name": "stdout",
     "output_type": "stream",
     "text": [
      "java -cp ./ICDMFiles_SEED_py4j/ SEEDChangeDetector 0.05 32 0.0075 0.6 75\n"
     ]
    },
    {
     "name": "stderr",
     "output_type": "stream",
     "text": [
      "100%|██████████| 20/20 [00:36<00:00,  1.78s/it]\n"
     ]
    },
    {
     "name": "stdout",
     "output_type": "stream",
     "text": [
      "java -cp ./ICDMFiles_SEED_py4j/ SEEDChangeDetector 0.05 32 0.0075 0.6 75\n"
     ]
    },
    {
     "name": "stderr",
     "output_type": "stream",
     "text": [
      "100%|██████████| 20/20 [00:36<00:00,  1.86s/it]\n"
     ]
    },
    {
     "name": "stdout",
     "output_type": "stream",
     "text": [
      "java -cp ./ICDMFiles_SEED_py4j/ SEEDChangeDetector 0.05 32 0.0075 0.6 75\n"
     ]
    },
    {
     "name": "stderr",
     "output_type": "stream",
     "text": [
      "100%|██████████| 20/20 [00:02<00:00,  8.13it/s]\n"
     ]
    },
    {
     "name": "stdout",
     "output_type": "stream",
     "text": [
      "java -cp ./ICDMFiles_SEED_py4j/ SEEDChangeDetector 0.05 32 0.0075 0.6 75\n"
     ]
    },
    {
     "name": "stderr",
     "output_type": "stream",
     "text": [
      "100%|██████████| 20/20 [00:02<00:00,  7.34it/s]\n"
     ]
    },
    {
     "name": "stdout",
     "output_type": "stream",
     "text": [
      "java -cp ./ICDMFiles_SEED_py4j/ SEEDChangeDetector 0.05 32 0.0075 0.6 75\n"
     ]
    },
    {
     "name": "stderr",
     "output_type": "stream",
     "text": [
      "100%|██████████| 20/20 [00:02<00:00,  7.48it/s]\n"
     ]
    },
    {
     "name": "stdout",
     "output_type": "stream",
     "text": [
      "java -cp ./ICDMFiles_SEED_py4j/ SEEDChangeDetector 0.05 32 0.0075 0.6 75\n"
     ]
    },
    {
     "name": "stderr",
     "output_type": "stream",
     "text": [
      "100%|██████████| 20/20 [00:02<00:00,  7.86it/s]\n"
     ]
    },
    {
     "name": "stdout",
     "output_type": "stream",
     "text": [
      "java -cp ./ICDMFiles_SEED_py4j/ SEEDChangeDetector 0.05 32 0.0075 0.6 75\n"
     ]
    },
    {
     "name": "stderr",
     "output_type": "stream",
     "text": [
      "100%|██████████| 20/20 [00:02<00:00,  7.92it/s]\n"
     ]
    },
    {
     "name": "stdout",
     "output_type": "stream",
     "text": [
      "java -cp ./ICDMFiles_SEED_py4j/ SEEDChangeDetector 0.05 32 0.0075 0.6 75\n"
     ]
    },
    {
     "name": "stderr",
     "output_type": "stream",
     "text": [
      "100%|██████████| 20/20 [00:02<00:00,  7.77it/s]\n"
     ]
    },
    {
     "name": "stdout",
     "output_type": "stream",
     "text": [
      "java -cp ./ICDMFiles_SEED_py4j/ SEEDChangeDetector 0.05 32 0.0075 0.6 75\n"
     ]
    },
    {
     "name": "stderr",
     "output_type": "stream",
     "text": [
      "100%|██████████| 20/20 [00:02<00:00,  8.05it/s]\n"
     ]
    },
    {
     "name": "stdout",
     "output_type": "stream",
     "text": [
      "java -cp ./ICDMFiles_SEED_py4j/ SEEDChangeDetector 0.05 32 0.0075 0.6 75\n"
     ]
    },
    {
     "name": "stderr",
     "output_type": "stream",
     "text": [
      "100%|██████████| 20/20 [00:02<00:00,  7.66it/s]\n"
     ]
    },
    {
     "name": "stdout",
     "output_type": "stream",
     "text": [
      "java -cp ./ICDMFiles_SEED_py4j/ SEEDChangeDetector 0.05 32 0.0075 0.6 75\n"
     ]
    },
    {
     "name": "stderr",
     "output_type": "stream",
     "text": [
      "100%|██████████| 20/20 [00:02<00:00,  7.57it/s]\n"
     ]
    },
    {
     "name": "stdout",
     "output_type": "stream",
     "text": [
      "java -cp ./ICDMFiles_SEED_py4j/ SEEDChangeDetector 0.05 32 0.0075 0.6 75\n"
     ]
    },
    {
     "name": "stderr",
     "output_type": "stream",
     "text": [
      "100%|██████████| 20/20 [00:02<00:00,  7.71it/s]\n"
     ]
    },
    {
     "name": "stdout",
     "output_type": "stream",
     "text": [
      "java -cp ./ICDMFiles_SEED_py4j/ SEEDChangeDetector 0.05 32 0.0075 0.6 75\n"
     ]
    },
    {
     "name": "stderr",
     "output_type": "stream",
     "text": [
      "100%|██████████| 20/20 [00:02<00:00,  7.74it/s]\n"
     ]
    },
    {
     "name": "stdout",
     "output_type": "stream",
     "text": [
      "java -cp ./ICDMFiles_SEED_py4j/ SEEDChangeDetector 0.05 32 0.0075 0.6 75\n"
     ]
    },
    {
     "name": "stderr",
     "output_type": "stream",
     "text": [
      "100%|██████████| 20/20 [00:02<00:00,  7.19it/s]\n"
     ]
    },
    {
     "name": "stdout",
     "output_type": "stream",
     "text": [
      "java -cp ./ICDMFiles_SEED_py4j/ SEEDChangeDetector 0.05 32 0.0075 0.6 75\n"
     ]
    },
    {
     "name": "stderr",
     "output_type": "stream",
     "text": [
      "100%|██████████| 20/20 [00:02<00:00,  7.09it/s]\n"
     ]
    },
    {
     "name": "stdout",
     "output_type": "stream",
     "text": [
      "java -cp ./ICDMFiles_SEED_py4j/ SEEDChangeDetector 0.05 32 0.0075 0.6 75\n"
     ]
    },
    {
     "name": "stderr",
     "output_type": "stream",
     "text": [
      "100%|██████████| 20/20 [00:02<00:00,  6.70it/s]\n"
     ]
    },
    {
     "name": "stdout",
     "output_type": "stream",
     "text": [
      "java -cp ./ICDMFiles_SEED_py4j/ SEEDChangeDetector 0.05 32 0.0075 0.6 75\n"
     ]
    },
    {
     "name": "stderr",
     "output_type": "stream",
     "text": [
      "100%|██████████| 20/20 [00:06<00:00,  3.55it/s]\n"
     ]
    },
    {
     "name": "stdout",
     "output_type": "stream",
     "text": [
      "java -cp ./ICDMFiles_SEED_py4j/ SEEDChangeDetector 0.05 32 0.0075 0.6 75\n"
     ]
    },
    {
     "name": "stderr",
     "output_type": "stream",
     "text": [
      "100%|██████████| 20/20 [00:05<00:00,  3.57it/s]\n"
     ]
    },
    {
     "name": "stdout",
     "output_type": "stream",
     "text": [
      "java -cp ./ICDMFiles_SEED_py4j/ SEEDChangeDetector 0.05 32 0.0075 0.6 75\n"
     ]
    },
    {
     "name": "stderr",
     "output_type": "stream",
     "text": [
      "100%|██████████| 20/20 [00:05<00:00,  3.50it/s]\n"
     ]
    },
    {
     "name": "stdout",
     "output_type": "stream",
     "text": [
      "java -cp ./ICDMFiles_SEED_py4j/ SEEDChangeDetector 0.05 32 0.0075 0.6 75\n"
     ]
    },
    {
     "name": "stderr",
     "output_type": "stream",
     "text": [
      "100%|██████████| 20/20 [00:05<00:00,  3.44it/s]\n"
     ]
    },
    {
     "name": "stdout",
     "output_type": "stream",
     "text": [
      "java -cp ./ICDMFiles_SEED_py4j/ SEEDChangeDetector 0.05 32 0.0075 0.6 75\n"
     ]
    },
    {
     "name": "stderr",
     "output_type": "stream",
     "text": [
      "100%|██████████| 20/20 [00:05<00:00,  3.54it/s]\n"
     ]
    },
    {
     "name": "stdout",
     "output_type": "stream",
     "text": [
      "java -cp ./ICDMFiles_SEED_py4j/ SEEDChangeDetector 0.05 32 0.0075 0.6 75\n"
     ]
    },
    {
     "name": "stderr",
     "output_type": "stream",
     "text": [
      "100%|██████████| 20/20 [00:05<00:00,  3.36it/s]\n"
     ]
    },
    {
     "name": "stdout",
     "output_type": "stream",
     "text": [
      "java -cp ./ICDMFiles_SEED_py4j/ SEEDChangeDetector 0.05 32 0.0075 0.6 75\n"
     ]
    },
    {
     "name": "stderr",
     "output_type": "stream",
     "text": [
      "100%|██████████| 20/20 [00:06<00:00,  3.02it/s]\n"
     ]
    },
    {
     "name": "stdout",
     "output_type": "stream",
     "text": [
      "java -cp ./ICDMFiles_SEED_py4j/ SEEDChangeDetector 0.05 32 0.0075 0.6 75\n"
     ]
    },
    {
     "name": "stderr",
     "output_type": "stream",
     "text": [
      "100%|██████████| 20/20 [00:19<00:00,  1.04s/it]\n"
     ]
    },
    {
     "name": "stdout",
     "output_type": "stream",
     "text": [
      "java -cp ./ICDMFiles_SEED_py4j/ SEEDChangeDetector 0.05 32 0.0075 0.6 75\n"
     ]
    },
    {
     "name": "stderr",
     "output_type": "stream",
     "text": [
      "100%|██████████| 20/20 [00:22<00:00,  1.18s/it]\n"
     ]
    },
    {
     "name": "stdout",
     "output_type": "stream",
     "text": [
      "java -cp ./ICDMFiles_SEED_py4j/ SEEDChangeDetector 0.05 32 0.0075 0.6 75\n"
     ]
    },
    {
     "name": "stderr",
     "output_type": "stream",
     "text": [
      "100%|██████████| 20/20 [00:21<00:00,  1.03s/it]\n"
     ]
    },
    {
     "name": "stdout",
     "output_type": "stream",
     "text": [
      "java -cp ./ICDMFiles_SEED_py4j/ SEEDChangeDetector 0.05 32 0.0075 0.6 75\n"
     ]
    },
    {
     "name": "stderr",
     "output_type": "stream",
     "text": [
      "100%|██████████| 20/20 [00:20<00:00,  1.01s/it]\n"
     ]
    },
    {
     "name": "stdout",
     "output_type": "stream",
     "text": [
      "java -cp ./ICDMFiles_SEED_py4j/ SEEDChangeDetector 0.05 32 0.0075 0.6 75\n"
     ]
    },
    {
     "name": "stderr",
     "output_type": "stream",
     "text": [
      "100%|██████████| 20/20 [00:27<00:00,  1.11s/it]\n"
     ]
    },
    {
     "name": "stdout",
     "output_type": "stream",
     "text": [
      "java -cp ./ICDMFiles_SEED_py4j/ SEEDChangeDetector 0.05 32 0.0075 0.6 75\n"
     ]
    },
    {
     "name": "stderr",
     "output_type": "stream",
     "text": [
      "100%|██████████| 20/20 [00:20<00:00,  1.05s/it]\n"
     ]
    },
    {
     "name": "stdout",
     "output_type": "stream",
     "text": [
      "java -cp ./ICDMFiles_SEED_py4j/ SEEDChangeDetector 0.05 32 0.0075 0.6 75\n"
     ]
    },
    {
     "name": "stderr",
     "output_type": "stream",
     "text": [
      "100%|██████████| 20/20 [00:23<00:00,  1.19s/it]\n"
     ]
    },
    {
     "name": "stdout",
     "output_type": "stream",
     "text": [
      "java -cp ./ICDMFiles_SEED_py4j/ SEEDChangeDetector 0.05 32 0.0075 0.6 75\n"
     ]
    },
    {
     "name": "stderr",
     "output_type": "stream",
     "text": [
      "100%|██████████| 20/20 [00:39<00:00,  1.91s/it]\n"
     ]
    },
    {
     "name": "stdout",
     "output_type": "stream",
     "text": [
      "java -cp ./ICDMFiles_SEED_py4j/ SEEDChangeDetector 0.05 32 0.0075 0.6 75\n"
     ]
    },
    {
     "name": "stderr",
     "output_type": "stream",
     "text": [
      "100%|██████████| 20/20 [00:37<00:00,  1.81s/it]\n"
     ]
    },
    {
     "name": "stdout",
     "output_type": "stream",
     "text": [
      "java -cp ./ICDMFiles_SEED_py4j/ SEEDChangeDetector 0.05 32 0.0075 0.6 75\n"
     ]
    },
    {
     "name": "stderr",
     "output_type": "stream",
     "text": [
      "100%|██████████| 20/20 [00:36<00:00,  1.87s/it]\n"
     ]
    },
    {
     "name": "stdout",
     "output_type": "stream",
     "text": [
      "java -cp ./ICDMFiles_SEED_py4j/ SEEDChangeDetector 0.05 32 0.0075 0.6 75\n"
     ]
    },
    {
     "name": "stderr",
     "output_type": "stream",
     "text": [
      "100%|██████████| 20/20 [00:36<00:00,  1.83s/it]\n"
     ]
    },
    {
     "name": "stdout",
     "output_type": "stream",
     "text": [
      "java -cp ./ICDMFiles_SEED_py4j/ SEEDChangeDetector 0.05 32 0.0075 0.6 75\n"
     ]
    },
    {
     "name": "stderr",
     "output_type": "stream",
     "text": [
      "100%|██████████| 20/20 [00:38<00:00,  2.02s/it]\n"
     ]
    },
    {
     "name": "stdout",
     "output_type": "stream",
     "text": [
      "java -cp ./ICDMFiles_SEED_py4j/ SEEDChangeDetector 0.05 32 0.0075 0.6 75\n"
     ]
    },
    {
     "name": "stderr",
     "output_type": "stream",
     "text": [
      "100%|██████████| 20/20 [00:40<00:00,  2.05s/it]\n"
     ]
    },
    {
     "name": "stdout",
     "output_type": "stream",
     "text": [
      "java -cp ./ICDMFiles_SEED_py4j/ SEEDChangeDetector 0.05 32 0.0075 0.6 75\n"
     ]
    },
    {
     "name": "stderr",
     "output_type": "stream",
     "text": [
      "100%|██████████| 20/20 [00:37<00:00,  1.83s/it]\n"
     ]
    },
    {
     "name": "stdout",
     "output_type": "stream",
     "text": [
      "java -cp ./ICDMFiles_SEED_py4j/ SEEDChangeDetector 0.05 32 0.0075 0.6 75\n"
     ]
    },
    {
     "name": "stderr",
     "output_type": "stream",
     "text": [
      "100%|██████████| 20/20 [00:04<00:00,  4.79it/s]\n"
     ]
    },
    {
     "name": "stdout",
     "output_type": "stream",
     "text": [
      "java -cp ./ICDMFiles_SEED_py4j/ SEEDChangeDetector 0.05 32 0.0075 0.6 75\n"
     ]
    },
    {
     "name": "stderr",
     "output_type": "stream",
     "text": [
      "100%|██████████| 20/20 [00:04<00:00,  4.67it/s]\n"
     ]
    },
    {
     "name": "stdout",
     "output_type": "stream",
     "text": [
      "java -cp ./ICDMFiles_SEED_py4j/ SEEDChangeDetector 0.05 32 0.0075 0.6 75\n"
     ]
    },
    {
     "name": "stderr",
     "output_type": "stream",
     "text": [
      "100%|██████████| 20/20 [00:04<00:00,  4.54it/s]\n"
     ]
    },
    {
     "name": "stdout",
     "output_type": "stream",
     "text": [
      "java -cp ./ICDMFiles_SEED_py4j/ SEEDChangeDetector 0.05 32 0.0075 0.6 75\n"
     ]
    },
    {
     "name": "stderr",
     "output_type": "stream",
     "text": [
      "100%|██████████| 20/20 [00:04<00:00,  4.70it/s]\n"
     ]
    },
    {
     "name": "stdout",
     "output_type": "stream",
     "text": [
      "java -cp ./ICDMFiles_SEED_py4j/ SEEDChangeDetector 0.05 32 0.0075 0.6 75\n"
     ]
    },
    {
     "name": "stderr",
     "output_type": "stream",
     "text": [
      "100%|██████████| 20/20 [00:04<00:00,  4.68it/s]\n"
     ]
    },
    {
     "name": "stdout",
     "output_type": "stream",
     "text": [
      "java -cp ./ICDMFiles_SEED_py4j/ SEEDChangeDetector 0.05 32 0.0075 0.6 75\n"
     ]
    },
    {
     "name": "stderr",
     "output_type": "stream",
     "text": [
      "100%|██████████| 20/20 [00:04<00:00,  4.66it/s]\n"
     ]
    },
    {
     "name": "stdout",
     "output_type": "stream",
     "text": [
      "java -cp ./ICDMFiles_SEED_py4j/ SEEDChangeDetector 0.05 32 0.0075 0.6 75\n"
     ]
    },
    {
     "name": "stderr",
     "output_type": "stream",
     "text": [
      "100%|██████████| 20/20 [00:04<00:00,  4.61it/s]\n"
     ]
    },
    {
     "name": "stdout",
     "output_type": "stream",
     "text": [
      "java -cp ./ICDMFiles_SEED_py4j/ SEEDChangeDetector 0.05 32 0.0075 0.6 75\n"
     ]
    },
    {
     "name": "stderr",
     "output_type": "stream",
     "text": [
      "100%|██████████| 20/20 [00:04<00:00,  4.66it/s]\n"
     ]
    },
    {
     "name": "stdout",
     "output_type": "stream",
     "text": [
      "java -cp ./ICDMFiles_SEED_py4j/ SEEDChangeDetector 0.05 32 0.0075 0.6 75\n"
     ]
    },
    {
     "name": "stderr",
     "output_type": "stream",
     "text": [
      "100%|██████████| 20/20 [00:04<00:00,  4.47it/s]\n"
     ]
    },
    {
     "name": "stdout",
     "output_type": "stream",
     "text": [
      "java -cp ./ICDMFiles_SEED_py4j/ SEEDChangeDetector 0.05 32 0.0075 0.6 75\n"
     ]
    },
    {
     "name": "stderr",
     "output_type": "stream",
     "text": [
      "100%|██████████| 20/20 [00:04<00:00,  3.82it/s]\n"
     ]
    },
    {
     "name": "stdout",
     "output_type": "stream",
     "text": [
      "java -cp ./ICDMFiles_SEED_py4j/ SEEDChangeDetector 0.05 32 0.0075 0.6 75\n"
     ]
    },
    {
     "name": "stderr",
     "output_type": "stream",
     "text": [
      "100%|██████████| 20/20 [00:04<00:00,  4.37it/s]\n"
     ]
    },
    {
     "name": "stdout",
     "output_type": "stream",
     "text": [
      "java -cp ./ICDMFiles_SEED_py4j/ SEEDChangeDetector 0.05 32 0.0075 0.6 75\n"
     ]
    },
    {
     "name": "stderr",
     "output_type": "stream",
     "text": [
      "100%|██████████| 20/20 [00:04<00:00,  4.29it/s]\n"
     ]
    },
    {
     "name": "stdout",
     "output_type": "stream",
     "text": [
      "java -cp ./ICDMFiles_SEED_py4j/ SEEDChangeDetector 0.05 32 0.0075 0.6 75\n"
     ]
    },
    {
     "name": "stderr",
     "output_type": "stream",
     "text": [
      "100%|██████████| 20/20 [00:04<00:00,  4.63it/s]\n"
     ]
    },
    {
     "name": "stdout",
     "output_type": "stream",
     "text": [
      "java -cp ./ICDMFiles_SEED_py4j/ SEEDChangeDetector 0.05 32 0.0075 0.6 75\n"
     ]
    },
    {
     "name": "stderr",
     "output_type": "stream",
     "text": [
      "100%|██████████| 20/20 [00:04<00:00,  4.04it/s]\n"
     ]
    },
    {
     "name": "stdout",
     "output_type": "stream",
     "text": [
      "java -cp ./ICDMFiles_SEED_py4j/ SEEDChangeDetector 0.05 32 0.0075 0.6 75\n"
     ]
    },
    {
     "name": "stderr",
     "output_type": "stream",
     "text": [
      "100%|██████████| 20/20 [00:05<00:00,  3.47it/s]\n"
     ]
    },
    {
     "name": "stdout",
     "output_type": "stream",
     "text": [
      "java -cp ./ICDMFiles_SEED_py4j/ SEEDChangeDetector 0.05 32 0.0075 0.6 75\n"
     ]
    },
    {
     "name": "stderr",
     "output_type": "stream",
     "text": [
      "100%|██████████| 20/20 [00:06<00:00,  3.43it/s]\n"
     ]
    },
    {
     "name": "stdout",
     "output_type": "stream",
     "text": [
      "java -cp ./ICDMFiles_SEED_py4j/ SEEDChangeDetector 0.05 32 0.0075 0.6 75\n"
     ]
    },
    {
     "name": "stderr",
     "output_type": "stream",
     "text": [
      "100%|██████████| 20/20 [00:05<00:00,  3.51it/s]\n"
     ]
    },
    {
     "name": "stdout",
     "output_type": "stream",
     "text": [
      "java -cp ./ICDMFiles_SEED_py4j/ SEEDChangeDetector 0.05 32 0.0075 0.6 75\n"
     ]
    },
    {
     "name": "stderr",
     "output_type": "stream",
     "text": [
      "100%|██████████| 20/20 [00:05<00:00,  3.33it/s]\n"
     ]
    },
    {
     "name": "stdout",
     "output_type": "stream",
     "text": [
      "java -cp ./ICDMFiles_SEED_py4j/ SEEDChangeDetector 0.05 32 0.0075 0.6 75\n"
     ]
    },
    {
     "name": "stderr",
     "output_type": "stream",
     "text": [
      "100%|██████████| 20/20 [00:05<00:00,  3.34it/s]\n"
     ]
    },
    {
     "name": "stdout",
     "output_type": "stream",
     "text": [
      "java -cp ./ICDMFiles_SEED_py4j/ SEEDChangeDetector 0.05 32 0.0075 0.6 75\n"
     ]
    },
    {
     "name": "stderr",
     "output_type": "stream",
     "text": [
      "100%|██████████| 20/20 [00:05<00:00,  3.45it/s]\n"
     ]
    },
    {
     "name": "stdout",
     "output_type": "stream",
     "text": [
      "java -cp ./ICDMFiles_SEED_py4j/ SEEDChangeDetector 0.05 32 0.0075 0.6 75\n"
     ]
    },
    {
     "name": "stderr",
     "output_type": "stream",
     "text": [
      "100%|██████████| 20/20 [00:05<00:00,  3.53it/s]\n"
     ]
    },
    {
     "name": "stdout",
     "output_type": "stream",
     "text": [
      "java -cp ./ICDMFiles_SEED_py4j/ SEEDChangeDetector 0.05 32 0.0075 0.6 75\n"
     ]
    },
    {
     "name": "stderr",
     "output_type": "stream",
     "text": [
      "100%|██████████| 20/20 [00:21<00:00,  1.04s/it]\n"
     ]
    },
    {
     "name": "stdout",
     "output_type": "stream",
     "text": [
      "java -cp ./ICDMFiles_SEED_py4j/ SEEDChangeDetector 0.05 32 0.0075 0.6 75\n"
     ]
    },
    {
     "name": "stderr",
     "output_type": "stream",
     "text": [
      "100%|██████████| 20/20 [00:21<00:00,  1.10s/it]\n"
     ]
    },
    {
     "name": "stdout",
     "output_type": "stream",
     "text": [
      "java -cp ./ICDMFiles_SEED_py4j/ SEEDChangeDetector 0.05 32 0.0075 0.6 75\n"
     ]
    },
    {
     "name": "stderr",
     "output_type": "stream",
     "text": [
      "100%|██████████| 20/20 [00:21<00:00,  1.08s/it]\n"
     ]
    },
    {
     "name": "stdout",
     "output_type": "stream",
     "text": [
      "java -cp ./ICDMFiles_SEED_py4j/ SEEDChangeDetector 0.05 32 0.0075 0.6 75\n"
     ]
    },
    {
     "name": "stderr",
     "output_type": "stream",
     "text": [
      "100%|██████████| 20/20 [00:21<00:00,  1.08s/it]\n"
     ]
    },
    {
     "name": "stdout",
     "output_type": "stream",
     "text": [
      "java -cp ./ICDMFiles_SEED_py4j/ SEEDChangeDetector 0.05 32 0.0075 0.6 75\n"
     ]
    },
    {
     "name": "stderr",
     "output_type": "stream",
     "text": [
      "100%|██████████| 20/20 [00:21<00:00,  1.05s/it]\n"
     ]
    },
    {
     "name": "stdout",
     "output_type": "stream",
     "text": [
      "java -cp ./ICDMFiles_SEED_py4j/ SEEDChangeDetector 0.05 32 0.0075 0.6 75\n"
     ]
    },
    {
     "name": "stderr",
     "output_type": "stream",
     "text": [
      "100%|██████████| 20/20 [00:21<00:00,  1.06s/it]\n"
     ]
    },
    {
     "name": "stdout",
     "output_type": "stream",
     "text": [
      "java -cp ./ICDMFiles_SEED_py4j/ SEEDChangeDetector 0.05 32 0.0075 0.6 75\n"
     ]
    },
    {
     "name": "stderr",
     "output_type": "stream",
     "text": [
      "100%|██████████| 20/20 [00:21<00:00,  1.06s/it]\n"
     ]
    },
    {
     "name": "stdout",
     "output_type": "stream",
     "text": [
      "java -cp ./ICDMFiles_SEED_py4j/ SEEDChangeDetector 0.05 32 0.0075 0.6 75\n"
     ]
    },
    {
     "name": "stderr",
     "output_type": "stream",
     "text": [
      "100%|██████████| 20/20 [00:38<00:00,  1.91s/it]\n"
     ]
    },
    {
     "name": "stdout",
     "output_type": "stream",
     "text": [
      "java -cp ./ICDMFiles_SEED_py4j/ SEEDChangeDetector 0.05 32 0.0075 0.6 75\n"
     ]
    },
    {
     "name": "stderr",
     "output_type": "stream",
     "text": [
      "100%|██████████| 20/20 [00:38<00:00,  1.93s/it]\n"
     ]
    },
    {
     "name": "stdout",
     "output_type": "stream",
     "text": [
      "java -cp ./ICDMFiles_SEED_py4j/ SEEDChangeDetector 0.05 32 0.0075 0.6 75\n"
     ]
    },
    {
     "name": "stderr",
     "output_type": "stream",
     "text": [
      "100%|██████████| 20/20 [00:39<00:00,  1.95s/it]\n"
     ]
    },
    {
     "name": "stdout",
     "output_type": "stream",
     "text": [
      "java -cp ./ICDMFiles_SEED_py4j/ SEEDChangeDetector 0.05 32 0.0075 0.6 75\n"
     ]
    },
    {
     "name": "stderr",
     "output_type": "stream",
     "text": [
      "100%|██████████| 20/20 [00:39<00:00,  2.01s/it]\n"
     ]
    },
    {
     "name": "stdout",
     "output_type": "stream",
     "text": [
      "java -cp ./ICDMFiles_SEED_py4j/ SEEDChangeDetector 0.05 32 0.0075 0.6 75\n"
     ]
    },
    {
     "name": "stderr",
     "output_type": "stream",
     "text": [
      "100%|██████████| 20/20 [00:38<00:00,  1.93s/it]\n"
     ]
    },
    {
     "name": "stdout",
     "output_type": "stream",
     "text": [
      "java -cp ./ICDMFiles_SEED_py4j/ SEEDChangeDetector 0.05 32 0.0075 0.6 75\n"
     ]
    },
    {
     "name": "stderr",
     "output_type": "stream",
     "text": [
      "100%|██████████| 20/20 [00:39<00:00,  1.92s/it]\n"
     ]
    },
    {
     "name": "stdout",
     "output_type": "stream",
     "text": [
      "java -cp ./ICDMFiles_SEED_py4j/ SEEDChangeDetector 0.05 32 0.0075 0.6 75\n"
     ]
    },
    {
     "name": "stderr",
     "output_type": "stream",
     "text": [
      "100%|██████████| 20/20 [00:38<00:00,  1.90s/it]\n"
     ]
    },
    {
     "name": "stdout",
     "output_type": "stream",
     "text": [
      "java -cp ./ICDMFiles_SEED_py4j/ SEEDChangeDetector 0.05 32 0.0075 0.6 75\n"
     ]
    },
    {
     "name": "stderr",
     "output_type": "stream",
     "text": [
      "100%|██████████| 20/20 [00:17<00:00,  1.13it/s]\n"
     ]
    },
    {
     "name": "stdout",
     "output_type": "stream",
     "text": [
      "java -cp ./ICDMFiles_SEED_py4j/ SEEDChangeDetector 0.05 32 0.0075 0.6 75\n"
     ]
    },
    {
     "name": "stderr",
     "output_type": "stream",
     "text": [
      "100%|██████████| 20/20 [00:18<00:00,  1.13it/s]\n"
     ]
    },
    {
     "name": "stdout",
     "output_type": "stream",
     "text": [
      "java -cp ./ICDMFiles_SEED_py4j/ SEEDChangeDetector 0.05 32 0.0075 0.6 75\n"
     ]
    },
    {
     "name": "stderr",
     "output_type": "stream",
     "text": [
      "100%|██████████| 20/20 [00:18<00:00,  1.09it/s]\n"
     ]
    },
    {
     "name": "stdout",
     "output_type": "stream",
     "text": [
      "java -cp ./ICDMFiles_SEED_py4j/ SEEDChangeDetector 0.05 32 0.0075 0.6 75\n"
     ]
    },
    {
     "name": "stderr",
     "output_type": "stream",
     "text": [
      "100%|██████████| 20/20 [00:18<00:00,  1.10it/s]\n"
     ]
    },
    {
     "name": "stdout",
     "output_type": "stream",
     "text": [
      "java -cp ./ICDMFiles_SEED_py4j/ SEEDChangeDetector 0.05 32 0.0075 0.6 75\n"
     ]
    },
    {
     "name": "stderr",
     "output_type": "stream",
     "text": [
      "100%|██████████| 20/20 [00:18<00:00,  1.10it/s]\n"
     ]
    },
    {
     "name": "stdout",
     "output_type": "stream",
     "text": [
      "java -cp ./ICDMFiles_SEED_py4j/ SEEDChangeDetector 0.05 32 0.0075 0.6 75\n"
     ]
    },
    {
     "name": "stderr",
     "output_type": "stream",
     "text": [
      "100%|██████████| 20/20 [00:19<00:00,  1.05it/s]\n"
     ]
    },
    {
     "name": "stdout",
     "output_type": "stream",
     "text": [
      "java -cp ./ICDMFiles_SEED_py4j/ SEEDChangeDetector 0.05 32 0.0075 0.6 75\n"
     ]
    },
    {
     "name": "stderr",
     "output_type": "stream",
     "text": [
      "100%|██████████| 20/20 [00:18<00:00,  1.10it/s]\n"
     ]
    },
    {
     "name": "stdout",
     "output_type": "stream",
     "text": [
      "java -cp ./ICDMFiles_SEED_py4j/ SEEDChangeDetector 0.05 32 0.0075 0.6 75\n"
     ]
    },
    {
     "name": "stderr",
     "output_type": "stream",
     "text": [
      "100%|██████████| 20/20 [00:19<00:00,  1.00it/s]\n"
     ]
    },
    {
     "name": "stdout",
     "output_type": "stream",
     "text": [
      "java -cp ./ICDMFiles_SEED_py4j/ SEEDChangeDetector 0.05 32 0.0075 0.6 75\n"
     ]
    },
    {
     "name": "stderr",
     "output_type": "stream",
     "text": [
      "100%|██████████| 20/20 [00:18<00:00,  1.11it/s]\n"
     ]
    },
    {
     "name": "stdout",
     "output_type": "stream",
     "text": [
      "java -cp ./ICDMFiles_SEED_py4j/ SEEDChangeDetector 0.05 32 0.0075 0.6 75\n"
     ]
    },
    {
     "name": "stderr",
     "output_type": "stream",
     "text": [
      "100%|██████████| 20/20 [00:19<00:00,  1.04it/s]\n"
     ]
    },
    {
     "name": "stdout",
     "output_type": "stream",
     "text": [
      "java -cp ./ICDMFiles_SEED_py4j/ SEEDChangeDetector 0.05 32 0.0075 0.6 75\n"
     ]
    },
    {
     "name": "stderr",
     "output_type": "stream",
     "text": [
      "100%|██████████| 20/20 [00:18<00:00,  1.10it/s]\n"
     ]
    },
    {
     "name": "stdout",
     "output_type": "stream",
     "text": [
      "java -cp ./ICDMFiles_SEED_py4j/ SEEDChangeDetector 0.05 32 0.0075 0.6 75\n"
     ]
    },
    {
     "name": "stderr",
     "output_type": "stream",
     "text": [
      "100%|██████████| 20/20 [00:18<00:00,  1.10it/s]\n"
     ]
    },
    {
     "name": "stdout",
     "output_type": "stream",
     "text": [
      "java -cp ./ICDMFiles_SEED_py4j/ SEEDChangeDetector 0.05 32 0.0075 0.6 75\n"
     ]
    },
    {
     "name": "stderr",
     "output_type": "stream",
     "text": [
      "100%|██████████| 20/20 [00:17<00:00,  1.10it/s]\n"
     ]
    },
    {
     "name": "stdout",
     "output_type": "stream",
     "text": [
      "java -cp ./ICDMFiles_SEED_py4j/ SEEDChangeDetector 0.05 32 0.0075 0.6 75\n"
     ]
    },
    {
     "name": "stderr",
     "output_type": "stream",
     "text": [
      "100%|██████████| 20/20 [00:18<00:00,  1.10it/s]\n"
     ]
    },
    {
     "name": "stdout",
     "output_type": "stream",
     "text": [
      "java -cp ./ICDMFiles_SEED_py4j/ SEEDChangeDetector 0.05 32 0.0075 0.6 75\n"
     ]
    },
    {
     "name": "stderr",
     "output_type": "stream",
     "text": [
      "100%|██████████| 20/20 [00:20<00:00,  1.00it/s]\n"
     ]
    },
    {
     "name": "stdout",
     "output_type": "stream",
     "text": [
      "java -cp ./ICDMFiles_SEED_py4j/ SEEDChangeDetector 0.05 32 0.0075 0.6 75\n"
     ]
    },
    {
     "name": "stderr",
     "output_type": "stream",
     "text": [
      "100%|██████████| 20/20 [00:19<00:00,  1.02it/s]\n"
     ]
    },
    {
     "name": "stdout",
     "output_type": "stream",
     "text": [
      "java -cp ./ICDMFiles_SEED_py4j/ SEEDChangeDetector 0.05 32 0.0075 0.6 75\n"
     ]
    },
    {
     "name": "stderr",
     "output_type": "stream",
     "text": [
      "100%|██████████| 20/20 [00:19<00:00,  1.04it/s]\n"
     ]
    },
    {
     "name": "stdout",
     "output_type": "stream",
     "text": [
      "java -cp ./ICDMFiles_SEED_py4j/ SEEDChangeDetector 0.05 32 0.0075 0.6 75\n"
     ]
    },
    {
     "name": "stderr",
     "output_type": "stream",
     "text": [
      "100%|██████████| 20/20 [00:19<00:00,  1.01it/s]\n"
     ]
    },
    {
     "name": "stdout",
     "output_type": "stream",
     "text": [
      "java -cp ./ICDMFiles_SEED_py4j/ SEEDChangeDetector 0.05 32 0.0075 0.6 75\n"
     ]
    },
    {
     "name": "stderr",
     "output_type": "stream",
     "text": [
      "100%|██████████| 20/20 [00:20<00:00,  1.01s/it]\n"
     ]
    },
    {
     "name": "stdout",
     "output_type": "stream",
     "text": [
      "java -cp ./ICDMFiles_SEED_py4j/ SEEDChangeDetector 0.05 32 0.0075 0.6 75\n"
     ]
    },
    {
     "name": "stderr",
     "output_type": "stream",
     "text": [
      "100%|██████████| 20/20 [00:19<00:00,  1.04it/s]\n"
     ]
    },
    {
     "name": "stdout",
     "output_type": "stream",
     "text": [
      "java -cp ./ICDMFiles_SEED_py4j/ SEEDChangeDetector 0.05 32 0.0075 0.6 75\n"
     ]
    },
    {
     "name": "stderr",
     "output_type": "stream",
     "text": [
      "100%|██████████| 20/20 [00:19<00:00,  1.00it/s]\n"
     ]
    },
    {
     "name": "stdout",
     "output_type": "stream",
     "text": [
      "java -cp ./ICDMFiles_SEED_py4j/ SEEDChangeDetector 0.05 32 0.0075 0.6 75\n"
     ]
    },
    {
     "name": "stderr",
     "output_type": "stream",
     "text": [
      "100%|██████████| 20/20 [00:21<00:00,  1.08s/it]\n"
     ]
    },
    {
     "name": "stdout",
     "output_type": "stream",
     "text": [
      "java -cp ./ICDMFiles_SEED_py4j/ SEEDChangeDetector 0.05 32 0.0075 0.6 75\n"
     ]
    },
    {
     "name": "stderr",
     "output_type": "stream",
     "text": [
      "100%|██████████| 20/20 [00:22<00:00,  1.08s/it]\n"
     ]
    },
    {
     "name": "stdout",
     "output_type": "stream",
     "text": [
      "java -cp ./ICDMFiles_SEED_py4j/ SEEDChangeDetector 0.05 32 0.0075 0.6 75\n"
     ]
    },
    {
     "name": "stderr",
     "output_type": "stream",
     "text": [
      "100%|██████████| 20/20 [00:22<00:00,  1.13s/it]\n"
     ]
    },
    {
     "name": "stdout",
     "output_type": "stream",
     "text": [
      "java -cp ./ICDMFiles_SEED_py4j/ SEEDChangeDetector 0.05 32 0.0075 0.6 75\n"
     ]
    },
    {
     "name": "stderr",
     "output_type": "stream",
     "text": [
      "100%|██████████| 20/20 [00:21<00:00,  1.14s/it]\n"
     ]
    },
    {
     "name": "stdout",
     "output_type": "stream",
     "text": [
      "java -cp ./ICDMFiles_SEED_py4j/ SEEDChangeDetector 0.05 32 0.0075 0.6 75\n"
     ]
    },
    {
     "name": "stderr",
     "output_type": "stream",
     "text": [
      "100%|██████████| 20/20 [00:21<00:00,  1.06s/it]\n"
     ]
    },
    {
     "name": "stdout",
     "output_type": "stream",
     "text": [
      "java -cp ./ICDMFiles_SEED_py4j/ SEEDChangeDetector 0.05 32 0.0075 0.6 75\n"
     ]
    },
    {
     "name": "stderr",
     "output_type": "stream",
     "text": [
      "100%|██████████| 20/20 [00:21<00:00,  1.05s/it]\n"
     ]
    },
    {
     "name": "stdout",
     "output_type": "stream",
     "text": [
      "java -cp ./ICDMFiles_SEED_py4j/ SEEDChangeDetector 0.05 32 0.0075 0.6 75\n"
     ]
    },
    {
     "name": "stderr",
     "output_type": "stream",
     "text": [
      "100%|██████████| 20/20 [00:22<00:00,  1.13s/it]\n"
     ]
    },
    {
     "name": "stdout",
     "output_type": "stream",
     "text": [
      "java -cp ./ICDMFiles_SEED_py4j/ SEEDChangeDetector 0.05 32 0.0075 0.6 75\n"
     ]
    },
    {
     "name": "stderr",
     "output_type": "stream",
     "text": [
      "100%|██████████| 20/20 [00:53<00:00,  2.70s/it]\n"
     ]
    },
    {
     "name": "stdout",
     "output_type": "stream",
     "text": [
      "java -cp ./ICDMFiles_SEED_py4j/ SEEDChangeDetector 0.05 32 0.0075 0.6 75\n"
     ]
    },
    {
     "name": "stderr",
     "output_type": "stream",
     "text": [
      "100%|██████████| 20/20 [00:53<00:00,  2.62s/it]\n"
     ]
    },
    {
     "name": "stdout",
     "output_type": "stream",
     "text": [
      "java -cp ./ICDMFiles_SEED_py4j/ SEEDChangeDetector 0.05 32 0.0075 0.6 75\n"
     ]
    },
    {
     "name": "stderr",
     "output_type": "stream",
     "text": [
      "100%|██████████| 20/20 [01:00<00:00,  2.99s/it]\n"
     ]
    },
    {
     "name": "stdout",
     "output_type": "stream",
     "text": [
      "java -cp ./ICDMFiles_SEED_py4j/ SEEDChangeDetector 0.05 32 0.0075 0.6 75\n"
     ]
    },
    {
     "name": "stderr",
     "output_type": "stream",
     "text": [
      "100%|██████████| 20/20 [00:54<00:00,  2.83s/it]\n"
     ]
    },
    {
     "name": "stdout",
     "output_type": "stream",
     "text": [
      "java -cp ./ICDMFiles_SEED_py4j/ SEEDChangeDetector 0.05 32 0.0075 0.6 75\n"
     ]
    },
    {
     "name": "stderr",
     "output_type": "stream",
     "text": [
      "100%|██████████| 20/20 [00:56<00:00,  2.79s/it]\n"
     ]
    },
    {
     "name": "stdout",
     "output_type": "stream",
     "text": [
      "java -cp ./ICDMFiles_SEED_py4j/ SEEDChangeDetector 0.05 32 0.0075 0.6 75\n"
     ]
    },
    {
     "name": "stderr",
     "output_type": "stream",
     "text": [
      "100%|██████████| 20/20 [00:56<00:00,  2.87s/it]\n"
     ]
    },
    {
     "name": "stdout",
     "output_type": "stream",
     "text": [
      "java -cp ./ICDMFiles_SEED_py4j/ SEEDChangeDetector 0.05 32 0.0075 0.6 75\n"
     ]
    },
    {
     "name": "stderr",
     "output_type": "stream",
     "text": [
      "100%|██████████| 20/20 [00:54<00:00,  2.74s/it]\n"
     ]
    },
    {
     "name": "stdout",
     "output_type": "stream",
     "text": [
      "java -cp ./ICDMFiles_SEED_py4j/ SEEDChangeDetector 0.05 32 0.0075 0.6 75\n"
     ]
    },
    {
     "name": "stderr",
     "output_type": "stream",
     "text": [
      "100%|██████████| 20/20 [00:38<00:00,  1.96s/it]\n"
     ]
    },
    {
     "name": "stdout",
     "output_type": "stream",
     "text": [
      "java -cp ./ICDMFiles_SEED_py4j/ SEEDChangeDetector 0.05 32 0.0075 0.6 75\n"
     ]
    },
    {
     "name": "stderr",
     "output_type": "stream",
     "text": [
      "100%|██████████| 20/20 [00:38<00:00,  1.90s/it]\n"
     ]
    },
    {
     "name": "stdout",
     "output_type": "stream",
     "text": [
      "java -cp ./ICDMFiles_SEED_py4j/ SEEDChangeDetector 0.05 32 0.0075 0.6 75\n"
     ]
    },
    {
     "name": "stderr",
     "output_type": "stream",
     "text": [
      "100%|██████████| 20/20 [00:37<00:00,  1.92s/it]\n"
     ]
    },
    {
     "name": "stdout",
     "output_type": "stream",
     "text": [
      "java -cp ./ICDMFiles_SEED_py4j/ SEEDChangeDetector 0.05 32 0.0075 0.6 75\n"
     ]
    },
    {
     "name": "stderr",
     "output_type": "stream",
     "text": [
      "100%|██████████| 20/20 [00:38<00:00,  1.87s/it]\n"
     ]
    },
    {
     "name": "stdout",
     "output_type": "stream",
     "text": [
      "java -cp ./ICDMFiles_SEED_py4j/ SEEDChangeDetector 0.05 32 0.0075 0.6 75\n"
     ]
    },
    {
     "name": "stderr",
     "output_type": "stream",
     "text": [
      "100%|██████████| 20/20 [00:38<00:00,  1.95s/it]\n"
     ]
    },
    {
     "name": "stdout",
     "output_type": "stream",
     "text": [
      "java -cp ./ICDMFiles_SEED_py4j/ SEEDChangeDetector 0.05 32 0.0075 0.6 75\n"
     ]
    },
    {
     "name": "stderr",
     "output_type": "stream",
     "text": [
      "100%|██████████| 20/20 [00:37<00:00,  1.88s/it]\n"
     ]
    },
    {
     "name": "stdout",
     "output_type": "stream",
     "text": [
      "java -cp ./ICDMFiles_SEED_py4j/ SEEDChangeDetector 0.05 32 0.0075 0.6 75\n"
     ]
    },
    {
     "name": "stderr",
     "output_type": "stream",
     "text": [
      "100%|██████████| 20/20 [00:38<00:00,  2.05s/it]\n"
     ]
    },
    {
     "name": "stdout",
     "output_type": "stream",
     "text": [
      "java -cp ./ICDMFiles_SEED_py4j/ SEEDChangeDetector 0.05 32 0.0075 0.6 75\n"
     ]
    },
    {
     "name": "stderr",
     "output_type": "stream",
     "text": [
      "100%|██████████| 20/20 [00:38<00:00,  1.90s/it]\n"
     ]
    },
    {
     "name": "stdout",
     "output_type": "stream",
     "text": [
      "java -cp ./ICDMFiles_SEED_py4j/ SEEDChangeDetector 0.05 32 0.0075 0.6 75\n"
     ]
    },
    {
     "name": "stderr",
     "output_type": "stream",
     "text": [
      "100%|██████████| 20/20 [00:38<00:00,  2.03s/it]\n"
     ]
    },
    {
     "name": "stdout",
     "output_type": "stream",
     "text": [
      "java -cp ./ICDMFiles_SEED_py4j/ SEEDChangeDetector 0.05 32 0.0075 0.6 75\n"
     ]
    },
    {
     "name": "stderr",
     "output_type": "stream",
     "text": [
      "100%|██████████| 20/20 [00:40<00:00,  1.88s/it]\n"
     ]
    },
    {
     "name": "stdout",
     "output_type": "stream",
     "text": [
      "java -cp ./ICDMFiles_SEED_py4j/ SEEDChangeDetector 0.05 32 0.0075 0.6 75\n"
     ]
    },
    {
     "name": "stderr",
     "output_type": "stream",
     "text": [
      "100%|██████████| 20/20 [00:36<00:00,  1.84s/it]\n"
     ]
    },
    {
     "name": "stdout",
     "output_type": "stream",
     "text": [
      "java -cp ./ICDMFiles_SEED_py4j/ SEEDChangeDetector 0.05 32 0.0075 0.6 75\n"
     ]
    },
    {
     "name": "stderr",
     "output_type": "stream",
     "text": [
      "100%|██████████| 20/20 [00:37<00:00,  1.90s/it]\n"
     ]
    },
    {
     "name": "stdout",
     "output_type": "stream",
     "text": [
      "java -cp ./ICDMFiles_SEED_py4j/ SEEDChangeDetector 0.05 32 0.0075 0.6 75\n"
     ]
    },
    {
     "name": "stderr",
     "output_type": "stream",
     "text": [
      "100%|██████████| 20/20 [00:37<00:00,  1.84s/it]\n"
     ]
    },
    {
     "name": "stdout",
     "output_type": "stream",
     "text": [
      "java -cp ./ICDMFiles_SEED_py4j/ SEEDChangeDetector 0.05 32 0.0075 0.6 75\n"
     ]
    },
    {
     "name": "stderr",
     "output_type": "stream",
     "text": [
      "100%|██████████| 20/20 [00:37<00:00,  1.83s/it]\n"
     ]
    },
    {
     "name": "stdout",
     "output_type": "stream",
     "text": [
      "java -cp ./ICDMFiles_SEED_py4j/ SEEDChangeDetector 0.05 32 0.0075 0.6 75\n"
     ]
    },
    {
     "name": "stderr",
     "output_type": "stream",
     "text": [
      "100%|██████████| 20/20 [00:38<00:00,  1.99s/it]\n"
     ]
    },
    {
     "name": "stdout",
     "output_type": "stream",
     "text": [
      "java -cp ./ICDMFiles_SEED_py4j/ SEEDChangeDetector 0.05 32 0.0075 0.6 75\n"
     ]
    },
    {
     "name": "stderr",
     "output_type": "stream",
     "text": [
      "100%|██████████| 20/20 [00:38<00:00,  1.93s/it]\n"
     ]
    },
    {
     "name": "stdout",
     "output_type": "stream",
     "text": [
      "java -cp ./ICDMFiles_SEED_py4j/ SEEDChangeDetector 0.05 32 0.0075 0.6 75\n"
     ]
    },
    {
     "name": "stderr",
     "output_type": "stream",
     "text": [
      "100%|██████████| 20/20 [00:38<00:00,  1.95s/it]\n"
     ]
    },
    {
     "name": "stdout",
     "output_type": "stream",
     "text": [
      "java -cp ./ICDMFiles_SEED_py4j/ SEEDChangeDetector 0.05 32 0.0075 0.6 75\n"
     ]
    },
    {
     "name": "stderr",
     "output_type": "stream",
     "text": [
      "100%|██████████| 20/20 [00:38<00:00,  1.91s/it]\n"
     ]
    },
    {
     "name": "stdout",
     "output_type": "stream",
     "text": [
      "java -cp ./ICDMFiles_SEED_py4j/ SEEDChangeDetector 0.05 32 0.0075 0.6 75\n"
     ]
    },
    {
     "name": "stderr",
     "output_type": "stream",
     "text": [
      "100%|██████████| 20/20 [00:38<00:00,  1.92s/it]\n"
     ]
    },
    {
     "name": "stdout",
     "output_type": "stream",
     "text": [
      "java -cp ./ICDMFiles_SEED_py4j/ SEEDChangeDetector 0.05 32 0.0075 0.6 75\n"
     ]
    },
    {
     "name": "stderr",
     "output_type": "stream",
     "text": [
      "100%|██████████| 20/20 [00:38<00:00,  1.89s/it]\n"
     ]
    },
    {
     "name": "stdout",
     "output_type": "stream",
     "text": [
      "java -cp ./ICDMFiles_SEED_py4j/ SEEDChangeDetector 0.05 32 0.0075 0.6 75\n"
     ]
    },
    {
     "name": "stderr",
     "output_type": "stream",
     "text": [
      "100%|██████████| 20/20 [00:38<00:00,  1.92s/it]\n"
     ]
    },
    {
     "name": "stdout",
     "output_type": "stream",
     "text": [
      "java -cp ./ICDMFiles_SEED_py4j/ SEEDChangeDetector 0.05 32 0.0075 0.6 75\n"
     ]
    },
    {
     "name": "stderr",
     "output_type": "stream",
     "text": [
      "100%|██████████| 20/20 [00:39<00:00,  1.98s/it]\n"
     ]
    },
    {
     "name": "stdout",
     "output_type": "stream",
     "text": [
      "java -cp ./ICDMFiles_SEED_py4j/ SEEDChangeDetector 0.05 32 0.0075 0.6 75\n"
     ]
    },
    {
     "name": "stderr",
     "output_type": "stream",
     "text": [
      "100%|██████████| 20/20 [00:40<00:00,  1.96s/it]\n"
     ]
    },
    {
     "name": "stdout",
     "output_type": "stream",
     "text": [
      "java -cp ./ICDMFiles_SEED_py4j/ SEEDChangeDetector 0.05 32 0.0075 0.6 75\n"
     ]
    },
    {
     "name": "stderr",
     "output_type": "stream",
     "text": [
      "100%|██████████| 20/20 [00:40<00:00,  1.99s/it]\n"
     ]
    },
    {
     "name": "stdout",
     "output_type": "stream",
     "text": [
      "java -cp ./ICDMFiles_SEED_py4j/ SEEDChangeDetector 0.05 32 0.0075 0.6 75\n"
     ]
    },
    {
     "name": "stderr",
     "output_type": "stream",
     "text": [
      "100%|██████████| 20/20 [00:40<00:00,  2.05s/it]\n"
     ]
    },
    {
     "name": "stdout",
     "output_type": "stream",
     "text": [
      "java -cp ./ICDMFiles_SEED_py4j/ SEEDChangeDetector 0.05 32 0.0075 0.6 75\n"
     ]
    },
    {
     "name": "stderr",
     "output_type": "stream",
     "text": [
      "100%|██████████| 20/20 [00:40<00:00,  1.96s/it]\n"
     ]
    },
    {
     "name": "stdout",
     "output_type": "stream",
     "text": [
      "java -cp ./ICDMFiles_SEED_py4j/ SEEDChangeDetector 0.05 32 0.0075 0.6 75\n"
     ]
    },
    {
     "name": "stderr",
     "output_type": "stream",
     "text": [
      "100%|██████████| 20/20 [00:40<00:00,  2.04s/it]\n"
     ]
    },
    {
     "name": "stdout",
     "output_type": "stream",
     "text": [
      "java -cp ./ICDMFiles_SEED_py4j/ SEEDChangeDetector 0.05 32 0.0075 0.6 75\n"
     ]
    },
    {
     "name": "stderr",
     "output_type": "stream",
     "text": [
      "100%|██████████| 20/20 [00:43<00:00,  2.32s/it]\n"
     ]
    },
    {
     "name": "stdout",
     "output_type": "stream",
     "text": [
      "java -cp ./ICDMFiles_SEED_py4j/ SEEDChangeDetector 0.05 32 0.0075 0.6 75\n"
     ]
    },
    {
     "name": "stderr",
     "output_type": "stream",
     "text": [
      "100%|██████████| 20/20 [00:55<00:00,  2.77s/it]\n"
     ]
    },
    {
     "name": "stdout",
     "output_type": "stream",
     "text": [
      "java -cp ./ICDMFiles_SEED_py4j/ SEEDChangeDetector 0.05 32 0.0075 0.6 75\n"
     ]
    },
    {
     "name": "stderr",
     "output_type": "stream",
     "text": [
      "100%|██████████| 20/20 [00:58<00:00,  3.01s/it]\n"
     ]
    },
    {
     "name": "stdout",
     "output_type": "stream",
     "text": [
      "java -cp ./ICDMFiles_SEED_py4j/ SEEDChangeDetector 0.05 32 0.0075 0.6 75\n"
     ]
    },
    {
     "name": "stderr",
     "output_type": "stream",
     "text": [
      "100%|██████████| 20/20 [01:03<00:00,  3.19s/it]\n"
     ]
    },
    {
     "name": "stdout",
     "output_type": "stream",
     "text": [
      "java -cp ./ICDMFiles_SEED_py4j/ SEEDChangeDetector 0.05 32 0.0075 0.6 75\n"
     ]
    },
    {
     "name": "stderr",
     "output_type": "stream",
     "text": [
      "100%|██████████| 20/20 [00:55<00:00,  2.77s/it]\n"
     ]
    },
    {
     "name": "stdout",
     "output_type": "stream",
     "text": [
      "java -cp ./ICDMFiles_SEED_py4j/ SEEDChangeDetector 0.05 32 0.0075 0.6 75\n"
     ]
    },
    {
     "name": "stderr",
     "output_type": "stream",
     "text": [
      "100%|██████████| 20/20 [00:55<00:00,  2.86s/it]\n"
     ]
    },
    {
     "name": "stdout",
     "output_type": "stream",
     "text": [
      "java -cp ./ICDMFiles_SEED_py4j/ SEEDChangeDetector 0.05 32 0.0075 0.6 75\n"
     ]
    },
    {
     "name": "stderr",
     "output_type": "stream",
     "text": [
      "100%|██████████| 20/20 [00:54<00:00,  2.72s/it]\n"
     ]
    },
    {
     "name": "stdout",
     "output_type": "stream",
     "text": [
      "java -cp ./ICDMFiles_SEED_py4j/ SEEDChangeDetector 0.05 32 0.0075 0.6 75\n"
     ]
    },
    {
     "name": "stderr",
     "output_type": "stream",
     "text": [
      "100%|██████████| 20/20 [00:56<00:00,  2.98s/it]\n"
     ]
    }
   ],
   "source": [
    "# Dependency on r\n",
    "df_all = []\n",
    "for (length1, length2) in permutations([500, 1000, 5000, 10000, 50000, 100000], 2):\n",
    "    for r in [0.01, 0.05, 0.1, 0.2, 0.3, 0.4, 0.5]:\n",
    "        benefits_vd, fars_vd, benefits_md, fars_md = experiment1_benefit_false_alarm_rate(\n",
    "            length1, length2, #cmd, detector_app,\n",
    "            r=r, \n",
    "            delta=0.05, blocksize=32, epsilon_prime=0.0075,\n",
    "            alpha=0.6, decaymode=1, compression_term=75,\n",
    "            mu1=0.2, mu2=0.8,\n",
    "            n_repeat=50, \n",
    "            n_trial=20, \n",
    "            limit=5\n",
    "        )\n",
    "\n",
    "        # AUC (md)\n",
    "        auc_md = []\n",
    "        for far, benefit in zip(fars_md, benefits_md):\n",
    "            auc_md.append(calc_auc(far, benefit))\n",
    "\n",
    "        df = pd.DataFrame({\n",
    "               'L1': length1, \n",
    "               'L2': length2, \n",
    "               'r': r,\n",
    "               'AUC': auc_md})\n",
    "        df_all.append(df)"
   ]
  },
  {
   "cell_type": "code",
   "execution_count": 18,
   "metadata": {},
   "outputs": [],
   "source": [
    "df_all_concat = pd.concat(df_all)"
   ]
  },
  {
   "cell_type": "code",
   "execution_count": 19,
   "metadata": {},
   "outputs": [
    {
     "data": {
      "text/html": [
       "<div>\n",
       "<style scoped>\n",
       "    .dataframe tbody tr th:only-of-type {\n",
       "        vertical-align: middle;\n",
       "    }\n",
       "\n",
       "    .dataframe tbody tr th {\n",
       "        vertical-align: top;\n",
       "    }\n",
       "\n",
       "    .dataframe thead th {\n",
       "        text-align: right;\n",
       "    }\n",
       "</style>\n",
       "<table border=\"1\" class=\"dataframe\">\n",
       "  <thead>\n",
       "    <tr style=\"text-align: right;\">\n",
       "      <th></th>\n",
       "      <th>L1</th>\n",
       "      <th>L2</th>\n",
       "      <th>r</th>\n",
       "      <th>AUC</th>\n",
       "    </tr>\n",
       "  </thead>\n",
       "  <tbody>\n",
       "    <tr>\n",
       "      <th>0</th>\n",
       "      <td>500</td>\n",
       "      <td>1000</td>\n",
       "      <td>0.01</td>\n",
       "      <td>0.966182</td>\n",
       "    </tr>\n",
       "    <tr>\n",
       "      <th>1</th>\n",
       "      <td>500</td>\n",
       "      <td>1000</td>\n",
       "      <td>0.01</td>\n",
       "      <td>0.783348</td>\n",
       "    </tr>\n",
       "    <tr>\n",
       "      <th>2</th>\n",
       "      <td>500</td>\n",
       "      <td>1000</td>\n",
       "      <td>0.01</td>\n",
       "      <td>0.957544</td>\n",
       "    </tr>\n",
       "  </tbody>\n",
       "</table>\n",
       "</div>"
      ],
      "text/plain": [
       "    L1    L2     r       AUC\n",
       "0  500  1000  0.01  0.966182\n",
       "1  500  1000  0.01  0.783348\n",
       "2  500  1000  0.01  0.957544"
      ]
     },
     "execution_count": 19,
     "metadata": {},
     "output_type": "execute_result"
    }
   ],
   "source": [
    "df_all_concat.head(3)"
   ]
  },
  {
   "cell_type": "code",
   "execution_count": 21,
   "metadata": {},
   "outputs": [],
   "source": [
    "df_all_concat.to_csv(os.path.join(outdir, 'auc_L1_L2_r.csv'), index=None)"
   ]
  },
  {
   "cell_type": "code",
   "execution_count": 22,
   "metadata": {},
   "outputs": [],
   "source": [
    "df_all_concat = pd.read_csv(os.path.join(outdir, 'auc_L1_L2_r.csv'))"
   ]
  },
  {
   "cell_type": "code",
   "execution_count": 24,
   "metadata": {},
   "outputs": [
    {
     "data": {
      "text/html": [
       "<div>\n",
       "<style scoped>\n",
       "    .dataframe tbody tr th:only-of-type {\n",
       "        vertical-align: middle;\n",
       "    }\n",
       "\n",
       "    .dataframe tbody tr th {\n",
       "        vertical-align: top;\n",
       "    }\n",
       "\n",
       "    .dataframe thead th {\n",
       "        text-align: right;\n",
       "    }\n",
       "</style>\n",
       "<table border=\"1\" class=\"dataframe\">\n",
       "  <thead>\n",
       "    <tr style=\"text-align: right;\">\n",
       "      <th></th>\n",
       "      <th>L1</th>\n",
       "      <th>L2</th>\n",
       "      <th>r</th>\n",
       "      <th>AUC</th>\n",
       "    </tr>\n",
       "  </thead>\n",
       "  <tbody>\n",
       "    <tr>\n",
       "      <th>0</th>\n",
       "      <td>500</td>\n",
       "      <td>1000</td>\n",
       "      <td>0.01</td>\n",
       "      <td>0.966182</td>\n",
       "    </tr>\n",
       "    <tr>\n",
       "      <th>1</th>\n",
       "      <td>500</td>\n",
       "      <td>1000</td>\n",
       "      <td>0.01</td>\n",
       "      <td>0.783348</td>\n",
       "    </tr>\n",
       "    <tr>\n",
       "      <th>2</th>\n",
       "      <td>500</td>\n",
       "      <td>1000</td>\n",
       "      <td>0.01</td>\n",
       "      <td>0.957544</td>\n",
       "    </tr>\n",
       "  </tbody>\n",
       "</table>\n",
       "</div>"
      ],
      "text/plain": [
       "    L1    L2     r       AUC\n",
       "0  500  1000  0.01  0.966182\n",
       "1  500  1000  0.01  0.783348\n",
       "2  500  1000  0.01  0.957544"
      ]
     },
     "execution_count": 24,
     "metadata": {},
     "output_type": "execute_result"
    }
   ],
   "source": [
    "df_all_concat.head(3)"
   ]
  },
  {
   "cell_type": "code",
   "execution_count": 40,
   "metadata": {},
   "outputs": [
    {
     "ename": "ValueError",
     "evalue": "'c' argument has 7 elements, which is not acceptable for use with 'x' with size 0, 'y' with size 0.",
     "output_type": "error",
     "traceback": [
      "\u001b[0;31m--------------------------------------------------------------------------\u001b[0m",
      "\u001b[0;31mValueError\u001b[0m                               Traceback (most recent call last)",
      "\u001b[0;32m~/.pyenv/versions/anaconda3-5.0.1/lib/python3.6/site-packages/matplotlib/axes/_axes.py\u001b[0m in \u001b[0;36m_parse_scatter_color_args\u001b[0;34m(c, edgecolors, kwargs, xshape, yshape, get_next_color_func)\u001b[0m\n\u001b[1;32m   4290\u001b[0m                     \u001b[0mvalid_shape\u001b[0m \u001b[0;34m=\u001b[0m \u001b[0;32mFalse\u001b[0m\u001b[0;34m\u001b[0m\u001b[0;34m\u001b[0m\u001b[0m\n\u001b[0;32m-> 4291\u001b[0;31m                     \u001b[0;32mraise\u001b[0m \u001b[0mValueError\u001b[0m\u001b[0;34m\u001b[0m\u001b[0;34m\u001b[0m\u001b[0m\n\u001b[0m\u001b[1;32m   4292\u001b[0m             \u001b[0;32mexcept\u001b[0m \u001b[0mValueError\u001b[0m\u001b[0;34m:\u001b[0m\u001b[0;34m\u001b[0m\u001b[0;34m\u001b[0m\u001b[0m\n",
      "\u001b[0;31mValueError\u001b[0m: ",
      "\nDuring handling of the above exception, another exception occurred:\n",
      "\u001b[0;31mValueError\u001b[0m                               Traceback (most recent call last)",
      "\u001b[0;32m<ipython-input-40-482b54019aab>\u001b[0m in \u001b[0;36m<module>\u001b[0;34m\u001b[0m\n\u001b[1;32m     12\u001b[0m             \u001b[0mlinestyles\u001b[0m\u001b[0;34m=\u001b[0m\u001b[0;34m[\u001b[0m\u001b[0;34m'-'\u001b[0m\u001b[0;34m,\u001b[0m \u001b[0;34m'--'\u001b[0m\u001b[0;34m,\u001b[0m \u001b[0;34m'-.'\u001b[0m\u001b[0;34m,\u001b[0m \u001b[0;34m'-'\u001b[0m\u001b[0;34m,\u001b[0m \u001b[0;34m'--'\u001b[0m\u001b[0;34m,\u001b[0m \u001b[0;34m'-.'\u001b[0m\u001b[0;34m]\u001b[0m\u001b[0;34m,\u001b[0m\u001b[0;34m\u001b[0m\u001b[0;34m\u001b[0m\u001b[0m\n\u001b[1;32m     13\u001b[0m             \u001b[0mkind\u001b[0m\u001b[0;34m=\u001b[0m\u001b[0;34m'point'\u001b[0m\u001b[0;34m,\u001b[0m\u001b[0;34m\u001b[0m\u001b[0;34m\u001b[0m\u001b[0m\n\u001b[0;32m---> 14\u001b[0;31m             data=df_all_concat)\n\u001b[0m\u001b[1;32m     15\u001b[0m                \u001b[0;31m#size=4, aspect=1)\u001b[0m\u001b[0;34m\u001b[0m\u001b[0;34m\u001b[0m\u001b[0;34m\u001b[0m\u001b[0m\n\u001b[1;32m     16\u001b[0m plt.savefig('../output/experiment1_final/dependency_auc_on_r.eps', \n",
      "\u001b[0;32m~/.pyenv/versions/anaconda3-5.0.1/lib/python3.6/site-packages/seaborn/categorical.py\u001b[0m in \u001b[0;36mcatplot\u001b[0;34m(x, y, hue, data, row, col, col_wrap, estimator, ci, n_boot, units, order, hue_order, row_order, col_order, kind, height, aspect, orient, color, palette, legend, legend_out, sharex, sharey, margin_titles, facet_kws, **kwargs)\u001b[0m\n\u001b[1;32m   3753\u001b[0m \u001b[0;34m\u001b[0m\u001b[0m\n\u001b[1;32m   3754\u001b[0m     \u001b[0;31m# Draw the plot onto the facets\u001b[0m\u001b[0;34m\u001b[0m\u001b[0;34m\u001b[0m\u001b[0;34m\u001b[0m\u001b[0m\n\u001b[0;32m-> 3755\u001b[0;31m     \u001b[0mg\u001b[0m\u001b[0;34m.\u001b[0m\u001b[0mmap_dataframe\u001b[0m\u001b[0;34m(\u001b[0m\u001b[0mplot_func\u001b[0m\u001b[0;34m,\u001b[0m \u001b[0mx\u001b[0m\u001b[0;34m,\u001b[0m \u001b[0my\u001b[0m\u001b[0;34m,\u001b[0m \u001b[0mhue\u001b[0m\u001b[0;34m,\u001b[0m \u001b[0;34m**\u001b[0m\u001b[0mplot_kws\u001b[0m\u001b[0;34m)\u001b[0m\u001b[0;34m\u001b[0m\u001b[0;34m\u001b[0m\u001b[0m\n\u001b[0m\u001b[1;32m   3756\u001b[0m \u001b[0;34m\u001b[0m\u001b[0m\n\u001b[1;32m   3757\u001b[0m     \u001b[0;31m# Special case axis labels for a count type plot\u001b[0m\u001b[0;34m\u001b[0m\u001b[0;34m\u001b[0m\u001b[0;34m\u001b[0m\u001b[0m\n",
      "\u001b[0;32m~/.pyenv/versions/anaconda3-5.0.1/lib/python3.6/site-packages/seaborn/axisgrid.py\u001b[0m in \u001b[0;36mmap_dataframe\u001b[0;34m(self, func, *args, **kwargs)\u001b[0m\n\u001b[1;32m    818\u001b[0m \u001b[0;34m\u001b[0m\u001b[0m\n\u001b[1;32m    819\u001b[0m             \u001b[0;31m# Draw the plot\u001b[0m\u001b[0;34m\u001b[0m\u001b[0;34m\u001b[0m\u001b[0;34m\u001b[0m\u001b[0m\n\u001b[0;32m--> 820\u001b[0;31m             \u001b[0mself\u001b[0m\u001b[0;34m.\u001b[0m\u001b[0m_facet_plot\u001b[0m\u001b[0;34m(\u001b[0m\u001b[0mfunc\u001b[0m\u001b[0;34m,\u001b[0m \u001b[0max\u001b[0m\u001b[0;34m,\u001b[0m \u001b[0margs\u001b[0m\u001b[0;34m,\u001b[0m \u001b[0mkwargs\u001b[0m\u001b[0;34m)\u001b[0m\u001b[0;34m\u001b[0m\u001b[0;34m\u001b[0m\u001b[0m\n\u001b[0m\u001b[1;32m    821\u001b[0m \u001b[0;34m\u001b[0m\u001b[0m\n\u001b[1;32m    822\u001b[0m         \u001b[0;31m# Finalize the annotations and layout\u001b[0m\u001b[0;34m\u001b[0m\u001b[0;34m\u001b[0m\u001b[0;34m\u001b[0m\u001b[0m\n",
      "\u001b[0;32m~/.pyenv/versions/anaconda3-5.0.1/lib/python3.6/site-packages/seaborn/axisgrid.py\u001b[0m in \u001b[0;36m_facet_plot\u001b[0;34m(self, func, ax, plot_args, plot_kwargs)\u001b[0m\n\u001b[1;32m    836\u001b[0m \u001b[0;34m\u001b[0m\u001b[0m\n\u001b[1;32m    837\u001b[0m         \u001b[0;31m# Draw the plot\u001b[0m\u001b[0;34m\u001b[0m\u001b[0;34m\u001b[0m\u001b[0;34m\u001b[0m\u001b[0m\n\u001b[0;32m--> 838\u001b[0;31m         \u001b[0mfunc\u001b[0m\u001b[0;34m(\u001b[0m\u001b[0;34m*\u001b[0m\u001b[0mplot_args\u001b[0m\u001b[0;34m,\u001b[0m \u001b[0;34m**\u001b[0m\u001b[0mplot_kwargs\u001b[0m\u001b[0;34m)\u001b[0m\u001b[0;34m\u001b[0m\u001b[0;34m\u001b[0m\u001b[0m\n\u001b[0m\u001b[1;32m    839\u001b[0m \u001b[0;34m\u001b[0m\u001b[0m\n\u001b[1;32m    840\u001b[0m         \u001b[0;31m# Sort out the supporting information\u001b[0m\u001b[0;34m\u001b[0m\u001b[0;34m\u001b[0m\u001b[0;34m\u001b[0m\u001b[0m\n",
      "\u001b[0;32m~/.pyenv/versions/anaconda3-5.0.1/lib/python3.6/site-packages/seaborn/categorical.py\u001b[0m in \u001b[0;36mpointplot\u001b[0;34m(x, y, hue, data, order, hue_order, estimator, ci, n_boot, units, markers, linestyles, dodge, join, scale, orient, color, palette, errwidth, capsize, ax, **kwargs)\u001b[0m\n\u001b[1;32m   3338\u001b[0m         \u001b[0max\u001b[0m \u001b[0;34m=\u001b[0m \u001b[0mplt\u001b[0m\u001b[0;34m.\u001b[0m\u001b[0mgca\u001b[0m\u001b[0;34m(\u001b[0m\u001b[0;34m)\u001b[0m\u001b[0;34m\u001b[0m\u001b[0;34m\u001b[0m\u001b[0m\n\u001b[1;32m   3339\u001b[0m \u001b[0;34m\u001b[0m\u001b[0m\n\u001b[0;32m-> 3340\u001b[0;31m     \u001b[0mplotter\u001b[0m\u001b[0;34m.\u001b[0m\u001b[0mplot\u001b[0m\u001b[0;34m(\u001b[0m\u001b[0max\u001b[0m\u001b[0;34m)\u001b[0m\u001b[0;34m\u001b[0m\u001b[0;34m\u001b[0m\u001b[0m\n\u001b[0m\u001b[1;32m   3341\u001b[0m     \u001b[0;32mreturn\u001b[0m \u001b[0max\u001b[0m\u001b[0;34m\u001b[0m\u001b[0;34m\u001b[0m\u001b[0m\n\u001b[1;32m   3342\u001b[0m \u001b[0;34m\u001b[0m\u001b[0m\n",
      "\u001b[0;32m~/.pyenv/versions/anaconda3-5.0.1/lib/python3.6/site-packages/seaborn/categorical.py\u001b[0m in \u001b[0;36mplot\u001b[0;34m(self, ax)\u001b[0m\n\u001b[1;32m   1809\u001b[0m     \u001b[0;32mdef\u001b[0m \u001b[0mplot\u001b[0m\u001b[0;34m(\u001b[0m\u001b[0mself\u001b[0m\u001b[0;34m,\u001b[0m \u001b[0max\u001b[0m\u001b[0;34m)\u001b[0m\u001b[0;34m:\u001b[0m\u001b[0;34m\u001b[0m\u001b[0;34m\u001b[0m\u001b[0m\n\u001b[1;32m   1810\u001b[0m         \u001b[0;34m\"\"\"Make the plot.\"\"\"\u001b[0m\u001b[0;34m\u001b[0m\u001b[0;34m\u001b[0m\u001b[0m\n\u001b[0;32m-> 1811\u001b[0;31m         \u001b[0mself\u001b[0m\u001b[0;34m.\u001b[0m\u001b[0mdraw_points\u001b[0m\u001b[0;34m(\u001b[0m\u001b[0max\u001b[0m\u001b[0;34m)\u001b[0m\u001b[0;34m\u001b[0m\u001b[0;34m\u001b[0m\u001b[0m\n\u001b[0m\u001b[1;32m   1812\u001b[0m         \u001b[0mself\u001b[0m\u001b[0;34m.\u001b[0m\u001b[0mannotate_axes\u001b[0m\u001b[0;34m(\u001b[0m\u001b[0max\u001b[0m\u001b[0;34m)\u001b[0m\u001b[0;34m\u001b[0m\u001b[0;34m\u001b[0m\u001b[0m\n\u001b[1;32m   1813\u001b[0m         \u001b[0;32mif\u001b[0m \u001b[0mself\u001b[0m\u001b[0;34m.\u001b[0m\u001b[0morient\u001b[0m \u001b[0;34m==\u001b[0m \u001b[0;34m\"h\"\u001b[0m\u001b[0;34m:\u001b[0m\u001b[0;34m\u001b[0m\u001b[0;34m\u001b[0m\u001b[0m\n",
      "\u001b[0;32m~/.pyenv/versions/anaconda3-5.0.1/lib/python3.6/site-packages/seaborn/categorical.py\u001b[0m in \u001b[0;36mdraw_points\u001b[0;34m(self, ax)\u001b[0m\n\u001b[1;32m   1805\u001b[0m                            \u001b[0mc\u001b[0m\u001b[0;34m=\u001b[0m\u001b[0mpoint_colors\u001b[0m\u001b[0;34m,\u001b[0m \u001b[0medgecolor\u001b[0m\u001b[0;34m=\u001b[0m\u001b[0mpoint_colors\u001b[0m\u001b[0;34m,\u001b[0m\u001b[0;34m\u001b[0m\u001b[0;34m\u001b[0m\u001b[0m\n\u001b[1;32m   1806\u001b[0m                            \u001b[0mlinewidth\u001b[0m\u001b[0;34m=\u001b[0m\u001b[0mmew\u001b[0m\u001b[0;34m,\u001b[0m \u001b[0mmarker\u001b[0m\u001b[0;34m=\u001b[0m\u001b[0mmarker\u001b[0m\u001b[0;34m,\u001b[0m \u001b[0ms\u001b[0m\u001b[0;34m=\u001b[0m\u001b[0mmarkersize\u001b[0m\u001b[0;34m,\u001b[0m\u001b[0;34m\u001b[0m\u001b[0;34m\u001b[0m\u001b[0m\n\u001b[0;32m-> 1807\u001b[0;31m                            zorder=z)\n\u001b[0m\u001b[1;32m   1808\u001b[0m \u001b[0;34m\u001b[0m\u001b[0m\n\u001b[1;32m   1809\u001b[0m     \u001b[0;32mdef\u001b[0m \u001b[0mplot\u001b[0m\u001b[0;34m(\u001b[0m\u001b[0mself\u001b[0m\u001b[0;34m,\u001b[0m \u001b[0max\u001b[0m\u001b[0;34m)\u001b[0m\u001b[0;34m:\u001b[0m\u001b[0;34m\u001b[0m\u001b[0;34m\u001b[0m\u001b[0m\n",
      "\u001b[0;32m~/.pyenv/versions/anaconda3-5.0.1/lib/python3.6/site-packages/matplotlib/__init__.py\u001b[0m in \u001b[0;36minner\u001b[0;34m(ax, data, *args, **kwargs)\u001b[0m\n\u001b[1;32m   1599\u001b[0m     \u001b[0;32mdef\u001b[0m \u001b[0minner\u001b[0m\u001b[0;34m(\u001b[0m\u001b[0max\u001b[0m\u001b[0;34m,\u001b[0m \u001b[0;34m*\u001b[0m\u001b[0margs\u001b[0m\u001b[0;34m,\u001b[0m \u001b[0mdata\u001b[0m\u001b[0;34m=\u001b[0m\u001b[0;32mNone\u001b[0m\u001b[0;34m,\u001b[0m \u001b[0;34m**\u001b[0m\u001b[0mkwargs\u001b[0m\u001b[0;34m)\u001b[0m\u001b[0;34m:\u001b[0m\u001b[0;34m\u001b[0m\u001b[0;34m\u001b[0m\u001b[0m\n\u001b[1;32m   1600\u001b[0m         \u001b[0;32mif\u001b[0m \u001b[0mdata\u001b[0m \u001b[0;32mis\u001b[0m \u001b[0;32mNone\u001b[0m\u001b[0;34m:\u001b[0m\u001b[0;34m\u001b[0m\u001b[0;34m\u001b[0m\u001b[0m\n\u001b[0;32m-> 1601\u001b[0;31m             \u001b[0;32mreturn\u001b[0m \u001b[0mfunc\u001b[0m\u001b[0;34m(\u001b[0m\u001b[0max\u001b[0m\u001b[0;34m,\u001b[0m \u001b[0;34m*\u001b[0m\u001b[0mmap\u001b[0m\u001b[0;34m(\u001b[0m\u001b[0msanitize_sequence\u001b[0m\u001b[0;34m,\u001b[0m \u001b[0margs\u001b[0m\u001b[0;34m)\u001b[0m\u001b[0;34m,\u001b[0m \u001b[0;34m**\u001b[0m\u001b[0mkwargs\u001b[0m\u001b[0;34m)\u001b[0m\u001b[0;34m\u001b[0m\u001b[0;34m\u001b[0m\u001b[0m\n\u001b[0m\u001b[1;32m   1602\u001b[0m \u001b[0;34m\u001b[0m\u001b[0m\n\u001b[1;32m   1603\u001b[0m         \u001b[0mbound\u001b[0m \u001b[0;34m=\u001b[0m \u001b[0mnew_sig\u001b[0m\u001b[0;34m.\u001b[0m\u001b[0mbind\u001b[0m\u001b[0;34m(\u001b[0m\u001b[0max\u001b[0m\u001b[0;34m,\u001b[0m \u001b[0;34m*\u001b[0m\u001b[0margs\u001b[0m\u001b[0;34m,\u001b[0m \u001b[0;34m**\u001b[0m\u001b[0mkwargs\u001b[0m\u001b[0;34m)\u001b[0m\u001b[0;34m\u001b[0m\u001b[0;34m\u001b[0m\u001b[0m\n",
      "\u001b[0;32m~/.pyenv/versions/anaconda3-5.0.1/lib/python3.6/site-packages/matplotlib/axes/_axes.py\u001b[0m in \u001b[0;36mscatter\u001b[0;34m(self, x, y, s, c, marker, cmap, norm, vmin, vmax, alpha, linewidths, verts, edgecolors, plotnonfinite, **kwargs)\u001b[0m\n\u001b[1;32m   4452\u001b[0m             self._parse_scatter_color_args(\n\u001b[1;32m   4453\u001b[0m                 \u001b[0mc\u001b[0m\u001b[0;34m,\u001b[0m \u001b[0medgecolors\u001b[0m\u001b[0;34m,\u001b[0m \u001b[0mkwargs\u001b[0m\u001b[0;34m,\u001b[0m \u001b[0mxshape\u001b[0m\u001b[0;34m,\u001b[0m \u001b[0myshape\u001b[0m\u001b[0;34m,\u001b[0m\u001b[0;34m\u001b[0m\u001b[0;34m\u001b[0m\u001b[0m\n\u001b[0;32m-> 4454\u001b[0;31m                 get_next_color_func=self._get_patches_for_fill.get_next_color)\n\u001b[0m\u001b[1;32m   4455\u001b[0m \u001b[0;34m\u001b[0m\u001b[0m\n\u001b[1;32m   4456\u001b[0m         \u001b[0;32mif\u001b[0m \u001b[0mplotnonfinite\u001b[0m \u001b[0;32mand\u001b[0m \u001b[0mcolors\u001b[0m \u001b[0;32mis\u001b[0m \u001b[0;32mNone\u001b[0m\u001b[0;34m:\u001b[0m\u001b[0;34m\u001b[0m\u001b[0;34m\u001b[0m\u001b[0m\n",
      "\u001b[0;32m~/.pyenv/versions/anaconda3-5.0.1/lib/python3.6/site-packages/matplotlib/axes/_axes.py\u001b[0m in \u001b[0;36m_parse_scatter_color_args\u001b[0;34m(c, edgecolors, kwargs, xshape, yshape, get_next_color_func)\u001b[0m\n\u001b[1;32m   4296\u001b[0m                         \u001b[0;34m\"acceptable for use with 'x' with size {xs}, \"\u001b[0m\u001b[0;34m\u001b[0m\u001b[0;34m\u001b[0m\u001b[0m\n\u001b[1;32m   4297\u001b[0m                         \u001b[0;34m\"'y' with size {ys}.\"\u001b[0m\u001b[0;34m\u001b[0m\u001b[0;34m\u001b[0m\u001b[0m\n\u001b[0;32m-> 4298\u001b[0;31m                             \u001b[0;34m.\u001b[0m\u001b[0mformat\u001b[0m\u001b[0;34m(\u001b[0m\u001b[0mnc\u001b[0m\u001b[0;34m=\u001b[0m\u001b[0mn_elem\u001b[0m\u001b[0;34m,\u001b[0m \u001b[0mxs\u001b[0m\u001b[0;34m=\u001b[0m\u001b[0mxsize\u001b[0m\u001b[0;34m,\u001b[0m \u001b[0mys\u001b[0m\u001b[0;34m=\u001b[0m\u001b[0mysize\u001b[0m\u001b[0;34m)\u001b[0m\u001b[0;34m\u001b[0m\u001b[0;34m\u001b[0m\u001b[0m\n\u001b[0m\u001b[1;32m   4299\u001b[0m                     )\n\u001b[1;32m   4300\u001b[0m                 \u001b[0;32melse\u001b[0m\u001b[0;34m:\u001b[0m\u001b[0;34m\u001b[0m\u001b[0;34m\u001b[0m\u001b[0m\n",
      "\u001b[0;31mValueError\u001b[0m: 'c' argument has 7 elements, which is not acceptable for use with 'x' with size 0, 'y' with size 0."
     ]
    },
    {
     "data": {
      "image/png": "[encoded data removed]",
      "text/plain": [
       "<Figure size 1080x720 with 6 Axes>"
      ]
     },
     "metadata": {},
     "output_type": "display_data"
    }
   ],
   "source": [
    "import seaborn as sns\n",
    "sns.reset_orig()\n",
    "\n",
    "sns.set(font_scale=1.5)\n",
    "sns.set_style('whitegrid')\n",
    "#plt.figure(figsize=(12, 8))\n",
    "#sns.factorplot(x='r', y='AUC', col='L1', col_wrap=3, hue='L2', \n",
    "#               markers=['o', 'x', '^', 's', 'D', 'v'], \n",
    "#               linestyles=['-', '--', '-.', '-', '--', '-.'], data=df_all_concat)\n",
    "sns.catplot(x='r', y='AUC', col='L1', col_wrap=3, hue='L2', \n",
    "            markers=['o', 'x', '^', 's', 'D', 'v'], \n",
    "            linestyles=['-', '--', '-.', '-', '--', '-.'],\n",
    "            kind='point',\n",
    "            data=df_all_concat)\n",
    "               #size=4, aspect=1)\n",
    "plt.savefig('../output/experiment1_final/dependency_auc_on_r.eps', \n",
    "            bbox_inches='tight', dpi=200)\n",
    "plt.savefig('../output/experiment1_final/dependency_auc_on_r.png', \n",
    "            bbox_inches='tight', dpi=200)"
   ]
  },
  {
   "cell_type": "code",
   "execution_count": null,
   "metadata": {},
   "outputs": [],
   "source": []
  },
  {
   "cell_type": "markdown",
   "metadata": {},
   "source": [
    "## dependency on delta"
   ]
  },
  {
   "cell_type": "code",
   "execution_count": 17,
   "metadata": {},
   "outputs": [
    {
     "name": "stdout",
     "output_type": "stream",
     "text": [
      "java -cp ./ICDMFiles_SEED_py4j/ SEEDChangeDetector 0.05 32 0.0075 0.6 75\n"
     ]
    },
    {
     "name": "stderr",
     "output_type": "stream",
     "text": [
      "  0%|          | 0/20 [00:00<?, ?it/s]\n"
     ]
    },
    {
     "ename": "Py4JNetworkError",
     "evalue": "An error occurred while trying to connect to the Java server (127.0.0.1:25333)",
     "output_type": "error",
     "traceback": [
      "\u001b[0;31m---------------------------------------------------------------------------\u001b[0m",
      "\u001b[0;31mIndexError\u001b[0m                                Traceback (most recent call last)",
      "\u001b[0;32m~.pyenv/versions/anaconda3-5.2.0/lib/python3.6/site-packages/py4j/java_gateway.py\u001b[0m in \u001b[0;36m_get_connection\u001b[0;34m(self)\u001b[0m\n\u001b[1;32m    957\u001b[0m         \u001b[0;32mtry\u001b[0m\u001b[0;34m:\u001b[0m\u001b[0;34m\u001b[0m\u001b[0m\n\u001b[0;32m--> 958\u001b[0;31m             \u001b[0mconnection\u001b[0m \u001b[0;34m=\u001b[0m \u001b[0mself\u001b[0m\u001b[0;34m.\u001b[0m\u001b[0mdeque\u001b[0m\u001b[0;34m.\u001b[0m\u001b[0mpop\u001b[0m\u001b[0;34m(\u001b[0m\u001b[0;34m)\u001b[0m\u001b[0;34m\u001b[0m\u001b[0m\n\u001b[0m\u001b[1;32m    959\u001b[0m         \u001b[0;32mexcept\u001b[0m \u001b[0mIndexError\u001b[0m\u001b[0;34m:\u001b[0m\u001b[0;34m\u001b[0m\u001b[0m\n",
      "\u001b[0;31mIndexError\u001b[0m: pop from an empty deque",
      "\nDuring handling of the above exception, another exception occurred:\n",
      "\u001b[0;31mConnectionRefusedError\u001b[0m                    Traceback (most recent call last)",
      "\u001b[0;32m~.pyenv/versions/anaconda3-5.2.0/lib/python3.6/site-packages/py4j/java_gateway.py\u001b[0m in \u001b[0;36mstart\u001b[0;34m(self)\u001b[0m\n\u001b[1;32m   1095\u001b[0m         \u001b[0;32mtry\u001b[0m\u001b[0;34m:\u001b[0m\u001b[0;34m\u001b[0m\u001b[0m\n\u001b[0;32m-> 1096\u001b[0;31m             \u001b[0mself\u001b[0m\u001b[0;34m.\u001b[0m\u001b[0msocket\u001b[0m\u001b[0;34m.\u001b[0m\u001b[0mconnect\u001b[0m\u001b[0;34m(\u001b[0m\u001b[0;34m(\u001b[0m\u001b[0mself\u001b[0m\u001b[0;34m.\u001b[0m\u001b[0maddress\u001b[0m\u001b[0;34m,\u001b[0m \u001b[0mself\u001b[0m\u001b[0;34m.\u001b[0m\u001b[0mport\u001b[0m\u001b[0;34m)\u001b[0m\u001b[0;34m)\u001b[0m\u001b[0;34m\u001b[0m\u001b[0m\n\u001b[0m\u001b[1;32m   1097\u001b[0m             \u001b[0mself\u001b[0m\u001b[0;34m.\u001b[0m\u001b[0mstream\u001b[0m \u001b[0;34m=\u001b[0m \u001b[0mself\u001b[0m\u001b[0;34m.\u001b[0m\u001b[0msocket\u001b[0m\u001b[0;34m.\u001b[0m\u001b[0mmakefile\u001b[0m\u001b[0;34m(\u001b[0m\u001b[0;34m\"rb\"\u001b[0m\u001b[0;34m)\u001b[0m\u001b[0;34m\u001b[0m\u001b[0m\n",
      "\u001b[0;31mConnectionRefusedError\u001b[0m: [Errno 111] Connection refused",
      "\nDuring handling of the above exception, another exception occurred:\n",
      "\u001b[0;31mPy4JNetworkError\u001b[0m                          Traceback (most recent call last)",
      "\u001b[0;32m<ipython-input-17-0fb6468c5848>\u001b[0m in \u001b[0;36m<module>\u001b[0;34m()\u001b[0m\n\u001b[1;32m     12\u001b[0m                 \u001b[0mn_trial\u001b[0m\u001b[0;34m=\u001b[0m\u001b[0;36m20\u001b[0m\u001b[0;34m,\u001b[0m\u001b[0;34m\u001b[0m\u001b[0m\n\u001b[1;32m     13\u001b[0m                 \u001b[0mlimit\u001b[0m\u001b[0;34m=\u001b[0m\u001b[0;36m5\u001b[0m\u001b[0;34m,\u001b[0m\u001b[0;34m\u001b[0m\u001b[0m\n\u001b[0;32m---> 14\u001b[0;31m                 \u001b[0moutput_seed_perf\u001b[0m\u001b[0;34m=\u001b[0m\u001b[0;32mTrue\u001b[0m\u001b[0;34m\u001b[0m\u001b[0m\n\u001b[0m\u001b[1;32m     15\u001b[0m             )\n\u001b[1;32m     16\u001b[0m \u001b[0;34m\u001b[0m\u001b[0m\n",
      "\u001b[0;32m<ipython-input-15-9f5e3fdd69ce>\u001b[0m in \u001b[0;36mexperiment1_benefit_false_alarm_rate\u001b[0;34m(length1, length2, r, delta, blocksize, epsilon_prime, alpha, decaymode, compression_term, B, R, mu1, mu2, n_repeat, n_trial, limit, output_seed_perf)\u001b[0m\n\u001b[1;32m     40\u001b[0m         \u001b[0;31m# change detection with SEED\u001b[0m\u001b[0;34m\u001b[0m\u001b[0;34m\u001b[0m\u001b[0m\n\u001b[1;32m     41\u001b[0m         change_points = detector_app.expr_volshift(\n\u001b[0;32m---> 42\u001b[0;31m             mu1, mu2, length1, length2, n_repeat, seed)\n\u001b[0m\u001b[1;32m     43\u001b[0m         \u001b[0mchange_points_npa\u001b[0m \u001b[0;34m=\u001b[0m \u001b[0mnp\u001b[0m\u001b[0;34m.\u001b[0m\u001b[0marray\u001b[0m\u001b[0;34m(\u001b[0m\u001b[0mlist\u001b[0m\u001b[0;34m(\u001b[0m\u001b[0mchange_points\u001b[0m\u001b[0;34m)\u001b[0m\u001b[0;34m)\u001b[0m\u001b[0;34m\u001b[0m\u001b[0m\n\u001b[1;32m     44\u001b[0m         \u001b[0mchange_points_npa_diff\u001b[0m \u001b[0;34m=\u001b[0m \u001b[0mnp\u001b[0m\u001b[0;34m.\u001b[0m\u001b[0mdiff\u001b[0m\u001b[0;34m(\u001b[0m\u001b[0mchange_points_npa\u001b[0m\u001b[0;34m)\u001b[0m\u001b[0;34m\u001b[0m\u001b[0m\n",
      "\u001b[0;32m~.pyenv/versions/anaconda3-5.2.0/lib/python3.6/site-packages/py4j/java_gateway.py\u001b[0m in \u001b[0;36m__call__\u001b[0;34m(self, *args)\u001b[0m\n\u001b[1;32m   1282\u001b[0m             \u001b[0mproto\u001b[0m\u001b[0;34m.\u001b[0m\u001b[0mEND_COMMAND_PART\u001b[0m\u001b[0;34m\u001b[0m\u001b[0m\n\u001b[1;32m   1283\u001b[0m \u001b[0;34m\u001b[0m\u001b[0m\n\u001b[0;32m-> 1284\u001b[0;31m         \u001b[0manswer\u001b[0m \u001b[0;34m=\u001b[0m \u001b[0mself\u001b[0m\u001b[0;34m.\u001b[0m\u001b[0mgateway_client\u001b[0m\u001b[0;34m.\u001b[0m\u001b[0msend_command\u001b[0m\u001b[0;34m(\u001b[0m\u001b[0mcommand\u001b[0m\u001b[0;34m)\u001b[0m\u001b[0;34m\u001b[0m\u001b[0m\n\u001b[0m\u001b[1;32m   1285\u001b[0m         return_value = get_return_value(\n\u001b[1;32m   1286\u001b[0m             answer, self.gateway_client, self.target_id, self.name)\n",
      "\u001b[0;32m~.pyenv/versions/anaconda3-5.2.0/lib/python3.6/site-packages/py4j/java_gateway.py\u001b[0m in \u001b[0;36msend_command\u001b[0;34m(self, command, retry, binary)\u001b[0m\n\u001b[1;32m   1010\u001b[0m          \u001b[0;32mif\u001b[0m\u001b[0;31m \u001b[0m\u001b[0;31m`\u001b[0m\u001b[0mbinary\u001b[0m\u001b[0;31m`\u001b[0m \u001b[0;32mis\u001b[0m\u001b[0;31m \u001b[0m\u001b[0;31m`\u001b[0m\u001b[0;32mTrue\u001b[0m\u001b[0;31m`\u001b[0m\u001b[0;34m.\u001b[0m\u001b[0;34m\u001b[0m\u001b[0m\n\u001b[1;32m   1011\u001b[0m         \"\"\"\n\u001b[0;32m-> 1012\u001b[0;31m         \u001b[0mconnection\u001b[0m \u001b[0;34m=\u001b[0m \u001b[0mself\u001b[0m\u001b[0;34m.\u001b[0m\u001b[0m_get_connection\u001b[0m\u001b[0;34m(\u001b[0m\u001b[0;34m)\u001b[0m\u001b[0;34m\u001b[0m\u001b[0m\n\u001b[0m\u001b[1;32m   1013\u001b[0m         \u001b[0;32mtry\u001b[0m\u001b[0;34m:\u001b[0m\u001b[0;34m\u001b[0m\u001b[0m\n\u001b[1;32m   1014\u001b[0m             \u001b[0mresponse\u001b[0m \u001b[0;34m=\u001b[0m \u001b[0mconnection\u001b[0m\u001b[0;34m.\u001b[0m\u001b[0msend_command\u001b[0m\u001b[0;34m(\u001b[0m\u001b[0mcommand\u001b[0m\u001b[0;34m)\u001b[0m\u001b[0;34m\u001b[0m\u001b[0m\n",
      "\u001b[0;32m~.pyenv/versions/anaconda3-5.2.0/lib/python3.6/site-packages/py4j/java_gateway.py\u001b[0m in \u001b[0;36m_get_connection\u001b[0;34m(self)\u001b[0m\n\u001b[1;32m    958\u001b[0m             \u001b[0mconnection\u001b[0m \u001b[0;34m=\u001b[0m \u001b[0mself\u001b[0m\u001b[0;34m.\u001b[0m\u001b[0mdeque\u001b[0m\u001b[0;34m.\u001b[0m\u001b[0mpop\u001b[0m\u001b[0;34m(\u001b[0m\u001b[0;34m)\u001b[0m\u001b[0;34m\u001b[0m\u001b[0m\n\u001b[1;32m    959\u001b[0m         \u001b[0;32mexcept\u001b[0m \u001b[0mIndexError\u001b[0m\u001b[0;34m:\u001b[0m\u001b[0;34m\u001b[0m\u001b[0m\n\u001b[0;32m--> 960\u001b[0;31m             \u001b[0mconnection\u001b[0m \u001b[0;34m=\u001b[0m \u001b[0mself\u001b[0m\u001b[0;34m.\u001b[0m\u001b[0m_create_connection\u001b[0m\u001b[0;34m(\u001b[0m\u001b[0;34m)\u001b[0m\u001b[0;34m\u001b[0m\u001b[0m\n\u001b[0m\u001b[1;32m    961\u001b[0m         \u001b[0;32mreturn\u001b[0m \u001b[0mconnection\u001b[0m\u001b[0;34m\u001b[0m\u001b[0m\n\u001b[1;32m    962\u001b[0m \u001b[0;34m\u001b[0m\u001b[0m\n",
      "\u001b[0;32m~.pyenv/versions/anaconda3-5.2.0/lib/python3.6/site-packages/py4j/java_gateway.py\u001b[0m in \u001b[0;36m_create_connection\u001b[0;34m(self)\u001b[0m\n\u001b[1;32m    964\u001b[0m         connection = GatewayConnection(\n\u001b[1;32m    965\u001b[0m             self.gateway_parameters, self.gateway_property)\n\u001b[0;32m--> 966\u001b[0;31m         \u001b[0mconnection\u001b[0m\u001b[0;34m.\u001b[0m\u001b[0mstart\u001b[0m\u001b[0;34m(\u001b[0m\u001b[0;34m)\u001b[0m\u001b[0;34m\u001b[0m\u001b[0m\n\u001b[0m\u001b[1;32m    967\u001b[0m         \u001b[0;32mreturn\u001b[0m \u001b[0mconnection\u001b[0m\u001b[0;34m\u001b[0m\u001b[0m\n\u001b[1;32m    968\u001b[0m \u001b[0;34m\u001b[0m\u001b[0m\n",
      "\u001b[0;32m~.pyenv/versions/anaconda3-5.2.0/lib/python3.6/site-packages/py4j/java_gateway.py\u001b[0m in \u001b[0;36mstart\u001b[0;34m(self)\u001b[0m\n\u001b[1;32m   1106\u001b[0m                 \u001b[0;34m\"server ({0}:{1})\"\u001b[0m\u001b[0;34m.\u001b[0m\u001b[0mformat\u001b[0m\u001b[0;34m(\u001b[0m\u001b[0mself\u001b[0m\u001b[0;34m.\u001b[0m\u001b[0maddress\u001b[0m\u001b[0;34m,\u001b[0m \u001b[0mself\u001b[0m\u001b[0;34m.\u001b[0m\u001b[0mport\u001b[0m\u001b[0;34m)\u001b[0m\u001b[0;34m\u001b[0m\u001b[0m\n\u001b[1;32m   1107\u001b[0m             \u001b[0mlogger\u001b[0m\u001b[0;34m.\u001b[0m\u001b[0mexception\u001b[0m\u001b[0;34m(\u001b[0m\u001b[0mmsg\u001b[0m\u001b[0;34m)\u001b[0m\u001b[0;34m\u001b[0m\u001b[0m\n\u001b[0;32m-> 1108\u001b[0;31m             \u001b[0;32mraise\u001b[0m \u001b[0mPy4JNetworkError\u001b[0m\u001b[0;34m(\u001b[0m\u001b[0mmsg\u001b[0m\u001b[0;34m,\u001b[0m \u001b[0me\u001b[0m\u001b[0;34m)\u001b[0m\u001b[0;34m\u001b[0m\u001b[0m\n\u001b[0m\u001b[1;32m   1109\u001b[0m \u001b[0;34m\u001b[0m\u001b[0m\n\u001b[1;32m   1110\u001b[0m     \u001b[0;32mdef\u001b[0m \u001b[0m_authenticate_connection\u001b[0m\u001b[0;34m(\u001b[0m\u001b[0mself\u001b[0m\u001b[0;34m)\u001b[0m\u001b[0;34m:\u001b[0m\u001b[0;34m\u001b[0m\u001b[0m\n",
      "\u001b[0;31mPy4JNetworkError\u001b[0m: An error occurred while trying to connect to the Java server (127.0.0.1:25333)"
     ]
    }
   ],
   "source": [
    "# Dependency on epsilon_prime\n",
    "df_all = []\n",
    "for (length1, length2) in permutations([500, 1000, 5000, 10000, 50000, 100000], 2):\n",
    "    for delta in [0.05, 0.1, 0.3]:\n",
    "        benefits_vd, fars_vd, benefits_md, fars_md, delays_seed = experiment1_benefit_false_alarm_rate(\n",
    "                length1, length2,\n",
    "                r=0.2, \n",
    "                delta=delta, blocksize=32, epsilon_prime=0.0075,\n",
    "                alpha=0.6, decaymode=1, compression_term=75,\n",
    "                mu1=0.2, mu2=0.8,\n",
    "                n_repeat=50, \n",
    "                n_trial=20, \n",
    "                limit=5,\n",
    "                output_seed_perf=True\n",
    "            )\n",
    "    \n",
    "        # AUC (md)\n",
    "        auc_md = []\n",
    "        for far, benefit in zip(fars_md, benefits_md):\n",
    "            auc_md.append(calc_auc(far, benefit))\n",
    "        # AUC (vd)\n",
    "        auc_vd = []\n",
    "        for far, benefit in zip(fars_vd, benefits_vd):\n",
    "            auc_vd.append(calc_auc(far, benefit))\n",
    "\n",
    "        df = pd.DataFrame({'L1': length1, \n",
    "                      'L2': length2, \n",
    "                      'delta': delta,  \n",
    "                      'AUC_MD': auc_md,\n",
    "                      'AUC_VD': auc_vd,\n",
    "                      'DELAY_SEED': delays_seed})\n",
    "        df_all.append(df)"
   ]
  },
  {
   "cell_type": "code",
   "execution_count": 28,
   "metadata": {},
   "outputs": [],
   "source": [
    "df_all_epsilnPrime_concat = pd.concat(df_all)"
   ]
  },
  {
   "cell_type": "code",
   "execution_count": 29,
   "metadata": {},
   "outputs": [],
   "source": [
    "df_all_epsilnPrime_concat.to_csv('../output/experiment2_final/dependency_on_seed_epsilonPrime.csv', \n",
    "                           index=None)"
   ]
  },
  {
   "cell_type": "code",
   "execution_count": 17,
   "metadata": {},
   "outputs": [],
   "source": [
    "df_all_epsilnPrime_concat = pd.read_csv(\n",
    "    '../output/experiment2_final/dependency_on_seed_epsilonPrime.csv')"
   ]
  },
  {
   "cell_type": "code",
   "execution_count": 18,
   "metadata": {},
   "outputs": [
    {
     "data": {
      "text/html": [
       "<div>\n",
       "<style scoped>\n",
       "    .dataframe tbody tr th:only-of-type {\n",
       "        vertical-align: middle;\n",
       "    }\n",
       "\n",
       "    .dataframe tbody tr th {\n",
       "        vertical-align: top;\n",
       "    }\n",
       "\n",
       "    .dataframe thead th {\n",
       "        text-align: right;\n",
       "    }\n",
       "</style>\n",
       "<table border=\"1\" class=\"dataframe\">\n",
       "  <thead>\n",
       "    <tr style=\"text-align: right;\">\n",
       "      <th></th>\n",
       "      <th>L1</th>\n",
       "      <th>L2</th>\n",
       "      <th>epsilon_prime</th>\n",
       "      <th>AUC</th>\n",
       "    </tr>\n",
       "  </thead>\n",
       "  <tbody>\n",
       "    <tr>\n",
       "      <th>0</th>\n",
       "      <td>500</td>\n",
       "      <td>1000</td>\n",
       "      <td>0.0025</td>\n",
       "      <td>0.966368</td>\n",
       "    </tr>\n",
       "    <tr>\n",
       "      <th>1</th>\n",
       "      <td>500</td>\n",
       "      <td>1000</td>\n",
       "      <td>0.0025</td>\n",
       "      <td>0.795400</td>\n",
       "    </tr>\n",
       "    <tr>\n",
       "      <th>2</th>\n",
       "      <td>500</td>\n",
       "      <td>1000</td>\n",
       "      <td>0.0025</td>\n",
       "      <td>0.968055</td>\n",
       "    </tr>\n",
       "  </tbody>\n",
       "</table>\n",
       "</div>"
      ],
      "text/plain": [
       "    L1    L2  epsilon_prime       AUC\n",
       "0  500  1000         0.0025  0.966368\n",
       "1  500  1000         0.0025  0.795400\n",
       "2  500  1000         0.0025  0.968055"
      ]
     },
     "execution_count": 18,
     "metadata": {},
     "output_type": "execute_result"
    }
   ],
   "source": [
    "df_all_epsilnPrime_concat.head(3)"
   ]
  },
  {
   "cell_type": "code",
   "execution_count": 31,
   "metadata": {},
   "outputs": [],
   "source": [
    "# import seaborn as sns\n",
    "#sns.reset_orig()\n",
    "\n",
    "sns.set(font_scale=1.5)\n",
    "sns.set_style('whitegrid')\n",
    "#plt.figure(figsize=(8, 4))\n",
    "#plt.figure(figsize=(16, 8))\n",
    "#sns.factorplot(x='epsilon_prime', y='AUC', col='L1', col_wrap=3, hue='L2', \n",
    "#               markers=['o', 'x', '^', 's', 'D', 'v'], \n",
    "#               linestyles=['-', '--', '-.', '-', '--', '-.'], \n",
    "#              data=df_all_epsilnPrime_concat)\n",
    "g = sns.catplot(x='epsilon_prime', y='AUC', col='L1', col_wrap=3, hue='L2', \n",
    "               markers=['o', 'x', '^', 's', 'D', 'v'], \n",
    "               linestyles=['-', '--', '-.', '-', '--', '-.'],\n",
    "               kind='point',\n",
    "               data=df_all_epsilnPrime_concat,\n",
    "               size=4, aspect=1)\n",
    "#plt.show()\n",
    "g.fig.savefig('../output/experiment1_final/dependency_auc_on_epsilon_prime.eps', \n",
    "          bbox_inches='tight', dpi=200)\n",
    "plt.close()"
   ]
  },
  {
   "cell_type": "markdown",
   "metadata": {},
   "source": [
    "# dependency on change detection parameters"
   ]
  },
  {
   "cell_type": "markdown",
   "metadata": {},
   "source": [
    "## dependency on epsilon_prime"
   ]
  },
  {
   "cell_type": "code",
   "execution_count": 32,
   "metadata": {},
   "outputs": [
    {
     "name": "stdout",
     "output_type": "stream",
     "text": [
      "java -cp ./ICDMFiles_SEED_py4j/ SEEDChangeDetector 0.05 32 0.0025 0.6 75\n"
     ]
    },
    {
     "name": "stderr",
     "output_type": "stream",
     "text": [
      "  0%|          | 0/20 [00:00<?, ?it/s]/Users/sfukushima/.pyenv/versions/anaconda3-5.0.1/lib/python3.6/site-packages/ipykernel_launcher.py:73: RuntimeWarning: invalid value encountered in greater\n",
      "/Users/sfukushima/.pyenv/versions/anaconda3-5.0.1/lib/python3.6/site-packages/ipykernel_launcher.py:73: RuntimeWarning: invalid value encountered in less\n",
      "/Users/sfukushima/.pyenv/versions/anaconda3-5.0.1/lib/python3.6/site-packages/ipykernel_launcher.py:78: RuntimeWarning: invalid value encountered in greater\n",
      "/Users/sfukushima/.pyenv/versions/anaconda3-5.0.1/lib/python3.6/site-packages/ipykernel_launcher.py:78: RuntimeWarning: invalid value encountered in less\n",
      "/Users/sfukushima/.pyenv/versions/anaconda3-5.0.1/lib/python3.6/site-packages/ipykernel_launcher.py:108: RuntimeWarning: invalid value encountered in greater\n",
      "/Users/sfukushima/.pyenv/versions/anaconda3-5.0.1/lib/python3.6/site-packages/ipykernel_launcher.py:108: RuntimeWarning: invalid value encountered in less\n",
      "/Users/sfukushima/.pyenv/versions/anaconda3-5.0.1/lib/python3.6/site-packages/ipykernel_launcher.py:116: RuntimeWarning: invalid value encountered in greater\n",
      "/Users/sfukushima/.pyenv/versions/anaconda3-5.0.1/lib/python3.6/site-packages/ipykernel_launcher.py:116: RuntimeWarning: invalid value encountered in less\n",
      "100%|██████████| 20/20 [00:01<00:00, 17.05it/s]\n"
     ]
    },
    {
     "name": "stdout",
     "output_type": "stream",
     "text": [
      "java -cp ./ICDMFiles_SEED_py4j/ SEEDChangeDetector 0.05 32 0.005 0.6 75\n"
     ]
    },
    {
     "name": "stderr",
     "output_type": "stream",
     "text": [
      "100%|██████████| 20/20 [00:01<00:00, 16.48it/s]\n"
     ]
    },
    {
     "name": "stdout",
     "output_type": "stream",
     "text": [
      "java -cp ./ICDMFiles_SEED_py4j/ SEEDChangeDetector 0.05 32 0.0075 0.6 75\n"
     ]
    },
    {
     "name": "stderr",
     "output_type": "stream",
     "text": [
      "100%|██████████| 20/20 [00:01<00:00, 16.16it/s]\n"
     ]
    },
    {
     "name": "stdout",
     "output_type": "stream",
     "text": [
      "java -cp ./ICDMFiles_SEED_py4j/ SEEDChangeDetector 0.05 32 0.0025 0.6 75\n"
     ]
    },
    {
     "name": "stderr",
     "output_type": "stream",
     "text": [
      "100%|██████████| 20/20 [00:02<00:00,  7.01it/s]\n"
     ]
    },
    {
     "name": "stdout",
     "output_type": "stream",
     "text": [
      "java -cp ./ICDMFiles_SEED_py4j/ SEEDChangeDetector 0.05 32 0.005 0.6 75\n"
     ]
    },
    {
     "name": "stderr",
     "output_type": "stream",
     "text": [
      "100%|██████████| 20/20 [00:02<00:00,  7.34it/s]\n"
     ]
    },
    {
     "name": "stdout",
     "output_type": "stream",
     "text": [
      "java -cp ./ICDMFiles_SEED_py4j/ SEEDChangeDetector 0.05 32 0.0075 0.6 75\n"
     ]
    },
    {
     "name": "stderr",
     "output_type": "stream",
     "text": [
      "100%|██████████| 20/20 [00:02<00:00,  7.70it/s]\n"
     ]
    },
    {
     "name": "stdout",
     "output_type": "stream",
     "text": [
      "java -cp ./ICDMFiles_SEED_py4j/ SEEDChangeDetector 0.05 32 0.0025 0.6 75\n"
     ]
    },
    {
     "name": "stderr",
     "output_type": "stream",
     "text": [
      "100%|██████████| 20/20 [00:04<00:00,  4.84it/s]\n"
     ]
    },
    {
     "name": "stdout",
     "output_type": "stream",
     "text": [
      "java -cp ./ICDMFiles_SEED_py4j/ SEEDChangeDetector 0.05 32 0.005 0.6 75\n"
     ]
    },
    {
     "name": "stderr",
     "output_type": "stream",
     "text": [
      "100%|██████████| 20/20 [00:04<00:00,  4.23it/s]\n"
     ]
    },
    {
     "name": "stdout",
     "output_type": "stream",
     "text": [
      "java -cp ./ICDMFiles_SEED_py4j/ SEEDChangeDetector 0.05 32 0.0075 0.6 75\n"
     ]
    },
    {
     "name": "stderr",
     "output_type": "stream",
     "text": [
      "100%|██████████| 20/20 [00:03<00:00,  5.10it/s]\n"
     ]
    },
    {
     "name": "stdout",
     "output_type": "stream",
     "text": [
      "java -cp ./ICDMFiles_SEED_py4j/ SEEDChangeDetector 0.05 32 0.0025 0.6 75\n"
     ]
    },
    {
     "name": "stderr",
     "output_type": "stream",
     "text": [
      "100%|██████████| 20/20 [02:21<00:00,  1.42s/it]\n"
     ]
    },
    {
     "name": "stdout",
     "output_type": "stream",
     "text": [
      "java -cp ./ICDMFiles_SEED_py4j/ SEEDChangeDetector 0.05 32 0.005 0.6 75\n"
     ]
    },
    {
     "name": "stderr",
     "output_type": "stream",
     "text": [
      "100%|██████████| 20/20 [00:18<00:00,  1.02it/s]\n"
     ]
    },
    {
     "name": "stdout",
     "output_type": "stream",
     "text": [
      "java -cp ./ICDMFiles_SEED_py4j/ SEEDChangeDetector 0.05 32 0.0075 0.6 75\n"
     ]
    },
    {
     "name": "stderr",
     "output_type": "stream",
     "text": [
      "100%|██████████| 20/20 [02:38<00:00, 11.07s/it]\n"
     ]
    },
    {
     "name": "stdout",
     "output_type": "stream",
     "text": [
      "java -cp ./ICDMFiles_SEED_py4j/ SEEDChangeDetector 0.05 32 0.0025 0.6 75\n"
     ]
    },
    {
     "name": "stderr",
     "output_type": "stream",
     "text": [
      "100%|██████████| 20/20 [00:37<00:00,  1.79s/it]\n"
     ]
    },
    {
     "name": "stdout",
     "output_type": "stream",
     "text": [
      "java -cp ./ICDMFiles_SEED_py4j/ SEEDChangeDetector 0.05 32 0.005 0.6 75\n"
     ]
    },
    {
     "name": "stderr",
     "output_type": "stream",
     "text": [
      "100%|██████████| 20/20 [00:34<00:00,  1.66s/it]\n"
     ]
    },
    {
     "name": "stdout",
     "output_type": "stream",
     "text": [
      "java -cp ./ICDMFiles_SEED_py4j/ SEEDChangeDetector 0.05 32 0.0075 0.6 75\n"
     ]
    },
    {
     "name": "stderr",
     "output_type": "stream",
     "text": [
      "100%|██████████| 20/20 [00:39<00:00,  1.95s/it]\n"
     ]
    },
    {
     "name": "stdout",
     "output_type": "stream",
     "text": [
      "java -cp ./ICDMFiles_SEED_py4j/ SEEDChangeDetector 0.05 32 0.0025 0.6 75\n"
     ]
    },
    {
     "name": "stderr",
     "output_type": "stream",
     "text": [
      "100%|██████████| 20/20 [00:01<00:00, 15.63it/s]\n"
     ]
    },
    {
     "name": "stdout",
     "output_type": "stream",
     "text": [
      "java -cp ./ICDMFiles_SEED_py4j/ SEEDChangeDetector 0.05 32 0.005 0.6 75\n"
     ]
    },
    {
     "name": "stderr",
     "output_type": "stream",
     "text": [
      "100%|██████████| 20/20 [00:01<00:00, 16.61it/s]\n"
     ]
    },
    {
     "name": "stdout",
     "output_type": "stream",
     "text": [
      "java -cp ./ICDMFiles_SEED_py4j/ SEEDChangeDetector 0.05 32 0.0075 0.6 75\n"
     ]
    },
    {
     "name": "stderr",
     "output_type": "stream",
     "text": [
      "100%|██████████| 20/20 [00:01<00:00, 16.82it/s]\n"
     ]
    },
    {
     "name": "stdout",
     "output_type": "stream",
     "text": [
      "java -cp ./ICDMFiles_SEED_py4j/ SEEDChangeDetector 0.05 32 0.0025 0.6 75\n"
     ]
    },
    {
     "name": "stderr",
     "output_type": "stream",
     "text": [
      "100%|██████████| 20/20 [00:02<00:00,  7.48it/s]\n"
     ]
    },
    {
     "name": "stdout",
     "output_type": "stream",
     "text": [
      "java -cp ./ICDMFiles_SEED_py4j/ SEEDChangeDetector 0.05 32 0.005 0.6 75\n"
     ]
    },
    {
     "name": "stderr",
     "output_type": "stream",
     "text": [
      "100%|██████████| 20/20 [00:02<00:00,  7.55it/s]\n"
     ]
    },
    {
     "name": "stdout",
     "output_type": "stream",
     "text": [
      "java -cp ./ICDMFiles_SEED_py4j/ SEEDChangeDetector 0.05 32 0.0075 0.6 75\n"
     ]
    },
    {
     "name": "stderr",
     "output_type": "stream",
     "text": [
      "100%|██████████| 20/20 [00:02<00:00,  6.74it/s]\n"
     ]
    },
    {
     "name": "stdout",
     "output_type": "stream",
     "text": [
      "java -cp ./ICDMFiles_SEED_py4j/ SEEDChangeDetector 0.05 32 0.0025 0.6 75\n"
     ]
    },
    {
     "name": "stderr",
     "output_type": "stream",
     "text": [
      "100%|██████████| 20/20 [00:04<00:00,  3.92it/s]\n"
     ]
    },
    {
     "name": "stdout",
     "output_type": "stream",
     "text": [
      "java -cp ./ICDMFiles_SEED_py4j/ SEEDChangeDetector 0.05 32 0.005 0.6 75\n"
     ]
    },
    {
     "name": "stderr",
     "output_type": "stream",
     "text": [
      "100%|██████████| 20/20 [00:04<00:00,  3.73it/s]\n"
     ]
    },
    {
     "name": "stdout",
     "output_type": "stream",
     "text": [
      "java -cp ./ICDMFiles_SEED_py4j/ SEEDChangeDetector 0.05 32 0.0075 0.6 75\n"
     ]
    },
    {
     "name": "stderr",
     "output_type": "stream",
     "text": [
      "100%|██████████| 20/20 [00:04<00:00,  4.21it/s]\n"
     ]
    },
    {
     "name": "stdout",
     "output_type": "stream",
     "text": [
      "java -cp ./ICDMFiles_SEED_py4j/ SEEDChangeDetector 0.05 32 0.0025 0.6 75\n"
     ]
    },
    {
     "name": "stderr",
     "output_type": "stream",
     "text": [
      "100%|██████████| 20/20 [00:18<00:00,  1.06it/s]\n"
     ]
    },
    {
     "name": "stdout",
     "output_type": "stream",
     "text": [
      "java -cp ./ICDMFiles_SEED_py4j/ SEEDChangeDetector 0.05 32 0.005 0.6 75\n"
     ]
    },
    {
     "name": "stderr",
     "output_type": "stream",
     "text": [
      "100%|██████████| 20/20 [00:19<00:00,  1.02it/s]\n"
     ]
    },
    {
     "name": "stdout",
     "output_type": "stream",
     "text": [
      "java -cp ./ICDMFiles_SEED_py4j/ SEEDChangeDetector 0.05 32 0.0075 0.6 75\n"
     ]
    },
    {
     "name": "stderr",
     "output_type": "stream",
     "text": [
      "100%|██████████| 20/20 [00:19<00:00,  1.03it/s]\n"
     ]
    },
    {
     "name": "stdout",
     "output_type": "stream",
     "text": [
      "java -cp ./ICDMFiles_SEED_py4j/ SEEDChangeDetector 0.05 32 0.0025 0.6 75\n"
     ]
    },
    {
     "name": "stderr",
     "output_type": "stream",
     "text": [
      "100%|██████████| 20/20 [00:37<00:00,  1.79s/it]\n"
     ]
    },
    {
     "name": "stdout",
     "output_type": "stream",
     "text": [
      "java -cp ./ICDMFiles_SEED_py4j/ SEEDChangeDetector 0.05 32 0.005 0.6 75\n"
     ]
    },
    {
     "name": "stderr",
     "output_type": "stream",
     "text": [
      "100%|██████████| 20/20 [00:37<00:00,  1.84s/it]\n"
     ]
    },
    {
     "name": "stdout",
     "output_type": "stream",
     "text": [
      "java -cp ./ICDMFiles_SEED_py4j/ SEEDChangeDetector 0.05 32 0.0075 0.6 75\n"
     ]
    },
    {
     "name": "stderr",
     "output_type": "stream",
     "text": [
      "100%|██████████| 20/20 [00:36<00:00,  1.89s/it]\n"
     ]
    },
    {
     "name": "stdout",
     "output_type": "stream",
     "text": [
      "java -cp ./ICDMFiles_SEED_py4j/ SEEDChangeDetector 0.05 32 0.0025 0.6 75\n"
     ]
    },
    {
     "name": "stderr",
     "output_type": "stream",
     "text": [
      "100%|██████████| 20/20 [00:02<00:00,  7.01it/s]\n"
     ]
    },
    {
     "name": "stdout",
     "output_type": "stream",
     "text": [
      "java -cp ./ICDMFiles_SEED_py4j/ SEEDChangeDetector 0.05 32 0.005 0.6 75\n"
     ]
    },
    {
     "name": "stderr",
     "output_type": "stream",
     "text": [
      "100%|██████████| 20/20 [00:02<00:00,  7.22it/s]\n"
     ]
    },
    {
     "name": "stdout",
     "output_type": "stream",
     "text": [
      "java -cp ./ICDMFiles_SEED_py4j/ SEEDChangeDetector 0.05 32 0.0075 0.6 75\n"
     ]
    },
    {
     "name": "stderr",
     "output_type": "stream",
     "text": [
      "100%|██████████| 20/20 [00:02<00:00,  7.15it/s]\n"
     ]
    },
    {
     "name": "stdout",
     "output_type": "stream",
     "text": [
      "java -cp ./ICDMFiles_SEED_py4j/ SEEDChangeDetector 0.05 32 0.0025 0.6 75\n"
     ]
    },
    {
     "name": "stderr",
     "output_type": "stream",
     "text": [
      "100%|██████████| 20/20 [00:02<00:00,  7.55it/s]\n"
     ]
    },
    {
     "name": "stdout",
     "output_type": "stream",
     "text": [
      "java -cp ./ICDMFiles_SEED_py4j/ SEEDChangeDetector 0.05 32 0.005 0.6 75\n"
     ]
    },
    {
     "name": "stderr",
     "output_type": "stream",
     "text": [
      "100%|██████████| 20/20 [00:02<00:00,  6.88it/s]\n"
     ]
    },
    {
     "name": "stdout",
     "output_type": "stream",
     "text": [
      "java -cp ./ICDMFiles_SEED_py4j/ SEEDChangeDetector 0.05 32 0.0075 0.6 75\n"
     ]
    },
    {
     "name": "stderr",
     "output_type": "stream",
     "text": [
      "100%|██████████| 20/20 [00:02<00:00,  6.99it/s]\n"
     ]
    },
    {
     "name": "stdout",
     "output_type": "stream",
     "text": [
      "java -cp ./ICDMFiles_SEED_py4j/ SEEDChangeDetector 0.05 32 0.0025 0.6 75\n"
     ]
    },
    {
     "name": "stderr",
     "output_type": "stream",
     "text": [
      "100%|██████████| 20/20 [00:06<00:00,  3.24it/s]\n"
     ]
    },
    {
     "name": "stdout",
     "output_type": "stream",
     "text": [
      "java -cp ./ICDMFiles_SEED_py4j/ SEEDChangeDetector 0.05 32 0.005 0.6 75\n"
     ]
    },
    {
     "name": "stderr",
     "output_type": "stream",
     "text": [
      "100%|██████████| 20/20 [00:05<00:00,  3.41it/s]\n"
     ]
    },
    {
     "name": "stdout",
     "output_type": "stream",
     "text": [
      "java -cp ./ICDMFiles_SEED_py4j/ SEEDChangeDetector 0.05 32 0.0075 0.6 75\n"
     ]
    },
    {
     "name": "stderr",
     "output_type": "stream",
     "text": [
      "100%|██████████| 20/20 [00:06<00:00,  3.41it/s]\n"
     ]
    },
    {
     "name": "stdout",
     "output_type": "stream",
     "text": [
      "java -cp ./ICDMFiles_SEED_py4j/ SEEDChangeDetector 0.05 32 0.0025 0.6 75\n"
     ]
    },
    {
     "name": "stderr",
     "output_type": "stream",
     "text": [
      "100%|██████████| 20/20 [00:19<00:00,  1.03it/s]\n"
     ]
    },
    {
     "name": "stdout",
     "output_type": "stream",
     "text": [
      "java -cp ./ICDMFiles_SEED_py4j/ SEEDChangeDetector 0.05 32 0.005 0.6 75\n"
     ]
    },
    {
     "name": "stderr",
     "output_type": "stream",
     "text": [
      "100%|██████████| 20/20 [00:19<00:00,  1.00it/s]\n"
     ]
    },
    {
     "name": "stdout",
     "output_type": "stream",
     "text": [
      "java -cp ./ICDMFiles_SEED_py4j/ SEEDChangeDetector 0.05 32 0.0075 0.6 75\n"
     ]
    },
    {
     "name": "stderr",
     "output_type": "stream",
     "text": [
      "100%|██████████| 20/20 [00:19<00:00,  1.00s/it]\n"
     ]
    },
    {
     "name": "stdout",
     "output_type": "stream",
     "text": [
      "java -cp ./ICDMFiles_SEED_py4j/ SEEDChangeDetector 0.05 32 0.0025 0.6 75\n"
     ]
    },
    {
     "name": "stderr",
     "output_type": "stream",
     "text": [
      "100%|██████████| 20/20 [00:38<00:00,  1.93s/it]\n"
     ]
    },
    {
     "name": "stdout",
     "output_type": "stream",
     "text": [
      "java -cp ./ICDMFiles_SEED_py4j/ SEEDChangeDetector 0.05 32 0.005 0.6 75\n"
     ]
    },
    {
     "name": "stderr",
     "output_type": "stream",
     "text": [
      "100%|██████████| 20/20 [00:37<00:00,  1.96s/it]\n"
     ]
    },
    {
     "name": "stdout",
     "output_type": "stream",
     "text": [
      "java -cp ./ICDMFiles_SEED_py4j/ SEEDChangeDetector 0.05 32 0.0075 0.6 75\n"
     ]
    },
    {
     "name": "stderr",
     "output_type": "stream",
     "text": [
      "100%|██████████| 20/20 [00:39<00:00,  2.07s/it]\n"
     ]
    },
    {
     "name": "stdout",
     "output_type": "stream",
     "text": [
      "java -cp ./ICDMFiles_SEED_py4j/ SEEDChangeDetector 0.05 32 0.0025 0.6 75\n"
     ]
    },
    {
     "name": "stderr",
     "output_type": "stream",
     "text": [
      "100%|██████████| 20/20 [00:04<00:00,  4.28it/s]\n"
     ]
    },
    {
     "name": "stdout",
     "output_type": "stream",
     "text": [
      "java -cp ./ICDMFiles_SEED_py4j/ SEEDChangeDetector 0.05 32 0.005 0.6 75\n"
     ]
    },
    {
     "name": "stderr",
     "output_type": "stream",
     "text": [
      "100%|██████████| 20/20 [00:04<00:00,  4.06it/s]\n"
     ]
    },
    {
     "name": "stdout",
     "output_type": "stream",
     "text": [
      "java -cp ./ICDMFiles_SEED_py4j/ SEEDChangeDetector 0.05 32 0.0075 0.6 75\n"
     ]
    },
    {
     "name": "stderr",
     "output_type": "stream",
     "text": [
      "100%|██████████| 20/20 [00:04<00:00,  4.37it/s]\n"
     ]
    },
    {
     "name": "stdout",
     "output_type": "stream",
     "text": [
      "java -cp ./ICDMFiles_SEED_py4j/ SEEDChangeDetector 0.05 32 0.0025 0.6 75\n"
     ]
    },
    {
     "name": "stderr",
     "output_type": "stream",
     "text": [
      "100%|██████████| 20/20 [00:04<00:00,  4.43it/s]\n"
     ]
    },
    {
     "name": "stdout",
     "output_type": "stream",
     "text": [
      "java -cp ./ICDMFiles_SEED_py4j/ SEEDChangeDetector 0.05 32 0.005 0.6 75\n"
     ]
    },
    {
     "name": "stderr",
     "output_type": "stream",
     "text": [
      "100%|██████████| 20/20 [00:04<00:00,  4.20it/s]\n"
     ]
    },
    {
     "name": "stdout",
     "output_type": "stream",
     "text": [
      "java -cp ./ICDMFiles_SEED_py4j/ SEEDChangeDetector 0.05 32 0.0075 0.6 75\n"
     ]
    },
    {
     "name": "stderr",
     "output_type": "stream",
     "text": [
      "100%|██████████| 20/20 [00:04<00:00,  4.30it/s]\n"
     ]
    },
    {
     "name": "stdout",
     "output_type": "stream",
     "text": [
      "java -cp ./ICDMFiles_SEED_py4j/ SEEDChangeDetector 0.05 32 0.0025 0.6 75\n"
     ]
    },
    {
     "name": "stderr",
     "output_type": "stream",
     "text": [
      "100%|██████████| 20/20 [00:06<00:00,  3.29it/s]\n"
     ]
    },
    {
     "name": "stdout",
     "output_type": "stream",
     "text": [
      "java -cp ./ICDMFiles_SEED_py4j/ SEEDChangeDetector 0.05 32 0.005 0.6 75\n"
     ]
    },
    {
     "name": "stderr",
     "output_type": "stream",
     "text": [
      "100%|██████████| 20/20 [00:06<00:00,  3.35it/s]\n"
     ]
    },
    {
     "name": "stdout",
     "output_type": "stream",
     "text": [
      "java -cp ./ICDMFiles_SEED_py4j/ SEEDChangeDetector 0.05 32 0.0075 0.6 75\n"
     ]
    },
    {
     "name": "stderr",
     "output_type": "stream",
     "text": [
      "100%|██████████| 20/20 [00:06<00:00,  2.97it/s]\n"
     ]
    },
    {
     "name": "stdout",
     "output_type": "stream",
     "text": [
      "java -cp ./ICDMFiles_SEED_py4j/ SEEDChangeDetector 0.05 32 0.0025 0.6 75\n"
     ]
    },
    {
     "name": "stderr",
     "output_type": "stream",
     "text": [
      "100%|██████████| 20/20 [00:22<00:00,  1.10s/it]\n"
     ]
    },
    {
     "name": "stdout",
     "output_type": "stream",
     "text": [
      "java -cp ./ICDMFiles_SEED_py4j/ SEEDChangeDetector 0.05 32 0.005 0.6 75\n"
     ]
    },
    {
     "name": "stderr",
     "output_type": "stream",
     "text": [
      "100%|██████████| 20/20 [00:24<00:00,  1.12s/it]\n"
     ]
    },
    {
     "name": "stdout",
     "output_type": "stream",
     "text": [
      "java -cp ./ICDMFiles_SEED_py4j/ SEEDChangeDetector 0.05 32 0.0075 0.6 75\n"
     ]
    },
    {
     "name": "stderr",
     "output_type": "stream",
     "text": [
      "100%|██████████| 20/20 [00:25<00:00,  1.40s/it]\n"
     ]
    },
    {
     "name": "stdout",
     "output_type": "stream",
     "text": [
      "java -cp ./ICDMFiles_SEED_py4j/ SEEDChangeDetector 0.05 32 0.0025 0.6 75\n"
     ]
    },
    {
     "name": "stderr",
     "output_type": "stream",
     "text": [
      "100%|██████████| 20/20 [00:44<00:00,  2.41s/it]\n"
     ]
    },
    {
     "name": "stdout",
     "output_type": "stream",
     "text": [
      "java -cp ./ICDMFiles_SEED_py4j/ SEEDChangeDetector 0.05 32 0.005 0.6 75\n"
     ]
    },
    {
     "name": "stderr",
     "output_type": "stream",
     "text": [
      "100%|██████████| 20/20 [00:50<00:00,  2.61s/it]\n"
     ]
    },
    {
     "name": "stdout",
     "output_type": "stream",
     "text": [
      "java -cp ./ICDMFiles_SEED_py4j/ SEEDChangeDetector 0.05 32 0.0075 0.6 75\n"
     ]
    },
    {
     "name": "stderr",
     "output_type": "stream",
     "text": [
      "100%|██████████| 20/20 [00:48<00:00,  2.43s/it]\n"
     ]
    },
    {
     "name": "stdout",
     "output_type": "stream",
     "text": [
      "java -cp ./ICDMFiles_SEED_py4j/ SEEDChangeDetector 0.05 32 0.0025 0.6 75\n"
     ]
    },
    {
     "name": "stderr",
     "output_type": "stream",
     "text": [
      "100%|██████████| 20/20 [00:29<00:00,  1.79s/it]\n"
     ]
    },
    {
     "name": "stdout",
     "output_type": "stream",
     "text": [
      "java -cp ./ICDMFiles_SEED_py4j/ SEEDChangeDetector 0.05 32 0.005 0.6 75\n"
     ]
    },
    {
     "name": "stderr",
     "output_type": "stream",
     "text": [
      "100%|██████████| 20/20 [00:28<00:00,  1.01s/it]\n"
     ]
    },
    {
     "name": "stdout",
     "output_type": "stream",
     "text": [
      "java -cp ./ICDMFiles_SEED_py4j/ SEEDChangeDetector 0.05 32 0.0075 0.6 75\n"
     ]
    },
    {
     "name": "stderr",
     "output_type": "stream",
     "text": [
      "100%|██████████| 20/20 [00:20<00:00,  1.02it/s]\n"
     ]
    },
    {
     "name": "stdout",
     "output_type": "stream",
     "text": [
      "java -cp ./ICDMFiles_SEED_py4j/ SEEDChangeDetector 0.05 32 0.0025 0.6 75\n"
     ]
    },
    {
     "name": "stderr",
     "output_type": "stream",
     "text": [
      "100%|██████████| 20/20 [00:22<00:00,  1.56s/it]\n"
     ]
    },
    {
     "name": "stdout",
     "output_type": "stream",
     "text": [
      "java -cp ./ICDMFiles_SEED_py4j/ SEEDChangeDetector 0.05 32 0.005 0.6 75\n"
     ]
    },
    {
     "name": "stderr",
     "output_type": "stream",
     "text": [
      "100%|██████████| 20/20 [00:19<00:00,  1.02it/s]\n"
     ]
    },
    {
     "name": "stdout",
     "output_type": "stream",
     "text": [
      "java -cp ./ICDMFiles_SEED_py4j/ SEEDChangeDetector 0.05 32 0.0075 0.6 75\n"
     ]
    },
    {
     "name": "stderr",
     "output_type": "stream",
     "text": [
      "100%|██████████| 20/20 [00:19<00:00,  1.02it/s]\n"
     ]
    },
    {
     "name": "stdout",
     "output_type": "stream",
     "text": [
      "java -cp ./ICDMFiles_SEED_py4j/ SEEDChangeDetector 0.05 32 0.0025 0.6 75\n"
     ]
    },
    {
     "name": "stderr",
     "output_type": "stream",
     "text": [
      "100%|██████████| 20/20 [00:26<00:00,  1.49s/it]\n"
     ]
    },
    {
     "name": "stdout",
     "output_type": "stream",
     "text": [
      "java -cp ./ICDMFiles_SEED_py4j/ SEEDChangeDetector 0.05 32 0.005 0.6 75\n"
     ]
    },
    {
     "name": "stderr",
     "output_type": "stream",
     "text": [
      "100%|██████████| 20/20 [00:22<00:00,  1.32s/it]\n"
     ]
    },
    {
     "name": "stdout",
     "output_type": "stream",
     "text": [
      "java -cp ./ICDMFiles_SEED_py4j/ SEEDChangeDetector 0.05 32 0.0075 0.6 75\n"
     ]
    },
    {
     "name": "stderr",
     "output_type": "stream",
     "text": [
      "100%|██████████| 20/20 [00:27<00:00,  1.83s/it]\n"
     ]
    },
    {
     "name": "stdout",
     "output_type": "stream",
     "text": [
      "java -cp ./ICDMFiles_SEED_py4j/ SEEDChangeDetector 0.05 32 0.0025 0.6 75\n"
     ]
    },
    {
     "name": "stderr",
     "output_type": "stream",
     "text": [
      "100%|██████████| 20/20 [00:24<00:00,  1.16s/it]\n"
     ]
    },
    {
     "name": "stdout",
     "output_type": "stream",
     "text": [
      "java -cp ./ICDMFiles_SEED_py4j/ SEEDChangeDetector 0.05 32 0.005 0.6 75\n"
     ]
    },
    {
     "name": "stderr",
     "output_type": "stream",
     "text": [
      "100%|██████████| 20/20 [00:23<00:00,  1.18s/it]\n"
     ]
    },
    {
     "name": "stdout",
     "output_type": "stream",
     "text": [
      "java -cp ./ICDMFiles_SEED_py4j/ SEEDChangeDetector 0.05 32 0.0075 0.6 75\n"
     ]
    },
    {
     "name": "stderr",
     "output_type": "stream",
     "text": [
      "100%|██████████| 20/20 [00:23<00:00,  1.14s/it]\n"
     ]
    },
    {
     "name": "stdout",
     "output_type": "stream",
     "text": [
      "java -cp ./ICDMFiles_SEED_py4j/ SEEDChangeDetector 0.05 32 0.0025 0.6 75\n"
     ]
    },
    {
     "name": "stderr",
     "output_type": "stream",
     "text": [
      "100%|██████████| 20/20 [00:58<00:00,  2.92s/it]\n"
     ]
    },
    {
     "name": "stdout",
     "output_type": "stream",
     "text": [
      "java -cp ./ICDMFiles_SEED_py4j/ SEEDChangeDetector 0.05 32 0.005 0.6 75\n"
     ]
    },
    {
     "name": "stderr",
     "output_type": "stream",
     "text": [
      "100%|██████████| 20/20 [00:57<00:00,  2.92s/it]\n"
     ]
    },
    {
     "name": "stdout",
     "output_type": "stream",
     "text": [
      "java -cp ./ICDMFiles_SEED_py4j/ SEEDChangeDetector 0.05 32 0.0075 0.6 75\n"
     ]
    },
    {
     "name": "stderr",
     "output_type": "stream",
     "text": [
      "100%|██████████| 20/20 [01:00<00:00,  2.94s/it]\n"
     ]
    },
    {
     "name": "stdout",
     "output_type": "stream",
     "text": [
      "java -cp ./ICDMFiles_SEED_py4j/ SEEDChangeDetector 0.05 32 0.0025 0.6 75\n"
     ]
    },
    {
     "name": "stderr",
     "output_type": "stream",
     "text": [
      "100%|██████████| 20/20 [00:40<00:00,  2.00s/it]\n"
     ]
    },
    {
     "name": "stdout",
     "output_type": "stream",
     "text": [
      "java -cp ./ICDMFiles_SEED_py4j/ SEEDChangeDetector 0.05 32 0.005 0.6 75\n"
     ]
    },
    {
     "name": "stderr",
     "output_type": "stream",
     "text": [
      "100%|██████████| 20/20 [00:39<00:00,  2.07s/it]\n"
     ]
    },
    {
     "name": "stdout",
     "output_type": "stream",
     "text": [
      "java -cp ./ICDMFiles_SEED_py4j/ SEEDChangeDetector 0.05 32 0.0075 0.6 75\n"
     ]
    },
    {
     "name": "stderr",
     "output_type": "stream",
     "text": [
      "100%|██████████| 20/20 [00:38<00:00,  1.89s/it]\n"
     ]
    },
    {
     "name": "stdout",
     "output_type": "stream",
     "text": [
      "java -cp ./ICDMFiles_SEED_py4j/ SEEDChangeDetector 0.05 32 0.0025 0.6 75\n"
     ]
    },
    {
     "name": "stderr",
     "output_type": "stream",
     "text": [
      "100%|██████████| 20/20 [00:38<00:00,  2.00s/it]\n"
     ]
    },
    {
     "name": "stdout",
     "output_type": "stream",
     "text": [
      "java -cp ./ICDMFiles_SEED_py4j/ SEEDChangeDetector 0.05 32 0.005 0.6 75\n"
     ]
    },
    {
     "name": "stderr",
     "output_type": "stream",
     "text": [
      "100%|██████████| 20/20 [00:38<00:00,  1.89s/it]\n"
     ]
    },
    {
     "name": "stdout",
     "output_type": "stream",
     "text": [
      "java -cp ./ICDMFiles_SEED_py4j/ SEEDChangeDetector 0.05 32 0.0075 0.6 75\n"
     ]
    },
    {
     "name": "stderr",
     "output_type": "stream",
     "text": [
      "100%|██████████| 20/20 [00:38<00:00,  1.95s/it]\n"
     ]
    },
    {
     "name": "stdout",
     "output_type": "stream",
     "text": [
      "java -cp ./ICDMFiles_SEED_py4j/ SEEDChangeDetector 0.05 32 0.0025 0.6 75\n"
     ]
    },
    {
     "name": "stderr",
     "output_type": "stream",
     "text": [
      "100%|██████████| 20/20 [00:39<00:00,  1.97s/it]\n"
     ]
    },
    {
     "name": "stdout",
     "output_type": "stream",
     "text": [
      "java -cp ./ICDMFiles_SEED_py4j/ SEEDChangeDetector 0.05 32 0.005 0.6 75\n"
     ]
    },
    {
     "name": "stderr",
     "output_type": "stream",
     "text": [
      "100%|██████████| 20/20 [00:40<00:00,  1.98s/it]\n"
     ]
    },
    {
     "name": "stdout",
     "output_type": "stream",
     "text": [
      "java -cp ./ICDMFiles_SEED_py4j/ SEEDChangeDetector 0.05 32 0.0075 0.6 75\n"
     ]
    },
    {
     "name": "stderr",
     "output_type": "stream",
     "text": [
      "100%|██████████| 20/20 [00:40<00:00,  1.98s/it]\n"
     ]
    },
    {
     "name": "stdout",
     "output_type": "stream",
     "text": [
      "java -cp ./ICDMFiles_SEED_py4j/ SEEDChangeDetector 0.05 32 0.0025 0.6 75\n"
     ]
    },
    {
     "name": "stderr",
     "output_type": "stream",
     "text": [
      "100%|██████████| 20/20 [00:41<00:00,  2.10s/it]\n"
     ]
    },
    {
     "name": "stdout",
     "output_type": "stream",
     "text": [
      "java -cp ./ICDMFiles_SEED_py4j/ SEEDChangeDetector 0.05 32 0.005 0.6 75\n"
     ]
    },
    {
     "name": "stderr",
     "output_type": "stream",
     "text": [
      "100%|██████████| 20/20 [00:41<00:00,  2.12s/it]\n"
     ]
    },
    {
     "name": "stdout",
     "output_type": "stream",
     "text": [
      "java -cp ./ICDMFiles_SEED_py4j/ SEEDChangeDetector 0.05 32 0.0075 0.6 75\n"
     ]
    },
    {
     "name": "stderr",
     "output_type": "stream",
     "text": [
      "100%|██████████| 20/20 [00:41<00:00,  2.03s/it]\n"
     ]
    },
    {
     "name": "stdout",
     "output_type": "stream",
     "text": [
      "java -cp ./ICDMFiles_SEED_py4j/ SEEDChangeDetector 0.05 32 0.0025 0.6 75\n"
     ]
    },
    {
     "name": "stderr",
     "output_type": "stream",
     "text": [
      "100%|██████████| 20/20 [00:56<00:00,  2.88s/it]\n"
     ]
    },
    {
     "name": "stdout",
     "output_type": "stream",
     "text": [
      "java -cp ./ICDMFiles_SEED_py4j/ SEEDChangeDetector 0.05 32 0.005 0.6 75\n"
     ]
    },
    {
     "name": "stderr",
     "output_type": "stream",
     "text": [
      "100%|██████████| 20/20 [00:56<00:00,  2.86s/it]\n"
     ]
    },
    {
     "name": "stdout",
     "output_type": "stream",
     "text": [
      "java -cp ./ICDMFiles_SEED_py4j/ SEEDChangeDetector 0.05 32 0.0075 0.6 75\n"
     ]
    },
    {
     "name": "stderr",
     "output_type": "stream",
     "text": [
      "100%|██████████| 20/20 [00:56<00:00,  2.86s/it]\n"
     ]
    }
   ],
   "source": [
    "# Dependency on epsilon_prime\n",
    "df_all = []\n",
    "for (length1, length2) in permutations([500, 1000, 5000, 10000, 50000, 100000], 2):\n",
    "    for epsilon_prime in [0.0025, 0.005, 0.0075]:\n",
    "        benefits_vd, fars_vd, benefits_md, fars_md = experiment1_benefit_false_alarm_rate(\n",
    "                length1, length2,\n",
    "                r=0.2, \n",
    "                delta=0.05, blocksize=32, epsilon_prime=epsilon_prime,\n",
    "                 alpha=0.6, decaymode=1, compression_term=75,\n",
    "                mu1=0.2, mu2=0.8,\n",
    "                n_repeat=50, \n",
    "                n_trial=20, \n",
    "                limit=5\n",
    "            )\n",
    "    \n",
    "        # AUC (md)\n",
    "        auc_md = []\n",
    "        for far, benefit in zip(fars_md, benefits_md):\n",
    "            auc_md.append(calc_auc(far, benefit))\n",
    "\n",
    "        df = pd.DataFrame({'L1': length1, \n",
    "                      'L2': length2, \n",
    "                      'epsilon_prime': epsilon_prime,  \n",
    "                      'AUC': auc_md})\n",
    "        df_all.append(df)"
   ]
  },
  {
   "cell_type": "code",
   "execution_count": 33,
   "metadata": {},
   "outputs": [],
   "source": [
    "df_all_epsilnPrime_concat = pd.concat(df_all)"
   ]
  },
  {
   "cell_type": "code",
   "execution_count": 34,
   "metadata": {},
   "outputs": [],
   "source": [
    "df_all_epsilnPrime_concat.to_csv(os.path.join(outdir, 'dependency_on_seed_epsilonPrime.csv'), \n",
    "                           index=None)"
   ]
  },
  {
   "cell_type": "code",
   "execution_count": 35,
   "metadata": {},
   "outputs": [],
   "source": [
    "df_all_epsilnPrime_concat = pd.read_csv(\n",
    "    os.path.join(outdir, 'dependency_on_seed_epsilonPrime.csv'))"
   ]
  },
  {
   "cell_type": "code",
   "execution_count": 36,
   "metadata": {},
   "outputs": [
    {
     "data": {
      "text/html": [
       "<div>\n",
       "<style scoped>\n",
       "    .dataframe tbody tr th:only-of-type {\n",
       "        vertical-align: middle;\n",
       "    }\n",
       "\n",
       "    .dataframe tbody tr th {\n",
       "        vertical-align: top;\n",
       "    }\n",
       "\n",
       "    .dataframe thead th {\n",
       "        text-align: right;\n",
       "    }\n",
       "</style>\n",
       "<table border=\"1\" class=\"dataframe\">\n",
       "  <thead>\n",
       "    <tr style=\"text-align: right;\">\n",
       "      <th></th>\n",
       "      <th>L1</th>\n",
       "      <th>L2</th>\n",
       "      <th>epsilon_prime</th>\n",
       "      <th>AUC</th>\n",
       "    </tr>\n",
       "  </thead>\n",
       "  <tbody>\n",
       "    <tr>\n",
       "      <th>0</th>\n",
       "      <td>500</td>\n",
       "      <td>1000</td>\n",
       "      <td>0.0025</td>\n",
       "      <td>0.966368</td>\n",
       "    </tr>\n",
       "    <tr>\n",
       "      <th>1</th>\n",
       "      <td>500</td>\n",
       "      <td>1000</td>\n",
       "      <td>0.0025</td>\n",
       "      <td>0.795400</td>\n",
       "    </tr>\n",
       "    <tr>\n",
       "      <th>2</th>\n",
       "      <td>500</td>\n",
       "      <td>1000</td>\n",
       "      <td>0.0025</td>\n",
       "      <td>0.968055</td>\n",
       "    </tr>\n",
       "  </tbody>\n",
       "</table>\n",
       "</div>"
      ],
      "text/plain": [
       "    L1    L2  epsilon_prime       AUC\n",
       "0  500  1000         0.0025  0.966368\n",
       "1  500  1000         0.0025  0.795400\n",
       "2  500  1000         0.0025  0.968055"
      ]
     },
     "execution_count": 36,
     "metadata": {},
     "output_type": "execute_result"
    }
   ],
   "source": [
    "df_all_epsilnPrime_concat.head(3)"
   ]
  },
  {
   "cell_type": "code",
   "execution_count": 37,
   "metadata": {},
   "outputs": [
    {
     "ename": "ValueError",
     "evalue": "'c' argument has 3 elements, which is not acceptable for use with 'x' with size 0, 'y' with size 0.",
     "output_type": "error",
     "traceback": [
      "\u001b[0;31m--------------------------------------------------------------------------\u001b[0m",
      "\u001b[0;31mValueError\u001b[0m                               Traceback (most recent call last)",
      "\u001b[0;32m~/.pyenv/versions/anaconda3-5.0.1/lib/python3.6/site-packages/matplotlib/axes/_axes.py\u001b[0m in \u001b[0;36m_parse_scatter_color_args\u001b[0;34m(c, edgecolors, kwargs, xshape, yshape, get_next_color_func)\u001b[0m\n\u001b[1;32m   4290\u001b[0m                     \u001b[0mvalid_shape\u001b[0m \u001b[0;34m=\u001b[0m \u001b[0;32mFalse\u001b[0m\u001b[0;34m\u001b[0m\u001b[0;34m\u001b[0m\u001b[0m\n\u001b[0;32m-> 4291\u001b[0;31m                     \u001b[0;32mraise\u001b[0m \u001b[0mValueError\u001b[0m\u001b[0;34m\u001b[0m\u001b[0;34m\u001b[0m\u001b[0m\n\u001b[0m\u001b[1;32m   4292\u001b[0m             \u001b[0;32mexcept\u001b[0m \u001b[0mValueError\u001b[0m\u001b[0;34m:\u001b[0m\u001b[0;34m\u001b[0m\u001b[0;34m\u001b[0m\u001b[0m\n",
      "\u001b[0;31mValueError\u001b[0m: ",
      "\nDuring handling of the above exception, another exception occurred:\n",
      "\u001b[0;31mValueError\u001b[0m                               Traceback (most recent call last)",
      "\u001b[0;32m<ipython-input-37-5ac72a887b9c>\u001b[0m in \u001b[0;36m<module>\u001b[0;34m\u001b[0m\n\u001b[1;32m     15\u001b[0m                \u001b[0mkind\u001b[0m\u001b[0;34m=\u001b[0m\u001b[0;34m'point'\u001b[0m\u001b[0;34m,\u001b[0m\u001b[0;34m\u001b[0m\u001b[0;34m\u001b[0m\u001b[0m\n\u001b[1;32m     16\u001b[0m                \u001b[0mdata\u001b[0m\u001b[0;34m=\u001b[0m\u001b[0mdf_all_epsilnPrime_concat\u001b[0m\u001b[0;34m,\u001b[0m\u001b[0;34m\u001b[0m\u001b[0;34m\u001b[0m\u001b[0m\n\u001b[0;32m---> 17\u001b[0;31m                size=4, aspect=1)\n\u001b[0m\u001b[1;32m     18\u001b[0m \u001b[0;31m#plt.show()\u001b[0m\u001b[0;34m\u001b[0m\u001b[0;34m\u001b[0m\u001b[0;34m\u001b[0m\u001b[0m\n\u001b[1;32m     19\u001b[0m g.fig.savefig(os.path.join(outdir, 'dependency_auc_on_epsilon_prime.eps'), \n",
      "\u001b[0;32m~/.pyenv/versions/anaconda3-5.0.1/lib/python3.6/site-packages/seaborn/categorical.py\u001b[0m in \u001b[0;36mcatplot\u001b[0;34m(x, y, hue, data, row, col, col_wrap, estimator, ci, n_boot, units, order, hue_order, row_order, col_order, kind, height, aspect, orient, color, palette, legend, legend_out, sharex, sharey, margin_titles, facet_kws, **kwargs)\u001b[0m\n\u001b[1;32m   3753\u001b[0m \u001b[0;34m\u001b[0m\u001b[0m\n\u001b[1;32m   3754\u001b[0m     \u001b[0;31m# Draw the plot onto the facets\u001b[0m\u001b[0;34m\u001b[0m\u001b[0;34m\u001b[0m\u001b[0;34m\u001b[0m\u001b[0m\n\u001b[0;32m-> 3755\u001b[0;31m     \u001b[0mg\u001b[0m\u001b[0;34m.\u001b[0m\u001b[0mmap_dataframe\u001b[0m\u001b[0;34m(\u001b[0m\u001b[0mplot_func\u001b[0m\u001b[0;34m,\u001b[0m \u001b[0mx\u001b[0m\u001b[0;34m,\u001b[0m \u001b[0my\u001b[0m\u001b[0;34m,\u001b[0m \u001b[0mhue\u001b[0m\u001b[0;34m,\u001b[0m \u001b[0;34m**\u001b[0m\u001b[0mplot_kws\u001b[0m\u001b[0;34m)\u001b[0m\u001b[0;34m\u001b[0m\u001b[0;34m\u001b[0m\u001b[0m\n\u001b[0m\u001b[1;32m   3756\u001b[0m \u001b[0;34m\u001b[0m\u001b[0m\n\u001b[1;32m   3757\u001b[0m     \u001b[0;31m# Special case axis labels for a count type plot\u001b[0m\u001b[0;34m\u001b[0m\u001b[0;34m\u001b[0m\u001b[0;34m\u001b[0m\u001b[0m\n",
      "\u001b[0;32m~/.pyenv/versions/anaconda3-5.0.1/lib/python3.6/site-packages/seaborn/axisgrid.py\u001b[0m in \u001b[0;36mmap_dataframe\u001b[0;34m(self, func, *args, **kwargs)\u001b[0m\n\u001b[1;32m    818\u001b[0m \u001b[0;34m\u001b[0m\u001b[0m\n\u001b[1;32m    819\u001b[0m             \u001b[0;31m# Draw the plot\u001b[0m\u001b[0;34m\u001b[0m\u001b[0;34m\u001b[0m\u001b[0;34m\u001b[0m\u001b[0m\n\u001b[0;32m--> 820\u001b[0;31m             \u001b[0mself\u001b[0m\u001b[0;34m.\u001b[0m\u001b[0m_facet_plot\u001b[0m\u001b[0;34m(\u001b[0m\u001b[0mfunc\u001b[0m\u001b[0;34m,\u001b[0m \u001b[0max\u001b[0m\u001b[0;34m,\u001b[0m \u001b[0margs\u001b[0m\u001b[0;34m,\u001b[0m \u001b[0mkwargs\u001b[0m\u001b[0;34m)\u001b[0m\u001b[0;34m\u001b[0m\u001b[0;34m\u001b[0m\u001b[0m\n\u001b[0m\u001b[1;32m    821\u001b[0m \u001b[0;34m\u001b[0m\u001b[0m\n\u001b[1;32m    822\u001b[0m         \u001b[0;31m# Finalize the annotations and layout\u001b[0m\u001b[0;34m\u001b[0m\u001b[0;34m\u001b[0m\u001b[0;34m\u001b[0m\u001b[0m\n",
      "\u001b[0;32m~/.pyenv/versions/anaconda3-5.0.1/lib/python3.6/site-packages/seaborn/axisgrid.py\u001b[0m in \u001b[0;36m_facet_plot\u001b[0;34m(self, func, ax, plot_args, plot_kwargs)\u001b[0m\n\u001b[1;32m    836\u001b[0m \u001b[0;34m\u001b[0m\u001b[0m\n\u001b[1;32m    837\u001b[0m         \u001b[0;31m# Draw the plot\u001b[0m\u001b[0;34m\u001b[0m\u001b[0;34m\u001b[0m\u001b[0;34m\u001b[0m\u001b[0m\n\u001b[0;32m--> 838\u001b[0;31m         \u001b[0mfunc\u001b[0m\u001b[0;34m(\u001b[0m\u001b[0;34m*\u001b[0m\u001b[0mplot_args\u001b[0m\u001b[0;34m,\u001b[0m \u001b[0;34m**\u001b[0m\u001b[0mplot_kwargs\u001b[0m\u001b[0;34m)\u001b[0m\u001b[0;34m\u001b[0m\u001b[0;34m\u001b[0m\u001b[0m\n\u001b[0m\u001b[1;32m    839\u001b[0m \u001b[0;34m\u001b[0m\u001b[0m\n\u001b[1;32m    840\u001b[0m         \u001b[0;31m# Sort out the supporting information\u001b[0m\u001b[0;34m\u001b[0m\u001b[0;34m\u001b[0m\u001b[0;34m\u001b[0m\u001b[0m\n",
      "\u001b[0;32m~/.pyenv/versions/anaconda3-5.0.1/lib/python3.6/site-packages/seaborn/categorical.py\u001b[0m in \u001b[0;36mpointplot\u001b[0;34m(x, y, hue, data, order, hue_order, estimator, ci, n_boot, units, markers, linestyles, dodge, join, scale, orient, color, palette, errwidth, capsize, ax, **kwargs)\u001b[0m\n\u001b[1;32m   3338\u001b[0m         \u001b[0max\u001b[0m \u001b[0;34m=\u001b[0m \u001b[0mplt\u001b[0m\u001b[0;34m.\u001b[0m\u001b[0mgca\u001b[0m\u001b[0;34m(\u001b[0m\u001b[0;34m)\u001b[0m\u001b[0;34m\u001b[0m\u001b[0;34m\u001b[0m\u001b[0m\n\u001b[1;32m   3339\u001b[0m \u001b[0;34m\u001b[0m\u001b[0m\n\u001b[0;32m-> 3340\u001b[0;31m     \u001b[0mplotter\u001b[0m\u001b[0;34m.\u001b[0m\u001b[0mplot\u001b[0m\u001b[0;34m(\u001b[0m\u001b[0max\u001b[0m\u001b[0;34m)\u001b[0m\u001b[0;34m\u001b[0m\u001b[0;34m\u001b[0m\u001b[0m\n\u001b[0m\u001b[1;32m   3341\u001b[0m     \u001b[0;32mreturn\u001b[0m \u001b[0max\u001b[0m\u001b[0;34m\u001b[0m\u001b[0;34m\u001b[0m\u001b[0m\n\u001b[1;32m   3342\u001b[0m \u001b[0;34m\u001b[0m\u001b[0m\n",
      "\u001b[0;32m~/.pyenv/versions/anaconda3-5.0.1/lib/python3.6/site-packages/seaborn/categorical.py\u001b[0m in \u001b[0;36mplot\u001b[0;34m(self, ax)\u001b[0m\n\u001b[1;32m   1809\u001b[0m     \u001b[0;32mdef\u001b[0m \u001b[0mplot\u001b[0m\u001b[0;34m(\u001b[0m\u001b[0mself\u001b[0m\u001b[0;34m,\u001b[0m \u001b[0max\u001b[0m\u001b[0;34m)\u001b[0m\u001b[0;34m:\u001b[0m\u001b[0;34m\u001b[0m\u001b[0;34m\u001b[0m\u001b[0m\n\u001b[1;32m   1810\u001b[0m         \u001b[0;34m\"\"\"Make the plot.\"\"\"\u001b[0m\u001b[0;34m\u001b[0m\u001b[0;34m\u001b[0m\u001b[0m\n\u001b[0;32m-> 1811\u001b[0;31m         \u001b[0mself\u001b[0m\u001b[0;34m.\u001b[0m\u001b[0mdraw_points\u001b[0m\u001b[0;34m(\u001b[0m\u001b[0max\u001b[0m\u001b[0;34m)\u001b[0m\u001b[0;34m\u001b[0m\u001b[0;34m\u001b[0m\u001b[0m\n\u001b[0m\u001b[1;32m   1812\u001b[0m         \u001b[0mself\u001b[0m\u001b[0;34m.\u001b[0m\u001b[0mannotate_axes\u001b[0m\u001b[0;34m(\u001b[0m\u001b[0max\u001b[0m\u001b[0;34m)\u001b[0m\u001b[0;34m\u001b[0m\u001b[0;34m\u001b[0m\u001b[0m\n\u001b[1;32m   1813\u001b[0m         \u001b[0;32mif\u001b[0m \u001b[0mself\u001b[0m\u001b[0;34m.\u001b[0m\u001b[0morient\u001b[0m \u001b[0;34m==\u001b[0m \u001b[0;34m\"h\"\u001b[0m\u001b[0;34m:\u001b[0m\u001b[0;34m\u001b[0m\u001b[0;34m\u001b[0m\u001b[0m\n",
      "\u001b[0;32m~/.pyenv/versions/anaconda3-5.0.1/lib/python3.6/site-packages/seaborn/categorical.py\u001b[0m in \u001b[0;36mdraw_points\u001b[0;34m(self, ax)\u001b[0m\n\u001b[1;32m   1805\u001b[0m                            \u001b[0mc\u001b[0m\u001b[0;34m=\u001b[0m\u001b[0mpoint_colors\u001b[0m\u001b[0;34m,\u001b[0m \u001b[0medgecolor\u001b[0m\u001b[0;34m=\u001b[0m\u001b[0mpoint_colors\u001b[0m\u001b[0;34m,\u001b[0m\u001b[0;34m\u001b[0m\u001b[0;34m\u001b[0m\u001b[0m\n\u001b[1;32m   1806\u001b[0m                            \u001b[0mlinewidth\u001b[0m\u001b[0;34m=\u001b[0m\u001b[0mmew\u001b[0m\u001b[0;34m,\u001b[0m \u001b[0mmarker\u001b[0m\u001b[0;34m=\u001b[0m\u001b[0mmarker\u001b[0m\u001b[0;34m,\u001b[0m \u001b[0ms\u001b[0m\u001b[0;34m=\u001b[0m\u001b[0mmarkersize\u001b[0m\u001b[0;34m,\u001b[0m\u001b[0;34m\u001b[0m\u001b[0;34m\u001b[0m\u001b[0m\n\u001b[0;32m-> 1807\u001b[0;31m                            zorder=z)\n\u001b[0m\u001b[1;32m   1808\u001b[0m \u001b[0;34m\u001b[0m\u001b[0m\n\u001b[1;32m   1809\u001b[0m     \u001b[0;32mdef\u001b[0m \u001b[0mplot\u001b[0m\u001b[0;34m(\u001b[0m\u001b[0mself\u001b[0m\u001b[0;34m,\u001b[0m \u001b[0max\u001b[0m\u001b[0;34m)\u001b[0m\u001b[0;34m:\u001b[0m\u001b[0;34m\u001b[0m\u001b[0;34m\u001b[0m\u001b[0m\n",
      "\u001b[0;32m~/.pyenv/versions/anaconda3-5.0.1/lib/python3.6/site-packages/matplotlib/__init__.py\u001b[0m in \u001b[0;36minner\u001b[0;34m(ax, data, *args, **kwargs)\u001b[0m\n\u001b[1;32m   1599\u001b[0m     \u001b[0;32mdef\u001b[0m \u001b[0minner\u001b[0m\u001b[0;34m(\u001b[0m\u001b[0max\u001b[0m\u001b[0;34m,\u001b[0m \u001b[0;34m*\u001b[0m\u001b[0margs\u001b[0m\u001b[0;34m,\u001b[0m \u001b[0mdata\u001b[0m\u001b[0;34m=\u001b[0m\u001b[0;32mNone\u001b[0m\u001b[0;34m,\u001b[0m \u001b[0;34m**\u001b[0m\u001b[0mkwargs\u001b[0m\u001b[0;34m)\u001b[0m\u001b[0;34m:\u001b[0m\u001b[0;34m\u001b[0m\u001b[0;34m\u001b[0m\u001b[0m\n\u001b[1;32m   1600\u001b[0m         \u001b[0;32mif\u001b[0m \u001b[0mdata\u001b[0m \u001b[0;32mis\u001b[0m \u001b[0;32mNone\u001b[0m\u001b[0;34m:\u001b[0m\u001b[0;34m\u001b[0m\u001b[0;34m\u001b[0m\u001b[0m\n\u001b[0;32m-> 1601\u001b[0;31m             \u001b[0;32mreturn\u001b[0m \u001b[0mfunc\u001b[0m\u001b[0;34m(\u001b[0m\u001b[0max\u001b[0m\u001b[0;34m,\u001b[0m \u001b[0;34m*\u001b[0m\u001b[0mmap\u001b[0m\u001b[0;34m(\u001b[0m\u001b[0msanitize_sequence\u001b[0m\u001b[0;34m,\u001b[0m \u001b[0margs\u001b[0m\u001b[0;34m)\u001b[0m\u001b[0;34m,\u001b[0m \u001b[0;34m**\u001b[0m\u001b[0mkwargs\u001b[0m\u001b[0;34m)\u001b[0m\u001b[0;34m\u001b[0m\u001b[0;34m\u001b[0m\u001b[0m\n\u001b[0m\u001b[1;32m   1602\u001b[0m \u001b[0;34m\u001b[0m\u001b[0m\n\u001b[1;32m   1603\u001b[0m         \u001b[0mbound\u001b[0m \u001b[0;34m=\u001b[0m \u001b[0mnew_sig\u001b[0m\u001b[0;34m.\u001b[0m\u001b[0mbind\u001b[0m\u001b[0;34m(\u001b[0m\u001b[0max\u001b[0m\u001b[0;34m,\u001b[0m \u001b[0;34m*\u001b[0m\u001b[0margs\u001b[0m\u001b[0;34m,\u001b[0m \u001b[0;34m**\u001b[0m\u001b[0mkwargs\u001b[0m\u001b[0;34m)\u001b[0m\u001b[0;34m\u001b[0m\u001b[0;34m\u001b[0m\u001b[0m\n",
      "\u001b[0;32m~/.pyenv/versions/anaconda3-5.0.1/lib/python3.6/site-packages/matplotlib/axes/_axes.py\u001b[0m in \u001b[0;36mscatter\u001b[0;34m(self, x, y, s, c, marker, cmap, norm, vmin, vmax, alpha, linewidths, verts, edgecolors, plotnonfinite, **kwargs)\u001b[0m\n\u001b[1;32m   4452\u001b[0m             self._parse_scatter_color_args(\n\u001b[1;32m   4453\u001b[0m                 \u001b[0mc\u001b[0m\u001b[0;34m,\u001b[0m \u001b[0medgecolors\u001b[0m\u001b[0;34m,\u001b[0m \u001b[0mkwargs\u001b[0m\u001b[0;34m,\u001b[0m \u001b[0mxshape\u001b[0m\u001b[0;34m,\u001b[0m \u001b[0myshape\u001b[0m\u001b[0;34m,\u001b[0m\u001b[0;34m\u001b[0m\u001b[0;34m\u001b[0m\u001b[0m\n\u001b[0;32m-> 4454\u001b[0;31m                 get_next_color_func=self._get_patches_for_fill.get_next_color)\n\u001b[0m\u001b[1;32m   4455\u001b[0m \u001b[0;34m\u001b[0m\u001b[0m\n\u001b[1;32m   4456\u001b[0m         \u001b[0;32mif\u001b[0m \u001b[0mplotnonfinite\u001b[0m \u001b[0;32mand\u001b[0m \u001b[0mcolors\u001b[0m \u001b[0;32mis\u001b[0m \u001b[0;32mNone\u001b[0m\u001b[0;34m:\u001b[0m\u001b[0;34m\u001b[0m\u001b[0;34m\u001b[0m\u001b[0m\n",
      "\u001b[0;32m~/.pyenv/versions/anaconda3-5.0.1/lib/python3.6/site-packages/matplotlib/axes/_axes.py\u001b[0m in \u001b[0;36m_parse_scatter_color_args\u001b[0;34m(c, edgecolors, kwargs, xshape, yshape, get_next_color_func)\u001b[0m\n\u001b[1;32m   4296\u001b[0m                         \u001b[0;34m\"acceptable for use with 'x' with size {xs}, \"\u001b[0m\u001b[0;34m\u001b[0m\u001b[0;34m\u001b[0m\u001b[0m\n\u001b[1;32m   4297\u001b[0m                         \u001b[0;34m\"'y' with size {ys}.\"\u001b[0m\u001b[0;34m\u001b[0m\u001b[0;34m\u001b[0m\u001b[0m\n\u001b[0;32m-> 4298\u001b[0;31m                             \u001b[0;34m.\u001b[0m\u001b[0mformat\u001b[0m\u001b[0;34m(\u001b[0m\u001b[0mnc\u001b[0m\u001b[0;34m=\u001b[0m\u001b[0mn_elem\u001b[0m\u001b[0;34m,\u001b[0m \u001b[0mxs\u001b[0m\u001b[0;34m=\u001b[0m\u001b[0mxsize\u001b[0m\u001b[0;34m,\u001b[0m \u001b[0mys\u001b[0m\u001b[0;34m=\u001b[0m\u001b[0mysize\u001b[0m\u001b[0;34m)\u001b[0m\u001b[0;34m\u001b[0m\u001b[0;34m\u001b[0m\u001b[0m\n\u001b[0m\u001b[1;32m   4299\u001b[0m                     )\n\u001b[1;32m   4300\u001b[0m                 \u001b[0;32melse\u001b[0m\u001b[0;34m:\u001b[0m\u001b[0;34m\u001b[0m\u001b[0;34m\u001b[0m\u001b[0m\n",
      "\u001b[0;31mValueError\u001b[0m: 'c' argument has 3 elements, which is not acceptable for use with 'x' with size 0, 'y' with size 0."
     ]
    },
    {
     "data": {
      "image/png": "[encoded data removed]",
      "text/plain": [
       "<Figure size 864x576 with 6 Axes>"
      ]
     },
     "metadata": {},
     "output_type": "display_data"
    }
   ],
   "source": [
    "# import seaborn as sns\n",
    "#sns.reset_orig()\n",
    "\n",
    "sns.set(font_scale=1.5)\n",
    "sns.set_style('whitegrid')\n",
    "#plt.figure(figsize=(8, 4))\n",
    "#plt.figure(figsize=(16, 8))\n",
    "#sns.factorplot(x='epsilon_prime', y='AUC', col='L1', col_wrap=3, hue='L2', \n",
    "#               markers=['o', 'x', '^', 's', 'D', 'v'], \n",
    "#               linestyles=['-', '--', '-.', '-', '--', '-.'], \n",
    "#              data=df_all_epsilnPrime_concat)\n",
    "g = sns.catplot(x='epsilon_prime', y='AUC', col='L1', col_wrap=3, hue='L2', \n",
    "               markers=['o', 'x', '^', 's', 'D', 'v'], \n",
    "               linestyles=['-', '--', '-.', '-', '--', '-.'],\n",
    "               kind='point',\n",
    "               data=df_all_epsilnPrime_concat,\n",
    "               size=4, aspect=1)\n",
    "#plt.show()\n",
    "g.fig.savefig(os.path.join(outdir, 'dependency_auc_on_epsilon_prime.eps'), \n",
    "          bbox_inches='tight', dpi=200)\n",
    "plt.close()"
   ]
  },
  {
   "cell_type": "code",
   "execution_count": null,
   "metadata": {},
   "outputs": [],
   "source": []
  },
  {
   "cell_type": "code",
   "execution_count": 24,
   "metadata": {},
   "outputs": [
    {
     "name": "stdout",
     "output_type": "stream",
     "text": [
      "java -cp ./ICDMFiles_SEED_py4j/ SEEDChangeDetector 0.05 32 0.0025 0.2 75\n"
     ]
    },
    {
     "name": "stderr",
     "output_type": "stream",
     "text": [
      "  0%|          | 0/10 [00:00<?, ?it/s]/Users/sfukushima/.pyenv/versions/anaconda3-5.0.1/lib/python3.6/site-packages/ipykernel_launcher.py:69: RuntimeWarning: invalid value encountered in greater\n",
      "/Users/sfukushima/.pyenv/versions/anaconda3-5.0.1/lib/python3.6/site-packages/ipykernel_launcher.py:69: RuntimeWarning: invalid value encountered in less\n",
      "/Users/sfukushima/.pyenv/versions/anaconda3-5.0.1/lib/python3.6/site-packages/ipykernel_launcher.py:74: RuntimeWarning: invalid value encountered in greater\n",
      "/Users/sfukushima/.pyenv/versions/anaconda3-5.0.1/lib/python3.6/site-packages/ipykernel_launcher.py:74: RuntimeWarning: invalid value encountered in less\n",
      "/Users/sfukushima/.pyenv/versions/anaconda3-5.0.1/lib/python3.6/site-packages/ipykernel_launcher.py:104: RuntimeWarning: invalid value encountered in greater\n",
      "/Users/sfukushima/.pyenv/versions/anaconda3-5.0.1/lib/python3.6/site-packages/ipykernel_launcher.py:104: RuntimeWarning: invalid value encountered in less\n",
      "/Users/sfukushima/.pyenv/versions/anaconda3-5.0.1/lib/python3.6/site-packages/ipykernel_launcher.py:112: RuntimeWarning: invalid value encountered in greater\n",
      "/Users/sfukushima/.pyenv/versions/anaconda3-5.0.1/lib/python3.6/site-packages/ipykernel_launcher.py:112: RuntimeWarning: invalid value encountered in less\n",
      "100%|██████████| 10/10 [00:00<00:00, 12.92it/s]\n"
     ]
    },
    {
     "name": "stdout",
     "output_type": "stream",
     "text": [
      "java -cp ./ICDMFiles_SEED_py4j/ SEEDChangeDetector 0.05 32 0.005 0.2 75\n"
     ]
    },
    {
     "name": "stderr",
     "output_type": "stream",
     "text": [
      "100%|██████████| 10/10 [00:00<00:00, 12.45it/s]\n"
     ]
    },
    {
     "name": "stdout",
     "output_type": "stream",
     "text": [
      "java -cp ./ICDMFiles_SEED_py4j/ SEEDChangeDetector 0.05 32 0.0075 0.2 75\n"
     ]
    },
    {
     "name": "stderr",
     "output_type": "stream",
     "text": [
      "100%|██████████| 10/10 [00:00<00:00, 10.51it/s]\n"
     ]
    },
    {
     "name": "stdout",
     "output_type": "stream",
     "text": [
      "java -cp ./ICDMFiles_SEED_py4j/ SEEDChangeDetector 0.05 32 0.025 0.2 75\n"
     ]
    },
    {
     "name": "stderr",
     "output_type": "stream",
     "text": [
      "100%|██████████| 10/10 [00:00<00:00, 10.39it/s]\n"
     ]
    },
    {
     "name": "stdout",
     "output_type": "stream",
     "text": [
      "java -cp ./ICDMFiles_SEED_py4j/ SEEDChangeDetector 0.05 32 0.05 0.2 75\n"
     ]
    },
    {
     "name": "stderr",
     "output_type": "stream",
     "text": [
      "100%|██████████| 10/10 [00:00<00:00, 10.54it/s]\n"
     ]
    },
    {
     "name": "stdout",
     "output_type": "stream",
     "text": [
      "java -cp ./ICDMFiles_SEED_py4j/ SEEDChangeDetector 0.05 32 0.075 0.2 75\n"
     ]
    },
    {
     "name": "stderr",
     "output_type": "stream",
     "text": [
      "100%|██████████| 10/10 [00:00<00:00, 13.30it/s]\n"
     ]
    },
    {
     "name": "stdout",
     "output_type": "stream",
     "text": [
      "java -cp ./ICDMFiles_SEED_py4j/ SEEDChangeDetector 0.05 32 0.0025 0.2 75\n"
     ]
    },
    {
     "name": "stderr",
     "output_type": "stream",
     "text": [
      "100%|██████████| 10/10 [00:01<00:00,  5.49it/s]\n"
     ]
    },
    {
     "name": "stdout",
     "output_type": "stream",
     "text": [
      "java -cp ./ICDMFiles_SEED_py4j/ SEEDChangeDetector 0.05 32 0.005 0.2 75\n"
     ]
    },
    {
     "name": "stderr",
     "output_type": "stream",
     "text": [
      "100%|██████████| 10/10 [00:02<00:00,  4.33it/s]\n"
     ]
    },
    {
     "name": "stdout",
     "output_type": "stream",
     "text": [
      "java -cp ./ICDMFiles_SEED_py4j/ SEEDChangeDetector 0.05 32 0.0075 0.2 75\n"
     ]
    },
    {
     "name": "stderr",
     "output_type": "stream",
     "text": [
      "100%|██████████| 10/10 [00:01<00:00,  6.13it/s]\n"
     ]
    },
    {
     "name": "stdout",
     "output_type": "stream",
     "text": [
      "java -cp ./ICDMFiles_SEED_py4j/ SEEDChangeDetector 0.05 32 0.025 0.2 75\n"
     ]
    },
    {
     "name": "stderr",
     "output_type": "stream",
     "text": [
      "100%|██████████| 10/10 [00:02<00:00,  4.35it/s]\n"
     ]
    },
    {
     "name": "stdout",
     "output_type": "stream",
     "text": [
      "java -cp ./ICDMFiles_SEED_py4j/ SEEDChangeDetector 0.05 32 0.05 0.2 75\n"
     ]
    },
    {
     "name": "stderr",
     "output_type": "stream",
     "text": [
      "100%|██████████| 10/10 [00:01<00:00,  6.47it/s]\n"
     ]
    },
    {
     "name": "stdout",
     "output_type": "stream",
     "text": [
      "java -cp ./ICDMFiles_SEED_py4j/ SEEDChangeDetector 0.05 32 0.075 0.2 75\n"
     ]
    },
    {
     "name": "stderr",
     "output_type": "stream",
     "text": [
      "100%|██████████| 10/10 [00:02<00:00,  4.51it/s]\n"
     ]
    },
    {
     "name": "stdout",
     "output_type": "stream",
     "text": [
      "java -cp ./ICDMFiles_SEED_py4j/ SEEDChangeDetector 0.05 32 0.0025 0.2 75\n"
     ]
    },
    {
     "name": "stderr",
     "output_type": "stream",
     "text": [
      "100%|██████████| 10/10 [00:03<00:00,  3.43it/s]\n"
     ]
    },
    {
     "name": "stdout",
     "output_type": "stream",
     "text": [
      "java -cp ./ICDMFiles_SEED_py4j/ SEEDChangeDetector 0.05 32 0.005 0.2 75\n"
     ]
    },
    {
     "name": "stderr",
     "output_type": "stream",
     "text": [
      "100%|██████████| 10/10 [00:04<00:00,  2.03it/s]\n"
     ]
    },
    {
     "name": "stdout",
     "output_type": "stream",
     "text": [
      "java -cp ./ICDMFiles_SEED_py4j/ SEEDChangeDetector 0.05 32 0.0075 0.2 75\n"
     ]
    },
    {
     "name": "stderr",
     "output_type": "stream",
     "text": [
      "100%|██████████| 10/10 [00:03<00:00,  2.74it/s]\n"
     ]
    },
    {
     "name": "stdout",
     "output_type": "stream",
     "text": [
      "java -cp ./ICDMFiles_SEED_py4j/ SEEDChangeDetector 0.05 32 0.025 0.2 75\n"
     ]
    },
    {
     "name": "stderr",
     "output_type": "stream",
     "text": [
      "100%|██████████| 10/10 [00:05<00:00,  1.98it/s]\n"
     ]
    },
    {
     "name": "stdout",
     "output_type": "stream",
     "text": [
      "java -cp ./ICDMFiles_SEED_py4j/ SEEDChangeDetector 0.05 32 0.05 0.2 75\n"
     ]
    },
    {
     "name": "stderr",
     "output_type": "stream",
     "text": [
      "100%|██████████| 10/10 [00:03<00:00,  3.47it/s]\n"
     ]
    },
    {
     "name": "stdout",
     "output_type": "stream",
     "text": [
      "java -cp ./ICDMFiles_SEED_py4j/ SEEDChangeDetector 0.05 32 0.075 0.2 75\n"
     ]
    },
    {
     "name": "stderr",
     "output_type": "stream",
     "text": [
      "100%|██████████| 10/10 [00:05<00:00,  1.96it/s]\n"
     ]
    },
    {
     "name": "stdout",
     "output_type": "stream",
     "text": [
      "java -cp ./ICDMFiles_SEED_py4j/ SEEDChangeDetector 0.05 32 0.0025 0.2 75\n"
     ]
    },
    {
     "name": "stderr",
     "output_type": "stream",
     "text": [
      "100%|██████████| 10/10 [00:19<00:00,  1.68s/it]\n"
     ]
    },
    {
     "name": "stdout",
     "output_type": "stream",
     "text": [
      "java -cp ./ICDMFiles_SEED_py4j/ SEEDChangeDetector 0.05 32 0.005 0.2 75\n"
     ]
    },
    {
     "name": "stderr",
     "output_type": "stream",
     "text": [
      "100%|██████████| 10/10 [00:23<00:00,  2.58s/it]\n"
     ]
    },
    {
     "name": "stdout",
     "output_type": "stream",
     "text": [
      "java -cp ./ICDMFiles_SEED_py4j/ SEEDChangeDetector 0.05 32 0.0075 0.2 75\n"
     ]
    },
    {
     "name": "stderr",
     "output_type": "stream",
     "text": [
      "100%|██████████| 10/10 [00:19<00:00,  1.91s/it]\n"
     ]
    },
    {
     "name": "stdout",
     "output_type": "stream",
     "text": [
      "java -cp ./ICDMFiles_SEED_py4j/ SEEDChangeDetector 0.05 32 0.025 0.2 75\n"
     ]
    },
    {
     "name": "stderr",
     "output_type": "stream",
     "text": [
      "100%|██████████| 10/10 [00:21<00:00,  2.16s/it]\n"
     ]
    },
    {
     "name": "stdout",
     "output_type": "stream",
     "text": [
      "java -cp ./ICDMFiles_SEED_py4j/ SEEDChangeDetector 0.05 32 0.05 0.2 75\n"
     ]
    },
    {
     "name": "stderr",
     "output_type": "stream",
     "text": [
      "100%|██████████| 10/10 [00:20<00:00,  1.84s/it]\n"
     ]
    },
    {
     "name": "stdout",
     "output_type": "stream",
     "text": [
      "java -cp ./ICDMFiles_SEED_py4j/ SEEDChangeDetector 0.05 32 0.075 0.2 75\n"
     ]
    },
    {
     "name": "stderr",
     "output_type": "stream",
     "text": [
      "100%|██████████| 10/10 [00:23<00:00,  2.51s/it]\n"
     ]
    },
    {
     "name": "stdout",
     "output_type": "stream",
     "text": [
      "java -cp ./ICDMFiles_SEED_py4j/ SEEDChangeDetector 0.05 32 0.0025 0.2 75\n"
     ]
    },
    {
     "name": "stderr",
     "output_type": "stream",
     "text": [
      "100%|██████████| 10/10 [00:41<00:00,  4.44s/it]\n"
     ]
    },
    {
     "name": "stdout",
     "output_type": "stream",
     "text": [
      "java -cp ./ICDMFiles_SEED_py4j/ SEEDChangeDetector 0.05 32 0.005 0.2 75\n"
     ]
    },
    {
     "name": "stderr",
     "output_type": "stream",
     "text": [
      "100%|██████████| 10/10 [00:42<00:00,  4.48s/it]\n"
     ]
    },
    {
     "name": "stdout",
     "output_type": "stream",
     "text": [
      "java -cp ./ICDMFiles_SEED_py4j/ SEEDChangeDetector 0.05 32 0.0075 0.2 75\n"
     ]
    },
    {
     "name": "stderr",
     "output_type": "stream",
     "text": [
      "100%|██████████| 10/10 [00:41<00:00,  4.25s/it]\n"
     ]
    },
    {
     "name": "stdout",
     "output_type": "stream",
     "text": [
      "java -cp ./ICDMFiles_SEED_py4j/ SEEDChangeDetector 0.05 32 0.025 0.2 75\n"
     ]
    },
    {
     "name": "stderr",
     "output_type": "stream",
     "text": [
      "100%|██████████| 10/10 [00:42<00:00,  4.18s/it]\n"
     ]
    },
    {
     "name": "stdout",
     "output_type": "stream",
     "text": [
      "java -cp ./ICDMFiles_SEED_py4j/ SEEDChangeDetector 0.05 32 0.05 0.2 75\n"
     ]
    },
    {
     "name": "stderr",
     "output_type": "stream",
     "text": [
      "100%|██████████| 10/10 [00:42<00:00,  4.16s/it]\n"
     ]
    },
    {
     "name": "stdout",
     "output_type": "stream",
     "text": [
      "java -cp ./ICDMFiles_SEED_py4j/ SEEDChangeDetector 0.05 32 0.075 0.2 75\n"
     ]
    },
    {
     "name": "stderr",
     "output_type": "stream",
     "text": [
      "100%|██████████| 10/10 [00:42<00:00,  3.93s/it]\n"
     ]
    },
    {
     "name": "stdout",
     "output_type": "stream",
     "text": [
      "java -cp ./ICDMFiles_SEED_py4j/ SEEDChangeDetector 0.05 32 0.0025 0.2 75\n"
     ]
    },
    {
     "name": "stderr",
     "output_type": "stream",
     "text": [
      "100%|██████████| 10/10 [00:00<00:00, 12.84it/s]\n"
     ]
    },
    {
     "name": "stdout",
     "output_type": "stream",
     "text": [
      "java -cp ./ICDMFiles_SEED_py4j/ SEEDChangeDetector 0.05 32 0.005 0.2 75\n"
     ]
    },
    {
     "name": "stderr",
     "output_type": "stream",
     "text": [
      "100%|██████████| 10/10 [00:00<00:00, 11.61it/s]\n"
     ]
    },
    {
     "name": "stdout",
     "output_type": "stream",
     "text": [
      "java -cp ./ICDMFiles_SEED_py4j/ SEEDChangeDetector 0.05 32 0.0075 0.2 75\n"
     ]
    },
    {
     "name": "stderr",
     "output_type": "stream",
     "text": [
      "100%|██████████| 10/10 [00:00<00:00, 11.37it/s]\n"
     ]
    },
    {
     "name": "stdout",
     "output_type": "stream",
     "text": [
      "java -cp ./ICDMFiles_SEED_py4j/ SEEDChangeDetector 0.05 32 0.025 0.2 75\n"
     ]
    },
    {
     "name": "stderr",
     "output_type": "stream",
     "text": [
      "100%|██████████| 10/10 [00:00<00:00, 12.15it/s]\n"
     ]
    },
    {
     "name": "stdout",
     "output_type": "stream",
     "text": [
      "java -cp ./ICDMFiles_SEED_py4j/ SEEDChangeDetector 0.05 32 0.05 0.2 75\n"
     ]
    },
    {
     "name": "stderr",
     "output_type": "stream",
     "text": [
      "100%|██████████| 10/10 [00:00<00:00, 13.06it/s]\n"
     ]
    },
    {
     "name": "stdout",
     "output_type": "stream",
     "text": [
      "java -cp ./ICDMFiles_SEED_py4j/ SEEDChangeDetector 0.05 32 0.075 0.2 75\n"
     ]
    },
    {
     "name": "stderr",
     "output_type": "stream",
     "text": [
      "100%|██████████| 10/10 [00:00<00:00, 13.00it/s]\n"
     ]
    },
    {
     "name": "stdout",
     "output_type": "stream",
     "text": [
      "java -cp ./ICDMFiles_SEED_py4j/ SEEDChangeDetector 0.05 32 0.0025 0.2 75\n"
     ]
    },
    {
     "name": "stderr",
     "output_type": "stream",
     "text": [
      "100%|██████████| 10/10 [00:02<00:00,  4.41it/s]\n"
     ]
    },
    {
     "name": "stdout",
     "output_type": "stream",
     "text": [
      "java -cp ./ICDMFiles_SEED_py4j/ SEEDChangeDetector 0.05 32 0.005 0.2 75\n"
     ]
    },
    {
     "name": "stderr",
     "output_type": "stream",
     "text": [
      "100%|██████████| 10/10 [00:02<00:00,  4.49it/s]\n"
     ]
    },
    {
     "name": "stdout",
     "output_type": "stream",
     "text": [
      "java -cp ./ICDMFiles_SEED_py4j/ SEEDChangeDetector 0.05 32 0.0075 0.2 75\n"
     ]
    },
    {
     "name": "stderr",
     "output_type": "stream",
     "text": [
      "100%|██████████| 10/10 [00:01<00:00,  6.23it/s]\n"
     ]
    },
    {
     "name": "stdout",
     "output_type": "stream",
     "text": [
      "java -cp ./ICDMFiles_SEED_py4j/ SEEDChangeDetector 0.05 32 0.025 0.2 75\n"
     ]
    },
    {
     "name": "stderr",
     "output_type": "stream",
     "text": [
      "100%|██████████| 10/10 [00:02<00:00,  3.54it/s]\n"
     ]
    },
    {
     "name": "stdout",
     "output_type": "stream",
     "text": [
      "java -cp ./ICDMFiles_SEED_py4j/ SEEDChangeDetector 0.05 32 0.05 0.2 75\n"
     ]
    },
    {
     "name": "stderr",
     "output_type": "stream",
     "text": [
      "100%|██████████| 10/10 [00:02<00:00,  4.37it/s]\n"
     ]
    },
    {
     "name": "stdout",
     "output_type": "stream",
     "text": [
      "java -cp ./ICDMFiles_SEED_py4j/ SEEDChangeDetector 0.05 32 0.075 0.2 75\n"
     ]
    },
    {
     "name": "stderr",
     "output_type": "stream",
     "text": [
      "100%|██████████| 10/10 [00:01<00:00,  6.34it/s]\n"
     ]
    },
    {
     "name": "stdout",
     "output_type": "stream",
     "text": [
      "java -cp ./ICDMFiles_SEED_py4j/ SEEDChangeDetector 0.05 32 0.0025 0.2 75\n"
     ]
    },
    {
     "name": "stderr",
     "output_type": "stream",
     "text": [
      "100%|██████████| 10/10 [00:04<00:00,  3.01it/s]\n"
     ]
    },
    {
     "name": "stdout",
     "output_type": "stream",
     "text": [
      "java -cp ./ICDMFiles_SEED_py4j/ SEEDChangeDetector 0.05 32 0.005 0.2 75\n"
     ]
    },
    {
     "name": "stderr",
     "output_type": "stream",
     "text": [
      "100%|██████████| 10/10 [00:04<00:00,  3.09it/s]\n"
     ]
    },
    {
     "name": "stdout",
     "output_type": "stream",
     "text": [
      "java -cp ./ICDMFiles_SEED_py4j/ SEEDChangeDetector 0.05 32 0.0075 0.2 75\n"
     ]
    },
    {
     "name": "stderr",
     "output_type": "stream",
     "text": [
      "100%|██████████| 10/10 [00:04<00:00,  3.01it/s]\n"
     ]
    },
    {
     "name": "stdout",
     "output_type": "stream",
     "text": [
      "java -cp ./ICDMFiles_SEED_py4j/ SEEDChangeDetector 0.05 32 0.025 0.2 75\n"
     ]
    },
    {
     "name": "stderr",
     "output_type": "stream",
     "text": [
      "100%|██████████| 10/10 [00:04<00:00,  3.05it/s]\n"
     ]
    },
    {
     "name": "stdout",
     "output_type": "stream",
     "text": [
      "java -cp ./ICDMFiles_SEED_py4j/ SEEDChangeDetector 0.05 32 0.05 0.2 75\n"
     ]
    },
    {
     "name": "stderr",
     "output_type": "stream",
     "text": [
      "100%|██████████| 10/10 [00:04<00:00,  3.02it/s]\n"
     ]
    },
    {
     "name": "stdout",
     "output_type": "stream",
     "text": [
      "java -cp ./ICDMFiles_SEED_py4j/ SEEDChangeDetector 0.05 32 0.075 0.2 75\n"
     ]
    },
    {
     "name": "stderr",
     "output_type": "stream",
     "text": [
      "100%|██████████| 10/10 [00:03<00:00,  3.29it/s]\n"
     ]
    },
    {
     "name": "stdout",
     "output_type": "stream",
     "text": [
      "java -cp ./ICDMFiles_SEED_py4j/ SEEDChangeDetector 0.05 32 0.0025 0.2 75\n"
     ]
    },
    {
     "name": "stderr",
     "output_type": "stream",
     "text": [
      "100%|██████████| 10/10 [00:20<00:00,  2.02s/it]\n"
     ]
    },
    {
     "name": "stdout",
     "output_type": "stream",
     "text": [
      "java -cp ./ICDMFiles_SEED_py4j/ SEEDChangeDetector 0.05 32 0.005 0.2 75\n"
     ]
    },
    {
     "name": "stderr",
     "output_type": "stream",
     "text": [
      "100%|██████████| 10/10 [00:21<00:00,  1.88s/it]\n"
     ]
    },
    {
     "name": "stdout",
     "output_type": "stream",
     "text": [
      "java -cp ./ICDMFiles_SEED_py4j/ SEEDChangeDetector 0.05 32 0.0075 0.2 75\n"
     ]
    },
    {
     "name": "stderr",
     "output_type": "stream",
     "text": [
      "100%|██████████| 10/10 [00:22<00:00,  2.32s/it]\n"
     ]
    },
    {
     "name": "stdout",
     "output_type": "stream",
     "text": [
      "java -cp ./ICDMFiles_SEED_py4j/ SEEDChangeDetector 0.05 32 0.025 0.2 75\n"
     ]
    },
    {
     "name": "stderr",
     "output_type": "stream",
     "text": [
      "100%|██████████| 10/10 [00:21<00:00,  2.32s/it]\n"
     ]
    },
    {
     "name": "stdout",
     "output_type": "stream",
     "text": [
      "java -cp ./ICDMFiles_SEED_py4j/ SEEDChangeDetector 0.05 32 0.05 0.2 75\n"
     ]
    },
    {
     "name": "stderr",
     "output_type": "stream",
     "text": [
      "100%|██████████| 10/10 [00:20<00:00,  1.85s/it]\n"
     ]
    },
    {
     "name": "stdout",
     "output_type": "stream",
     "text": [
      "java -cp ./ICDMFiles_SEED_py4j/ SEEDChangeDetector 0.05 32 0.075 0.2 75\n"
     ]
    },
    {
     "name": "stderr",
     "output_type": "stream",
     "text": [
      "100%|██████████| 10/10 [00:21<00:00,  2.15s/it]\n"
     ]
    },
    {
     "name": "stdout",
     "output_type": "stream",
     "text": [
      "java -cp ./ICDMFiles_SEED_py4j/ SEEDChangeDetector 0.05 32 0.0025 0.2 75\n"
     ]
    },
    {
     "name": "stderr",
     "output_type": "stream",
     "text": [
      "100%|██████████| 10/10 [00:41<00:00,  3.96s/it]\n"
     ]
    },
    {
     "name": "stdout",
     "output_type": "stream",
     "text": [
      "java -cp ./ICDMFiles_SEED_py4j/ SEEDChangeDetector 0.05 32 0.005 0.2 75\n"
     ]
    },
    {
     "name": "stderr",
     "output_type": "stream",
     "text": [
      "100%|██████████| 10/10 [00:43<00:00,  4.63s/it]\n"
     ]
    },
    {
     "name": "stdout",
     "output_type": "stream",
     "text": [
      "java -cp ./ICDMFiles_SEED_py4j/ SEEDChangeDetector 0.05 32 0.0075 0.2 75\n"
     ]
    },
    {
     "name": "stderr",
     "output_type": "stream",
     "text": [
      "100%|██████████| 10/10 [00:42<00:00,  4.58s/it]\n"
     ]
    },
    {
     "name": "stdout",
     "output_type": "stream",
     "text": [
      "java -cp ./ICDMFiles_SEED_py4j/ SEEDChangeDetector 0.05 32 0.025 0.2 75\n"
     ]
    },
    {
     "name": "stderr",
     "output_type": "stream",
     "text": [
      "100%|██████████| 10/10 [00:42<00:00,  4.12s/it]\n"
     ]
    },
    {
     "name": "stdout",
     "output_type": "stream",
     "text": [
      "java -cp ./ICDMFiles_SEED_py4j/ SEEDChangeDetector 0.05 32 0.05 0.2 75\n"
     ]
    },
    {
     "name": "stderr",
     "output_type": "stream",
     "text": [
      "100%|██████████| 10/10 [00:44<00:00,  4.59s/it]\n"
     ]
    },
    {
     "name": "stdout",
     "output_type": "stream",
     "text": [
      "java -cp ./ICDMFiles_SEED_py4j/ SEEDChangeDetector 0.05 32 0.075 0.2 75\n"
     ]
    },
    {
     "name": "stderr",
     "output_type": "stream",
     "text": [
      "100%|██████████| 10/10 [00:43<00:00,  4.81s/it]\n"
     ]
    },
    {
     "name": "stdout",
     "output_type": "stream",
     "text": [
      "java -cp ./ICDMFiles_SEED_py4j/ SEEDChangeDetector 0.05 32 0.0025 0.2 75\n"
     ]
    },
    {
     "name": "stderr",
     "output_type": "stream",
     "text": [
      "100%|██████████| 10/10 [00:01<00:00,  6.21it/s]\n"
     ]
    },
    {
     "name": "stdout",
     "output_type": "stream",
     "text": [
      "java -cp ./ICDMFiles_SEED_py4j/ SEEDChangeDetector 0.05 32 0.005 0.2 75\n"
     ]
    },
    {
     "name": "stderr",
     "output_type": "stream",
     "text": [
      "100%|██████████| 10/10 [00:02<00:00,  4.39it/s]\n"
     ]
    },
    {
     "name": "stdout",
     "output_type": "stream",
     "text": [
      "java -cp ./ICDMFiles_SEED_py4j/ SEEDChangeDetector 0.05 32 0.0075 0.2 75\n"
     ]
    },
    {
     "name": "stderr",
     "output_type": "stream",
     "text": [
      "100%|██████████| 10/10 [00:02<00:00,  4.75it/s]\n"
     ]
    },
    {
     "name": "stdout",
     "output_type": "stream",
     "text": [
      "java -cp ./ICDMFiles_SEED_py4j/ SEEDChangeDetector 0.05 32 0.025 0.2 75\n"
     ]
    },
    {
     "name": "stderr",
     "output_type": "stream",
     "text": [
      "100%|██████████| 10/10 [00:02<00:00,  4.36it/s]\n"
     ]
    },
    {
     "name": "stdout",
     "output_type": "stream",
     "text": [
      "java -cp ./ICDMFiles_SEED_py4j/ SEEDChangeDetector 0.05 32 0.05 0.2 75\n"
     ]
    },
    {
     "name": "stderr",
     "output_type": "stream",
     "text": [
      "100%|██████████| 10/10 [00:01<00:00,  6.31it/s]\n"
     ]
    },
    {
     "name": "stdout",
     "output_type": "stream",
     "text": [
      "java -cp ./ICDMFiles_SEED_py4j/ SEEDChangeDetector 0.05 32 0.075 0.2 75\n"
     ]
    },
    {
     "name": "stderr",
     "output_type": "stream",
     "text": [
      "100%|██████████| 10/10 [00:02<00:00,  4.67it/s]\n"
     ]
    },
    {
     "name": "stdout",
     "output_type": "stream",
     "text": [
      "java -cp ./ICDMFiles_SEED_py4j/ SEEDChangeDetector 0.05 32 0.0025 0.2 75\n"
     ]
    },
    {
     "name": "stderr",
     "output_type": "stream",
     "text": [
      "100%|██████████| 10/10 [00:02<00:00,  4.64it/s]\n"
     ]
    },
    {
     "name": "stdout",
     "output_type": "stream",
     "text": [
      "java -cp ./ICDMFiles_SEED_py4j/ SEEDChangeDetector 0.05 32 0.005 0.2 75\n"
     ]
    },
    {
     "name": "stderr",
     "output_type": "stream",
     "text": [
      "100%|██████████| 10/10 [00:02<00:00,  4.64it/s]\n"
     ]
    },
    {
     "name": "stdout",
     "output_type": "stream",
     "text": [
      "java -cp ./ICDMFiles_SEED_py4j/ SEEDChangeDetector 0.05 32 0.0075 0.2 75\n"
     ]
    },
    {
     "name": "stderr",
     "output_type": "stream",
     "text": [
      "100%|██████████| 10/10 [00:01<00:00,  6.10it/s]\n"
     ]
    },
    {
     "name": "stdout",
     "output_type": "stream",
     "text": [
      "java -cp ./ICDMFiles_SEED_py4j/ SEEDChangeDetector 0.05 32 0.025 0.2 75\n"
     ]
    },
    {
     "name": "stderr",
     "output_type": "stream",
     "text": [
      "100%|██████████| 10/10 [00:02<00:00,  4.52it/s]\n"
     ]
    },
    {
     "name": "stdout",
     "output_type": "stream",
     "text": [
      "java -cp ./ICDMFiles_SEED_py4j/ SEEDChangeDetector 0.05 32 0.05 0.2 75\n"
     ]
    },
    {
     "name": "stderr",
     "output_type": "stream",
     "text": [
      "100%|██████████| 10/10 [00:02<00:00,  4.42it/s]\n"
     ]
    },
    {
     "name": "stdout",
     "output_type": "stream",
     "text": [
      "java -cp ./ICDMFiles_SEED_py4j/ SEEDChangeDetector 0.05 32 0.075 0.2 75\n"
     ]
    },
    {
     "name": "stderr",
     "output_type": "stream",
     "text": [
      "100%|██████████| 10/10 [00:02<00:00,  4.93it/s]\n"
     ]
    },
    {
     "name": "stdout",
     "output_type": "stream",
     "text": [
      "java -cp ./ICDMFiles_SEED_py4j/ SEEDChangeDetector 0.05 32 0.0025 0.2 75\n"
     ]
    },
    {
     "name": "stderr",
     "output_type": "stream",
     "text": [
      "100%|██████████| 10/10 [00:06<00:00,  1.49it/s]\n"
     ]
    },
    {
     "name": "stdout",
     "output_type": "stream",
     "text": [
      "java -cp ./ICDMFiles_SEED_py4j/ SEEDChangeDetector 0.05 32 0.005 0.2 75\n"
     ]
    },
    {
     "name": "stderr",
     "output_type": "stream",
     "text": [
      "100%|██████████| 10/10 [00:04<00:00,  1.85it/s]\n"
     ]
    },
    {
     "name": "stdout",
     "output_type": "stream",
     "text": [
      "java -cp ./ICDMFiles_SEED_py4j/ SEEDChangeDetector 0.05 32 0.0075 0.2 75\n"
     ]
    },
    {
     "name": "stderr",
     "output_type": "stream",
     "text": [
      "100%|██████████| 10/10 [00:07<00:00,  1.38it/s]\n"
     ]
    },
    {
     "name": "stdout",
     "output_type": "stream",
     "text": [
      "java -cp ./ICDMFiles_SEED_py4j/ SEEDChangeDetector 0.05 32 0.025 0.2 75\n"
     ]
    },
    {
     "name": "stderr",
     "output_type": "stream",
     "text": [
      "100%|██████████| 10/10 [00:04<00:00,  1.81it/s]\n"
     ]
    },
    {
     "name": "stdout",
     "output_type": "stream",
     "text": [
      "java -cp ./ICDMFiles_SEED_py4j/ SEEDChangeDetector 0.05 32 0.05 0.2 75\n"
     ]
    },
    {
     "name": "stderr",
     "output_type": "stream",
     "text": [
      "100%|██████████| 10/10 [00:06<00:00,  1.51it/s]\n"
     ]
    },
    {
     "name": "stdout",
     "output_type": "stream",
     "text": [
      "java -cp ./ICDMFiles_SEED_py4j/ SEEDChangeDetector 0.05 32 0.075 0.2 75\n"
     ]
    },
    {
     "name": "stderr",
     "output_type": "stream",
     "text": [
      "100%|██████████| 10/10 [00:05<00:00,  1.60it/s]\n"
     ]
    },
    {
     "name": "stdout",
     "output_type": "stream",
     "text": [
      "java -cp ./ICDMFiles_SEED_py4j/ SEEDChangeDetector 0.05 32 0.0025 0.2 75\n"
     ]
    },
    {
     "name": "stderr",
     "output_type": "stream",
     "text": [
      "100%|██████████| 10/10 [00:24<00:00,  2.78s/it]\n"
     ]
    },
    {
     "name": "stdout",
     "output_type": "stream",
     "text": [
      "java -cp ./ICDMFiles_SEED_py4j/ SEEDChangeDetector 0.05 32 0.005 0.2 75\n"
     ]
    },
    {
     "name": "stderr",
     "output_type": "stream",
     "text": [
      "100%|██████████| 10/10 [00:21<00:00,  2.16s/it]\n"
     ]
    },
    {
     "name": "stdout",
     "output_type": "stream",
     "text": [
      "java -cp ./ICDMFiles_SEED_py4j/ SEEDChangeDetector 0.05 32 0.0075 0.2 75\n"
     ]
    },
    {
     "name": "stderr",
     "output_type": "stream",
     "text": [
      "100%|██████████| 10/10 [00:23<00:00,  2.19s/it]\n"
     ]
    },
    {
     "name": "stdout",
     "output_type": "stream",
     "text": [
      "java -cp ./ICDMFiles_SEED_py4j/ SEEDChangeDetector 0.05 32 0.025 0.2 75\n"
     ]
    },
    {
     "name": "stderr",
     "output_type": "stream",
     "text": [
      "100%|██████████| 10/10 [00:24<00:00,  2.66s/it]\n"
     ]
    },
    {
     "name": "stdout",
     "output_type": "stream",
     "text": [
      "java -cp ./ICDMFiles_SEED_py4j/ SEEDChangeDetector 0.05 32 0.05 0.2 75\n"
     ]
    },
    {
     "name": "stderr",
     "output_type": "stream",
     "text": [
      "100%|██████████| 10/10 [00:22<00:00,  2.29s/it]\n"
     ]
    },
    {
     "name": "stdout",
     "output_type": "stream",
     "text": [
      "java -cp ./ICDMFiles_SEED_py4j/ SEEDChangeDetector 0.05 32 0.075 0.2 75\n"
     ]
    },
    {
     "name": "stderr",
     "output_type": "stream",
     "text": [
      "100%|██████████| 10/10 [00:23<00:00,  2.09s/it]\n"
     ]
    },
    {
     "name": "stdout",
     "output_type": "stream",
     "text": [
      "java -cp ./ICDMFiles_SEED_py4j/ SEEDChangeDetector 0.05 32 0.0025 0.2 75\n"
     ]
    },
    {
     "name": "stderr",
     "output_type": "stream",
     "text": [
      "100%|██████████| 10/10 [00:47<00:00,  4.92s/it]\n"
     ]
    },
    {
     "name": "stdout",
     "output_type": "stream",
     "text": [
      "java -cp ./ICDMFiles_SEED_py4j/ SEEDChangeDetector 0.05 32 0.005 0.2 75\n"
     ]
    },
    {
     "name": "stderr",
     "output_type": "stream",
     "text": [
      "100%|██████████| 10/10 [00:45<00:00,  4.70s/it]\n"
     ]
    },
    {
     "name": "stdout",
     "output_type": "stream",
     "text": [
      "java -cp ./ICDMFiles_SEED_py4j/ SEEDChangeDetector 0.05 32 0.0075 0.2 75\n"
     ]
    },
    {
     "name": "stderr",
     "output_type": "stream",
     "text": [
      "100%|██████████| 10/10 [00:46<00:00,  4.86s/it]\n"
     ]
    },
    {
     "name": "stdout",
     "output_type": "stream",
     "text": [
      "java -cp ./ICDMFiles_SEED_py4j/ SEEDChangeDetector 0.05 32 0.025 0.2 75\n"
     ]
    },
    {
     "name": "stderr",
     "output_type": "stream",
     "text": [
      "100%|██████████| 10/10 [00:45<00:00,  4.77s/it]\n"
     ]
    },
    {
     "name": "stdout",
     "output_type": "stream",
     "text": [
      "java -cp ./ICDMFiles_SEED_py4j/ SEEDChangeDetector 0.05 32 0.05 0.2 75\n"
     ]
    },
    {
     "name": "stderr",
     "output_type": "stream",
     "text": [
      "100%|██████████| 10/10 [00:44<00:00,  4.19s/it]\n"
     ]
    },
    {
     "name": "stdout",
     "output_type": "stream",
     "text": [
      "java -cp ./ICDMFiles_SEED_py4j/ SEEDChangeDetector 0.05 32 0.075 0.2 75\n"
     ]
    },
    {
     "name": "stderr",
     "output_type": "stream",
     "text": [
      "100%|██████████| 10/10 [00:46<00:00,  4.82s/it]\n"
     ]
    },
    {
     "name": "stdout",
     "output_type": "stream",
     "text": [
      "java -cp ./ICDMFiles_SEED_py4j/ SEEDChangeDetector 0.05 32 0.0025 0.2 75\n"
     ]
    },
    {
     "name": "stderr",
     "output_type": "stream",
     "text": [
      "100%|██████████| 10/10 [00:02<00:00,  3.52it/s]\n"
     ]
    },
    {
     "name": "stdout",
     "output_type": "stream",
     "text": [
      "java -cp ./ICDMFiles_SEED_py4j/ SEEDChangeDetector 0.05 32 0.005 0.2 75\n"
     ]
    },
    {
     "name": "stderr",
     "output_type": "stream",
     "text": [
      "100%|██████████| 10/10 [00:05<00:00,  2.00it/s]\n"
     ]
    },
    {
     "name": "stdout",
     "output_type": "stream",
     "text": [
      "java -cp ./ICDMFiles_SEED_py4j/ SEEDChangeDetector 0.05 32 0.0075 0.2 75\n"
     ]
    },
    {
     "name": "stderr",
     "output_type": "stream",
     "text": [
      "100%|██████████| 10/10 [00:02<00:00,  3.61it/s]\n"
     ]
    },
    {
     "name": "stdout",
     "output_type": "stream",
     "text": [
      "java -cp ./ICDMFiles_SEED_py4j/ SEEDChangeDetector 0.05 32 0.025 0.2 75\n"
     ]
    },
    {
     "name": "stderr",
     "output_type": "stream",
     "text": [
      "100%|██████████| 10/10 [00:05<00:00,  1.55it/s]\n"
     ]
    },
    {
     "name": "stdout",
     "output_type": "stream",
     "text": [
      "java -cp ./ICDMFiles_SEED_py4j/ SEEDChangeDetector 0.05 32 0.05 0.2 75\n"
     ]
    },
    {
     "name": "stderr",
     "output_type": "stream",
     "text": [
      "100%|██████████| 10/10 [00:03<00:00,  3.51it/s]\n"
     ]
    },
    {
     "name": "stdout",
     "output_type": "stream",
     "text": [
      "java -cp ./ICDMFiles_SEED_py4j/ SEEDChangeDetector 0.05 32 0.075 0.2 75\n"
     ]
    },
    {
     "name": "stderr",
     "output_type": "stream",
     "text": [
      "100%|██████████| 10/10 [00:02<00:00,  3.65it/s]\n"
     ]
    },
    {
     "name": "stdout",
     "output_type": "stream",
     "text": [
      "java -cp ./ICDMFiles_SEED_py4j/ SEEDChangeDetector 0.05 32 0.0025 0.2 75\n"
     ]
    },
    {
     "name": "stderr",
     "output_type": "stream",
     "text": [
      "100%|██████████| 10/10 [00:02<00:00,  3.63it/s]\n"
     ]
    },
    {
     "name": "stdout",
     "output_type": "stream",
     "text": [
      "java -cp ./ICDMFiles_SEED_py4j/ SEEDChangeDetector 0.05 32 0.005 0.2 75\n"
     ]
    },
    {
     "name": "stderr",
     "output_type": "stream",
     "text": [
      "100%|██████████| 10/10 [00:02<00:00,  3.51it/s]\n"
     ]
    },
    {
     "name": "stdout",
     "output_type": "stream",
     "text": [
      "java -cp ./ICDMFiles_SEED_py4j/ SEEDChangeDetector 0.05 32 0.0075 0.2 75\n"
     ]
    },
    {
     "name": "stderr",
     "output_type": "stream",
     "text": [
      "100%|██████████| 10/10 [00:02<00:00,  3.53it/s]\n"
     ]
    },
    {
     "name": "stdout",
     "output_type": "stream",
     "text": [
      "java -cp ./ICDMFiles_SEED_py4j/ SEEDChangeDetector 0.05 32 0.025 0.2 75\n"
     ]
    },
    {
     "name": "stderr",
     "output_type": "stream",
     "text": [
      "100%|██████████| 10/10 [00:05<00:00,  2.06it/s]\n"
     ]
    },
    {
     "name": "stdout",
     "output_type": "stream",
     "text": [
      "java -cp ./ICDMFiles_SEED_py4j/ SEEDChangeDetector 0.05 32 0.05 0.2 75\n"
     ]
    },
    {
     "name": "stderr",
     "output_type": "stream",
     "text": [
      "100%|██████████| 10/10 [00:03<00:00,  2.72it/s]\n"
     ]
    },
    {
     "name": "stdout",
     "output_type": "stream",
     "text": [
      "java -cp ./ICDMFiles_SEED_py4j/ SEEDChangeDetector 0.05 32 0.075 0.2 75\n"
     ]
    },
    {
     "name": "stderr",
     "output_type": "stream",
     "text": [
      "100%|██████████| 10/10 [00:03<00:00,  3.25it/s]\n"
     ]
    },
    {
     "name": "stdout",
     "output_type": "stream",
     "text": [
      "java -cp ./ICDMFiles_SEED_py4j/ SEEDChangeDetector 0.05 32 0.0025 0.2 75\n"
     ]
    },
    {
     "name": "stderr",
     "output_type": "stream",
     "text": [
      "100%|██████████| 10/10 [00:03<00:00,  2.43it/s]\n"
     ]
    },
    {
     "name": "stdout",
     "output_type": "stream",
     "text": [
      "java -cp ./ICDMFiles_SEED_py4j/ SEEDChangeDetector 0.05 32 0.005 0.2 75\n"
     ]
    },
    {
     "name": "stderr",
     "output_type": "stream",
     "text": [
      "100%|██████████| 10/10 [00:03<00:00,  2.50it/s]\n"
     ]
    },
    {
     "name": "stdout",
     "output_type": "stream",
     "text": [
      "java -cp ./ICDMFiles_SEED_py4j/ SEEDChangeDetector 0.05 32 0.0075 0.2 75\n"
     ]
    },
    {
     "name": "stderr",
     "output_type": "stream",
     "text": [
      "100%|██████████| 10/10 [00:03<00:00,  2.55it/s]\n"
     ]
    },
    {
     "name": "stdout",
     "output_type": "stream",
     "text": [
      "java -cp ./ICDMFiles_SEED_py4j/ SEEDChangeDetector 0.05 32 0.025 0.2 75\n"
     ]
    },
    {
     "name": "stderr",
     "output_type": "stream",
     "text": [
      "100%|██████████| 10/10 [00:03<00:00,  2.55it/s]\n"
     ]
    },
    {
     "name": "stdout",
     "output_type": "stream",
     "text": [
      "java -cp ./ICDMFiles_SEED_py4j/ SEEDChangeDetector 0.05 32 0.05 0.2 75\n"
     ]
    },
    {
     "name": "stderr",
     "output_type": "stream",
     "text": [
      "100%|██████████| 10/10 [00:03<00:00,  2.58it/s]\n"
     ]
    },
    {
     "name": "stdout",
     "output_type": "stream",
     "text": [
      "java -cp ./ICDMFiles_SEED_py4j/ SEEDChangeDetector 0.05 32 0.075 0.2 75\n"
     ]
    },
    {
     "name": "stderr",
     "output_type": "stream",
     "text": [
      "100%|██████████| 10/10 [00:03<00:00,  2.56it/s]\n"
     ]
    },
    {
     "name": "stdout",
     "output_type": "stream",
     "text": [
      "java -cp ./ICDMFiles_SEED_py4j/ SEEDChangeDetector 0.05 32 0.0025 0.2 75\n"
     ]
    },
    {
     "name": "stderr",
     "output_type": "stream",
     "text": [
      "100%|██████████| 10/10 [00:28<00:00,  2.64s/it]\n"
     ]
    },
    {
     "name": "stdout",
     "output_type": "stream",
     "text": [
      "java -cp ./ICDMFiles_SEED_py4j/ SEEDChangeDetector 0.05 32 0.005 0.2 75\n"
     ]
    },
    {
     "name": "stderr",
     "output_type": "stream",
     "text": [
      "100%|██████████| 10/10 [00:17<00:00,  1.74s/it]\n"
     ]
    },
    {
     "name": "stdout",
     "output_type": "stream",
     "text": [
      "java -cp ./ICDMFiles_SEED_py4j/ SEEDChangeDetector 0.05 32 0.0075 0.2 75\n"
     ]
    },
    {
     "name": "stderr",
     "output_type": "stream",
     "text": [
      "100%|██████████| 10/10 [00:16<00:00,  1.65s/it]\n"
     ]
    },
    {
     "name": "stdout",
     "output_type": "stream",
     "text": [
      "java -cp ./ICDMFiles_SEED_py4j/ SEEDChangeDetector 0.05 32 0.025 0.2 75\n"
     ]
    },
    {
     "name": "stderr",
     "output_type": "stream",
     "text": [
      "100%|██████████| 10/10 [00:16<00:00,  1.68s/it]\n"
     ]
    },
    {
     "name": "stdout",
     "output_type": "stream",
     "text": [
      "java -cp ./ICDMFiles_SEED_py4j/ SEEDChangeDetector 0.05 32 0.05 0.2 75\n"
     ]
    },
    {
     "name": "stderr",
     "output_type": "stream",
     "text": [
      "100%|██████████| 10/10 [00:16<00:00,  1.62s/it]\n"
     ]
    },
    {
     "name": "stdout",
     "output_type": "stream",
     "text": [
      "java -cp ./ICDMFiles_SEED_py4j/ SEEDChangeDetector 0.05 32 0.075 0.2 75\n"
     ]
    },
    {
     "name": "stderr",
     "output_type": "stream",
     "text": [
      "100%|██████████| 10/10 [00:16<00:00,  1.66s/it]\n"
     ]
    },
    {
     "name": "stdout",
     "output_type": "stream",
     "text": [
      "java -cp ./ICDMFiles_SEED_py4j/ SEEDChangeDetector 0.05 32 0.0025 0.2 75\n"
     ]
    },
    {
     "name": "stderr",
     "output_type": "stream",
     "text": [
      "100%|██████████| 10/10 [00:31<00:00,  3.18s/it]\n"
     ]
    },
    {
     "name": "stdout",
     "output_type": "stream",
     "text": [
      "java -cp ./ICDMFiles_SEED_py4j/ SEEDChangeDetector 0.05 32 0.005 0.2 75\n"
     ]
    },
    {
     "name": "stderr",
     "output_type": "stream",
     "text": [
      "100%|██████████| 10/10 [00:32<00:00,  3.23s/it]\n"
     ]
    },
    {
     "name": "stdout",
     "output_type": "stream",
     "text": [
      "java -cp ./ICDMFiles_SEED_py4j/ SEEDChangeDetector 0.05 32 0.0075 0.2 75\n"
     ]
    },
    {
     "name": "stderr",
     "output_type": "stream",
     "text": [
      "100%|██████████| 10/10 [00:31<00:00,  3.21s/it]\n"
     ]
    },
    {
     "name": "stdout",
     "output_type": "stream",
     "text": [
      "java -cp ./ICDMFiles_SEED_py4j/ SEEDChangeDetector 0.05 32 0.025 0.2 75\n"
     ]
    },
    {
     "name": "stderr",
     "output_type": "stream",
     "text": [
      "100%|██████████| 10/10 [00:32<00:00,  3.23s/it]\n"
     ]
    },
    {
     "name": "stdout",
     "output_type": "stream",
     "text": [
      "java -cp ./ICDMFiles_SEED_py4j/ SEEDChangeDetector 0.05 32 0.05 0.2 75\n"
     ]
    },
    {
     "name": "stderr",
     "output_type": "stream",
     "text": [
      "100%|██████████| 10/10 [00:32<00:00,  3.30s/it]\n"
     ]
    },
    {
     "name": "stdout",
     "output_type": "stream",
     "text": [
      "java -cp ./ICDMFiles_SEED_py4j/ SEEDChangeDetector 0.05 32 0.075 0.2 75\n"
     ]
    },
    {
     "name": "stderr",
     "output_type": "stream",
     "text": [
      "100%|██████████| 10/10 [00:33<00:00,  3.43s/it]\n"
     ]
    },
    {
     "name": "stdout",
     "output_type": "stream",
     "text": [
      "java -cp ./ICDMFiles_SEED_py4j/ SEEDChangeDetector 0.05 32 0.0025 0.2 75\n"
     ]
    },
    {
     "name": "stderr",
     "output_type": "stream",
     "text": [
      "100%|██████████| 10/10 [00:16<00:00,  1.62s/it]\n"
     ]
    },
    {
     "name": "stdout",
     "output_type": "stream",
     "text": [
      "java -cp ./ICDMFiles_SEED_py4j/ SEEDChangeDetector 0.05 32 0.005 0.2 75\n"
     ]
    },
    {
     "name": "stderr",
     "output_type": "stream",
     "text": [
      "100%|██████████| 10/10 [00:16<00:00,  1.61s/it]\n"
     ]
    },
    {
     "name": "stdout",
     "output_type": "stream",
     "text": [
      "java -cp ./ICDMFiles_SEED_py4j/ SEEDChangeDetector 0.05 32 0.0075 0.2 75\n"
     ]
    },
    {
     "name": "stderr",
     "output_type": "stream",
     "text": [
      "100%|██████████| 10/10 [00:17<00:00,  1.79s/it]\n"
     ]
    },
    {
     "name": "stdout",
     "output_type": "stream",
     "text": [
      "java -cp ./ICDMFiles_SEED_py4j/ SEEDChangeDetector 0.05 32 0.025 0.2 75\n"
     ]
    },
    {
     "name": "stderr",
     "output_type": "stream",
     "text": [
      "100%|██████████| 10/10 [00:17<00:00,  1.88s/it]\n"
     ]
    },
    {
     "name": "stdout",
     "output_type": "stream",
     "text": [
      "java -cp ./ICDMFiles_SEED_py4j/ SEEDChangeDetector 0.05 32 0.05 0.2 75\n"
     ]
    },
    {
     "name": "stderr",
     "output_type": "stream",
     "text": [
      "100%|██████████| 10/10 [00:17<00:00,  1.63s/it]\n"
     ]
    },
    {
     "name": "stdout",
     "output_type": "stream",
     "text": [
      "java -cp ./ICDMFiles_SEED_py4j/ SEEDChangeDetector 0.05 32 0.075 0.2 75\n"
     ]
    },
    {
     "name": "stderr",
     "output_type": "stream",
     "text": [
      "100%|██████████| 10/10 [00:17<00:00,  1.74s/it]\n"
     ]
    },
    {
     "name": "stdout",
     "output_type": "stream",
     "text": [
      "java -cp ./ICDMFiles_SEED_py4j/ SEEDChangeDetector 0.05 32 0.0025 0.2 75\n"
     ]
    },
    {
     "name": "stderr",
     "output_type": "stream",
     "text": [
      "100%|██████████| 10/10 [00:18<00:00,  1.83s/it]\n"
     ]
    },
    {
     "name": "stdout",
     "output_type": "stream",
     "text": [
      "java -cp ./ICDMFiles_SEED_py4j/ SEEDChangeDetector 0.05 32 0.005 0.2 75\n"
     ]
    },
    {
     "name": "stderr",
     "output_type": "stream",
     "text": [
      "100%|██████████| 10/10 [00:18<00:00,  2.00s/it]\n"
     ]
    },
    {
     "name": "stdout",
     "output_type": "stream",
     "text": [
      "java -cp ./ICDMFiles_SEED_py4j/ SEEDChangeDetector 0.05 32 0.0075 0.2 75\n"
     ]
    },
    {
     "name": "stderr",
     "output_type": "stream",
     "text": [
      "100%|██████████| 10/10 [00:20<00:00,  1.92s/it]\n"
     ]
    },
    {
     "name": "stdout",
     "output_type": "stream",
     "text": [
      "java -cp ./ICDMFiles_SEED_py4j/ SEEDChangeDetector 0.05 32 0.025 0.2 75\n"
     ]
    },
    {
     "name": "stderr",
     "output_type": "stream",
     "text": [
      "100%|██████████| 10/10 [00:24<00:00,  2.63s/it]\n"
     ]
    },
    {
     "name": "stdout",
     "output_type": "stream",
     "text": [
      "java -cp ./ICDMFiles_SEED_py4j/ SEEDChangeDetector 0.05 32 0.05 0.2 75\n"
     ]
    },
    {
     "name": "stderr",
     "output_type": "stream",
     "text": [
      "100%|██████████| 10/10 [00:21<00:00,  2.44s/it]\n"
     ]
    },
    {
     "name": "stdout",
     "output_type": "stream",
     "text": [
      "java -cp ./ICDMFiles_SEED_py4j/ SEEDChangeDetector 0.05 32 0.075 0.2 75\n"
     ]
    },
    {
     "name": "stderr",
     "output_type": "stream",
     "text": [
      "100%|██████████| 10/10 [00:31<00:00,  3.52s/it]\n"
     ]
    },
    {
     "name": "stdout",
     "output_type": "stream",
     "text": [
      "java -cp ./ICDMFiles_SEED_py4j/ SEEDChangeDetector 0.05 32 0.0025 0.2 75\n"
     ]
    },
    {
     "name": "stderr",
     "output_type": "stream",
     "text": [
      "100%|██████████| 10/10 [00:29<00:00,  2.55s/it]\n"
     ]
    },
    {
     "name": "stdout",
     "output_type": "stream",
     "text": [
      "java -cp ./ICDMFiles_SEED_py4j/ SEEDChangeDetector 0.05 32 0.005 0.2 75\n"
     ]
    },
    {
     "name": "stderr",
     "output_type": "stream",
     "text": [
      "100%|██████████| 10/10 [00:19<00:00,  1.92s/it]\n"
     ]
    },
    {
     "name": "stdout",
     "output_type": "stream",
     "text": [
      "java -cp ./ICDMFiles_SEED_py4j/ SEEDChangeDetector 0.05 32 0.0075 0.2 75\n"
     ]
    },
    {
     "name": "stderr",
     "output_type": "stream",
     "text": [
      "100%|██████████| 10/10 [00:27<00:00,  2.95s/it]\n"
     ]
    },
    {
     "name": "stdout",
     "output_type": "stream",
     "text": [
      "java -cp ./ICDMFiles_SEED_py4j/ SEEDChangeDetector 0.05 32 0.025 0.2 75\n"
     ]
    },
    {
     "name": "stderr",
     "output_type": "stream",
     "text": [
      "100%|██████████| 10/10 [00:34<00:00,  3.29s/it]\n"
     ]
    },
    {
     "name": "stdout",
     "output_type": "stream",
     "text": [
      "java -cp ./ICDMFiles_SEED_py4j/ SEEDChangeDetector 0.05 32 0.05 0.2 75\n"
     ]
    },
    {
     "name": "stderr",
     "output_type": "stream",
     "text": [
      "100%|██████████| 10/10 [00:29<00:00,  2.92s/it]\n"
     ]
    },
    {
     "name": "stdout",
     "output_type": "stream",
     "text": [
      "java -cp ./ICDMFiles_SEED_py4j/ SEEDChangeDetector 0.05 32 0.075 0.2 75\n"
     ]
    },
    {
     "name": "stderr",
     "output_type": "stream",
     "text": [
      "100%|██████████| 10/10 [00:26<00:00,  2.04s/it]\n"
     ]
    },
    {
     "name": "stdout",
     "output_type": "stream",
     "text": [
      "java -cp ./ICDMFiles_SEED_py4j/ SEEDChangeDetector 0.05 32 0.0025 0.2 75\n"
     ]
    },
    {
     "name": "stderr",
     "output_type": "stream",
     "text": [
      "100%|██████████| 10/10 [00:26<00:00,  2.37s/it]\n"
     ]
    },
    {
     "name": "stdout",
     "output_type": "stream",
     "text": [
      "java -cp ./ICDMFiles_SEED_py4j/ SEEDChangeDetector 0.05 32 0.005 0.2 75\n"
     ]
    },
    {
     "name": "stderr",
     "output_type": "stream",
     "text": [
      "100%|██████████| 10/10 [00:28<00:00,  2.98s/it]\n"
     ]
    },
    {
     "name": "stdout",
     "output_type": "stream",
     "text": [
      "java -cp ./ICDMFiles_SEED_py4j/ SEEDChangeDetector 0.05 32 0.0075 0.2 75\n"
     ]
    },
    {
     "name": "stderr",
     "output_type": "stream",
     "text": [
      "100%|██████████| 10/10 [00:31<00:00,  3.31s/it]\n"
     ]
    },
    {
     "name": "stdout",
     "output_type": "stream",
     "text": [
      "java -cp ./ICDMFiles_SEED_py4j/ SEEDChangeDetector 0.05 32 0.025 0.2 75\n"
     ]
    },
    {
     "name": "stderr",
     "output_type": "stream",
     "text": [
      "100%|██████████| 10/10 [00:24<00:00,  2.29s/it]\n"
     ]
    },
    {
     "name": "stdout",
     "output_type": "stream",
     "text": [
      "java -cp ./ICDMFiles_SEED_py4j/ SEEDChangeDetector 0.05 32 0.05 0.2 75\n"
     ]
    },
    {
     "name": "stderr",
     "output_type": "stream",
     "text": [
      "100%|██████████| 10/10 [00:28<00:00,  2.21s/it]\n"
     ]
    },
    {
     "name": "stdout",
     "output_type": "stream",
     "text": [
      "java -cp ./ICDMFiles_SEED_py4j/ SEEDChangeDetector 0.05 32 0.075 0.2 75\n"
     ]
    },
    {
     "name": "stderr",
     "output_type": "stream",
     "text": [
      "100%|██████████| 10/10 [00:28<00:00,  2.14s/it]\n"
     ]
    },
    {
     "name": "stdout",
     "output_type": "stream",
     "text": [
      "java -cp ./ICDMFiles_SEED_py4j/ SEEDChangeDetector 0.05 32 0.0025 0.2 75\n"
     ]
    },
    {
     "name": "stderr",
     "output_type": "stream",
     "text": [
      "100%|██████████| 10/10 [00:49<00:00,  5.00s/it]\n"
     ]
    },
    {
     "name": "stdout",
     "output_type": "stream",
     "text": [
      "java -cp ./ICDMFiles_SEED_py4j/ SEEDChangeDetector 0.05 32 0.005 0.2 75\n"
     ]
    },
    {
     "name": "stderr",
     "output_type": "stream",
     "text": [
      "100%|██████████| 10/10 [01:17<00:00,  6.45s/it]\n"
     ]
    },
    {
     "name": "stdout",
     "output_type": "stream",
     "text": [
      "java -cp ./ICDMFiles_SEED_py4j/ SEEDChangeDetector 0.05 32 0.0075 0.2 75\n"
     ]
    },
    {
     "name": "stderr",
     "output_type": "stream",
     "text": [
      "100%|██████████| 10/10 [00:59<00:00,  6.96s/it]\n"
     ]
    },
    {
     "name": "stdout",
     "output_type": "stream",
     "text": [
      "java -cp ./ICDMFiles_SEED_py4j/ SEEDChangeDetector 0.05 32 0.025 0.2 75\n"
     ]
    },
    {
     "name": "stderr",
     "output_type": "stream",
     "text": [
      "100%|██████████| 10/10 [01:10<00:00,  7.69s/it]\n"
     ]
    },
    {
     "name": "stdout",
     "output_type": "stream",
     "text": [
      "java -cp ./ICDMFiles_SEED_py4j/ SEEDChangeDetector 0.05 32 0.05 0.2 75\n"
     ]
    },
    {
     "name": "stderr",
     "output_type": "stream",
     "text": [
      "100%|██████████| 10/10 [01:10<00:00,  6.80s/it]\n"
     ]
    },
    {
     "name": "stdout",
     "output_type": "stream",
     "text": [
      "java -cp ./ICDMFiles_SEED_py4j/ SEEDChangeDetector 0.05 32 0.075 0.2 75\n"
     ]
    },
    {
     "name": "stderr",
     "output_type": "stream",
     "text": [
      "100%|██████████| 10/10 [01:12<00:00,  8.03s/it]\n"
     ]
    },
    {
     "name": "stdout",
     "output_type": "stream",
     "text": [
      "java -cp ./ICDMFiles_SEED_py4j/ SEEDChangeDetector 0.05 32 0.0025 0.2 75\n"
     ]
    },
    {
     "name": "stderr",
     "output_type": "stream",
     "text": [
      "100%|██████████| 10/10 [00:50<00:00,  5.25s/it]\n"
     ]
    },
    {
     "name": "stdout",
     "output_type": "stream",
     "text": [
      "java -cp ./ICDMFiles_SEED_py4j/ SEEDChangeDetector 0.05 32 0.005 0.2 75\n"
     ]
    },
    {
     "name": "stderr",
     "output_type": "stream",
     "text": [
      "100%|██████████| 10/10 [00:59<00:00,  6.09s/it]\n"
     ]
    },
    {
     "name": "stdout",
     "output_type": "stream",
     "text": [
      "java -cp ./ICDMFiles_SEED_py4j/ SEEDChangeDetector 0.05 32 0.0075 0.2 75\n"
     ]
    },
    {
     "name": "stderr",
     "output_type": "stream",
     "text": [
      "100%|██████████| 10/10 [00:31<00:00,  3.30s/it]\n"
     ]
    },
    {
     "name": "stdout",
     "output_type": "stream",
     "text": [
      "java -cp ./ICDMFiles_SEED_py4j/ SEEDChangeDetector 0.05 32 0.025 0.2 75\n"
     ]
    },
    {
     "name": "stderr",
     "output_type": "stream",
     "text": [
      "100%|██████████| 10/10 [00:33<00:00,  3.36s/it]\n"
     ]
    },
    {
     "name": "stdout",
     "output_type": "stream",
     "text": [
      "java -cp ./ICDMFiles_SEED_py4j/ SEEDChangeDetector 0.05 32 0.05 0.2 75\n"
     ]
    },
    {
     "name": "stderr",
     "output_type": "stream",
     "text": [
      "100%|██████████| 10/10 [00:35<00:00,  3.65s/it]\n"
     ]
    },
    {
     "name": "stdout",
     "output_type": "stream",
     "text": [
      "java -cp ./ICDMFiles_SEED_py4j/ SEEDChangeDetector 0.05 32 0.075 0.2 75\n"
     ]
    },
    {
     "name": "stderr",
     "output_type": "stream",
     "text": [
      "100%|██████████| 10/10 [00:46<00:00,  5.47s/it]\n"
     ]
    },
    {
     "name": "stdout",
     "output_type": "stream",
     "text": [
      "java -cp ./ICDMFiles_SEED_py4j/ SEEDChangeDetector 0.05 32 0.0025 0.2 75\n"
     ]
    },
    {
     "name": "stderr",
     "output_type": "stream",
     "text": [
      "100%|██████████| 10/10 [00:37<00:00,  3.81s/it]\n"
     ]
    },
    {
     "name": "stdout",
     "output_type": "stream",
     "text": [
      "java -cp ./ICDMFiles_SEED_py4j/ SEEDChangeDetector 0.05 32 0.005 0.2 75\n"
     ]
    },
    {
     "name": "stderr",
     "output_type": "stream",
     "text": [
      "100%|██████████| 10/10 [00:37<00:00,  3.92s/it]\n"
     ]
    },
    {
     "name": "stdout",
     "output_type": "stream",
     "text": [
      "java -cp ./ICDMFiles_SEED_py4j/ SEEDChangeDetector 0.05 32 0.0075 0.2 75\n"
     ]
    },
    {
     "name": "stderr",
     "output_type": "stream",
     "text": [
      "100%|██████████| 10/10 [00:43<00:00,  5.08s/it]\n"
     ]
    },
    {
     "name": "stdout",
     "output_type": "stream",
     "text": [
      "java -cp ./ICDMFiles_SEED_py4j/ SEEDChangeDetector 0.05 32 0.025 0.2 75\n"
     ]
    },
    {
     "name": "stderr",
     "output_type": "stream",
     "text": [
      "100%|██████████| 10/10 [00:42<00:00,  4.10s/it]\n"
     ]
    },
    {
     "name": "stdout",
     "output_type": "stream",
     "text": [
      "java -cp ./ICDMFiles_SEED_py4j/ SEEDChangeDetector 0.05 32 0.05 0.2 75\n"
     ]
    },
    {
     "name": "stderr",
     "output_type": "stream",
     "text": [
      "100%|██████████| 10/10 [00:48<00:00,  5.86s/it]\n"
     ]
    },
    {
     "name": "stdout",
     "output_type": "stream",
     "text": [
      "java -cp ./ICDMFiles_SEED_py4j/ SEEDChangeDetector 0.05 32 0.075 0.2 75\n"
     ]
    },
    {
     "name": "stderr",
     "output_type": "stream",
     "text": [
      "100%|██████████| 10/10 [00:56<00:00,  5.24s/it]\n"
     ]
    },
    {
     "name": "stdout",
     "output_type": "stream",
     "text": [
      "java -cp ./ICDMFiles_SEED_py4j/ SEEDChangeDetector 0.05 32 0.0025 0.2 75\n"
     ]
    },
    {
     "name": "stderr",
     "output_type": "stream",
     "text": [
      "100%|██████████| 10/10 [00:53<00:00,  5.41s/it]\n"
     ]
    },
    {
     "name": "stdout",
     "output_type": "stream",
     "text": [
      "java -cp ./ICDMFiles_SEED_py4j/ SEEDChangeDetector 0.05 32 0.005 0.2 75\n"
     ]
    },
    {
     "name": "stderr",
     "output_type": "stream",
     "text": [
      "100%|██████████| 10/10 [00:42<00:00,  5.18s/it]\n"
     ]
    },
    {
     "name": "stdout",
     "output_type": "stream",
     "text": [
      "java -cp ./ICDMFiles_SEED_py4j/ SEEDChangeDetector 0.05 32 0.0075 0.2 75\n"
     ]
    },
    {
     "name": "stderr",
     "output_type": "stream",
     "text": [
      "100%|██████████| 10/10 [00:40<00:00,  4.09s/it]\n"
     ]
    },
    {
     "name": "stdout",
     "output_type": "stream",
     "text": [
      "java -cp ./ICDMFiles_SEED_py4j/ SEEDChangeDetector 0.05 32 0.025 0.2 75\n"
     ]
    },
    {
     "name": "stderr",
     "output_type": "stream",
     "text": [
      "100%|██████████| 10/10 [00:58<00:00,  6.44s/it]\n"
     ]
    },
    {
     "name": "stdout",
     "output_type": "stream",
     "text": [
      "java -cp ./ICDMFiles_SEED_py4j/ SEEDChangeDetector 0.05 32 0.05 0.2 75\n"
     ]
    },
    {
     "name": "stderr",
     "output_type": "stream",
     "text": [
      "100%|██████████| 10/10 [00:48<00:00,  3.86s/it]\n"
     ]
    },
    {
     "name": "stdout",
     "output_type": "stream",
     "text": [
      "java -cp ./ICDMFiles_SEED_py4j/ SEEDChangeDetector 0.05 32 0.075 0.2 75\n"
     ]
    },
    {
     "name": "stderr",
     "output_type": "stream",
     "text": [
      "100%|██████████| 10/10 [00:35<00:00,  3.59s/it]\n"
     ]
    },
    {
     "name": "stdout",
     "output_type": "stream",
     "text": [
      "java -cp ./ICDMFiles_SEED_py4j/ SEEDChangeDetector 0.05 32 0.0025 0.2 75\n"
     ]
    },
    {
     "name": "stderr",
     "output_type": "stream",
     "text": [
      "100%|██████████| 10/10 [00:39<00:00,  4.04s/it]\n"
     ]
    },
    {
     "name": "stdout",
     "output_type": "stream",
     "text": [
      "java -cp ./ICDMFiles_SEED_py4j/ SEEDChangeDetector 0.05 32 0.005 0.2 75\n"
     ]
    },
    {
     "name": "stderr",
     "output_type": "stream",
     "text": [
      "100%|██████████| 10/10 [00:42<00:00,  4.51s/it]\n"
     ]
    },
    {
     "name": "stdout",
     "output_type": "stream",
     "text": [
      "java -cp ./ICDMFiles_SEED_py4j/ SEEDChangeDetector 0.05 32 0.0075 0.2 75\n"
     ]
    },
    {
     "name": "stderr",
     "output_type": "stream",
     "text": [
      "100%|██████████| 10/10 [00:55<00:00,  6.19s/it]\n"
     ]
    },
    {
     "name": "stdout",
     "output_type": "stream",
     "text": [
      "java -cp ./ICDMFiles_SEED_py4j/ SEEDChangeDetector 0.05 32 0.025 0.2 75\n"
     ]
    },
    {
     "name": "stderr",
     "output_type": "stream",
     "text": [
      "100%|██████████| 10/10 [00:40<00:00,  4.28s/it]\n"
     ]
    },
    {
     "name": "stdout",
     "output_type": "stream",
     "text": [
      "java -cp ./ICDMFiles_SEED_py4j/ SEEDChangeDetector 0.05 32 0.05 0.2 75\n"
     ]
    },
    {
     "name": "stderr",
     "output_type": "stream",
     "text": [
      "100%|██████████| 10/10 [00:59<00:00,  5.44s/it]\n"
     ]
    },
    {
     "name": "stdout",
     "output_type": "stream",
     "text": [
      "java -cp ./ICDMFiles_SEED_py4j/ SEEDChangeDetector 0.05 32 0.075 0.2 75\n"
     ]
    },
    {
     "name": "stderr",
     "output_type": "stream",
     "text": [
      "100%|██████████| 10/10 [00:43<00:00,  4.44s/it]\n"
     ]
    },
    {
     "name": "stdout",
     "output_type": "stream",
     "text": [
      "java -cp ./ICDMFiles_SEED_py4j/ SEEDChangeDetector 0.05 32 0.0025 0.2 75\n"
     ]
    },
    {
     "name": "stderr",
     "output_type": "stream",
     "text": [
      "100%|██████████| 10/10 [00:59<00:00,  5.99s/it]\n"
     ]
    },
    {
     "name": "stdout",
     "output_type": "stream",
     "text": [
      "java -cp ./ICDMFiles_SEED_py4j/ SEEDChangeDetector 0.05 32 0.005 0.2 75\n"
     ]
    },
    {
     "name": "stderr",
     "output_type": "stream",
     "text": [
      "100%|██████████| 10/10 [01:00<00:00,  6.06s/it]\n"
     ]
    },
    {
     "name": "stdout",
     "output_type": "stream",
     "text": [
      "java -cp ./ICDMFiles_SEED_py4j/ SEEDChangeDetector 0.05 32 0.0075 0.2 75\n"
     ]
    },
    {
     "name": "stderr",
     "output_type": "stream",
     "text": [
      "100%|██████████| 10/10 [01:00<00:00,  5.94s/it]\n"
     ]
    },
    {
     "name": "stdout",
     "output_type": "stream",
     "text": [
      "java -cp ./ICDMFiles_SEED_py4j/ SEEDChangeDetector 0.05 32 0.025 0.2 75\n"
     ]
    },
    {
     "name": "stderr",
     "output_type": "stream",
     "text": [
      "100%|██████████| 10/10 [01:22<00:00,  8.90s/it]\n"
     ]
    },
    {
     "name": "stdout",
     "output_type": "stream",
     "text": [
      "java -cp ./ICDMFiles_SEED_py4j/ SEEDChangeDetector 0.05 32 0.05 0.2 75\n"
     ]
    },
    {
     "name": "stderr",
     "output_type": "stream",
     "text": [
      "100%|██████████| 10/10 [01:24<00:00,  8.39s/it]\n"
     ]
    },
    {
     "name": "stdout",
     "output_type": "stream",
     "text": [
      "java -cp ./ICDMFiles_SEED_py4j/ SEEDChangeDetector 0.05 32 0.075 0.2 75\n"
     ]
    },
    {
     "name": "stderr",
     "output_type": "stream",
     "text": [
      "100%|██████████| 10/10 [01:14<00:00,  7.85s/it]\n"
     ]
    }
   ],
   "source": [
    "# Dependency on epsilon_prime\n",
    "df_all_epsilon = []\n",
    "for (length1, length2) in permutations([500, 1000, 5000, 10000, 50000, 100000], 2):\n",
    "    for epsilon_prime in [0.0025, 0.005, 0.0075]:\n",
    "        benefits_vd, fars_vd, benefits_md, fars_md = experiment1_benefit_false_alarm_rate(\n",
    "                length1, length2,\n",
    "                r=0.2, \n",
    "                delta=0.05, blocksize=32, epsilon_prime=epsilon_prime,\n",
    "                alpha=0.2, decaymode=1, compression_term=75,\n",
    "                mu1=0.2, mu2=0.8,\n",
    "                n_repeat=50, \n",
    "                n_trial=10, \n",
    "                limit=5\n",
    "            )\n",
    "    \n",
    "        # AUC (md)\n",
    "        auc_md = []\n",
    "        for far, benefit in zip(fars_md, benefits_md):\n",
    "            auc_md.append(calc_auc(far, benefit))\n",
    "\n",
    "        df = pd.DataFrame({'L1': length1, \n",
    "                      'L2': length2, \n",
    "                      'epsilon_prime': epsilon_prime, \n",
    "                      'AUC': auc_md})\n",
    "        df_all_epsilon.append(df)"
   ]
  },
  {
   "cell_type": "code",
   "execution_count": 25,
   "metadata": {},
   "outputs": [],
   "source": [
    "df_all_epsilon_concat = pd.concat(df_all_epsilon)"
   ]
  },
  {
   "cell_type": "code",
   "execution_count": 26,
   "metadata": {},
   "outputs": [
    {
     "data": {
      "text/html": [
       "<div>\n",
       "<style>\n",
       "    .dataframe thead tr:only-child th {\n",
       "        text-align: right;\n",
       "    }\n",
       "\n",
       "    .dataframe thead th {\n",
       "        text-align: left;\n",
       "    }\n",
       "\n",
       "    .dataframe tbody tr th {\n",
       "        vertical-align: top;\n",
       "    }\n",
       "</style>\n",
       "<table border=\"1\" class=\"dataframe\">\n",
       "  <thead>\n",
       "    <tr style=\"text-align: right;\">\n",
       "      <th></th>\n",
       "      <th>AUC</th>\n",
       "      <th>L1</th>\n",
       "      <th>L2</th>\n",
       "      <th>epsilon_prime</th>\n",
       "    </tr>\n",
       "  </thead>\n",
       "  <tbody>\n",
       "    <tr>\n",
       "      <th>0</th>\n",
       "      <td>0.966368</td>\n",
       "      <td>500</td>\n",
       "      <td>1000</td>\n",
       "      <td>0.0025</td>\n",
       "    </tr>\n",
       "    <tr>\n",
       "      <th>1</th>\n",
       "      <td>0.795400</td>\n",
       "      <td>500</td>\n",
       "      <td>1000</td>\n",
       "      <td>0.0025</td>\n",
       "    </tr>\n",
       "    <tr>\n",
       "      <th>2</th>\n",
       "      <td>0.968055</td>\n",
       "      <td>500</td>\n",
       "      <td>1000</td>\n",
       "      <td>0.0025</td>\n",
       "    </tr>\n",
       "  </tbody>\n",
       "</table>\n",
       "</div>"
      ],
      "text/plain": [
       "        AUC   L1    L2  epsilon_prime\n",
       "0  0.966368  500  1000         0.0025\n",
       "1  0.795400  500  1000         0.0025\n",
       "2  0.968055  500  1000         0.0025"
      ]
     },
     "execution_count": 26,
     "metadata": {},
     "output_type": "execute_result"
    }
   ],
   "source": [
    "df_all_epsilon_concat.head(3)"
   ]
  },
  {
   "cell_type": "code",
   "execution_count": 39,
   "metadata": {},
   "outputs": [
    {
     "name": "stderr",
     "output_type": "stream",
     "text": [
      "/Users/sfukushima/.pyenv/versions/anaconda3-5.0.1/lib/python3.6/_collections_abc.py:841: MatplotlibDeprecationWarning: \n",
      "The examples.directory rcparam was deprecated in Matplotlib 3.0 and will be removed in 3.2. In the future, examples will be found relative to the 'datapath' directory.\n",
      "  self[key] = other[key]\n",
      "/Users/sfukushima/.pyenv/versions/anaconda3-5.0.1/lib/python3.6/_collections_abc.py:841: MatplotlibDeprecationWarning: \n",
      "The savefig.frameon rcparam was deprecated in Matplotlib 3.1 and will be removed in 3.3.\n",
      "  self[key] = other[key]\n",
      "/Users/sfukushima/.pyenv/versions/anaconda3-5.0.1/lib/python3.6/_collections_abc.py:841: MatplotlibDeprecationWarning: \n",
      "The text.latex.unicode rcparam was deprecated in Matplotlib 3.0 and will be removed in 3.2.\n",
      "  self[key] = other[key]\n",
      "/Users/sfukushima/.pyenv/versions/anaconda3-5.0.1/lib/python3.6/_collections_abc.py:841: MatplotlibDeprecationWarning: \n",
      "The verbose.fileo rcparam was deprecated in Matplotlib 3.1 and will be removed in 3.3.\n",
      "  self[key] = other[key]\n",
      "/Users/sfukushima/.pyenv/versions/anaconda3-5.0.1/lib/python3.6/_collections_abc.py:841: MatplotlibDeprecationWarning: \n",
      "The verbose.level rcparam was deprecated in Matplotlib 3.1 and will be removed in 3.3.\n",
      "  self[key] = other[key]\n",
      "/Users/sfukushima/.pyenv/versions/anaconda3-5.0.1/lib/python3.6/site-packages/seaborn/categorical.py:3666: UserWarning: The `factorplot` function has been renamed to `catplot`. The original name will be removed in a future release. Please update your code. Note that the default `kind` in `factorplot` (`'point'`) has changed `'strip'` in `catplot`.\n",
      "  warnings.warn(msg)\n"
     ]
    },
    {
     "ename": "ValueError",
     "evalue": "'c' argument has 3 elements, which is not acceptable for use with 'x' with size 0, 'y' with size 0.",
     "output_type": "error",
     "traceback": [
      "\u001b[0;31m--------------------------------------------------------------------------\u001b[0m",
      "\u001b[0;31mValueError\u001b[0m                               Traceback (most recent call last)",
      "\u001b[0;32m~/.pyenv/versions/anaconda3-5.0.1/lib/python3.6/site-packages/matplotlib/axes/_axes.py\u001b[0m in \u001b[0;36m_parse_scatter_color_args\u001b[0;34m(c, edgecolors, kwargs, xshape, yshape, get_next_color_func)\u001b[0m\n\u001b[1;32m   4290\u001b[0m                     \u001b[0mvalid_shape\u001b[0m \u001b[0;34m=\u001b[0m \u001b[0;32mFalse\u001b[0m\u001b[0;34m\u001b[0m\u001b[0;34m\u001b[0m\u001b[0m\n\u001b[0;32m-> 4291\u001b[0;31m                     \u001b[0;32mraise\u001b[0m \u001b[0mValueError\u001b[0m\u001b[0;34m\u001b[0m\u001b[0;34m\u001b[0m\u001b[0m\n\u001b[0m\u001b[1;32m   4292\u001b[0m             \u001b[0;32mexcept\u001b[0m \u001b[0mValueError\u001b[0m\u001b[0;34m:\u001b[0m\u001b[0;34m\u001b[0m\u001b[0;34m\u001b[0m\u001b[0m\n",
      "\u001b[0;31mValueError\u001b[0m: ",
      "\nDuring handling of the above exception, another exception occurred:\n",
      "\u001b[0;31mValueError\u001b[0m                               Traceback (most recent call last)",
      "\u001b[0;32m<ipython-input-39-f587e949354e>\u001b[0m in \u001b[0;36m<module>\u001b[0;34m\u001b[0m\n\u001b[1;32m     10\u001b[0m                \u001b[0mmarkers\u001b[0m\u001b[0;34m=\u001b[0m\u001b[0;34m[\u001b[0m\u001b[0;34m'o'\u001b[0m\u001b[0;34m,\u001b[0m \u001b[0;34m'x'\u001b[0m\u001b[0;34m,\u001b[0m \u001b[0;34m'^'\u001b[0m\u001b[0;34m,\u001b[0m \u001b[0;34m's'\u001b[0m\u001b[0;34m,\u001b[0m \u001b[0;34m'D'\u001b[0m\u001b[0;34m,\u001b[0m \u001b[0;34m'v'\u001b[0m\u001b[0;34m]\u001b[0m\u001b[0;34m,\u001b[0m\u001b[0;34m\u001b[0m\u001b[0;34m\u001b[0m\u001b[0m\n\u001b[1;32m     11\u001b[0m                \u001b[0mlinestyles\u001b[0m\u001b[0;34m=\u001b[0m\u001b[0;34m[\u001b[0m\u001b[0;34m'-'\u001b[0m\u001b[0;34m,\u001b[0m \u001b[0;34m'--'\u001b[0m\u001b[0;34m,\u001b[0m \u001b[0;34m'-.'\u001b[0m\u001b[0;34m,\u001b[0m \u001b[0;34m'-'\u001b[0m\u001b[0;34m,\u001b[0m \u001b[0;34m'--'\u001b[0m\u001b[0;34m,\u001b[0m \u001b[0;34m'-.'\u001b[0m\u001b[0;34m]\u001b[0m\u001b[0;34m,\u001b[0m\u001b[0;34m\u001b[0m\u001b[0;34m\u001b[0m\u001b[0m\n\u001b[0;32m---> 12\u001b[0;31m                data=df_all_epsilnPrime_concat)\n\u001b[0m\u001b[1;32m     13\u001b[0m                \u001b[0;31m#data=df_all_epsilon_concat)\u001b[0m\u001b[0;34m\u001b[0m\u001b[0;34m\u001b[0m\u001b[0;34m\u001b[0m\u001b[0m\n\u001b[1;32m     14\u001b[0m \u001b[0mplt\u001b[0m\u001b[0;34m.\u001b[0m\u001b[0msavefig\u001b[0m\u001b[0;34m(\u001b[0m\u001b[0mos\u001b[0m\u001b[0;34m.\u001b[0m\u001b[0mpath\u001b[0m\u001b[0;34m.\u001b[0m\u001b[0mjoin\u001b[0m\u001b[0;34m(\u001b[0m\u001b[0moutdir\u001b[0m\u001b[0;34m,\u001b[0m \u001b[0;34m'dependency_on_epsilon_prime.eps'\u001b[0m\u001b[0;34m)\u001b[0m\u001b[0;34m,\u001b[0m \u001b[0mdpi\u001b[0m\u001b[0;34m=\u001b[0m\u001b[0;36m200\u001b[0m\u001b[0;34m)\u001b[0m\u001b[0;34m\u001b[0m\u001b[0;34m\u001b[0m\u001b[0m\n",
      "\u001b[0;32m~/.pyenv/versions/anaconda3-5.0.1/lib/python3.6/site-packages/seaborn/categorical.py\u001b[0m in \u001b[0;36mfactorplot\u001b[0;34m(*args, **kwargs)\u001b[0m\n\u001b[1;32m   3674\u001b[0m     \u001b[0mkwargs\u001b[0m\u001b[0;34m.\u001b[0m\u001b[0msetdefault\u001b[0m\u001b[0;34m(\u001b[0m\u001b[0;34m\"kind\"\u001b[0m\u001b[0;34m,\u001b[0m \u001b[0;34m\"point\"\u001b[0m\u001b[0;34m)\u001b[0m\u001b[0;34m\u001b[0m\u001b[0;34m\u001b[0m\u001b[0m\n\u001b[1;32m   3675\u001b[0m \u001b[0;34m\u001b[0m\u001b[0m\n\u001b[0;32m-> 3676\u001b[0;31m     \u001b[0;32mreturn\u001b[0m \u001b[0mcatplot\u001b[0m\u001b[0;34m(\u001b[0m\u001b[0;34m*\u001b[0m\u001b[0margs\u001b[0m\u001b[0;34m,\u001b[0m \u001b[0;34m**\u001b[0m\u001b[0mkwargs\u001b[0m\u001b[0;34m)\u001b[0m\u001b[0;34m\u001b[0m\u001b[0;34m\u001b[0m\u001b[0m\n\u001b[0m\u001b[1;32m   3677\u001b[0m \u001b[0;34m\u001b[0m\u001b[0m\n\u001b[1;32m   3678\u001b[0m \u001b[0;34m\u001b[0m\u001b[0m\n",
      "\u001b[0;32m~/.pyenv/versions/anaconda3-5.0.1/lib/python3.6/site-packages/seaborn/categorical.py\u001b[0m in \u001b[0;36mcatplot\u001b[0;34m(x, y, hue, data, row, col, col_wrap, estimator, ci, n_boot, units, order, hue_order, row_order, col_order, kind, height, aspect, orient, color, palette, legend, legend_out, sharex, sharey, margin_titles, facet_kws, **kwargs)\u001b[0m\n\u001b[1;32m   3753\u001b[0m \u001b[0;34m\u001b[0m\u001b[0m\n\u001b[1;32m   3754\u001b[0m     \u001b[0;31m# Draw the plot onto the facets\u001b[0m\u001b[0;34m\u001b[0m\u001b[0;34m\u001b[0m\u001b[0;34m\u001b[0m\u001b[0m\n\u001b[0;32m-> 3755\u001b[0;31m     \u001b[0mg\u001b[0m\u001b[0;34m.\u001b[0m\u001b[0mmap_dataframe\u001b[0m\u001b[0;34m(\u001b[0m\u001b[0mplot_func\u001b[0m\u001b[0;34m,\u001b[0m \u001b[0mx\u001b[0m\u001b[0;34m,\u001b[0m \u001b[0my\u001b[0m\u001b[0;34m,\u001b[0m \u001b[0mhue\u001b[0m\u001b[0;34m,\u001b[0m \u001b[0;34m**\u001b[0m\u001b[0mplot_kws\u001b[0m\u001b[0;34m)\u001b[0m\u001b[0;34m\u001b[0m\u001b[0;34m\u001b[0m\u001b[0m\n\u001b[0m\u001b[1;32m   3756\u001b[0m \u001b[0;34m\u001b[0m\u001b[0m\n\u001b[1;32m   3757\u001b[0m     \u001b[0;31m# Special case axis labels for a count type plot\u001b[0m\u001b[0;34m\u001b[0m\u001b[0;34m\u001b[0m\u001b[0;34m\u001b[0m\u001b[0m\n",
      "\u001b[0;32m~/.pyenv/versions/anaconda3-5.0.1/lib/python3.6/site-packages/seaborn/axisgrid.py\u001b[0m in \u001b[0;36mmap_dataframe\u001b[0;34m(self, func, *args, **kwargs)\u001b[0m\n\u001b[1;32m    818\u001b[0m \u001b[0;34m\u001b[0m\u001b[0m\n\u001b[1;32m    819\u001b[0m             \u001b[0;31m# Draw the plot\u001b[0m\u001b[0;34m\u001b[0m\u001b[0;34m\u001b[0m\u001b[0;34m\u001b[0m\u001b[0m\n\u001b[0;32m--> 820\u001b[0;31m             \u001b[0mself\u001b[0m\u001b[0;34m.\u001b[0m\u001b[0m_facet_plot\u001b[0m\u001b[0;34m(\u001b[0m\u001b[0mfunc\u001b[0m\u001b[0;34m,\u001b[0m \u001b[0max\u001b[0m\u001b[0;34m,\u001b[0m \u001b[0margs\u001b[0m\u001b[0;34m,\u001b[0m \u001b[0mkwargs\u001b[0m\u001b[0;34m)\u001b[0m\u001b[0;34m\u001b[0m\u001b[0;34m\u001b[0m\u001b[0m\n\u001b[0m\u001b[1;32m    821\u001b[0m \u001b[0;34m\u001b[0m\u001b[0m\n\u001b[1;32m    822\u001b[0m         \u001b[0;31m# Finalize the annotations and layout\u001b[0m\u001b[0;34m\u001b[0m\u001b[0;34m\u001b[0m\u001b[0;34m\u001b[0m\u001b[0m\n",
      "\u001b[0;32m~/.pyenv/versions/anaconda3-5.0.1/lib/python3.6/site-packages/seaborn/axisgrid.py\u001b[0m in \u001b[0;36m_facet_plot\u001b[0;34m(self, func, ax, plot_args, plot_kwargs)\u001b[0m\n\u001b[1;32m    836\u001b[0m \u001b[0;34m\u001b[0m\u001b[0m\n\u001b[1;32m    837\u001b[0m         \u001b[0;31m# Draw the plot\u001b[0m\u001b[0;34m\u001b[0m\u001b[0;34m\u001b[0m\u001b[0;34m\u001b[0m\u001b[0m\n\u001b[0;32m--> 838\u001b[0;31m         \u001b[0mfunc\u001b[0m\u001b[0;34m(\u001b[0m\u001b[0;34m*\u001b[0m\u001b[0mplot_args\u001b[0m\u001b[0;34m,\u001b[0m \u001b[0;34m**\u001b[0m\u001b[0mplot_kwargs\u001b[0m\u001b[0;34m)\u001b[0m\u001b[0;34m\u001b[0m\u001b[0;34m\u001b[0m\u001b[0m\n\u001b[0m\u001b[1;32m    839\u001b[0m \u001b[0;34m\u001b[0m\u001b[0m\n\u001b[1;32m    840\u001b[0m         \u001b[0;31m# Sort out the supporting information\u001b[0m\u001b[0;34m\u001b[0m\u001b[0;34m\u001b[0m\u001b[0;34m\u001b[0m\u001b[0m\n",
      "\u001b[0;32m~/.pyenv/versions/anaconda3-5.0.1/lib/python3.6/site-packages/seaborn/categorical.py\u001b[0m in \u001b[0;36mpointplot\u001b[0;34m(x, y, hue, data, order, hue_order, estimator, ci, n_boot, units, markers, linestyles, dodge, join, scale, orient, color, palette, errwidth, capsize, ax, **kwargs)\u001b[0m\n\u001b[1;32m   3338\u001b[0m         \u001b[0max\u001b[0m \u001b[0;34m=\u001b[0m \u001b[0mplt\u001b[0m\u001b[0;34m.\u001b[0m\u001b[0mgca\u001b[0m\u001b[0;34m(\u001b[0m\u001b[0;34m)\u001b[0m\u001b[0;34m\u001b[0m\u001b[0;34m\u001b[0m\u001b[0m\n\u001b[1;32m   3339\u001b[0m \u001b[0;34m\u001b[0m\u001b[0m\n\u001b[0;32m-> 3340\u001b[0;31m     \u001b[0mplotter\u001b[0m\u001b[0;34m.\u001b[0m\u001b[0mplot\u001b[0m\u001b[0;34m(\u001b[0m\u001b[0max\u001b[0m\u001b[0;34m)\u001b[0m\u001b[0;34m\u001b[0m\u001b[0;34m\u001b[0m\u001b[0m\n\u001b[0m\u001b[1;32m   3341\u001b[0m     \u001b[0;32mreturn\u001b[0m \u001b[0max\u001b[0m\u001b[0;34m\u001b[0m\u001b[0;34m\u001b[0m\u001b[0m\n\u001b[1;32m   3342\u001b[0m \u001b[0;34m\u001b[0m\u001b[0m\n",
      "\u001b[0;32m~/.pyenv/versions/anaconda3-5.0.1/lib/python3.6/site-packages/seaborn/categorical.py\u001b[0m in \u001b[0;36mplot\u001b[0;34m(self, ax)\u001b[0m\n\u001b[1;32m   1809\u001b[0m     \u001b[0;32mdef\u001b[0m \u001b[0mplot\u001b[0m\u001b[0;34m(\u001b[0m\u001b[0mself\u001b[0m\u001b[0;34m,\u001b[0m \u001b[0max\u001b[0m\u001b[0;34m)\u001b[0m\u001b[0;34m:\u001b[0m\u001b[0;34m\u001b[0m\u001b[0;34m\u001b[0m\u001b[0m\n\u001b[1;32m   1810\u001b[0m         \u001b[0;34m\"\"\"Make the plot.\"\"\"\u001b[0m\u001b[0;34m\u001b[0m\u001b[0;34m\u001b[0m\u001b[0m\n\u001b[0;32m-> 1811\u001b[0;31m         \u001b[0mself\u001b[0m\u001b[0;34m.\u001b[0m\u001b[0mdraw_points\u001b[0m\u001b[0;34m(\u001b[0m\u001b[0max\u001b[0m\u001b[0;34m)\u001b[0m\u001b[0;34m\u001b[0m\u001b[0;34m\u001b[0m\u001b[0m\n\u001b[0m\u001b[1;32m   1812\u001b[0m         \u001b[0mself\u001b[0m\u001b[0;34m.\u001b[0m\u001b[0mannotate_axes\u001b[0m\u001b[0;34m(\u001b[0m\u001b[0max\u001b[0m\u001b[0;34m)\u001b[0m\u001b[0;34m\u001b[0m\u001b[0;34m\u001b[0m\u001b[0m\n\u001b[1;32m   1813\u001b[0m         \u001b[0;32mif\u001b[0m \u001b[0mself\u001b[0m\u001b[0;34m.\u001b[0m\u001b[0morient\u001b[0m \u001b[0;34m==\u001b[0m \u001b[0;34m\"h\"\u001b[0m\u001b[0;34m:\u001b[0m\u001b[0;34m\u001b[0m\u001b[0;34m\u001b[0m\u001b[0m\n",
      "\u001b[0;32m~/.pyenv/versions/anaconda3-5.0.1/lib/python3.6/site-packages/seaborn/categorical.py\u001b[0m in \u001b[0;36mdraw_points\u001b[0;34m(self, ax)\u001b[0m\n\u001b[1;32m   1805\u001b[0m                            \u001b[0mc\u001b[0m\u001b[0;34m=\u001b[0m\u001b[0mpoint_colors\u001b[0m\u001b[0;34m,\u001b[0m \u001b[0medgecolor\u001b[0m\u001b[0;34m=\u001b[0m\u001b[0mpoint_colors\u001b[0m\u001b[0;34m,\u001b[0m\u001b[0;34m\u001b[0m\u001b[0;34m\u001b[0m\u001b[0m\n\u001b[1;32m   1806\u001b[0m                            \u001b[0mlinewidth\u001b[0m\u001b[0;34m=\u001b[0m\u001b[0mmew\u001b[0m\u001b[0;34m,\u001b[0m \u001b[0mmarker\u001b[0m\u001b[0;34m=\u001b[0m\u001b[0mmarker\u001b[0m\u001b[0;34m,\u001b[0m \u001b[0ms\u001b[0m\u001b[0;34m=\u001b[0m\u001b[0mmarkersize\u001b[0m\u001b[0;34m,\u001b[0m\u001b[0;34m\u001b[0m\u001b[0;34m\u001b[0m\u001b[0m\n\u001b[0;32m-> 1807\u001b[0;31m                            zorder=z)\n\u001b[0m\u001b[1;32m   1808\u001b[0m \u001b[0;34m\u001b[0m\u001b[0m\n\u001b[1;32m   1809\u001b[0m     \u001b[0;32mdef\u001b[0m \u001b[0mplot\u001b[0m\u001b[0;34m(\u001b[0m\u001b[0mself\u001b[0m\u001b[0;34m,\u001b[0m \u001b[0max\u001b[0m\u001b[0;34m)\u001b[0m\u001b[0;34m:\u001b[0m\u001b[0;34m\u001b[0m\u001b[0;34m\u001b[0m\u001b[0m\n",
      "\u001b[0;32m~/.pyenv/versions/anaconda3-5.0.1/lib/python3.6/site-packages/matplotlib/__init__.py\u001b[0m in \u001b[0;36minner\u001b[0;34m(ax, data, *args, **kwargs)\u001b[0m\n\u001b[1;32m   1599\u001b[0m     \u001b[0;32mdef\u001b[0m \u001b[0minner\u001b[0m\u001b[0;34m(\u001b[0m\u001b[0max\u001b[0m\u001b[0;34m,\u001b[0m \u001b[0;34m*\u001b[0m\u001b[0margs\u001b[0m\u001b[0;34m,\u001b[0m \u001b[0mdata\u001b[0m\u001b[0;34m=\u001b[0m\u001b[0;32mNone\u001b[0m\u001b[0;34m,\u001b[0m \u001b[0;34m**\u001b[0m\u001b[0mkwargs\u001b[0m\u001b[0;34m)\u001b[0m\u001b[0;34m:\u001b[0m\u001b[0;34m\u001b[0m\u001b[0;34m\u001b[0m\u001b[0m\n\u001b[1;32m   1600\u001b[0m         \u001b[0;32mif\u001b[0m \u001b[0mdata\u001b[0m \u001b[0;32mis\u001b[0m \u001b[0;32mNone\u001b[0m\u001b[0;34m:\u001b[0m\u001b[0;34m\u001b[0m\u001b[0;34m\u001b[0m\u001b[0m\n\u001b[0;32m-> 1601\u001b[0;31m             \u001b[0;32mreturn\u001b[0m \u001b[0mfunc\u001b[0m\u001b[0;34m(\u001b[0m\u001b[0max\u001b[0m\u001b[0;34m,\u001b[0m \u001b[0;34m*\u001b[0m\u001b[0mmap\u001b[0m\u001b[0;34m(\u001b[0m\u001b[0msanitize_sequence\u001b[0m\u001b[0;34m,\u001b[0m \u001b[0margs\u001b[0m\u001b[0;34m)\u001b[0m\u001b[0;34m,\u001b[0m \u001b[0;34m**\u001b[0m\u001b[0mkwargs\u001b[0m\u001b[0;34m)\u001b[0m\u001b[0;34m\u001b[0m\u001b[0;34m\u001b[0m\u001b[0m\n\u001b[0m\u001b[1;32m   1602\u001b[0m \u001b[0;34m\u001b[0m\u001b[0m\n\u001b[1;32m   1603\u001b[0m         \u001b[0mbound\u001b[0m \u001b[0;34m=\u001b[0m \u001b[0mnew_sig\u001b[0m\u001b[0;34m.\u001b[0m\u001b[0mbind\u001b[0m\u001b[0;34m(\u001b[0m\u001b[0max\u001b[0m\u001b[0;34m,\u001b[0m \u001b[0;34m*\u001b[0m\u001b[0margs\u001b[0m\u001b[0;34m,\u001b[0m \u001b[0;34m**\u001b[0m\u001b[0mkwargs\u001b[0m\u001b[0;34m)\u001b[0m\u001b[0;34m\u001b[0m\u001b[0;34m\u001b[0m\u001b[0m\n",
      "\u001b[0;32m~/.pyenv/versions/anaconda3-5.0.1/lib/python3.6/site-packages/matplotlib/axes/_axes.py\u001b[0m in \u001b[0;36mscatter\u001b[0;34m(self, x, y, s, c, marker, cmap, norm, vmin, vmax, alpha, linewidths, verts, edgecolors, plotnonfinite, **kwargs)\u001b[0m\n\u001b[1;32m   4452\u001b[0m             self._parse_scatter_color_args(\n\u001b[1;32m   4453\u001b[0m                 \u001b[0mc\u001b[0m\u001b[0;34m,\u001b[0m \u001b[0medgecolors\u001b[0m\u001b[0;34m,\u001b[0m \u001b[0mkwargs\u001b[0m\u001b[0;34m,\u001b[0m \u001b[0mxshape\u001b[0m\u001b[0;34m,\u001b[0m \u001b[0myshape\u001b[0m\u001b[0;34m,\u001b[0m\u001b[0;34m\u001b[0m\u001b[0;34m\u001b[0m\u001b[0m\n\u001b[0;32m-> 4454\u001b[0;31m                 get_next_color_func=self._get_patches_for_fill.get_next_color)\n\u001b[0m\u001b[1;32m   4455\u001b[0m \u001b[0;34m\u001b[0m\u001b[0m\n\u001b[1;32m   4456\u001b[0m         \u001b[0;32mif\u001b[0m \u001b[0mplotnonfinite\u001b[0m \u001b[0;32mand\u001b[0m \u001b[0mcolors\u001b[0m \u001b[0;32mis\u001b[0m \u001b[0;32mNone\u001b[0m\u001b[0;34m:\u001b[0m\u001b[0;34m\u001b[0m\u001b[0;34m\u001b[0m\u001b[0m\n",
      "\u001b[0;32m~/.pyenv/versions/anaconda3-5.0.1/lib/python3.6/site-packages/matplotlib/axes/_axes.py\u001b[0m in \u001b[0;36m_parse_scatter_color_args\u001b[0;34m(c, edgecolors, kwargs, xshape, yshape, get_next_color_func)\u001b[0m\n\u001b[1;32m   4296\u001b[0m                         \u001b[0;34m\"acceptable for use with 'x' with size {xs}, \"\u001b[0m\u001b[0;34m\u001b[0m\u001b[0;34m\u001b[0m\u001b[0m\n\u001b[1;32m   4297\u001b[0m                         \u001b[0;34m\"'y' with size {ys}.\"\u001b[0m\u001b[0;34m\u001b[0m\u001b[0;34m\u001b[0m\u001b[0m\n\u001b[0;32m-> 4298\u001b[0;31m                             \u001b[0;34m.\u001b[0m\u001b[0mformat\u001b[0m\u001b[0;34m(\u001b[0m\u001b[0mnc\u001b[0m\u001b[0;34m=\u001b[0m\u001b[0mn_elem\u001b[0m\u001b[0;34m,\u001b[0m \u001b[0mxs\u001b[0m\u001b[0;34m=\u001b[0m\u001b[0mxsize\u001b[0m\u001b[0;34m,\u001b[0m \u001b[0mys\u001b[0m\u001b[0;34m=\u001b[0m\u001b[0mysize\u001b[0m\u001b[0;34m)\u001b[0m\u001b[0;34m\u001b[0m\u001b[0;34m\u001b[0m\u001b[0m\n\u001b[0m\u001b[1;32m   4299\u001b[0m                     )\n\u001b[1;32m   4300\u001b[0m                 \u001b[0;32melse\u001b[0m\u001b[0;34m:\u001b[0m\u001b[0;34m\u001b[0m\u001b[0;34m\u001b[0m\u001b[0m\n",
      "\u001b[0;31mValueError\u001b[0m: 'c' argument has 3 elements, which is not acceptable for use with 'x' with size 0, 'y' with size 0."
     ]
    },
    {
     "data": {
      "text/plain": [
       "<Figure size 1152x576 with 0 Axes>"
      ]
     },
     "metadata": {},
     "output_type": "display_data"
    },
    {
     "data": {
      "image/png": "[encoded data removed]",
      "text/plain": [
       "<Figure size 1080x720 with 6 Axes>"
      ]
     },
     "metadata": {},
     "output_type": "display_data"
    }
   ],
   "source": [
    "import seaborn as sns\n",
    "sns.reset_orig()\n",
    "\n",
    "sns.set(font_scale=1.5)\n",
    "sns.set_style('whitegrid')\n",
    "#plt.figure(figsize=(8, 4))\n",
    "plt.figure(figsize=(16, 8))\n",
    "sns.factorplot(x='epsilon_prime', y='AUC', col='L1', \n",
    "               hue='L2', col_wrap=3, \n",
    "               markers=['o', 'x', '^', 's', 'D', 'v'], \n",
    "               linestyles=['-', '--', '-.', '-', '--', '-.'], \n",
    "               data=df_all_epsilnPrime_concat)\n",
    "               #data=df_all_epsilon_concat)\n",
    "plt.savefig(os.path.join(outdir, 'dependency_on_epsilon_prime.eps'), dpi=200)\n",
    "plt.savefig(os.path.join(outdir, 'dependency_on_epsilon_prime.png'), dpi=200)"
   ]
  },
  {
   "cell_type": "code",
   "execution_count": null,
   "metadata": {},
   "outputs": [],
   "source": []
  },
  {
   "cell_type": "code",
   "execution_count": null,
   "metadata": {},
   "outputs": [
    {
     "name": "stderr",
     "output_type": "stream",
     "text": [
      "  0%|          | 0/30 [00:00<?, ?it/s]/Users/sfukushima/.pyenv/versions/anaconda3-5.0.1/lib/python3.6/site-packages/ipykernel_launcher.py:3: RuntimeWarning: invalid value encountered in greater\n",
      "  This is separate from the ipykernel package so we can avoid doing imports until\n"
     ]
    },
    {
     "name": "stdout",
     "output_type": "stream",
     "text": [
      "[   419    422    425 ... 149200 149295 149300]\n"
     ]
    },
    {
     "name": "stderr",
     "output_type": "stream",
     "text": [
      "/Users/sfukushima/.pyenv/versions/anaconda3-5.0.1/lib/python3.6/site-packages/ipykernel_launcher.py:78: RuntimeWarning: invalid value encountered in greater_equal\n",
      "/Users/sfukushima/.pyenv/versions/anaconda3-5.0.1/lib/python3.6/site-packages/ipykernel_launcher.py:78: RuntimeWarning: invalid value encountered in less_equal\n",
      "/Users/sfukushima/.pyenv/versions/anaconda3-5.0.1/lib/python3.6/site-packages/ipykernel_launcher.py:82: RuntimeWarning: invalid value encountered in greater_equal\n",
      "/Users/sfukushima/.pyenv/versions/anaconda3-5.0.1/lib/python3.6/site-packages/ipykernel_launcher.py:82: RuntimeWarning: invalid value encountered in less_equal\n",
      "/Users/sfukushima/.pyenv/versions/anaconda3-5.0.1/lib/python3.6/site-packages/ipykernel_launcher.py:104: RuntimeWarning: invalid value encountered in greater_equal\n",
      "/Users/sfukushima/.pyenv/versions/anaconda3-5.0.1/lib/python3.6/site-packages/ipykernel_launcher.py:104: RuntimeWarning: invalid value encountered in less_equal\n",
      "/Users/sfukushima/.pyenv/versions/anaconda3-5.0.1/lib/python3.6/site-packages/ipykernel_launcher.py:111: RuntimeWarning: invalid value encountered in greater_equal\n",
      "/Users/sfukushima/.pyenv/versions/anaconda3-5.0.1/lib/python3.6/site-packages/ipykernel_launcher.py:111: RuntimeWarning: invalid value encountered in less_equal\n",
      "  3%|▎         | 1/30 [00:31<15:04, 31.20s/it]"
     ]
    },
    {
     "name": "stdout",
     "output_type": "stream",
     "text": [
      "[   168    187    271 ... 149630 149722 149845]\n"
     ]
    },
    {
     "name": "stderr",
     "output_type": "stream",
     "text": [
      "  7%|▋         | 2/30 [00:59<14:07, 30.27s/it]"
     ]
    },
    {
     "name": "stdout",
     "output_type": "stream",
     "text": [
      "[   193    238    241 ... 149495 149846 149866]\n"
     ]
    },
    {
     "name": "stderr",
     "output_type": "stream",
     "text": [
      " 10%|█         | 3/30 [01:32<14:03, 31.24s/it]"
     ]
    },
    {
     "name": "stdout",
     "output_type": "stream",
     "text": [
      "[   160    175    182 ... 149664 149769 149778]\n"
     ]
    },
    {
     "name": "stderr",
     "output_type": "stream",
     "text": [
      " 13%|█▎        | 4/30 [02:05<13:44, 31.70s/it]"
     ]
    },
    {
     "name": "stdout",
     "output_type": "stream",
     "text": [
      "[   300    304    307 ... 149658 149676 149764]\n"
     ]
    },
    {
     "name": "stderr",
     "output_type": "stream",
     "text": [
      " 17%|█▋        | 5/30 [02:35<13:02, 31.30s/it]"
     ]
    },
    {
     "name": "stdout",
     "output_type": "stream",
     "text": [
      "[   104    118    137 ... 148574 148997 149719]\n"
     ]
    },
    {
     "name": "stderr",
     "output_type": "stream",
     "text": [
      " 20%|██        | 6/30 [03:05<12:17, 30.74s/it]"
     ]
    },
    {
     "name": "stdout",
     "output_type": "stream",
     "text": [
      "[   497    836    924 ... 149619 149718 149896]\n"
     ]
    },
    {
     "name": "stderr",
     "output_type": "stream",
     "text": [
      " 23%|██▎       | 7/30 [03:36<11:50, 30.90s/it]"
     ]
    },
    {
     "name": "stdout",
     "output_type": "stream",
     "text": [
      "[   393    499    991 ... 149186 149205 149602]\n"
     ]
    },
    {
     "name": "stderr",
     "output_type": "stream",
     "text": [
      " 27%|██▋       | 8/30 [04:09<11:29, 31.36s/it]"
     ]
    },
    {
     "name": "stdout",
     "output_type": "stream",
     "text": [
      "[   365    379    496 ... 149767 149837 149877]\n"
     ]
    },
    {
     "name": "stderr",
     "output_type": "stream",
     "text": [
      " 30%|███       | 9/30 [04:41<11:05, 31.67s/it]"
     ]
    },
    {
     "name": "stdout",
     "output_type": "stream",
     "text": [
      "[   501    693    704 ... 149759 149768 149770]\n"
     ]
    },
    {
     "name": "stderr",
     "output_type": "stream",
     "text": [
      " 33%|███▎      | 10/30 [05:16<10:55, 32.77s/it]"
     ]
    },
    {
     "name": "stdout",
     "output_type": "stream",
     "text": [
      "[   162    424    502 ... 149706 149718 149868]\n"
     ]
    },
    {
     "name": "stderr",
     "output_type": "stream",
     "text": [
      " 37%|███▋      | 11/30 [05:44<09:53, 31.22s/it]"
     ]
    },
    {
     "name": "stdout",
     "output_type": "stream",
     "text": [
      "[   417    500    602 ... 149400 149459 149809]\n"
     ]
    },
    {
     "name": "stderr",
     "output_type": "stream",
     "text": [
      " 40%|████      | 12/30 [06:06<08:32, 28.47s/it]"
     ]
    },
    {
     "name": "stdout",
     "output_type": "stream",
     "text": [
      "[   504    577    580 ... 149336 149399 149436]\n"
     ]
    },
    {
     "name": "stderr",
     "output_type": "stream",
     "text": [
      " 43%|████▎     | 13/30 [06:26<07:21, 25.95s/it]"
     ]
    },
    {
     "name": "stdout",
     "output_type": "stream",
     "text": [
      "[   416    500    695 ... 149228 149277 149282]\n"
     ]
    },
    {
     "name": "stderr",
     "output_type": "stream",
     "text": [
      " 47%|████▋     | 14/30 [06:45<06:20, 23.81s/it]"
     ]
    },
    {
     "name": "stdout",
     "output_type": "stream",
     "text": [
      "[   337    341    348 ... 149316 149332 149683]\n"
     ]
    },
    {
     "name": "stderr",
     "output_type": "stream",
     "text": [
      " 50%|█████     | 15/30 [07:03<05:30, 22.06s/it]"
     ]
    },
    {
     "name": "stdout",
     "output_type": "stream",
     "text": [
      "[   417    501    737 ... 149205 149276 149302]\n"
     ]
    },
    {
     "name": "stderr",
     "output_type": "stream",
     "text": [
      " 53%|█████▎    | 16/30 [07:21<04:52, 20.90s/it]"
     ]
    },
    {
     "name": "stdout",
     "output_type": "stream",
     "text": [
      "[   163    174    228 ... 149890 149892 149898]\n"
     ]
    },
    {
     "name": "stderr",
     "output_type": "stream",
     "text": [
      " 57%|█████▋    | 17/30 [07:39<04:21, 20.13s/it]"
     ]
    },
    {
     "name": "stdout",
     "output_type": "stream",
     "text": [
      "[   187    255    260 ... 149596 149883 149885]\n"
     ]
    },
    {
     "name": "stderr",
     "output_type": "stream",
     "text": [
      " 60%|██████    | 18/30 [07:58<03:54, 19.57s/it]"
     ]
    },
    {
     "name": "stdout",
     "output_type": "stream",
     "text": [
      "[   288    368    386 ... 149603 149694 149703]\n"
     ]
    },
    {
     "name": "stderr",
     "output_type": "stream",
     "text": [
      " 63%|██████▎   | 19/30 [08:16<03:31, 19.19s/it]"
     ]
    },
    {
     "name": "stdout",
     "output_type": "stream",
     "text": [
      "[   380    422    500 ... 149655 149665 149822]\n"
     ]
    },
    {
     "name": "stderr",
     "output_type": "stream",
     "text": [
      " 67%|██████▋   | 20/30 [08:34<03:09, 18.91s/it]"
     ]
    },
    {
     "name": "stdout",
     "output_type": "stream",
     "text": [
      "[   412    501    991 ... 149000 149435 149535]\n"
     ]
    },
    {
     "name": "stderr",
     "output_type": "stream",
     "text": [
      " 70%|███████   | 21/30 [08:52<02:48, 18.73s/it]"
     ]
    },
    {
     "name": "stdout",
     "output_type": "stream",
     "text": [
      "[   503    603    787 ... 149676 149691 149696]\n"
     ]
    },
    {
     "name": "stderr",
     "output_type": "stream",
     "text": [
      " 73%|███████▎  | 22/30 [09:11<02:28, 18.55s/it]"
     ]
    },
    {
     "name": "stdout",
     "output_type": "stream",
     "text": [
      "[   101    113    493    918   1000   1500   1592   1594   2002   2081\n",
      "   2086   2092   2156   2158   2163   2398   2495   2567   2999   3226\n",
      "   3230   3326   3500   3690   3999   4147   4156   4181   4390   4416\n",
      "   4502   4584   4864   4917   5000   5089   5501   6000   6287   6291\n",
      "   6500   6690   6713   6725   6756   6916   7001   7126   7227   7500\n",
      "   7655   7675   7710   7889   7920   8000   8101   8109   8501   8679\n",
      "   8681   8685   8692   8999   9115   9150   9162   9335   9348   9354\n",
      "   9405   9411   9493   9681   9691   9792  10000  10500  11000  11206\n",
      "  11245  11368  11495  11835  12000  12409  12412  12414  12418  12500\n",
      "  12930  13000  13256  13498  13655  13668  13671  14000  14102  14110\n",
      "  14194  14206  14379  14415  14417  14421  14499  14573  14578  15001\n",
      "  15500  15600  15615  15710  15812  15826  16000  16081  16304  16499\n",
      "  16568  16920  17000  17086  17500  17883  17929  17995  18419  18498\n",
      "  18645  18746  18773  18846  18897  19001  19172  19185  19195  19225\n",
      "  19325  19332  19335  19499  19876  19879  19882  19902  19936  19999\n",
      "  20237  20239  20262  20360  20376  20382  20501  20601  20701  21005\n",
      "  21188  21499  21997  22070  22238  22500  22907  23000  23504  24000\n",
      "  24094  24181  24205  24236  24239  24256  24275  24331  24336  24347\n",
      "  24359  24424  24502  24582  24831  24836  24920  25002  25074  25500\n",
      "  25575  26000  26171  26499  26999  27357  27364  27378  27392  27500\n",
      "  27999  28499  28694  28735  28835  28863  28867  29002  29085  29302\n",
      "  29495  29637  29646  29669  29769  30010  30075  30225  30500  30578\n",
      "  30580  31002  31182  31198  31282  31289  31431  31500  31995  32495\n",
      "  32589  32595  32615  32673  32688  33001  33293  33499  33630  33637\n",
      "  33641  33873  33879  34000  34418  34500  35000  35499  35916  35922\n",
      "  36000  36504  36585  36587  36590  36690  36695  36706  36719  36723\n",
      "  36730  37000  37096  37101  37168  37204  37257  37357  37500  38000\n",
      "  38057  38061  38154  38166  38185  38191  38226  38500  38664  38668\n",
      "  38683  38689  38693  38696  38785  38828  39000  39421  39423  39499\n",
      "  39725  39984  40499  40772  41000  41419  41502  41796  41801  41890\n",
      "  41901  42003  42500  42751  42755  42765  42777  42786  42794  42798\n",
      "  43002  43302  43499  43904  43907  43999  44100  44397  44499  44649\n",
      "  44669  44679  44691  44892  44998  45088  45181  45500  46002  46284\n",
      "  46289  46292  46388  46498  46583  46867  46920  46998  47098  47200\n",
      "  47500  47802  47914  47998  48501  48578  48924  48927  48999  49415\n",
      "  49502  49614  49919  50001  50075  50243  50247  50251  50257  50334\n",
      "  50355  50379  50399  50675  50684  50784  51000  51095  51488  51913\n",
      "  51998  52288  53006  53240  53243  53249  53688  53695  53715  53815\n",
      "  53851  53999  54132  54626  55001  55101  55680  55931  56003  56109\n",
      "  56115  56118  56333  57001  57083  57432  57918  58006  58106  58131\n",
      "  58215  58231  58498  58516  58532  58632  58653  58905  58911  58999\n",
      "  59148  59420  59520  59550  59921  59927  59930  59933  59998  60082\n",
      "  60086  60093  60927  60999  61075  61078  62000  62086  62209  62223\n",
      "  62235  63000  63448  63745  63776  63993  64081  64508  64768  64927\n",
      "  64929  64933  65003  65311  65324  65918  65998  66240  66337  66342\n",
      "  66346  66572  67000  67140  67240  67253  67271  67279  68003  68190\n",
      "  68999  70000  70222  70312  70352  70710  70817  71000  71406  71413\n",
      "  71506  71657  71661  71673  71753  72000  72099  72135  72592  72828\n",
      "  72834  72836  73003  73088  73453  73610  73616  73623  73925  74000\n",
      "  74681  74689  74788  74810  74817  74821  74824  74829  75000  75261\n",
      "  75266  75274  75540  75992  76187  76997  77114  77493  77872  77892\n",
      "  77999  78070  78072  78188  78393  78407  78428  79000  79595  79603\n",
      "  79998  80301  80803  80997  81088  81913  81916  82000  82418  82741\n",
      "  82745  83000  83229  83731  83920  84001  84079  84228  84338  84596\n",
      "  84918  84989  85157  85182  85198  85400  85705  86000  86434  86436\n",
      "  86863  87001  87503  87601  87620  87701  87773  87801  87806  87989\n",
      "  88117  88122  88408  88411  88416  88440  88452  88497  88552  88555\n",
      "  88998  89321  89411  89444  89449  89838  89842  90001  90071  90113\n",
      "  90870  91000  91196  91290  91317  91390  91395  91410  91432  91561\n",
      "  91998  92814  93012  93326  93348  93363  93942  94000  94708  94744\n",
      "  94905  94907  94999  95121  95135  95741  96000  96077  96482  96496\n",
      "  96513  96604  96613  97002  97533  98000  98297  98304  98630  98740\n",
      "  98999  99103  99635  99736 100025 100125 100130 100139 100392 100416\n",
      " 100492 100533 100568 100611 100613 100625 100633 100834 100839 100867\n",
      " 101000 101081 101401 101418 101436 101479 101583 101598 101602 101625\n",
      " 101639 101999 102122 103001 103374 103385 104000 104100 104179 104192\n",
      " 104665 104687 104821 105010 105081 105127 105162 105168 105181 105420\n",
      " 105453 105456 105573 105593 105597 105822 105830 105927 105999 106283\n",
      " 106373 106383 106467 106485 106508 106524 107006 107116 107299 107486\n",
      " 107543 107549 107551 107665 107722 107848 107859 108000 108365 109004\n",
      " 109250 109417 109427 109432 109994 110378 110402 110443 111000 111712\n",
      " 111729 111910 112000 112551 113001 113189 113535 113636 113998 114227\n",
      " 114244 114260 114730 114747 114751 114755 114920 115000 115086 115138\n",
      " 115838 115844 115847 115859 115999 116191 116551 116558 116999 117104\n",
      " 117407 117439 117507 118007 118522 118532 118847 119000 119100 119364\n",
      " 119371 119376 119379 119382 119763 119786 119863 119867 119872 119892\n",
      " 120005 120407 120567 121001 121525 121535 121539 121911 121916 122003\n",
      " 122886 122890 123000 123547 123998 124991 125126 126002 126920 127000\n",
      " 127293 127302 127564 127926 128000 128074 128216 128218 128476 128484\n",
      " 128498 128507 128525 128625 128628 129004 129345 129348 129351 129374\n",
      " 129386 129402 129407 129412 129465 129486 129595 129601 129690 129790\n",
      " 130002 130117 130137 130149 130599 130604 130609 130708 130809 131001\n",
      " 131173 131177 131278 131315 131325 131569 131572 131669 131672 131913\n",
      " 132001 132268 132310 132998 133568 133581 133603 133612 133614 133921\n",
      " 134007 134149 134159 134571 134607 134636 134638 134727 134738 134747\n",
      " 135004 135611 135624 135630 135637 135777 135783 135998 136066 136992\n",
      " 137079 137125 137298 137302 137460 137480 137500 137998 138573 138608\n",
      " 138619 138628 138709 138919 139000 139107 139114 139668 139761 139768\n",
      " 139862 139999 140902 140904 140986 142000 142088 142464 142479 142503\n",
      " 142512 142515 142612 142678 142866 143000 143076 143080 143375 143477\n",
      " 143616 144005 144151 144193 144630 144646 144657 144669 144915 144998\n",
      " 145692 145841 145906 146000 146263 146305 146405 146417 146422 146918\n",
      " 146925 146999 147420 148001 148089 148600 149000 149091 149181 149192\n",
      " 149403 149512 149528 149532]\n"
     ]
    },
    {
     "name": "stderr",
     "output_type": "stream",
     "text": [
      " 77%|███████▋  | 23/30 [09:30<02:10, 18.67s/it]"
     ]
    },
    {
     "name": "stdout",
     "output_type": "stream",
     "text": [
      "[   218    422    497    925   1002   1278   1293   1315   1501   1739\n",
      "   1780   1789   1793   1842   1878   1895   1905   2004   2307   2314\n",
      "   2332   2430   2499   2577   2638   2859   2867   2871   2874   2999\n",
      "   3064   3498   3869   3921   3984   4199   4506   4599   4699   4764\n",
      "   4766   4999   5425   5506   5576   5813   5852   6000   6269   6372\n",
      "   6503   7004   7498   7590   7608   7927   7929   8000   8090   8424\n",
      "   8504   8598   8918   9000   9500  10000  10501  11003  11069  11406\n",
      "  11509  11749  11917  11921  12000  12248  12370  12374  12486  12629\n",
      "  12641  12907  12915  12999  13307  13341  13373  13500  13623  13998\n",
      "  14084  14425  14427  14500  14999  15500  15673  15678  16009  16184\n",
      "  16500  16576  16993  17191  17503  17580  17703  17709  17809  17997\n",
      "  18500  18733  19001  19291  19386  19397  19436  19494  20000  20493\n",
      "  20990  21067  21125  21151  21177  21183  21382  21413  21419  21425\n",
      "  21504  21578  21901  22000  22503  22735  22999  23149  23154  23174\n",
      "  23180  23496  23593  23597  23609  23623  23748  23751  23816  24007\n",
      "  24087  24499  24689  24697  24704  24998  25087  25501  26000  26123\n",
      "  26223  26237  26240  26512  26625  26796  26804  27000  27086  27088\n",
      "  27213  27219  27501  27999  28500  28844  28850  29000  29090  29501\n",
      "  30000  30500  30929  31000  31068  31501  31991  32228  32503  33001\n",
      "  33124  33186  33220  33225  33299  33312  33505  33568  33997  34500\n",
      "  34574  34580  34714  34731  34809  34824  34853  34999  35421  35427\n",
      "  35501  35999  36299  36499  37000  37085  37087  37323  37337  37497\n",
      "  37651  37901  37996  38157  38179  38181  38260  38314  38384  38386\n",
      "  38499  38602  38607  38636  38643  38647  38834  38855  38862  38996\n",
      "  39074  39156  39233  39333  39501  39568  39636  39643  39653  39663\n",
      "  39755  39763  39782  40000  40353  40355  40423  40495  40666  40675\n",
      "  40897  40997  41499  41616  41620  41889  42000  42399  42500  42686\n",
      "  42709  42824  42836  42840  42842  42912  42999  43074  43501  43594\n",
      "  43811  44000  44163  44170  44355  44417  44420  44502  44586  44736\n",
      "  45000  45197  45214  45417  45508  45584  45935  46000  46071  46173\n",
      "  46415  46418  46500  46569  46581  46621  46626  46629  46666  46671\n",
      "  46676  46999  47099  47128  47174  47228  47233  47500  47574  47843\n",
      "  47852  48000  48098  48176  48429  48503  48619  48674  48682  48703\n",
      "  48725  48868  48872  49002  49392  49501  49582  49622  49644  49678\n",
      "  49778  50013  50085  50091  50254  50256  50421  50426  50432  50532\n",
      "  50723  50823  50862  50877  50886  50914  51000  51135  51142  51310\n",
      "  51317  51360  51417  51458  51564  51575  51996  52401  52425  52549\n",
      "  52997  53484  54000  54384  54457  54470  54999  55058  55060  55099\n",
      "  55137  55140  55175  55198  55203  55323  55408  55729  55732  55813\n",
      "  55825  55828  55987  56067  56070  56072  56075  56694  57001  57086\n",
      "  57115  57536  57557  57657  58000  58070  58104  58116  58135  58306\n",
      "  58388  58802  58807  58809  58846  58926  59000  59542  59547  59557\n",
      "  59585  59807  59822  60007  60555  60573  60997  61113  61340  61420\n",
      "  61440  61921  61999  62881  62885  63004  63165  63384  63400  63830\n",
      "  64000  64671  64751  64755  64776  64925  64929  65000  65132  65134\n",
      "  65150  65234  65236  65500  65747  65761  65792  66001  67000  67273\n",
      "  67288  67295  67577  67591  68000  68111  68117  68211  68217  68219\n",
      "  68662  69003  69084  69448  69464  69502  69754  69760  69767  69871\n",
      "  69921  69923  70000  70188  70721  70726  70935  71001  71417  71430\n",
      "  72003  72240  72256  72261  72285  72385  72999  73258  73511  73648\n",
      "  74000  74615  74682  74688  74696  74703  74715  74720  74723  74924\n",
      "  75003  75162  75167  75238  75426  75431  75437  75635  75646  75667\n",
      "  75735  75739  75767  76001  76501  76505  77001  77372  78000  78401\n",
      "  78405  78576  78914  78999  79993  80918  80999  81645  81658  81668\n",
      "  81678  81877  81908  81914  81916  82005  82240  82643  82677  82684\n",
      "  82865  83001  83275  83293  83301  83921  83990  84607  84690  84702\n",
      "  84807  84814  84820  85000  85251  85356  85707  85721  85728  85741\n",
      "  86000  86181  86188  86923  87000  87069  87072  87838  87891  88000\n",
      "  88100  88121  88200  89000  89127  89144  89227  89357  89457  90008\n",
      "  90093  90419  90431  90441  90519  90552  91000  91508  91773  92000\n",
      "  92117  92238  92597  92608  92698  92720  92731  92990  93448  93999\n",
      "  94236  94785  94909  94917  94999  95855  96002  96165  96196  96205\n",
      "  96207  96215  96536  96555  96997  97201  97204  97350  97462  97917\n",
      "  97925  98002  98185  98191  98211  98213  98237  98266  98270  98317\n",
      "  98998  99929  99933 100001 100220 100227 100238 100254 100263 101002\n",
      " 101079 101163 101591 102000 102842 102845 102847 102864 102918 103001\n",
      " 103176 103527 103546 103562 103577 103588 103912 104000 104104 104924\n",
      " 104998 105141 105492 105496 105502 105624 105648 105674 105928 105995\n",
      " 106108 106113 106121 106391 106455 106461 106766 106810 106817 106822\n",
      " 106999 107111 107121 107575 107578 107589 107592 107787 107796 107818\n",
      " 107825 107998 108112 108121 108136 108503 108510 108999 109244 109876\n",
      " 109881 109911 110000 110073 110076 110082 110141 110151 110726 110734\n",
      " 110826 110834 110922 111000 111090 111093 111193 111203 111289 111332\n",
      " 111337 111341 111390 111395 111414 111446 111477 111577 111602 111719\n",
      " 111819 111828 111842 111847 111862 111885 112000 112415 112419 113000\n",
      " 113195 113199 114000 114078 114447 114454 114594 114602 114605 114614\n",
      " 114642 114680 115001 115109 115164 115264 115302 115999 116982 117416\n",
      " 117857 118000 118718 118732 118741 118761 119000 119095 119098 119435\n",
      " 119585 119606 119779 119792 119797 120000 120912 121001 121507 121511\n",
      " 121658 121666 121677 121754 121758 122002 122739 122779 122789 123000\n",
      " 123177 123212 123216 124006 124140 124158 124260 124447 124658 124748\n",
      " 124758 125000 125086 125211 125227 126004 126104 126218 126235 126279\n",
      " 126430 126437 126447 126905 126917 127001 127174 127196 127280 127289\n",
      " 127342 127677 127681 127690 127777 127791 127899 127932 128000 128083\n",
      " 128223 128227 128266 128323 128366 129000 130000 131000 131156 131161\n",
      " 131169 131589 131691 131695 132004 132079 132241 132341 132396 132626\n",
      " 132639 132828 132834 132932 133000 133260 134000 134805 135000 135918\n",
      " 136006 136176 136523 136819 136835 136999 137099 137478 137490 138005\n",
      " 138081 138237 138255 138345 138350 138358 138366 138375 139000 139210\n",
      " 139830 139848 139860 140000 140069 140071 140164 140172 140272 140556\n",
      " 140558 140576 140586 140676 140678 140695 140915 140919 141000 141516\n",
      " 141999 143000 143087 143103 143106 143112 143126 143406 143416 143748\n",
      " 143761 144000 144078 144897 144998 145353 145356 145363 145785 145870\n",
      " 145874 145890 145892 146000 146776 146799 146823 147000 147359 147363\n",
      " 147386 148000 148182 148284 148751 148754 148759 148835 148845 148851\n",
      " 148853 149020 149089 149237 149263]\n"
     ]
    },
    {
     "name": "stderr",
     "output_type": "stream",
     "text": [
      " 80%|████████  | 24/30 [09:53<02:01, 20.18s/it]"
     ]
    },
    {
     "name": "stdout",
     "output_type": "stream",
     "text": [
      "[   343    432    500   1008   1495   1859   1865   1998   2500   2579\n",
      "   2581   2622   2999   3163   3330   3498   3929   3939   4000   4431\n",
      "   4500   4573   4923   5000   5500   5676   5682   5720   5748   5856\n",
      "   5889   6005   6508   7003   7496   7708   7744   7870   7885   7893\n",
      "   7895   7901   8002   8500   8732   8736   8832   8845   8851   8997\n",
      "   9500   9650   9896   9899  10000  10379  10499  10702  10708  10718\n",
      "  10933  10998  11080  11085  11087  11342  11502  12000  12075  12226\n",
      "  12416  12496  12566  12630  13001  13332  13340  13498  13583  13757\n",
      "  13866  13992  14064  14066  14125  14500  14877  14888  14917  15000\n",
      "  15080  15084  15089  15227  15504  15898  15999  16089  16290  16502\n",
      "  16831  16905  16907  16911  16914  16997  17243  17250  17256  17262\n",
      "  17278  17500  17926  17996  18104  18118  18126  18207  18409  18500\n",
      "  18614  18763  18863  18999  19200  19206  19211  19319  19341  19388\n",
      "  19397  19500  19919  19921  19996  20500  20586  20733  20756  20760\n",
      "  20850  21000  21297  21493  21556  21881  21887  21897  22000  22145\n",
      "  22163  22500  22911  22913  23000  23499  23669  23999  24493  24570\n",
      "  24701  24836  25000  25112  25202  25211  25425  25429  25500  25581\n",
      "  25741  25748  25750  26002  26228  26243  26342  26500  26697  26938\n",
      "  27000  27252  27502  27870  28000  28217  28501  28586  29009  29500\n",
      "  29923  30000  30501  30802  30902  30906  30908  31007  31070  31499\n",
      "  31591  31735  31828  31831  32000  32085  32212  32263  32496  32570\n",
      "  32848  32868  33000  33417  33494  33658  33752  33759  33983  34499\n",
      "  34849  34855  34860  35002  35111  35417  35486  35634  35734  35745\n",
      "  35775  35781  35786  35999  36360  36369  36375  36500  36914  36925\n",
      "  36928  37004  37336  37500  37836  38005  38325  38341  38415  38422\n",
      "  38432  38499  38626  38639  38648  38670  38988  39499  39930  39933\n",
      "  40000  40151  40493  40575  41004  41408  41413  41495  41991  42432\n",
      "  42501  42780  42880  42884  42898  42999  43087  43217  43225  43253\n",
      "  43500  43925  43927  44000  44357  44370  44497  44585  44591  44698\n",
      "  44704  44804  44810  44823  44826  45000  45180  45502  46002  46352\n",
      "  46494  46799  46813  46880  46891  47000  47500  47580  47587  47593\n",
      "  47933  48000  48133  48500  49003  49500  49660  49664  49671  49679\n",
      "  49683  49999  50517  51001  52009  52372  52390  52562  52568  53014\n",
      "  53114  53124  53127  53140  53226  53230  53240  54003  54491  54591\n",
      "  54600  54616  54624  54629  55001  55183  55265  55391  55447  55694\n",
      "  55715  55874  56000  56121  56347  56354  56520  56529  56620  56628\n",
      "  56635  56651  56849  56864  56879  56998  57999  58737  58739  58901\n",
      "  58985  59376  59846  59851  60000  60912  61000  61414  61486  61490\n",
      "  61500  61526  61539  61639  61648  61658  61667  61670  62000  62077\n",
      "  63000  63158  63999  64166  64201  64280  64289  64292  64377  64389\n",
      "  64479  64998  65071  65228  65246  65275  65328  65346  65375  65998\n",
      "  66363  66372  66524  67002  67804  67809  68000  68907  68914  68919\n",
      "  69002  69188  69205  69220  69226  69798  70002  70407  70414  70416\n",
      "  70428  70463  70469  70763  70777  70787  70790  70793  70826  71001\n",
      "  71378  71387  71478  71486  71918  72000  72329  72331  72352  72389\n",
      "  72393  72489  72494  72913  72998  73190  73194  73290  73294  73311\n",
      "  73316  73355  73522  73532  73819  73828  73848  74001  74117  74121\n",
      "  74158  74271  74999  75590  75599  75630  75739  75752  75762  75765\n",
      "  75772  75796  75806  75822  75827  75993  76076  76825  76860  76921\n",
      "  76999  77251  77258  77260  77558  77696  77703  77722  77740  77822\n",
      "  77854  77866  78003  78116  78208  78216  78228  78870  78900  78907\n",
      "  79003  79792  79803  80000  80087  80090  80094  80318  80859  80881\n",
      "  80920  81005  81285  81302  81530  81657  81751  81757  81921  81926\n",
      "  82000  82585  82602  82613  82689  82714  82725  82929  83001  83807\n",
      "  83998  84082  84482  84503  84507  84794  84995  85452  85524  85552\n",
      "  85572  86001  86136  86678  86688  86706  86798  86924  87001  87110\n",
      "  87124  87533  87637  87658  87668  87758  87793  87797  88000  88323\n",
      "  88333  88342  88354  88364  88367  88377  88380  88383  88691  88695\n",
      "  88700  88773  88786  88789  88920  89003  90000  90181  90187  90190\n",
      "  90195  90206  90211  90223  90676  90682  90693  90728  90828  90912\n",
      "  90917  91003  91074  91080  91086  91253  91274  91289  91995  92194\n",
      "  92997  93275  93345  93370  93394  93416  93991  94349  94821  94995\n",
      "  95648  95994  96349  96440  96457  96467  96472  96672  96686  96759\n",
      "  96783  97000  97109  97119  97126  97131  97139  97409  97416  97814\n",
      "  97817  97826  98000  98919  99001  99762  99927  99929 100001 100358\n",
      " 100392 100400 100515 100518 100998 101074 102002 102081 102849 102859\n",
      " 103000 103088 103494 103596 103912 103921 103926 103999 104268 104368\n",
      " 104371 105003 105125 105622 105625 105638 105653 105657 105670 105863\n",
      " 105876 105923 106000 106326 106425 106998 107233 107297 107301 107310\n",
      " 107333 107393 107496 107502 107927 107997 108081 108087 108132 108167\n",
      " 108179 108273 108284 108294 108305 109005 109214 109283 109285 109314\n",
      " 109326 109328 109383 109385 109870 109874 110006 110086 110088 110090\n",
      " 110092 110617 111000 111055 111142 111508 111638 111716 111737 111929\n",
      " 112000 112094 112296 112304 112308 112404 112828 112832 112844 113002\n",
      " 113157 113194 113575 113578 113694 113702 114002 114726 114731 114733\n",
      " 114738 114741 114826 114833 114851 114865 114999 115088 115136 116001\n",
      " 116997 117093 117215 117220 117623 117626 117667 117678 118000 118321\n",
      " 118548 118560 118579 118615 118877 118882 119004 119197 119204 119263\n",
      " 119363 119386 119416 119430 119434 119913 119999 120373 120656 120756\n",
      " 120783 121000 121069 121074 121883 121892 121999 122461 122684 122778\n",
      " 122918 123003 123366 123376 123694 123730 123735 123830 124005 124072\n",
      " 125000 125115 125215 125468 125492 125595 125755 125772 125797 125999\n",
      " 126583 126590 126795 126798 126806 126826 126829 126835 126860 126880\n",
      " 126996 127072 127076 127428 127450 127550 127559 127999 128162 128170\n",
      " 128263 128768 128806 128817 128822 128829 128838 128998 129270 129288\n",
      " 129295 129304 129312 129331 129431 129926 130006 130087 131004 131089\n",
      " 131162 131173 131998 132070 132073 132122 132230 132329 132411 132418\n",
      " 132429 132483 132556 132885 133000 133083 133716 134009 134285 134293\n",
      " 134926 135000 135088 135243 135359 135460 135999 136162 137000 137414\n",
      " 137998 138417 138635 138646 138762 138875 139000 139092 139369 139381\n",
      " 139398 139420 139433 139533 139924 139999 140268 140282 140284 140535\n",
      " 140635 140663 140672 140702 140705 141000 141301 141306 141747 141752\n",
      " 142000 142819 143005 143090 143176 143186 143194 143206 143213 143654\n",
      " 143998 144800 144805 144919 145001 145906 145999 146103 146109 146169\n",
      " 146175 146180 146650 146654 146726 146731 146750 146769 146915 146998\n",
      " 147093 147096 147099 147105 147199 147214 147228 147252 147340 147563\n",
      " 147573 147582 147663 147676 147682 147998 148178 148280 148995 149091\n",
      " 149691 149694 149714 149726 149785 149788 149791 149817 149885 149888\n",
      " 149891 149895 149899]\n"
     ]
    },
    {
     "name": "stderr",
     "output_type": "stream",
     "text": [
      " 83%|████████▎ | 25/30 [10:14<01:42, 20.43s/it]"
     ]
    },
    {
     "name": "stdout",
     "output_type": "stream",
     "text": [
      "[   410    495    984   1179   1500   1858   2000   2088   2374   2392\n",
      "   2493   2629   2636   2640   2736   2992   3078   3424   3496   3913\n",
      "   3995   4263   4299   4310   4401   4500   4813   4997   5500   5573\n",
      "   5596   5607   5707   6002   6117   6125   6143   6147   6268   6276\n",
      "   6304   6413   6499   7003   7174   7195   7201   7209   7221   7500\n",
      "   7926   7999   8393   8400   8402   8501   8571   8890   9002   9187\n",
      "   9201   9500   9785   9930   9932   9998  10427  10505  10741  10997\n",
      "  11061  11115  11147  11176  11493  12004  12131  12134  12143  12299\n",
      "  12333  12346  12500  12693  12699  13000  13502  13574  13857  13863\n",
      "  13922  13999  14500  14729  15000  15360  15365  15384  15388  15392\n",
      "  15495  15675  15680  15683  15685  15812  15847  15920  16002  16492\n",
      "  16777  16794  16995  17228  17500  17923  17929  18000  18077  18080\n",
      "  18422  18501  18570  18573  18577  18579  18919  18923  19000  19383\n",
      "  19397  19500  19796  19798  20000  20093  20500  20563  20787  20859\n",
      "  20887  20988  21157  21492  21642  21653  21659  21713  21775  21792\n",
      "  21998  22424  22507  22597  23000  23324  23327  23505  24003  24223\n",
      "  24231  24236  24238  24499  24622  24625  24629  24682  24687  24720\n",
      "  24996  25084  25123  25499  25619  26000  26495  27000  27499  28001\n",
      "  28114  28120  28215  28220  28306  28309  28315  28320  28398  28500\n",
      "  28586  29004  29132  29151  29424  29500  29818  30001  30122  30131\n",
      "  30155  30168  30254  30260  30262  30501  30844  30925  30928  31000\n",
      "  31498  31793  31893  31905  31916  31920  32010  32162  32194  32262\n",
      "  32500  32574  32577  32737  32802  32902  32906  33004  33080  33344\n",
      "  33493  33907  33910  33922  34000  34075  34377  34385  34498  35000\n",
      "  35218  35500  35919  36001  36083  36298  36333  36341  36378  36413\n",
      "  36422  36500  36658  36682  36782  37003  37079  37496  37557  38000\n",
      "  38423  38427  38500  38683  38687  39002  39405  39411  39499  39805\n",
      "  40000  40077  40105  40430  40492  40864  40867  40929  41003  41064\n",
      "  41080  41119  41498  41580  42000  42314  42500  43007  43500  43927\n",
      "  44015  44069  44075  44081  44499  44815  44836  44841  44849  44931\n",
      "  45000  45378  45383  45500  45577  45920  46000  46193  46201  46226\n",
      "  46244  46256  46265  46353  46500  46582  46593  46999  47086  47131\n",
      "  47500  47588  47848  47851  47999  48337  48361  48499  48619  48638\n",
      "  48654  49001  49186  49201  49504  50004  50127  50137  50155  50237\n",
      "  50239  50255  50283  50293  50609  50794  50799  50807  50815  50820\n",
      "  51000  51088  51504  51506  52000  52089  52386  53001  53329  53343\n",
      "  53346  54000  54161  54186  54200  54339  54390  54417  54578  54679\n",
      "  54698  54995  55080  55190  55196  55230  55774  55839  55842  56000\n",
      "  56119  56130  56140  56151  56936  57006  57271  57445  57447  57456\n",
      "  58001  58056  58160  58162  58172  58704  58804  58922  59000  59665\n",
      "  59672  60003  60135  60155  60922  60997  61181  61209  61219  61921\n",
      "  61998  62215  62650  62654  62660  62674  62865  62870  63006  63203\n",
      "  63217  63642  63654  63778  63780  63796  63878  63880  63890  63896\n",
      "  64003  64068  64071  64208  64219  64235  64256  64348  64844  64888\n",
      "  64897  64916  64999  65087  65920  66007  66600  66605  66608  67000\n",
      "  67082  67159  67454  67458  67467  67479  67486  67578  67890  67990\n",
      "  68076  68398  68421  68489  68530  69001  69355  69360  69768  69783\n",
      "  69791  69883  69907  70011  70187  70206  70483  70539  71000  71358\n",
      "  71655  71901  72013  72070  72076  73000  73172  73180  73321  73356\n",
      "  73446  73451  73456  73464  73681  73684  73999  74136  74143  74168\n",
      "  74996  75260  75999  76157  76701  76750  76907  76910  77000  77075\n",
      "  77935  78006  78688  78800  78808  78900  79001  79115  79118  79124\n",
      "  79131  79133  79246  79260  79291  79294  79304  79318  79321  79473\n",
      "  79758  79788  79877  79886  79888  80003  80070  80208  80226  80235\n",
      "  80358  80921  80999  81203  81641  81743  81898  81910  81940  81999\n",
      "  82105  82415  82419  82680  82727  82740  82742  82835  82839  82848\n",
      "  82895  82999  83101  83641  83644  83998  84153  84368  84374  84479\n",
      "  84579  84988  85340  85715  85726  85822  86001  86164  86676  86683\n",
      "  86704  87001  87076  87156  87203  87297  87303  87403  87680  87933\n",
      "  87937  88006  89000  89584  89862  89865  89908  90014  90611  90642\n",
      "  90659  90742  91002  91141  91258  91281  91825  91830  92001  93000\n",
      "  93332  93808  93810  93927  93999  94447  94453  94463  94476  94560\n",
      "  94572  95001  95113  95542  95564  95826  96000  97006  97132  97137\n",
      "  97521  98000  98323  98327  98335  98339  98658  99001  99308  99930\n",
      " 100015 100268 100292 100306 100329 100835 100849 100860 100995 101695\n",
      " 101738 101795 101996 102091 102108 102200 102213 102918 103002 103123\n",
      " 103141 103717 103726 103732 103735 103996 104454 104478 104483 104687\n",
      " 104811 104814 105000 105933 105999 106077 106275 106382 106604 106626\n",
      " 106714 106722 106764 107000 107330 107541 107650 107701 107703 107723\n",
      " 107823 107835 107838 107847 108000 108171 108997 109163 109423 109431\n",
      " 109437 109443 109454 109666 109748 109751 109758 109916 109996 110091\n",
      " 110103 110112 110125 110145 110239 110245 110249 110915 111001 111077\n",
      " 111082 111590 111608 111625 111726 112000 112181 112190 112281 112290\n",
      " 113002 113070 113572 113575 113595 113601 113603 113613 113714 113718\n",
      " 113727 113915 113993 114120 114999 115082 115278 115571 115579 115679\n",
      " 115812 115911 116000 116213 116358 116369 116478 116490 116505 116629\n",
      " 116636 116643 116654 116673 116704 117000 117175 117494 117512 117998\n",
      " 118119 118242 118278 118381 118384 118386 118397 118429 118744 118750\n",
      " 118760 118776 118782 118788 118927 119006 119077 119080 120001 120500\n",
      " 121002 121829 121908 122000 122106 122116 122127 122129 122145 122150\n",
      " 122153 122169 122526 122705 123000 124003 124156 124170 124276 125000\n",
      " 125429 125474 125793 125991 126139 126190 126216 126262 126909 127000\n",
      " 127623 127634 127915 127999 128699 128766 128778 128788 128799 128930\n",
      " 129000 129484 129579 129826 130001 130062 130583 131000 131087 131641\n",
      " 131643 131858 131889 131896 131921 132003 132389 132405 132461 132468\n",
      " 132512 132523 132906 132996 133347 133358 133447 133451 133456 133999\n",
      " 134055 134057 134177 134181 134188 134368 134393 134397 134587 134687\n",
      " 134698 134992 135134 136000 136067 136190 136437 136441 136456 136466\n",
      " 136475 136854 136897 136914 136922 136924 136999 137192 137195 137201\n",
      " 137219 137226 137320 137420 137424 137447 137460 137717 137900 137999\n",
      " 138241 138672 138680 138693 138696 138712 139000 139913 139998 140156\n",
      " 140300 140578 141000 141137 141156 141161 141237 141261 141267 141283\n",
      " 141322 141478 141500 141503 141644 141663 141675 141744 141756 141770\n",
      " 142000 142087 142299 142403 142904 142906 143003 143078 143083 143281\n",
      " 143288 144000 144252 144329 144332 144347 144355 144447 144601 144608\n",
      " 144633 144794 144803 144810 144847 145000 145908 146005 146514 146517\n",
      " 146584 146586 146617 146920 147003 147312 147328 147337 147429 147449\n",
      " 147455 147483 147579 148002 148735 148766 148786 148996 149756 149762\n",
      " 149770 149797 149897]\n"
     ]
    },
    {
     "name": "stderr",
     "output_type": "stream",
     "text": [
      " 87%|████████▋ | 26/30 [10:37<01:23, 20.97s/it]"
     ]
    },
    {
     "name": "stdout",
     "output_type": "stream",
     "text": [
      "[   494    555    557    694    794    804    999   1110   1118   1496\n",
      "   1677   1680   1693   1704   1804   1809   1813   1816   1979   2298\n",
      "   2301   2310   2318   2335   2357   2416   2504   2578   2792   2939\n",
      "   3002   3064   3215   3408   3501   4003   4070   4493   5000   5346\n",
      "   5357   5361   5499   5832   5837   6000   6109   6147   6206   6209\n",
      "   6251   6256   6501   6787   6810   6999   7082   7137   7498   7571\n",
      "   7787   7887   8000   8320   8347   8500   8997   9084   9099   9104\n",
      "   9119   9122   9501   9722   9737   9743   9766  10006  10178  10181\n",
      "  10189  10502  10879  10886  10891  10997  11127  11141  11150  11153\n",
      "  11155  11499  11713  11751  11755  11770  11781  11795  11870  11999\n",
      "  12142  12152  12207  12210  12246  12276  12500  12748  12841  12852\n",
      "  12897  12990  13053  13056  13060  13064  13067  13071  13417  13421\n",
      "  13502  13594  13598  13602  13693  13707  14000  14257  14357  14425\n",
      "  14428  14430  14434  14439  14502  14760  14768  14775  14779  14879\n",
      "  14923  15005  15072  15498  15845  15854  16001  16417  16503  16902\n",
      "  16905  17000  17210  17212  17218  17501  17667  17688  17787  18000\n",
      "  18078  18110  18123  18258  18409  18413  18500  18617  18634  18681\n",
      "  18985  19144  19166  19203  19308  19313  19494  19579  19602  19634\n",
      "  19735  20004  20074  20181  20499  20670  20674  20687  20774  20782\n",
      "  20791  20813  20818  20823  20829  21000  21078  21190  21496  21779\n",
      "  21884  21997  22384  22409  22502  22592  23000  23182  23195  23228\n",
      "  23239  23500  23854  23861  23995  24060  24062  24065  24067  24305\n",
      "  24323  24340  24499  24925  25001  25083  25500  25583  25655  25699\n",
      "  25718  25823  25826  25843  25906  25911  25921  25925  25995  26123\n",
      "  26307  26310  26504  26647  26999  27075  27406  27500  27613  27657\n",
      "  27756  28002  28085  28416  28418  28502  28999  29385  29393  29498\n",
      "  29590  29756  29997  30500  30565  31015  31122  31170  31222  31500\n",
      "  32000  32113  32217  32415  32500  32999  33261  33288  33500  33897\n",
      "  33925  33927  34000  34071  34081  34161  34168  34174  34496  34664\n",
      "  34696  34698  34703  34821  35000  35383  35394  35499  36000  36209\n",
      "  36222  36321  36502  36707  36887  37003  37256  37262  37423  37494\n",
      "  37577  38000  38068  38359  38500  38568  38663  38671  39007  39208\n",
      "  39500  39610  39613  39634  39663  39665  39676  40002  40252  40274\n",
      "  40281  40359  40374  40382  40387  40496  40716  40816  40922  41001\n",
      "  41067  41502  42000  42097  42106  42121  42131  42383  42390  42407\n",
      "  42409  42500  42579  42587  43000  43080  43497  43616  43631  43994\n",
      "  44233  44500  44573  44661  44664  44671  44688  44701  44711  44715\n",
      "  44721  44815  44850  44857  44997  45173  45176  45374  45416  45422\n",
      "  45499  45582  45748  45998  46190  46334  46491  47001  47427  47499\n",
      "  47595  47598  47632  47732  47763  47838  47849  47863  47869  48002\n",
      "  48095  48098  48340  48347  48359  48370  48498  48644  48650  48920\n",
      "  48922  48999  49111  49500  49580  49931  49999  50494  50998  51233\n",
      "  51395  51495  51915  52000  52131  52160  52338  52677  52689  52926\n",
      "  52933  53004  53913  54000  54295  54402  54431  54504  54531  54933\n",
      "  54936  54999  55733  55839  55844  56000  56185  56193  56239  56293\n",
      "  56297  56339  57000  57265  57276  57279  58000  58106  58119  58143\n",
      "  58256  58264  58840  58857  59000  59077  59083  59163  59175  59997\n",
      "  60830  60839  60853  60923  60998  61071  61739  61756  61772  62003\n",
      "  62112  62123  62432  63013  63920  63995  64397  64712  65000  65080\n",
      "  65085  65303  66001  66232  66243  66502  66602  66611  66622  66633\n",
      "  66645  67004  67806  67819  67822  67832  67842  67925  67936  68000\n",
      "  68674  68681  68770  68774  68781  68924  69003  70004  70145  70163\n",
      "  70173  70181  71000  71138  71153  71321  71354  72000  72200  72300\n",
      "  72359  72396  72659  72671  72688  72771  72780  72803  72811  72814\n",
      "  72826  72828  73000  73086  73107  73532  73632  73656  74001  74651\n",
      "  74655  74770  75001  76000  76086  76890  76894  76902  77004  77997\n",
      "  78369  78388  78511  78515  78525  78580  78680  78711  79000  79091\n",
      "  79300  80000  80405  80408  80450  80550  80999  81124  81141  81149\n",
      "  81601  81999  82779  83000  83251  83256  83356  83374  83388  83796\n",
      "  84000  84068  84507  84524  84546  84608  84624  84996  86003  86177\n",
      "  86184  86189  86265  86299  87000  88000  88091  88401  88404  88429\n",
      "  88475  88702  88731  89001  89083  89815  89823  89827  90001  90445\n",
      "  90999  91082  91089  91091  91108  91160  91306  91382  91406  91506\n",
      "  91524  91625  92000  92116  92910  93004  93800  93913  94000  94623\n",
      "  94771  94790  95002  95081  95114  95116  95158  95232  95252  95258\n",
      "  95643  95707  95709  95803  95805  95816  95835  96001  96187  96287\n",
      "  96507  96510  97000  97354  97357  97364  97373  97377  97387  97674\n",
      "  98000  98123  98715  98717  98722  98817  98835  98868  98930  99001\n",
      "  99998 100133 100141 100241 100249 100731 100829 101000 101272 101283\n",
      " 101293 101297 101316 101335 101645 101649 101745 101748 101916 102000\n",
      " 102447 102464 103002 103074 103084 103533 103588 103733 103735 103847\n",
      " 104000 104799 104868 104999 105121 105143 105491 105497 105510 105579\n",
      " 105596 105632 106000 106996 107396 107997 108202 108301 109005 109237\n",
      " 109248 109454 109462 109898 110002 110315 110806 111003 111072 111076\n",
      " 111120 111266 111288 111785 111885 112001 112738 112749 112755 112757\n",
      " 112999 113881 113889 113892 114000 114080 114308 114590 114598 114690\n",
      " 115002 115223 115325 115338 115343 115348 115356 115646 116002 116859\n",
      " 116887 116996 117143 117998 118289 118915 119000 119090 119268 119293\n",
      " 119306 119406 119466 119469 120000 120087 120293 120298 120621 120624\n",
      " 120721 120739 120743 120842 120865 120997 121250 121662 121664 121925\n",
      " 121927 121933 121937 122000 122260 122271 122278 122283 122301 122305\n",
      " 122317 122330 122371 122380 122430 122613 122640 122920 122999 123625\n",
      " 123999 124297 124849 124871 124875 125000 125113 125116 125120 125129\n",
      " 125137 125229 125237 125259 125264 125432 125482 125582 125608 126000\n",
      " 126301 126309 126409 126430 126438 126470 126604 126926 127008 127083\n",
      " 127794 127799 127999 128082 128262 128265 128268 128281 128289 128647\n",
      " 128650 128750 128799 128803 129000 129088 129571 129580 129771 130001\n",
      " 130083 130096 130385 131000 131243 131254 131590 131999 132081 132122\n",
      " 132213 132223 132233 132236 132298 132323 132824 133000 133306 133411\n",
      " 133421 133435 133439 133847 133852 134000 134081 134083 134087 134347\n",
      " 134997 135184 135188 135288 135541 135888 135892 135999 137000 137998\n",
      " 138087 138137 138146 138243 138381 138391 138397 138480 138835 138838\n",
      " 139001 139093 139343 139427 139656 139828 139904 140000 140078 140242\n",
      " 140283 140986 141195 141208 141247 141312 141356 141438 141538 141556\n",
      " 141566 141573 141998 142584 142589 142998 143298 143615 143913 144004\n",
      " 144087 144219 144755 144757 144999 145264 145383 145411 145693 145712\n",
      " 145715 145729 145815 145819 146000 146074 146383 147003 147073 147079\n",
      " 147202 147211 147215 147233 147333 147544 147555 147568 147999 148285\n",
      " 148787 148887 148990 149130 149145 149155 149157 149163 149331 149351\n",
      " 149372 149401 149499 149560 149646 149660]\n"
     ]
    },
    {
     "name": "stderr",
     "output_type": "stream",
     "text": [
      " 90%|█████████ | 27/30 [11:01<01:06, 22.07s/it]"
     ]
    },
    {
     "name": "stdout",
     "output_type": "stream",
     "text": [
      "[   113    277    285 ... 149677 149688 149690]\n"
     ]
    },
    {
     "name": "stderr",
     "output_type": "stream",
     "text": [
      " 93%|█████████▎| 28/30 [11:26<00:45, 22.81s/it]"
     ]
    },
    {
     "name": "stdout",
     "output_type": "stream",
     "text": [
      "[   501    693    790 ... 148688 148693 149000]\n"
     ]
    },
    {
     "name": "stderr",
     "output_type": "stream",
     "text": [
      " 97%|█████████▋| 29/30 [11:49<00:23, 23.05s/it]"
     ]
    },
    {
     "name": "stdout",
     "output_type": "stream",
     "text": [
      "[   418    423    502 ... 148999 149203 149699]\n"
     ]
    },
    {
     "name": "stderr",
     "output_type": "stream",
     "text": [
      "100%|██████████| 30/30 [12:10<00:00, 22.26s/it]\n",
      "  0%|          | 0/30 [00:00<?, ?it/s]"
     ]
    },
    {
     "name": "stdout",
     "output_type": "stream",
     "text": [
      "length1= 500 length2= 1000\n",
      "  AUC(vd): 0.715463491481167 +/- 0.10796635901389687\n",
      "  AUC(md): 0.8593046508388298 +/- 0.06705136743699372\n",
      "[   417    499    582 ... 549050 549422 549429]\n"
     ]
    },
    {
     "name": "stderr",
     "output_type": "stream",
     "text": [
      "  3%|▎         | 1/30 [01:21<39:21, 81.43s/it]"
     ]
    },
    {
     "name": "stdout",
     "output_type": "stream",
     "text": [
      "[   415    493    730 ... 549070 549084 549183]\n"
     ]
    },
    {
     "name": "stderr",
     "output_type": "stream",
     "text": [
      "  7%|▋         | 2/30 [02:44<38:11, 81.85s/it]"
     ]
    },
    {
     "name": "stdout",
     "output_type": "stream",
     "text": [
      "[   426    499    996 ... 549752 549766 549774]\n"
     ]
    },
    {
     "name": "stderr",
     "output_type": "stream",
     "text": [
      " 10%|█         | 3/30 [04:12<37:39, 83.67s/it]"
     ]
    },
    {
     "name": "stdout",
     "output_type": "stream",
     "text": [
      "[   242    257    499 ... 548289 548665 548759]\n"
     ]
    },
    {
     "name": "stderr",
     "output_type": "stream",
     "text": [
      " 13%|█▎        | 4/30 [05:20<34:11, 78.92s/it]"
     ]
    },
    {
     "name": "stdout",
     "output_type": "stream",
     "text": [
      "[   414    417    500 ... 549101 549261 549567]\n"
     ]
    },
    {
     "name": "stderr",
     "output_type": "stream",
     "text": [
      " 17%|█▋        | 5/30 [06:28<31:31, 75.65s/it]"
     ]
    },
    {
     "name": "stdout",
     "output_type": "stream",
     "text": [
      "[   502    711    714 ... 549120 549134 549438]\n"
     ]
    },
    {
     "name": "stderr",
     "output_type": "stream",
     "text": [
      " 20%|██        | 6/30 [07:56<31:44, 79.36s/it]"
     ]
    },
    {
     "name": "stdout",
     "output_type": "stream",
     "text": [
      "[   227    327    345 ... 549534 549745 549751]\n"
     ]
    },
    {
     "name": "stderr",
     "output_type": "stream",
     "text": [
      " 23%|██▎       | 7/30 [09:23<31:19, 81.70s/it]"
     ]
    },
    {
     "name": "stdout",
     "output_type": "stream",
     "text": [
      "[   175    179    181 ... 549769 549772 549891]\n"
     ]
    },
    {
     "name": "stderr",
     "output_type": "stream",
     "text": [
      " 27%|██▋       | 8/30 [10:40<29:26, 80.30s/it]"
     ]
    },
    {
     "name": "stdout",
     "output_type": "stream",
     "text": [
      "[   494    801    900 ... 549431 549444 549458]\n"
     ]
    },
    {
     "name": "stderr",
     "output_type": "stream",
     "text": [
      " 30%|███       | 9/30 [12:03<28:24, 81.18s/it]"
     ]
    },
    {
     "name": "stdout",
     "output_type": "stream",
     "text": [
      "[   500    921    996 ... 549366 549370 549470]\n"
     ]
    },
    {
     "name": "stderr",
     "output_type": "stream",
     "text": [
      " 33%|███▎      | 10/30 [13:38<28:25, 85.27s/it]"
     ]
    },
    {
     "name": "stdout",
     "output_type": "stream",
     "text": [
      "[   497    592   1000 ... 549143 549151 549155]\n"
     ]
    },
    {
     "name": "stderr",
     "output_type": "stream",
     "text": [
      " 37%|███▋      | 11/30 [15:03<27:00, 85.30s/it]"
     ]
    },
    {
     "name": "stdout",
     "output_type": "stream",
     "text": [
      "[   358    497    575 ... 549427 549527 549634]\n"
     ]
    },
    {
     "name": "stderr",
     "output_type": "stream",
     "text": [
      " 40%|████      | 12/30 [16:28<25:30, 85.02s/it]"
     ]
    },
    {
     "name": "stdout",
     "output_type": "stream",
     "text": [
      "[   354    420    422 ... 549827 549853 549858]\n"
     ]
    },
    {
     "name": "stderr",
     "output_type": "stream",
     "text": [
      " 43%|████▎     | 13/30 [17:54<24:11, 85.40s/it]"
     ]
    },
    {
     "name": "stdout",
     "output_type": "stream",
     "text": [
      "[   501    755    999 ... 549309 549324 549337]\n"
     ]
    },
    {
     "name": "stderr",
     "output_type": "stream",
     "text": [
      " 47%|████▋     | 14/30 [19:25<23:15, 87.19s/it]"
     ]
    },
    {
     "name": "stdout",
     "output_type": "stream",
     "text": [
      "[   120    134    166 ... 549147 549150 549309]\n"
     ]
    },
    {
     "name": "stderr",
     "output_type": "stream",
     "text": [
      " 50%|█████     | 15/30 [20:58<22:13, 88.91s/it]"
     ]
    },
    {
     "name": "stdout",
     "output_type": "stream",
     "text": [
      "[   100    106    109 ... 548686 548694 548700]\n"
     ]
    },
    {
     "name": "stderr",
     "output_type": "stream",
     "text": [
      " 53%|█████▎    | 16/30 [23:04<23:21, 100.09s/it]"
     ]
    },
    {
     "name": "stdout",
     "output_type": "stream",
     "text": [
      "[   140    214    240 ... 549663 549668 549836]\n"
     ]
    },
    {
     "name": "stderr",
     "output_type": "stream",
     "text": [
      " 57%|█████▋    | 17/30 [25:04<22:56, 105.89s/it]"
     ]
    },
    {
     "name": "stdout",
     "output_type": "stream",
     "text": [
      "[   120    132    220 ... 549838 549842 549867]\n"
     ]
    },
    {
     "name": "stderr",
     "output_type": "stream",
     "text": [
      " 60%|██████    | 18/30 [26:35<20:16, 101.40s/it]"
     ]
    },
    {
     "name": "stdout",
     "output_type": "stream",
     "text": [
      "[   499    581    584 ... 548392 549470 549791]\n"
     ]
    },
    {
     "name": "stderr",
     "output_type": "stream",
     "text": [
      " 63%|██████▎   | 19/30 [28:20<18:48, 102.59s/it]"
     ]
    },
    {
     "name": "stdout",
     "output_type": "stream",
     "text": [
      "[   501    577    897 ... 549085 549853 549893]\n"
     ]
    },
    {
     "name": "stderr",
     "output_type": "stream",
     "text": [
      " 67%|██████▋   | 20/30 [31:09<20:25, 122.52s/it]"
     ]
    },
    {
     "name": "stdout",
     "output_type": "stream",
     "text": [
      "[   126    133    145 ... 548597 548950 549698]\n"
     ]
    },
    {
     "name": "stderr",
     "output_type": "stream",
     "text": [
      " 70%|███████   | 21/30 [33:27<19:04, 127.15s/it]"
     ]
    },
    {
     "name": "stdout",
     "output_type": "stream",
     "text": [
      "[   497    765    791 ... 549599 549612 549705]\n"
     ]
    },
    {
     "name": "stderr",
     "output_type": "stream",
     "text": [
      " 73%|███████▎  | 22/30 [35:34<16:55, 126.98s/it]"
     ]
    },
    {
     "name": "stdout",
     "output_type": "stream",
     "text": [
      "[   500    581    872 ... 549008 549429 549438]\n"
     ]
    },
    {
     "name": "stderr",
     "output_type": "stream",
     "text": [
      " 77%|███████▋  | 23/30 [37:46<15:00, 128.69s/it]"
     ]
    },
    {
     "name": "stdout",
     "output_type": "stream",
     "text": [
      "[   107    207    227 ... 549829 549849 549878]\n"
     ]
    },
    {
     "name": "stderr",
     "output_type": "stream",
     "text": [
      " 80%|████████  | 24/30 [40:05<13:10, 131.82s/it]"
     ]
    },
    {
     "name": "stdout",
     "output_type": "stream",
     "text": [
      "[   500    701    718 ... 549059 549107 549494]\n"
     ]
    },
    {
     "name": "stderr",
     "output_type": "stream",
     "text": [
      " 83%|████████▎ | 25/30 [42:22<11:05, 133.14s/it]"
     ]
    },
    {
     "name": "stdout",
     "output_type": "stream",
     "text": [
      "[   500    998   1259 ... 549592 549614 549733]\n"
     ]
    },
    {
     "name": "stderr",
     "output_type": "stream",
     "text": [
      " 87%|████████▋ | 26/30 [44:49<09:09, 137.40s/it]"
     ]
    },
    {
     "name": "stdout",
     "output_type": "stream",
     "text": [
      "[   110    129    229 ... 549572 549577 549677]\n"
     ]
    },
    {
     "name": "stderr",
     "output_type": "stream",
     "text": [
      " 90%|█████████ | 27/30 [47:18<07:02, 140.87s/it]"
     ]
    },
    {
     "name": "stdout",
     "output_type": "stream",
     "text": [
      "[   373    382    391 ... 548286 548289 548391]\n"
     ]
    },
    {
     "name": "stderr",
     "output_type": "stream",
     "text": [
      " 93%|█████████▎| 28/30 [49:40<04:42, 141.31s/it]"
     ]
    },
    {
     "name": "stdout",
     "output_type": "stream",
     "text": [
      "[   500    569    612 ... 548692 549788 549821]\n"
     ]
    },
    {
     "name": "stderr",
     "output_type": "stream",
     "text": [
      " 97%|█████████▋| 29/30 [51:58<02:20, 140.40s/it]"
     ]
    },
    {
     "name": "stdout",
     "output_type": "stream",
     "text": [
      "[   381    386    394 ... 548992 549068 549623]\n"
     ]
    },
    {
     "name": "stderr",
     "output_type": "stream",
     "text": [
      "100%|██████████| 30/30 [54:35<00:00, 145.15s/it]\n",
      "  0%|          | 0/30 [00:00<?, ?it/s]"
     ]
    },
    {
     "name": "stdout",
     "output_type": "stream",
     "text": [
      "length1= 500 length2= 5000\n",
      "  AUC(vd): 0.9099643731526476 +/- 0.03867424126874496\n",
      "  AUC(md): 0.9574571261497679 +/- 0.01573242195978439\n",
      "[   455    495    509 ... 149567 149759 149859]\n"
     ]
    },
    {
     "name": "stderr",
     "output_type": "stream",
     "text": [
      "  3%|▎         | 1/30 [00:50<24:25, 50.53s/it]"
     ]
    },
    {
     "name": "stdout",
     "output_type": "stream",
     "text": [
      "[   143    162    246 ... 149605 149697 149820]\n"
     ]
    },
    {
     "name": "stderr",
     "output_type": "stream",
     "text": [
      "  7%|▋         | 2/30 [01:39<23:21, 50.04s/it]"
     ]
    },
    {
     "name": "stdout",
     "output_type": "stream",
     "text": [
      "[   187    232    235 ... 149503 149840 149860]\n"
     ]
    },
    {
     "name": "stderr",
     "output_type": "stream",
     "text": [
      " 10%|█         | 3/30 [02:19<21:11, 47.11s/it]"
     ]
    },
    {
     "name": "stdout",
     "output_type": "stream",
     "text": [
      "[   109    220    227 ... 149623 149628 149701]\n"
     ]
    },
    {
     "name": "stderr",
     "output_type": "stream",
     "text": [
      " 13%|█▎        | 4/30 [02:55<18:57, 43.76s/it]"
     ]
    },
    {
     "name": "stdout",
     "output_type": "stream",
     "text": [
      "[   300    304    307 ... 149658 149676 149764]\n"
     ]
    },
    {
     "name": "stderr",
     "output_type": "stream",
     "text": [
      " 17%|█▋        | 5/30 [03:25<16:27, 39.48s/it]"
     ]
    },
    {
     "name": "stdout",
     "output_type": "stream",
     "text": [
      "[   108    177    180    211    248    314    317    320    349    352\n",
      "    366    372    380    387    834    837    846    855    863   1000\n",
      "   2000   2254   2256   2287   2465   3003   3088   3846   3910   3912\n",
      "   3917   4003   4065   4072   4075   4645   4723   4740   4998   5153\n",
      "   5352   5544   5567   5598   5644   5698   5712   5723   5994   6073\n",
      "   6146   6781   6794   6806   6908   6922   6999   7453   7471   8007\n",
      "   8186   8197   8250   8258   8982   9629   9631   9782   9999  10770\n",
      "  10996  11068  11321  11474  11480  11567  11577  11581  11998  12461\n",
      "  12480  12492  12998  13923  13925  14000  14087  14415  14520  14528\n",
      "  14547  14554  14998  15155  15255  15920  16000  16376  16401  16501\n",
      "  16512  16555  16687  16700  16995  17862  17874  17878  17891  17898\n",
      "  18002  18073  18203  18217  18317  18787  18795  18822  18999  19102\n",
      "  19145  19315  19332  19353  19359  19748  19848  19855  19919  19921\n",
      "  19999  20073  20614  20862  20915  21000  21392  21489  21674  21997\n",
      "  22883  22893  22995  23116  24002  25000  25088  25090  25336  25342\n",
      "  25465  25472  25480  25504  25755  25759  25766  25867  25881  25928\n",
      "  26000  26147  26153  26158  26187  27001  27086  27089  27203  27453\n",
      "  27464  27488  27866  27869  27937  27941  28000  28103  28115  28127\n",
      "  28215  28385  28391  29000  29281  29380  29397  29406  29747  29867\n",
      "  29922  29927  30000  30219  30240  30245  30250  30257  30275  30292\n",
      "  30413  30432  30532  30897  30998  31265  31812  31826  31999  32081\n",
      "  32317  32417  32422  32425  32525  32713  32813  32853  32855  32999\n",
      "  33209  33770  33776  33998  34079  34081  34083  34086  34091  35001\n",
      "  36000  36129  36169  36177  36179  36188  36270  36372  36393  36529\n",
      "  36627  36729  36998  37124  37997  38065  38536  38694  39000  39164\n",
      "  39176  39304  39929  40010  40527  40624  40790  40919  40990  41889\n",
      "  41906  41999  42065  42629  42640  42644  42658  42670  42686  42705\n",
      "  42707  42914  43000  43068  43165  43176  43180  43187  43334  43412\n",
      "  43434  43450  43998  44080  44120  44122  44140  44368  44601  44606\n",
      "  44736  44793  44802  44893  45000  45100  45198  45665  45686  45701\n",
      "  46000  46479  46481  46996  47209  47998  48073  48328  48336  48438\n",
      "  49000  49334  49345  49447  49451  49686  49760  49787  49887  49897\n",
      "  50000  50221  50252  50427  50431  50529  50531  50801  50839  50855\n",
      "  50858  51000  51314  51332  51432  51810  51815  51915  52000  52096\n",
      "  52915  53000  53432  53919  54008  54776  54997  55097  55111  55116\n",
      "  55757  55793  55798  55803  55926  56004  56881  57003  57081  57084\n",
      "  57346  57456  57464  57492  57497  57501  57556  57714  58002  58112\n",
      "  58144  58157  58160  58163  59000  59406  59506  59606  60002  60312\n",
      "  60315  60433  60439  60538  60847  60875  60884  60918  61005  61155\n",
      "  61160  61234  61250  61358  61605  61706  61808  61929  61999  62361\n",
      "  62441  62446  62463  62617  62721  62737  62837  62842  63005  64003\n",
      "  64221  64235  64920  65002  65324  65380  65392  65776  65791  65861\n",
      "  65874  66001  67000  67268  67507  67606  67612  68000  68069  68999\n",
      "  69297  70000  70413  70914  70916  70919  71000  71582  71593  71607\n",
      "  71626  71637  72000  72403  72407  72501  72508  73000  73146  73154\n",
      "  73188  73190  73345  73363  73751  73773  73783  73788  73796  73805\n",
      "  73911  74001  74921  75000  75076  75084  75089  75093  75132  75163\n",
      "  75232  75238  75247  75293  75458  75472  75484  75490  75620  75628\n",
      "  75653  76005  76075  76402  76408  76435  76743  76750  76765  76875\n",
      "  76891  76899  76928  77000  77068  77372  77394  77402  77423  77651\n",
      "  77674  77760  77845  77877  77885  77913  78000  78209  78565  78575\n",
      "  78914  78919  79007  79201  79285  79287  79310  79410  79414  79657\n",
      "  79766  79783  79812  79914  80000  80097  80103  80121  80542  80563\n",
      "  80590  81005  81483  81583  81590  81997  82836  82916  83000  83495\n",
      "  83550  83558  83678  83691  84004  84083  84865  85001  85086  85119\n",
      "  85189  85220  85240  85243  85252  85289  85305  85835  85844  85847\n",
      "  85912  86000  86078  86998  87187  87636  87640  87698  87999  88929\n",
      "  89004  89064  89066  89071  89482  89485  89499  89998  90179  90192\n",
      "  90314  90317  90321  90324  90332  90364  90380  90468  90480  90619\n",
      "  90644  90660  90755  90763  90768  91000  91084  91999  92998  93299\n",
      "  93773  93775  93877  93998  94772  94783  94798  94906  94913  94992\n",
      "  95150  95155  95194  95275  95290  95293  95376  95390  95394  95759\n",
      "  96000  96070  96074  96145  96999  97648  97652  98000  98328  98334\n",
      "  98396  98406  98764  98790  98798  98868  98890  98908  99000  99373\n",
      "  99996 100413 100418 100504 100907 101000 101407 101500 101860 101888\n",
      " 102001 102415 102496 102655 102755 102998 103086 103302 103410 103413\n",
      " 103505 103865 103998 104077 104498 104641 104846 104892 104999 105500\n",
      " 105556 105562 105567 105573 105698 105998 106118 106127 106132 106138\n",
      " 106497 106927 107000 107136 107145 107397 107436 107439 107500 107587\n",
      " 107654 107999 108501 108882 109000 109169 109519 109621 109626 109629\n",
      " 109785 109798 110000 110064 110069 110327 110490 110559 110568 110637\n",
      " 111001 111073 111500 111999 112133 112159 112324 112348 112500 112800\n",
      " 112997 113186 113188 113200 113211 113225 113286 113288 113492 114001\n",
      " 114323 114500 114573 114577 114846 114999 115500 116001 116485 116583\n",
      " 116587 116905 116919 117000 117070 117073 117227 117234 117425 117500\n",
      " 117919 118002 118199 118502 118999 119427 119500 119576 120001 120498\n",
      " 120557 120682 120877 120990 121158 121255 121258 121297 121304 121311\n",
      " 121515 122007 122500 122930 122994 123230 123499 123925 123930 123937\n",
      " 124001 124295 124499 124674 124704 124997 125249 125257 125267 125271\n",
      " 125283 125291 125373 125387 125499 125743 125747 125751 125755 125999\n",
      " 126126 126136 126153 126503 126999 127500 128000 128185 128285 128367\n",
      " 128422 128500 128606 128698 128756 128856 129000 129500 129629 130000\n",
      " 130500 130998 131319 131392 131404 131500 131989 132233 132239 132345\n",
      " 132408 132413 132415 132501 132999 133047 133050 133052 133071 133122\n",
      " 133125 133145 133158 133164 133500 134000 134132 134138 134150 134163\n",
      " 134263 134500 134923 134994 135418 135500 135582 135992 136080 136419\n",
      " 136422 136500 136619 136632 136715 136769 136924 137001 137138 137174\n",
      " 137185 137500 137695 137698 137705 137929 138002 138226 138232 138499\n",
      " 139002 139065 139070 139073 139076 139093 139117 139128 139131 139163\n",
      " 139264 139423 139499 139680 139690 139704 140001 140080 140372 140490\n",
      " 141002 141160 141169 141184 141200 141212 141500 141620 141859 141877\n",
      " 141902 142000 142111 142124 142132 142147 142178 142232 142235 142241\n",
      " 142278 142309 142319 142505 142590 142654 142668 142671 142677 142681\n",
      " 142685 142691 142699 142808 142823 142849 142911 142913 142918 143003\n",
      " 143256 143503 143710 143714 144003 144500 144579 144738 144758 144762\n",
      " 144767 144769 145000 145270 145354 145368 145371 145413 145500 146000\n",
      " 146488 146590 146596 146598 146690 146719 146735 146803 146844 146862\n",
      " 146998 147078 147083 147087 147202 147212 147502 147675 147996 148500\n",
      " 148581 148590 148593 148927 149002 149165 149186 149197 149412 149498\n",
      " 149635 149644 149898]\n"
     ]
    },
    {
     "name": "stderr",
     "output_type": "stream",
     "text": [
      " 20%|██        | 6/30 [03:56<14:49, 37.06s/it]"
     ]
    },
    {
     "name": "stdout",
     "output_type": "stream",
     "text": [
      "[   631    644    665    670    672   1001   1492   1592   1610   1612\n",
      "   1655   1821   1835   2001   2596   2623   2637   2651   2728   2797\n",
      "   3005   3205   3608   3614   3620   3929   4000   4335   4339   4704\n",
      "   5000   5227   5317   5324   5327   5332   5335   6000   6174   6546\n",
      "   6579   6995   7994   8304   8312   8319   8390   8393   8412   8426\n",
      "   8434   8447   8907   8988   9420   9496   9992  10109  10209  10222\n",
      "  10800  10804  10810  11001  11181  11192  11196  11212  11312  11343\n",
      "  11436  11769  11771  11998  12656  12668  12690  12695  12698  12711\n",
      "  12999  13063  13066  13069  13277  13364  13375  13381  13695  13997\n",
      "  14876  15000  15799  15806  15823  15831  15833  15999  16111  16136\n",
      "  16143  16150  16562  16572  16577  16910  16998  17416  17447  17455\n",
      "  17480  17865  17868  17872  17998  18222  18233  18244  18253  18261\n",
      "  18264  18527  18707  18889  18900  19003  19312  19473  19562  19574\n",
      "  19579  19591  19595  19755  19930  20000  20509  20522  20611  20616\n",
      "  20871  20884  21003  21354  21390  21394  21457  21466  21477  21485\n",
      "  21494  21498  21502  21795  21803  21815  21819  22000  22327  22422\n",
      "  22537  22546  22553  22566  22577  22580  22639  22675  22692  22697\n",
      "  22704  23000  23064  23523  23911  24000  24368  24374  24382  25000\n",
      "  26000  26077  26080  27001  27174  27766  27860  27866  27921  28000\n",
      "  28142  28172  28191  28510  28805  28987  29671  29675  30001  30251\n",
      "  30492  30505  30630  30634  30734  30913  30998  31081  31142  31158\n",
      "  31258  31312  31323  32005  32653  32994  33421  34010  34484  34493\n",
      "  34505  34539  34847  34855  35003  35095  35638  35916  35999  36104\n",
      "  36112  36116  37001  37076  37203  37215  37222  37240  37279  37286\n",
      "  37290  37303  37340  37348  37729  37738  37746  37754  37768  37838\n",
      "  37855  37861  37868  37999  38065  38068  38337  38446  38914  39006\n",
      "  39939  40000  40122  40131  40236  40920  41000  41377  41411  42000\n",
      "  42157  42161  42180  42993  43092  44000  44084  44263  44335  44445\n",
      "  44724  44737  44745  44760  45001  46004  46229  46270  46517  46610\n",
      "  46721  46731  46741  46765  47001  47907  47991  48385  48396  48405\n",
      "  49000  49112  49442  49464  49467  49474  49489  49497  49605  49614\n",
      "  49626  49903  50000  50093  50132  50232  50613  50618  50676  50693\n",
      "  50695  51005  51345  51554  51564  52001  52769  52817  53000  53412\n",
      "  53417  53421  53516  53998  54995  55257  55360  55636  56001  56153\n",
      "  56163  56170  56353  56454  56800  56829  56837  56847  56996  57086\n",
      "  57597  57643  57647  57744  57749  57921  58000  58093  58915  59000\n",
      "  59078  59081  59591  59597  59608  59675  59679  59687  59691  59707\n",
      "  59762  59775  59791  60000  61003  61082  61491  61500  61526  61540\n",
      "  61670  61994  62186  62190  62904  62911  62918  62920  62923  62925\n",
      "  63014  63244  63252  63403  64000  64119  64124  64280  64799  64916\n",
      "  65003  65079  65083  65088  65091  65143  65157  65168  65175  65275\n",
      "  65280  65288  65489  65632  66000  66450  66999  67451  67915  67920\n",
      "  68000  68267  68539  68997  69152  69157  69380  70000  70139  70874\n",
      "  71000  71185  71191  71999  72579  72732  72741  72761  72862  72883\n",
      "  72897  72992  73086  73806  73810  73822  73989  74068  74078  75000\n",
      "  75922  76000  76861  77002  77153  77259  77273  77352  77361  77629\n",
      "  77635  77776  77785  77993  78071  78248  78257  79000  79216  79226\n",
      "  79768  80000  80484  80492  80719  80900  81000  81358  81461  81482\n",
      "  81596  81600  81917  81999  82917  83000  83893  84002  84287  84428\n",
      "  84434  84589  84607  84689  84705  85001  85110  85149  85271  85284\n",
      "  85632  85656  85661  85761  86000  86640  86650  86737  86741  86748\n",
      "  86908  86911  86918  86999  87341  87912  87996  89000  89084  89095\n",
      "  89213  89380  89406  89427  89433  89514  89549  89919  90000  90915\n",
      "  90917  90922  91004  91088  91908  92000  92156  92160  92420  92787\n",
      "  92813  92822  92889  92902  93004  93321  93326  93333  93344  93358\n",
      "  93436  93441  93443  93455  93709  94000  94302  94313  94488  94495\n",
      "  94863  94874  94890  94897  95002  96005  96323  96330  96345  96600\n",
      "  96700  96732  96738  96744  96921  96989  97072  97075  97086  97092\n",
      "  97095  97280  97462  97619  97631  97643  97669  98003  98794  98864\n",
      "  98924  99006  99303  99315  99674  99704  99997 100421 100500 100739\n",
      " 101000 101500 101918 101996 102085 102154 102165 102499 102931 103011\n",
      " 103217 103227 103322 103341 103500 103806 103923 103930 104001 104499\n",
      " 104722 105000 105500 105637 105779 105785 106000 106082 106216 106500\n",
      " 106997 107382 107387 107393 107500 107992 108425 108500 108571 109002\n",
      " 109499 109909 110000 110501 110632 110666 110671 110694 110820 111000\n",
      " 111500 112008 112500 112683 112697 113000 113112 113228 113256 113415\n",
      " 113417 113495 113688 113943 113945 114001 114352 114367 114389 114500\n",
      " 114825 114835 114843 114861 114880 115001 115390 115399 115403 115504\n",
      " 115565 115570 115873 115888 115900 116000 116083 116390 116499 116890\n",
      " 116898 116931 116997 117072 117500 117662 118006 118220 118227 118260\n",
      " 118360 118498 118705 118707 118726 118822 118835 118916 118997 119077\n",
      " 119500 119590 119996 120229 120232 120243 120253 120260 120341 120347\n",
      " 120360 120427 120500 121000 121116 121260 121264 121412 121416 121498\n",
      " 121684 121910 121913 121918 122003 122500 122600 122673 122681 122686\n",
      " 122823 122995 123328 123362 123383 123393 123501 123807 123994 124411\n",
      " 124498 124642 124646 124657 124659 124664 124673 124680 124698 124778\n",
      " 124810 124822 125000 125493 125585 125627 125637 125702 125727 125828\n",
      " 125989 126077 126497 127000 127090 127093 127320 127500 128006 128191\n",
      " 128193 128200 128208 128215 128224 128494 128998 129139 129320 129505\n",
      " 129988 130069 130098 130198 130283 130375 130389 130411 130500 130603\n",
      " 130636 130912 131000 131142 131167 131305 131501 131634 131648 131748\n",
      " 132001 132085 132419 132500 132581 132653 132751 132768 132779 132998\n",
      " 133147 133155 133500 134001 134316 134323 134503 134779 134795 134892\n",
      " 134908 135000 135370 135501 135769 135787 135804 135861 135873 135899\n",
      " 135999 136063 136069 136249 136391 136400 136514 136587 136847 136882\n",
      " 136927 137000 137416 137498 137840 137847 137867 137914 138001 138076\n",
      " 138427 138436 138438 138502 138631 138644 138729 138744 138919 138998\n",
      " 139083 139087 139156 139172 139192 139499 140001 140218 140249 140254\n",
      " 140499 140572 141000 141298 141344 141378 141506 141922 141997 142262\n",
      " 142265 142500 142668 143000 143070 143075 143501 143575 143926 144020\n",
      " 144342 144499 144607 144806 145007 145083 145367 145501 145582 145585\n",
      " 145594 145999 146318 146363 146366 146500 146583 146586 146657 146666\n",
      " 146865 146911 147004 147511 147575 147777 147857 147877 147889 148000\n",
      " 148383 148396 148500 148582 148707 148715 149000 149090 149428 149502\n",
      " 149779 149861 149867 149875]\n"
     ]
    },
    {
     "name": "stderr",
     "output_type": "stream",
     "text": [
      " 23%|██▎       | 7/30 [04:31<13:56, 36.36s/it]"
     ]
    },
    {
     "name": "stdout",
     "output_type": "stream",
     "text": [
      "[  1002   1133   1142 ... 149834 149838 149876]\n"
     ]
    },
    {
     "name": "stderr",
     "output_type": "stream",
     "text": [
      " 27%|██▋       | 8/30 [05:06<13:10, 35.94s/it]"
     ]
    },
    {
     "name": "stdout",
     "output_type": "stream",
     "text": [
      "[   354    368   1000 ... 149826 149866 149899]\n"
     ]
    },
    {
     "name": "stderr",
     "output_type": "stream",
     "text": [
      " 30%|███       | 9/30 [05:45<12:56, 36.98s/it]"
     ]
    },
    {
     "name": "stdout",
     "output_type": "stream",
     "text": [
      "[   347    378    493 ... 149435 149438 149498]\n"
     ]
    },
    {
     "name": "stderr",
     "output_type": "stream",
     "text": [
      " 33%|███▎      | 10/30 [06:23<12:27, 37.35s/it]"
     ]
    },
    {
     "name": "stdout",
     "output_type": "stream",
     "text": [
      "[   304    313    837 ... 149510 149659 149666]\n"
     ]
    },
    {
     "name": "stderr",
     "output_type": "stream",
     "text": [
      " 37%|███▋      | 11/30 [07:02<11:55, 37.65s/it]"
     ]
    },
    {
     "name": "stdout",
     "output_type": "stream",
     "text": [
      "[   635    641    685 ... 149496 149586 149842]\n"
     ]
    },
    {
     "name": "stderr",
     "output_type": "stream",
     "text": [
      " 40%|████      | 12/30 [07:31<10:33, 35.18s/it]"
     ]
    },
    {
     "name": "stdout",
     "output_type": "stream",
     "text": [
      "[   460    917    922 ... 149316 149343 149500]\n"
     ]
    },
    {
     "name": "stderr",
     "output_type": "stream",
     "text": [
      " 43%|████▎     | 13/30 [08:05<09:49, 34.67s/it]"
     ]
    },
    {
     "name": "stdout",
     "output_type": "stream",
     "text": [
      "[   304    310    312 ... 149794 149883 149894]\n"
     ]
    },
    {
     "name": "stderr",
     "output_type": "stream",
     "text": [
      " 47%|████▋     | 14/30 [08:35<08:53, 33.34s/it]"
     ]
    },
    {
     "name": "stdout",
     "output_type": "stream",
     "text": [
      "[   358    362    369 ... 149353 149500 149704]\n"
     ]
    },
    {
     "name": "stderr",
     "output_type": "stream",
     "text": [
      " 50%|█████     | 15/30 [09:08<08:17, 33.15s/it]"
     ]
    },
    {
     "name": "stdout",
     "output_type": "stream",
     "text": [
      "[  1000   1186   1197 ... 149502 149851 149857]\n"
     ]
    },
    {
     "name": "stderr",
     "output_type": "stream",
     "text": [
      " 53%|█████▎    | 16/30 [09:36<07:22, 31.62s/it]"
     ]
    },
    {
     "name": "stdout",
     "output_type": "stream",
     "text": [
      "[   998   1223   1229   1393   1467   1493   1593   1739   1993   2115\n",
      "   2215   2479   2482   2492   3000   3860   3893   3998   5000   5078\n",
      "   5281   6000   6996   7081   7087   7221   7431   7456   8000   9000\n",
      "   9086   9088   9348   9610   9642   9798   9999  10245  10252  10388\n",
      "  10488  10571  10898  11000  12000  12082  12227  12504  13002  13088\n",
      "  13925  13998  14076  14270  15000  15437  15452  15533  15552  15823\n",
      "  15839  15847  16000  16477  16667  16767  16779  17000  17073  17327\n",
      "  17398  17405  17416  17426  18000  18543  18548  18650  19000  19155\n",
      "  19162  19169  19183  19283  19408  19999  20178  20181  20194  20200\n",
      "  20211  20215  20219  20226  20235  20258  20328  20332  20335  20358\n",
      "  20928  20997  21064  21115  21121  21127  21227  21253  21265  21288\n",
      "  21296  21302  21698  21709  21720  21725  21999  22093  23007  23120\n",
      "  23122  23130  23558  23572  23599  23658  23672  23699  23996  24079\n",
      "  24126  24184  24349  24369  24389  24469  24770  24926  24997  25098\n",
      "  25104  25198  25204  25311  25324  25990  26999  27084  27229  27233\n",
      "  27241  27630  27643  27656  27664  27926  27998  28671  28887  28890\n",
      "  28896  28906  28909  29000  29067  29070  30000  30189  30204  30215\n",
      "  30226  30234  30924  30933  31003  31087  31171  31212  32001  32122\n",
      "  32133  32269  32302  32476  33008  33598  33622  33633  33637  33727\n",
      "  33733  33761  33766  33772  33776  33779  33798  33875  33879  34000\n",
      "  34388  34403  34406  34598  34641  34861  34871  35002  35069  35239\n",
      "  35272  35280  35867  35874  35884  35890  35916  35929  35998  36489\n",
      "  36496  36516  36601  36616  36630  36638  36745  36754  36783  36876\n",
      "  37000  37394  37469  37569  37578  37597  37602  37995  38160  38186\n",
      "  38315  38998  39604  39610  39623  39630  39852  39927  39999  40103\n",
      "  40135  40203  40514  40527  40612  40637  41004  41194  41245  41330\n",
      "  41348  41391  41491  41727  41849  42000  42079  42480  42578  42596\n",
      "  42687  42690  42696  43000  43658  43663  43752  43847  44007  44137\n",
      "  44320  44420  44460  44488  44492  44596  45000  45187  45202  45289\n",
      "  45302  45538  45998  46211  46512  46514  46523  46541  46558  46565\n",
      "  46775  46925  46995  48003  48908  48997  49258  49400  49814  49845\n",
      "  50002  50082  50212  50230  50240  50246  50263  50271  51001  52004\n",
      "  52572  52589  52689  53002  53156  53632  53645  53656  53923  54001\n",
      "  54246  54269  54273  54352  54369  54376  54753  54837  54859  54880\n",
      "  54923  55006  55096  55103  55335  55339  55669  55690  55696  55708\n",
      "  55718  55790  55798  55806  56000  56102  56240  56257  56270  56279\n",
      "  56291  56313  56429  56433  56993  57079  57284  58000  58071  58075\n",
      "  58757  58761  59000  59912  60001  60635  60752  61000  61121  62003\n",
      "  62324  62416  63000  64000  64062  64065  64317  64998  66000  66191\n",
      "  66222  66595  66998  67271  67372  67806  67907  68000  68077  68374\n",
      "  68420  68517  68561  68565  68761  68865  68940  68995  69082  69338\n",
      "  69359  69907  70003  70384  70394  70484  70488  70500  70999  71507\n",
      "  71516  71523  71525  71629  71867  71890  71998  72081  72335  72995\n",
      "  73081  73084  73145  73158  73245  73255  74006  74185  74284  74322\n",
      "  74325  74458  74474  74558  74574  74580  74582  74592  74921  75000\n",
      "  75116  75125  75135  75151  75216  75235  75252  75257  75264  75650\n",
      "  75661  75671  75904  76000  76068  76071  76174  76195  76273  77000\n",
      "  77117  77127  77994  78895  78936  79000  79432  79455  79468  79700\n",
      "  79716  79728  79915  80000  80077  80430  80782  80786  80801  80811\n",
      "  81000  81112  81123  81143  81149  81160  81264  81336  81474  81479\n",
      "  81834  81842  81854  81933  82001  82387  82389  82394  82494  82998\n",
      "  83069  83338  83435  83438  83695  83795  83803  83924  84000  84932\n",
      "  84935  84940  84942  85000  86001  86334  86343  86353  86444  86655\n",
      "  87004  87439  87444  88000  88688  88719  88840  88847  88861  88884\n",
      "  88893  88993  89164  89264  89283  89292  89310  89316  89325  89335\n",
      "  89410  89435  89439  89926  90001  90182  90357  90859  90919  91003\n",
      "  91074  91077  91084  91172  91482  91494  91505  91526  91605  91633\n",
      "  91668  91815  92000  92089  92116  92142  92145  92220  92239  92728\n",
      "  92745  92828  92847  92911  92919  92998  93075  93112  93212  93456\n",
      "  93600  93614  93620  93636  94000  94171  94492  94513  94525  94529\n",
      "  94532  94542  94927  95000  95146  95245  95345  95380  96001  96115\n",
      "  96130  97001  97336  97353  97395  97514  97707  97723  97825  97986\n",
      "  98251  98869  98927  99005  99059  99067  99100  99103  99199  99245\n",
      "  99743  99820  99828 100001 100500 100837 101001 101168 101188 101272\n",
      " 101274 101289 101297 101300 101500 102001 102501 102924 103005 103278\n",
      " 103500 103822 103840 104000 104102 104499 104762 104997 105100 105500\n",
      " 105675 105906 105909 105914 106000 106126 106284 106297 106317 106321\n",
      " 106331 106498 107000 107173 107176 107179 107186 107272 107511 107647\n",
      " 107658 107713 107815 107830 107833 107869 107997 108143 108167 108501\n",
      " 108587 108591 108998 109400 109499 109587 110001 110427 110500 110866\n",
      " 110878 111000 111155 111158 111163 111500 111704 111706 111712 112000\n",
      " 112369 112500 112848 112922 113000 113082 113500 113573 113638 113647\n",
      " 113654 113664 114000 114099 114500 114642 114650 114669 114784 114789\n",
      " 115000 115500 115593 115653 115679 115686 115697 115701 116000 116250\n",
      " 116501 116857 116999 117103 117109 117145 117249 117267 117298 117423\n",
      " 117500 117565 117702 117704 117710 117730 117772 117998 118422 118425\n",
      " 118434 118500 119001 119174 119188 119193 119487 119587 119673 119709\n",
      " 119714 119720 119999 120061 120284 120307 120314 120316 120327 120329\n",
      " 120497 120674 120682 120698 120701 121002 121503 121998 122496 123003\n",
      " 123352 123428 123501 123822 123842 123995 124297 124417 124421 124501\n",
      " 125000 125146 125171 125182 125195 125205 125274 125295 125319 125499\n",
      " 125574 125853 125868 125871 125880 126000 126096 126176 126508 126918\n",
      " 127000 127500 127623 127759 127790 127998 128090 128504 128839 128856\n",
      " 129000 129409 129500 130000 130429 130500 130708 130711 130714 130719\n",
      " 130727 130731 130737 130935 131005 131145 131153 131176 131184 131193\n",
      " 131317 131336 131347 131370 131500 132000 132408 132499 132898 133000\n",
      " 133157 133159 133211 133214 133500 133776 134012 134320 134338 134343\n",
      " 134352 134355 134385 134388 134495 134573 134998 135084 135502 135584\n",
      " 135586 136000 136116 136155 136321 136418 136498 137000 137069 137139\n",
      " 137148 137154 137161 137188 137261 137275 137288 137503 138001 138500\n",
      " 138652 138869 138897 138989 139075 139125 139155 139255 139267 139274\n",
      " 139276 139501 140000 140326 140330 140333 140336 140416 140502 140863\n",
      " 140905 140910 140912 140914 140918 140993 141083 141088 141383 141500\n",
      " 141794 142000 142076 142220 142420 142500 142603 142607 142937 143000\n",
      " 143287 143305 143312 143332 143349 143500 143913 144002 144413 144495\n",
      " 144814 144919 145000 145499 145925 146000 146163 146296 146298 146307\n",
      " 146500 146575 146581 146794 146797 147000 147397 147502 147670 147675\n",
      " 147928 147931 147934 148000 148086 148500 148701 148797 149000 149500\n",
      " 149663 149683 149763 149779]\n"
     ]
    },
    {
     "name": "stderr",
     "output_type": "stream",
     "text": [
      " 57%|█████▋    | 17/30 [10:04<06:39, 30.75s/it]"
     ]
    },
    {
     "name": "stdout",
     "output_type": "stream",
     "text": [
      "[   247    315    320 ... 149501 149645 149656]\n"
     ]
    },
    {
     "name": "stderr",
     "output_type": "stream",
     "text": [
      " 60%|██████    | 18/30 [10:33<06:01, 30.09s/it]"
     ]
    },
    {
     "name": "stdout",
     "output_type": "stream",
     "text": [
      "[   288    368    386 ... 149500 149694 149703]\n"
     ]
    },
    {
     "name": "stderr",
     "output_type": "stream",
     "text": [
      " 63%|██████▎   | 19/30 [11:04<05:32, 30.25s/it]"
     ]
    },
    {
     "name": "stdout",
     "output_type": "stream",
     "text": [
      "[   149    247    279    289    295   1001   1077   1466   1858   1922\n",
      "   1999   2058   2061   2066   2144   2154   2156   2187   2195   2215\n",
      "   3013   3204   3366   3373   3627   3651   3661   3675   3922   4000\n",
      "   4393   4403   4495   4919   5000   5600   5607   5609   5912   5998\n",
      "   6830   6993   7084   7138   7141   7812   8000   8158   8162   8177\n",
      "   8631   9004   9842   9995  10628  10652  10654  10757  11002  11183\n",
      "  11218  11230  11283  11294  11298  11322  11335  11412  11452  11568\n",
      "  11684  12000  12143  12153  12160  12183  12206  12210  12573  12660\n",
      "  12664  12672  12719  12724  12873  12889  12999  13215  13901  14000\n",
      "  14075  14403  14425  14428  14456  14532  14550  14632  14638  14644\n",
      "  14647  14732  14834  14857  14999  15057  15644  16000  16763  17005\n",
      "  17075  17077  17087  17719  17721  17998  18837  18863  18891  19002\n",
      "  19433  19994  20075  20229  20234  20770  20776  20783  21004  21187\n",
      "  21193  21753  21989  22093  22320  22345  22358  22366  22423  22458\n",
      "  22490  23002  24026  24191  24241  24333  24338  24342  24357  24449\n",
      "  24515  24536  24636  24659  24667  25001  25563  25655  25662  25666\n",
      "  25669  26003  26193  26220  26232  26240  26300  26306  26332  26340\n",
      "  27004  27562  27927  28008  28122  28533  28546  28638  28998  29134\n",
      "  29138  29152  29169  29331  29341  29361  29372  29708  29795  29808\n",
      "  29823  29833  29841  30000  30065  30100  30105  30709  30786  30796\n",
      "  30809  30831  30935  30942  31003  31107  31919  32000  32735  32762\n",
      "  32773  32786  32880  32885  33000  33458  33914  33999  34195  34205\n",
      "  34210  34480  34578  34805  34841  34859  34927  35000  35701  35922\n",
      "  36000  36062  36143  36152  36246  36258  36590  36692  36695  36916\n",
      "  37000  37924  37999  38086  38113  38120  38124  38126  38128  38133\n",
      "  38999  39366  39371  39374  39379  39392  39406  39423  39524  39628\n",
      "  39654  40007  40115  40238  40362  40368  40387  40391  40462  40468\n",
      "  40472  40482  40487  40499  41005  41080  42001  42325  42790  42796\n",
      "  42889  42930  42990  43149  43872  43876  43927  44000  44188  44301\n",
      "  44322  44401  44404  44422  44523  44526  44541  44916  44996  45223\n",
      "  45229  45235  45243  45596  45602  45606  45631  45638  45759  45996\n",
      "  46086  46144  46148  46222  46322  46873  46878  47000  47618  47627\n",
      "  47639  47643  47999  48071  48655  48929  48932  49000  49089  49094\n",
      "  49151  49594  49605  49694  49705  49715  49721  49821  49987  50263\n",
      "  50268  50272  50363  50380  50480  50581  50692  51000  51093  51225\n",
      "  51228  51786  51819  51823  52000  52130  52176  52273  52284  52288\n",
      "  52290  52298  52888  53000  53171  53424  53630  53919  54001  54224\n",
      "  54230  54237  54261  54412  54415  54434  54463  54466  54482  54743\n",
      "  54843  54851  55002  55358  55368  55372  55899  56003  56857  56914\n",
      "  57003  57992  58845  58849  58862  58884  59000  59171  59187  59196\n",
      "  59204  59210  59219  59229  59236  59324  59329  59375  59795  59804\n",
      "  59810  59813  59999  60679  60772  60782  60798  60806  60824  61000\n",
      "  61072  61141  61146  61237  61278  61283  61296  61304  62009  62561\n",
      "  62566  62585  62594  62711  62720  62748  63000  63155  63299  63308\n",
      "  63320  63389  63914  63999  64277  64282  64808  64812  64818  64841\n",
      "  64847  64853  65000  65881  65891  66000  66078  66294  66365  66464\n",
      "  66488  66562  66568  66590  66603  66690  66710  66729  66925  66994\n",
      "  67080  67134  67150  67269  67913  67999  68067  68076  68903  68999\n",
      "  69066  69070  69075  69999  70363  70378  70404  70616  70674  71004\n",
      "  71142  71390  71999  72572  72617  73023  73168  73196  73537  73664\n",
      "  73666  73999  74895  74902  74907  74910  74938  75000  75914  75998\n",
      "  76073  76422  76437  76440  76540  76905  77000  77129  77164  77187\n",
      "  77431  77481  77581  77601  77701  78001  78245  78688  78694  78701\n",
      "  79002  79389  79459  80002  80100  80114  80223  80227  80245  80303\n",
      "  80687  81000  81074  81159  82000  82200  82214  82227  82335  82358\n",
      "  82367  82435  82451  82458  82559  82612  82635  82921  82924  83001\n",
      "  83083  83253  83264  83293  83371  83398  83471  83582  83707  83726\n",
      "  83731  83995  85000  85451  85455  85475  85498  85507  85617  86001\n",
      "  86113  86331  86432  86446  86452  86999  87198  87207  87715  87912\n",
      "  88000  88131  88139  88141  88153  88156  88174  88194  88632  88642\n",
      "  89000  89224  89242  90000  90209  90914  90995  91073  91078  91183\n",
      "  91279  91296  91311  91415  91872  91879  91901  91903  91908  91997\n",
      "  92080  92226  92236  92794  92871  92883  93001  93078  93533  93547\n",
      "  93797  93897  93911  93999  94094  94103  94116  94121  94185  94194\n",
      "  94221  94777  94867  95003  95103  95140  95470  95478  95570  95996\n",
      "  96154  96579  96611  96679  96778  97000  97373  97403  97488  97494\n",
      "  97904  98001  98196  98217  98342  98351  98354  98364  98389  98601\n",
      "  98609  98615  98619  98634  98641  98840  98994  99062 100003 100144\n",
      " 100499 100996 101426 101499 101627 101740 101919 102000 102499 102592\n",
      " 102703 102707 102932 103000 103162 103168 103172 103181 103495 103649\n",
      " 103700 103853 103857 104000 104506 104644 104654 104665 104997 105504\n",
      " 105631 105659 105730 105755 105758 105914 105922 106000 106142 106148\n",
      " 106501 107002 107232 107343 107364 107493 107629 107762 107781 107786\n",
      " 107901 108001 108163 108272 108278 108499 108649 108749 108761 108805\n",
      " 108813 109002 109083 109282 109367 109382 109393 109500 110000 110500\n",
      " 110922 111006 111279 111294 111407 111502 112000 112078 112166 112273\n",
      " 112349 112358 112371 112499 112826 113000 113111 113121 113126 113155\n",
      " 113255 113498 114000 114499 115000 115500 115998 116084 116503 116999\n",
      " 117144 117149 117169 117188 117209 117214 117220 117223 117510 117826\n",
      " 117913 118000 118503 118578 118584 119000 119434 119500 119790 119796\n",
      " 120000 120228 120262 120286 120412 120499 120898 120927 121000 121067\n",
      " 121319 121336 121419 121503 121567 121603 121618 121628 122000 122069\n",
      " 122501 122999 123302 123434 123502 123606 123609 123613 123625 123799\n",
      " 123817 123841 123907 123998 124422 124425 124500 125000 125100 125302\n",
      " 125328 125493 125569 125825 125833 125845 125873 125997 126320 126328\n",
      " 126340 126506 126579 126826 126849 126862 126928 126931 126933 127002\n",
      " 127421 127500 127635 127646 127650 127869 127999 128412 128500 129000\n",
      " 129127 129166 129266 129273 129280 129298 129446 129500 129624 129643\n",
      " 129689 129743 129745 129789 129805 129811 129920 129924 129998 130500\n",
      " 130587 131000 131240 131250 131350 131370 131497 131597 131601 131999\n",
      " 132411 132414 132498 132580 133000 133499 134003 134144 134390 134500\n",
      " 134995 135081 135286 135293 135306 135386 135392 135500 135672 135937\n",
      " 135940 136000 136501 136583 137000 137400 137438 137505 138000 138500\n",
      " 138999 139333 139340 139501 140015 140503 141000 141425 141500 141999\n",
      " 142077 142497 143000 143500 143582 143587 144001 144500 144847 144864\n",
      " 144871 144998 145396 145501 145605 145912 146000 146502 146591 146999\n",
      " 147153 147156 147399 147500 147850 147919 148000 148072 148139 148182\n",
      " 148502 148580 148938 149001 149500]\n"
     ]
    },
    {
     "name": "stderr",
     "output_type": "stream",
     "text": [
      " 67%|██████▋   | 20/30 [11:33<04:59, 29.91s/it]"
     ]
    },
    {
     "name": "stdout",
     "output_type": "stream",
     "text": [
      "[   915    919    987 ... 149000 149501 149604]\n"
     ]
    },
    {
     "name": "stderr",
     "output_type": "stream",
     "text": [
      " 70%|███████   | 21/30 [12:01<04:25, 29.51s/it]"
     ]
    },
    {
     "name": "stdout",
     "output_type": "stream",
     "text": [
      "[   613    797   1001 ... 149686 149701 149706]\n"
     ]
    },
    {
     "name": "stderr",
     "output_type": "stream",
     "text": [
      " 73%|███████▎  | 22/30 [12:30<03:55, 29.42s/it]"
     ]
    },
    {
     "name": "stdout",
     "output_type": "stream",
     "text": [
      "[   849   1000   1078   1081   1568   1642   1655   1658   1676   2003\n",
      "   2145   2153   2157   2814   2912   2915   3000   3229   3231   3329\n",
      "   3332   4003   4068   4645   4651   4779   4787   4789   4910   5002\n",
      "   5181   5296   5308   5555   5853   5871   6005   6256   6258   7000\n",
      "   7129   7157   7492   7512   7515   7518   7592   7597   7631   7634\n",
      "   7997   8116   8389   8503   8516   8696   9000   9715  10000  10437\n",
      "  10445  10466  10481  10491  10505  10581  10603  10917  11000  11183\n",
      "  11285  11292  11344  11574  12011  12065  12073  12113  12128  12161\n",
      "  12291  12295  12333  12433  12478  12840  12845  12852  13000  13709\n",
      "  13716  13718  13724  13730  13734  13750  13997  14083  14248  14264\n",
      "  15007  15071  15192  15292  15315  15325  15804  15810  15994  16998\n",
      "  17073  17930  18000  18168  18438  18716  18722  18733  18739  18822\n",
      "  18838  18860  18874  18991  19369  19376  19999  20255  20276  20331\n",
      "  20336  20343  20346  20355  20549  20660  20667  20677  20697  20711\n",
      "  20802  20806  20816  20831  20909  20911  21000  21332  21339  21382\n",
      "  21404  21483  21905  21920  21996  22391  22633  22662  22754  22839\n",
      "  22848  22854  22926  22930  22935  23000  23097  23171  23185  23200\n",
      "  23215  23581  23600  23606  24002  24081  24155  24163  24477  24479\n",
      "  24768  24775  24859  24864  24878  25002  25484  25771  25872  25997\n",
      "  26253  26270  26289  26399  27004  27080  28000  28346  28684  28990\n",
      "  29610  29616  29841  29997  30357  30382  30397  30399  30406  30408\n",
      "  30423  30499  30523  30592  30599  30623  30689  30924  30992  31546\n",
      "  31558  31849  32000  32092  32342  32999  33078  33085  33089  33446\n",
      "  33466  33501  33610  33642  33680  33685  33689  33780  33785  33788\n",
      "  34003  34103  34115  34118  34531  34592  34808  34820  34831  34839\n",
      "  34993  35613  35616  35871  35896  36003  36100  36168  36182  36201\n",
      "  37000  37423  37432  37689  37922  37999  38198  38246  38292  38311\n",
      "  38339  39000  39193  39200  39236  39248  39255  39321  39334  39345\n",
      "  39366  39375  39888  40003  40407  41000  41072  41507  41541  41546\n",
      "  41648  41940  41944  42035  42102  42919  43011  43113  43118  43139\n",
      "  43217  43240  43465  43479  43705  43707  43752  44001  44279  44671\n",
      "  44774  44787  44826  44954  44997  45124  45126  45138  45146  45249\n",
      "  45284  45315  45335  45924  45998  47006  47256  47356  47820  47826\n",
      "  47996  48077  48080  48113  48116  48213  48997  49082  49086  49482\n",
      "  49486  49922  50001  51002  51733  51833  51899  52000  52327  52339\n",
      "  52661  52673  52931  52999  53882  53938  54001  54094  54784  54810\n",
      "  55018  55088  55093  55140  55146  55247  55271  55353  55737  55739\n",
      "  55747  56002  56067  56866  56884  56900  57000  57563  57589  57602\n",
      "  57609  58000  58087  58826  58855  58986  59085  59087  59093  59099\n",
      "  59293  59999  60075  60089  60171  60393  60411  60769  60869  60929\n",
      "  61000  61184  61647  61728  61738  61925  62000  62521  62529  62699\n",
      "  62712  62722  62729  63000  63808  63834  64004  64365  64782  64819\n",
      "  64832  65000  65167  65169  65374  65381  65567  65913  65915  66000\n",
      "  66117  66122  66230  66266  66270  67000  67491  67504  67528  67533\n",
      "  67827  67831  67894  67899  67999  68435  68507  68514  68534  68668\n",
      "  69002  69242  69470  69487  69998  70160  70168  70260  70265  71000\n",
      "  72001  72201  72309  72328  72369  72783  72785  73000  73187  73240\n",
      "  73243  73612  73856  73866  73873  73882  73900  74000  74087  74257\n",
      "  74267  74310  74486  74526  74992  75083  75997  77005  77188  77457\n",
      "  77557  77919  77931  77999  78221  78224  78235  78579  78675  78922\n",
      "  79000  79139  79148  79170  79744  79768  79851  80001  80281  80290\n",
      "  80296  80316  80324  80327  81002  81747  81771  81791  81891  81893\n",
      "  82000  82088  82373  82378  82392  82775  82875  83002  84002  84149\n",
      "  85003  85299  85440  85666  85677  85935  85938  86000  86075  86751\n",
      "  86999  87191  87201  87999  88420  88908  89000  89092  89094  89135\n",
      "  89149  89383  89392  89403  89414  89423  89573  90006  90336  90751\n",
      "  90851  90976  91080  91082  91094  91126  91135  91232  91252  91270\n",
      "  91275  91519  91532  91923  91927  91999  92193  92211  92220  92516\n",
      "  92903  92911  93003  93089  93701  93710  93713  93719  93721  93996\n",
      "  94702  94711  95000  95543  95649  95666  95674  95680  95687  95776\n",
      "  95787  96000  96198  96222  96303  96306  96325  96917  97000  97075\n",
      "  97544  97691  98000  98517  98887  98901  99001 100000 100231 100500\n",
      " 100839 100843 100850 100854 100868 100890 100997 101157 101159 101500\n",
      " 101716 101722 101755 101822 101834 102000 102421 102499 102793 103002\n",
      " 103208 103217 103219 103269 103271 103494 103571 103656 103691 104000\n",
      " 104079 104130 104281 104289 104300 104308 104314 104382 104384 104402\n",
      " 104499 104820 104997 105410 105500 105603 105605 106000 106076 106331\n",
      " 106505 106589 106999 107500 107927 108001 108500 109000 109078 109081\n",
      " 109346 109350 109502 109639 109649 109750 109761 109767 110000 110081\n",
      " 110500 110818 110846 110851 110997 111140 111240 111258 111261 111362\n",
      " 111384 111491 111828 112001 112226 112234 112499 112687 113000 113310\n",
      " 113316 113434 113502 113569 113837 113882 113892 113998 114499 114708\n",
      " 115000 115500 115578 115995 116249 116259 116297 116383 116500 117000\n",
      " 117497 118001 118075 118079 118500 118688 118794 118796 119016 119499\n",
      " 119841 120000 120105 120501 120998 121352 121503 121587 121919 122006\n",
      " 122095 122503 122695 122715 122720 122853 122997 123067 123177 123187\n",
      " 123354 123360 123364 123500 123602 123621 124002 124412 124499 124567\n",
      " 124570 124599 125003 125104 125113 125422 125493 126000 126505 127003\n",
      " 127164 127172 127191 127206 127210 127241 127500 128001 128053 128141\n",
      " 128164 128398 128500 128990 129499 129586 129681 129780 129810 129910\n",
      " 129915 129927 130000 130251 130355 130502 130689 130855 130887 130895\n",
      " 131001 131261 131273 131277 131293 131303 131497 131751 131755 131782\n",
      " 131796 131801 131882 131997 132338 132355 132358 132386 132500 132576\n",
      " 132645 132863 132880 132908 133001 133194 133291 133391 133500 133599\n",
      " 134001 134365 134418 134500 135017 135362 135390 135393 135399 135502\n",
      " 135684 135784 135993 136500 136843 136848 137000 137499 137668 137695\n",
      " 137904 138007 138424 138500 139001 139256 139268 139511 139676 139693\n",
      " 139998 140168 140268 140503 140919 140986 141118 141122 141431 141501\n",
      " 141626 141726 141826 142000 142500 142927 142933 143000 143084 143388\n",
      " 143500 143798 143821 143932 143998 144500 144625 144910 145000 145132\n",
      " 145148 145163 145170 145500 145847 145854 146000 146100 146354 146356\n",
      " 146376 146424 146429 146500 146722 146728 146749 146828 146849 146864\n",
      " 146871 147000 147092 147500 147736 147760 148000 148087 148226 148496\n",
      " 148565 148867 148879 148905 148999 149058 149127 149138 149148 149188\n",
      " 149431 149500 149588 149622 149633 149648 149663 149724 149840 149845\n",
      " 149851 149857 149867 149870 149874]\n"
     ]
    },
    {
     "name": "stderr",
     "output_type": "stream",
     "text": [
      " 77%|███████▋  | 23/30 [13:09<03:44, 32.14s/it]"
     ]
    },
    {
     "name": "stdout",
     "output_type": "stream",
     "text": [
      "[   308    410    917 ... 149002 149499 149736]\n"
     ]
    },
    {
     "name": "stderr",
     "output_type": "stream",
     "text": [
      " 80%|████████  | 24/30 [13:45<03:19, 33.25s/it]"
     ]
    },
    {
     "name": "stdout",
     "output_type": "stream",
     "text": [
      "[   264    344    376 ... 149839 149870 149882]\n"
     ]
    },
    {
     "name": "stderr",
     "output_type": "stream",
     "text": [
      " 83%|████████▎ | 25/30 [14:13<02:38, 31.72s/it]"
     ]
    },
    {
     "name": "stdout",
     "output_type": "stream",
     "text": [
      "[   429    554    999   1077   1147   1403   1412   1451   1540   1826\n",
      "   1911   1925   2001   2342   2360   2597   2604   2608   2704   2997\n",
      "   4000   4231   4267   4278   4781   4995   5565   5675   5994   6068\n",
      "   6111   6115   6236   6244   6272   7012   7142   7163   7169   7177\n",
      "   7189   8000   8361   8368   8370   8386   8490   8858   9004   9076\n",
      "   9155   9169   9753  10000  10491  10709  11000  11115  11144  11534\n",
      "  12008  12095  12099  12102  12111  12267  12301  12314  12661  12667\n",
      "  13003  13440  13825  13831  13999  14080  14697  14913  14997  15328\n",
      "  15333  15352  15356  15360  15450  15464  15643  15648  15651  15653\n",
      "  15780  15815  16000  16745  16762  16866  16891  17003  17074  17196\n",
      "  18000  18924  18929  18994  19351  19365  19451  19514  19518  19549\n",
      "  19558  19764  19766  20000  20755  20827  20855  20871  20875  20888\n",
      "  20993  21125  21438  21443  21510  21610  21621  21627  21681  21743\n",
      "  21760  21995  23001  23292  23295  23395  23921  24001  24191  24199\n",
      "  24204  24206  24550  24590  24593  24597  24650  24655  24688  25000\n",
      "  25482  25486  25492  25587  26000  26520  26998  27888  27927  27999\n",
      "  28183  28188  28274  28277  28283  28288  28366  28376  28381  28387\n",
      "  28897  29000  29100  29119  29786  29877  29886  30004  30123  30136\n",
      "  30222  30228  30230  30812  30997  31542  31546  31555  31563  31761\n",
      "  31861  31871  31878  31999  32130  32162  32230  32387  32705  32770\n",
      "  32870  32872  33000  33082  33312  33418  34000  34345  34353  34399\n",
      "  34922  35000  35186  35463  35535  35549  35569  35922  35924  35927\n",
      "  35994  36266  36301  36309  36346  36438  36450  36626  36650  36750\n",
      "  37000  37541  37999  38651  38655  39000  39773  39999  40074  40080\n",
      "  40832  40835  40952  41004  41399  41999  42086  42282  43000  44004\n",
      "  44450  44464  44484  44492  44783  44804  44809  44817  45006  45346\n",
      "  45351  45522  45996  46161  46169  46194  46212  46224  46233  46321\n",
      "  46394  46412  46421  46564  46915  46917  46997  47083  47085  47100\n",
      "  47816  47819  48000  48305  48329  48587  48606  48622  48999  49154\n",
      "  49169  49872  49881  49992  50073  50105  50123  50205  50207  50223\n",
      "  50251  50261  50577  50762  50767  50775  50783  50788  50996  51472\n",
      "  51474  52007  52354  52994  53297  53311  53314  53923  53926  53931\n",
      "  54001  54129  54154  54168  54307  54358  54385  54546  54647  54666\n",
      "  54994  55158  55164  55198  55742  55807  55810  56000  56099  56108\n",
      "  56119  56999  57075  57239  57413  57415  57424  57999  58128  58130\n",
      "  58140  58672  58772  58999  59077  59633  59640  60002  60103  60123\n",
      "  61000  61149  61177  61187  62003  62183  62618  62622  62628  62642\n",
      "  62833  62838  63015  63085  63171  63185  63610  63622  63746  63748\n",
      "  63764  63846  63848  63858  63864  64000  64076  64176  64187  64203\n",
      "  64224  64316  64812  64856  64865  64997  66000  66568  66573  66576\n",
      "  67000  67127  67422  67426  67435  67447  67454  67546  67858  67870\n",
      "  68001  68075  68366  68389  68457  68498  68913  69001  69323  69328\n",
      "  69736  69751  69759  69851  69913  69999  70155  70174  70451  70507\n",
      "  70998  71326  71623  71881  71891  71903  71907  72000  72080  72084\n",
      "  72894  72999  73140  73148  73289  73324  73414  73419  73424  73432\n",
      "  73649  73652  73996  74104  74111  74136  74991  75228  76001  76125\n",
      "  76669  76718  77001  78000  78067  78656  78768  78776  78868  78998\n",
      "  79098  79101  79214  79228  79259  79262  79272  79286  79289  79441\n",
      "  79726  79756  79845  79854  79856  79887  79889  79898  80000  80176\n",
      "  80194  80203  80326  80899  80999  81171  81609  81711  81878  81996\n",
      "  82383  82387  82648  82695  82708  82710  82803  82807  82816  82863\n",
      "  82925  83000  83075  83077  83609  83612  83924  83994  84121  84336\n",
      "  84342  84447  84547  84895  84905  84910  84998  85308  85683  85694\n",
      "  85790  85995  86076  86132  86644  86651  86672  87002  87124  87171\n",
      "  87265  87271  87371  87648  88001  88087  88919  89000  89074  89552\n",
      "  89830  89833  89999  90579  90610  90627  90710  90999  91109  91226\n",
      "  91249  91793  91798  92004  93000  93300  93776  93778  93873  93878\n",
      "  94000  94415  94421  94431  94444  94528  94540  94875  95000  95510\n",
      "  95532  95794  96000  96999  97099  97105  97489  97884  97997  98089\n",
      "  98291  98295  98303  98307  98626  99000  99276 100000 100236 100260\n",
      " 100274 100297 100502 100803 100817 100828 101001 101092 101502 101561\n",
      " 101663 101706 101763 101908 101999 102168 102181 102433 102491 103001\n",
      " 103109 103501 103583 103685 103694 103700 103703 103998 104081 104490\n",
      " 104655 104779 104782 104880 104882 104891 104995 105505 105897 105903\n",
      " 105909 105931 106003 106243 106350 106501 106682 106690 106732 106999\n",
      " 107298 107501 107618 107669 107671 107691 107791 107803 107806 107815\n",
      " 107906 108000 108139 108501 108998 109066 109131 109391 109405 109506\n",
      " 109634 109716 109719 109726 109902 109995 110113 110207 110213 110217\n",
      " 110500 110915 110999 111504 111694 112004 112075 112149 112158 112249\n",
      " 112258 112415 112419 112422 112427 112496 113003 113499 113682 113686\n",
      " 113695 114000 114506 114556 114563 114565 114579 114583 114586 114899\n",
      " 115001 115246 115499 115647 115780 115916 115998 116181 116326 116337\n",
      " 116484 116570 116574 116597 116604 116611 116622 116641 116672 117000\n",
      " 117143 117493 117910 117913 117923 118002 118210 118246 118349 118352\n",
      " 118354 118365 118397 118503 118712 118718 118728 118744 118750 118756\n",
      " 118996 119414 119418 119495 120000 120070 120500 120909 120911 120996\n",
      " 121413 121500 121580 121583 121797 121897 121902 122000 122100 122113\n",
      " 122118 122121 122137 122501 122673 122999 123059 123079 123085 123433\n",
      " 123435 123504 123592 123594 124000 124124 124138 124244 124501 125000\n",
      " 125500 125761 125927 126000 126107 126158 126184 126230 126417 126422\n",
      " 126487 126874 126917 127000 127506 127882 127909 127911 128002 128426\n",
      " 128430 128504 128573 128667 128734 128746 128756 128767 129000 129076\n",
      " 129499 129794 129918 130000 130078 130505 130925 131002 131409 131499\n",
      " 131609 131611 131826 131857 131864 132000 132357 132373 132496 132999\n",
      " 133073 133075 133077 133315 133326 133500 134002 134145 134149 134156\n",
      " 134336 134361 134365 134500 134591 134655 134666 135002 135102 135498\n",
      " 136000 136063 136071 136074 136158 136500 136822 136865 136938 136997\n",
      " 137078 137160 137163 137169 137187 137194 137288 137388 137392 137399\n",
      " 137500 137594 137685 137868 137878 138001 138074 138080 138209 138497\n",
      " 138562 138640 138648 138661 138664 138680 139002 139413 139500 139578\n",
      " 140000 140073 140124 140268 140500 141002 141105 141124 141129 141205\n",
      " 141229 141235 141251 141290 141415 141493 141612 141631 141643 141712\n",
      " 141724 141738 142001 142267 142371 142501 142581 142583 142874 142891\n",
      " 143000 143085 143249 143256 143497 144000 144220 144297 144300 144315\n",
      " 144323 144498 144598 144601 144762 144771 144778 144815 145003 145500\n",
      " 145928 145932 146000 146083 146502 147000 147064 147280 147296 147305\n",
      " 147510 147881 147883 148000 148507 148583 148703 148734 148754 148995\n",
      " 149079 149426 149500 149724 149730 149738 149765 149865 149879]\n"
     ]
    },
    {
     "name": "stderr",
     "output_type": "stream",
     "text": [
      " 87%|████████▋ | 26/30 [14:42<02:03, 30.81s/it]"
     ]
    },
    {
     "name": "stdout",
     "output_type": "stream",
     "text": [
      "[   543    555    558 ... 149504 149648 149662]\n"
     ]
    },
    {
     "name": "stderr",
     "output_type": "stream",
     "text": [
      " 90%|█████████ | 27/30 [15:14<01:33, 31.15s/it]"
     ]
    },
    {
     "name": "stdout",
     "output_type": "stream",
     "text": [
      "[   258    266    292 ... 149658 149669 149671]\n"
     ]
    },
    {
     "name": "stderr",
     "output_type": "stream",
     "text": [
      " 93%|█████████▎| 28/30 [15:49<01:04, 32.45s/it]"
     ]
    },
    {
     "name": "stdout",
     "output_type": "stream",
     "text": [
      "[   680    777    802 ... 148680 149000 149497]\n"
     ]
    },
    {
     "name": "stderr",
     "output_type": "stream",
     "text": [
      " 97%|█████████▋| 29/30 [16:21<00:32, 32.32s/it]"
     ]
    },
    {
     "name": "stdout",
     "output_type": "stream",
     "text": [
      "[   936    998   1073 ... 149497 149583 149702]\n"
     ]
    },
    {
     "name": "stderr",
     "output_type": "stream",
     "text": [
      "100%|██████████| 30/30 [16:56<00:00, 33.10s/it]\n",
      "  0%|          | 0/30 [00:00<?, ?it/s]"
     ]
    },
    {
     "name": "stdout",
     "output_type": "stream",
     "text": [
      "length1= 1000 length2= 500\n",
      "  AUC(vd): 0.7697280028439307 +/- 0.15459239471411443\n",
      "  AUC(md): 0.7506435684671968 +/- 0.09866832040471565\n",
      "[   998   1181   1455 ... 599529 599677 599813]\n"
     ]
    },
    {
     "name": "stderr",
     "output_type": "stream",
     "text": [
      "  3%|▎         | 1/30 [01:50<53:23, 110.46s/it]"
     ]
    },
    {
     "name": "stdout",
     "output_type": "stream",
     "text": [
      "[   674    915    996 ... 599156 599167 599315]\n"
     ]
    },
    {
     "name": "stderr",
     "output_type": "stream",
     "text": [
      "  7%|▋         | 2/30 [04:03<54:41, 117.19s/it]"
     ]
    },
    {
     "name": "stdout",
     "output_type": "stream",
     "text": [
      "[   205    277    285 ... 599804 599818 599820]\n"
     ]
    },
    {
     "name": "stderr",
     "output_type": "stream",
     "text": [
      " 10%|█         | 3/30 [06:11<54:16, 120.62s/it]"
     ]
    },
    {
     "name": "stdout",
     "output_type": "stream",
     "text": [
      "[   141    156    554 ... 599038 599040 599073]\n"
     ]
    },
    {
     "name": "stderr",
     "output_type": "stream",
     "text": [
      " 13%|█▎        | 4/30 [08:12<52:14, 120.57s/it]"
     ]
    },
    {
     "name": "stdout",
     "output_type": "stream",
     "text": [
      "[   517    535   1001 ... 599527 599529 599866]\n"
     ]
    },
    {
     "name": "stderr",
     "output_type": "stream",
     "text": [
      " 17%|█▋        | 5/30 [10:06<49:27, 118.72s/it]"
     ]
    },
    {
     "name": "stdout",
     "output_type": "stream",
     "text": [
      "[   203    334    348 ... 599553 599580 599736]\n"
     ]
    },
    {
     "name": "stderr",
     "output_type": "stream",
     "text": [
      " 20%|██        | 6/30 [12:02<47:08, 117.87s/it]"
     ]
    },
    {
     "name": "stdout",
     "output_type": "stream",
     "text": [
      "[   525   1000   1070 ... 599572 599574 599756]\n"
     ]
    },
    {
     "name": "stderr",
     "output_type": "stream",
     "text": [
      " 23%|██▎       | 7/30 [14:03<45:29, 118.68s/it]"
     ]
    },
    {
     "name": "stdout",
     "output_type": "stream",
     "text": [
      "[   440    449    457 ... 599611 599847 599899]\n"
     ]
    },
    {
     "name": "stderr",
     "output_type": "stream",
     "text": [
      " 27%|██▋       | 8/30 [16:18<45:23, 123.78s/it]"
     ]
    },
    {
     "name": "stdout",
     "output_type": "stream",
     "text": [
      "[   106    922    926 ... 598841 599006 599011]\n"
     ]
    },
    {
     "name": "stderr",
     "output_type": "stream",
     "text": [
      " 30%|███       | 9/30 [18:11<42:10, 120.50s/it]"
     ]
    },
    {
     "name": "stdout",
     "output_type": "stream",
     "text": [
      "[   100    795    797 ... 596991 599326 599426]\n"
     ]
    },
    {
     "name": "stderr",
     "output_type": "stream",
     "text": [
      " 33%|███▎      | 10/30 [20:34<42:26, 127.31s/it]"
     ]
    }
   ],
   "source": [
    "for (length1, length2) in permutations([500, 1000, 5000], 2):\n",
    "    benefits_vd, fars_vd, benefits_md, fars_md = experiment1_benefit_false_alarm_rate_smdl(\n",
    "        length1, length2,\n",
    "        r=0.2, \n",
    "        mu1=0.2, mu2=0.8,\n",
    "        #epsilon=0.1/(2*50*(length1+length2)), h=100,\n",
    "        #epsilon=1e-5, h=100,\n",
    "        epsilon=1e-2, h=100, \n",
    "        n_repeat=50, n_trial=30,\n",
    "        limit=5\n",
    "    )\n",
    "    #print(benefits_vd)\n",
    "    #print(fars_vd)\n",
    "    \n",
    "    # AUC (vd)\n",
    "    \"\"\"\n",
    "    fars_vd = fars_vd.ravel()\n",
    "    benefits_vd = benefits_vd.ravel()\n",
    "    auc_vd = calc_auc(fars_vd, benefits_vd)\n",
    "    \"\"\"\n",
    "    auc_vd = []\n",
    "    for far, benefit in zip(fars_vd, benefits_vd):\n",
    "        auc_vd.append(calc_auc(far, benefit))                                    \n",
    "    \n",
    "    # AUC (md)\n",
    "    \"\"\"\"\n",
    "    fars_md = fars_md.ravel()\n",
    "    benefits_md = benefits_md.ravel()\n",
    "    auc_md = calc_auc(fars_md, benefits_md)\n",
    "    \"\"\"\n",
    "    auc_md = []\n",
    "    for far, benefit in zip(fars_md, benefits_md):\n",
    "        auc_md.append(calc_auc(far, benefit))\n",
    "    \n",
    "    print('length1=', length1, 'length2=', length2)\n",
    "    print('  AUC(vd):', np.mean(auc_vd), '+/-', np.std(auc_vd))\n",
    "    print('  AUC(md):', np.mean(auc_md), '+/-', np.std(auc_md))\n",
    "    #print('  fars_vd:', fars_vd)\n",
    "    #print('  benefits_vd:', benefits_vd)\n",
    "    #print('  fars_md:', fars_md)\n",
    "    #print('  benefits_md:', benefits_md)"
   ]
  },
  {
   "cell_type": "code",
   "execution_count": null,
   "metadata": {},
   "outputs": [],
   "source": [
    "results = []\n",
    "for (length1, length2) in permutations([500, 1000, 5000, 10000, 50000, 100000], 2):\n",
    "    for r in [0.01, 0.05, 0.1, 0.2, 0.3, 0.4, 0.5]:\n",
    "        for epsilon in [1e-3, 5e-3, 1e-2, 5e-2]:\n",
    "            benefits_vd, fars_vd, benefits_md, fars_md = experiment1_benefit_false_alarm_rate_smdl(\n",
    "                length1, length2,\n",
    "                r=r, \n",
    "                mu1=0.2, mu2=0.8,\n",
    "                epsilon=epsilon, h=100,\n",
    "                n_repeat=50, n_trial=10,\n",
    "                limit=5\n",
    "            )\n",
    "\n",
    "            # AUC (md)\n",
    "            auc_md = []\n",
    "            for far, benefit in zip(fars_md, benefits_md):\n",
    "                auc_md.append(calc_auc(far, benefit))\n",
    "\n",
    "            # AUC (vd)\n",
    "            auc_vd = []\n",
    "            for far, benefit in zip(fars_vd, benefits_vd):\n",
    "                auc_vd.append(calc_auc(far, benefit))\n",
    "        \n",
    "            result = pd.DataFrame(\n",
    "                {\n",
    "                    'L1': length1, \n",
    "                    'L2': length2, \n",
    "                    'r': r,\n",
    "                    'epsilon': epsilon,\n",
    "                    'MCDT': auc_md, \n",
    "                    'VD': auc_vd\n",
    "                }\n",
    "            )\n",
    "            results.append(result)"
   ]
  },
  {
   "cell_type": "code",
   "execution_count": null,
   "metadata": {},
   "outputs": [],
   "source": [
    "for (length1, length2) in permutations([100, 500, 1000, 5000, 10000, 50000, 100000], 2):\n",
    "    benefits_vd, fars_vd, benefits_md, fars_md = experiment1_benefit_false_alarm_rate_smdl(\n",
    "        length1, length2,\n",
    "        r=0.2, \n",
    "        mu1=0.2, mu2=0.8,\n",
    "        #epsilon=0.1/(2*50*(length1+length2)), h=100,\n",
    "        epsilon=1e-5, h=100,\n",
    "        n_repeat=50, n_trial=10,\n",
    "        limit=5\n",
    "    )\n",
    "    print(benefits_vd)\n",
    "    print(fars_vd)\n",
    "    \n",
    "    # AUC (vd)\n",
    "    \"\"\"\n",
    "    fars_vd = fars_vd.ravel()\n",
    "    benefits_vd = benefits_vd.ravel()\n",
    "    auc_vd = calc_auc(fars_vd, benefits_vd)\n",
    "    \"\"\"\n",
    "    auc_vd = []\n",
    "    for far, benefit in zip(fars_vd, benefits_vd):\n",
    "        auc_vd.append(calc_auc(far, benefit))\n",
    "    \n",
    "    # AUC (md)\n",
    "    \"\"\"\"\n",
    "    fars_md = fars_md.ravel()\n",
    "    benefits_md = benefits_md.ravel()\n",
    "    auc_md = calc_auc(fars_md, benefits_md)\n",
    "    \"\"\"\n",
    "    auc_md = []\n",
    "    for far, benefit in zip(fars_md, benefits_md):\n",
    "        auc_md.append(calc_auc(far, benefit))\n",
    "    \n",
    "    print('length1=', length1, 'length2=', length2)\n",
    "    print('  AUC(vd):', np.mean(auc_vd), '+/-', np.std(auc_vd))\n",
    "    print('  AUC(md):', np.mean(auc_md), '+/-', np.std(auc_md))\n",
    "    #print('  fars_vd:', fars_vd)\n",
    "    #print('  benefits_vd:', benefits_vd)\n",
    "    #print('  fars_md:', fars_md)\n",
    "    #print('  benefits_md:', benefits_md)"
   ]
  },
  {
   "cell_type": "code",
   "execution_count": null,
   "metadata": {},
   "outputs": [],
   "source": []
  }
 ],
 "metadata": {
  "kernelspec": {
   "display_name": "Python 3",
   "language": "python",
   "name": "python3"
  },
  "language_info": {
   "codemirror_mode": {
    "name": "ipython",
    "version": 3
   },
   "file_extension": ".py",
   "mimetype": "text/x-python",
   "name": "python",
   "nbconvert_exporter": "python",
   "pygments_lexer": "ipython3",
   "version": "3.6.8"
  }
 },
 "nbformat": 4,
 "nbformat_minor": 4
}
